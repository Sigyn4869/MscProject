{
 "cells": [
  {
   "cell_type": "code",
   "id": "initial_id",
   "metadata": {
    "collapsed": true,
    "ExecuteTime": {
     "end_time": "2024-08-17T17:10:25.735828Z",
     "start_time": "2024-08-17T17:10:25.390253Z"
    }
   },
   "source": [
    "import copy\n",
    "\n",
    "import numpy as np\n",
    "import pandas as pd\n",
    "import rasterio\n",
    "from rasterio.windows import from_bounds\n",
    "from sklearn.ensemble import RandomForestRegressor\n",
    "from sklearn.metrics import mean_squared_error, r2_score, mean_absolute_error, mean_absolute_percentage_error\n",
    "from skopt import BayesSearchCV\n",
    "from skopt.space import Categorical, Integer\n",
    "from tqdm import tqdm\n",
    "from matplotlib import pyplot as plt"
   ],
   "outputs": [],
   "execution_count": 1
  },
  {
   "metadata": {
    "ExecuteTime": {
     "end_time": "2024-08-17T17:10:26.421438Z",
     "start_time": "2024-08-17T17:10:26.219920Z"
    }
   },
   "cell_type": "code",
   "source": [
    "import pandas as pd\n",
    "        \n",
    "BH_tif_400_400_after_processing = pd.read_csv('useful_data_after_processing/BH_tif_400_400_after_processing.csv', sep = ',', header = None)\n",
    "BV_tif_400_400_after_processing = pd.read_csv('useful_data_after_processing/BV_tif_400_400_after_processing.csv', sep = ',', header = None)\n",
    "CNM_tif_400_400_after_processing = pd.read_csv('useful_data_after_processing/CNM_tif_400_400_after_processing.csv', sep = ',', header = None)\n",
    "LAI_tif_400_400_after_processing = pd.read_csv('useful_data_after_processing/LAI_tif_400_400_after_processing.csv', sep = ',', header = None)\n",
    "DSM_tif_400_400_after_processing = pd.read_csv('useful_data_after_processing/DSM_tif_400_400_after_processing.csv', sep = ',', header = None)\n",
    "Air_Temperature_C_400_400_after_processing = pd.read_csv('useful_data_after_processing/Air_Temperature_C_400_400_after_processing.csv', sep = ',', header = None)\n",
    "Dew_Point_C_400_400_after_processing = pd.read_csv('useful_data_after_processing/Dew_Point_C_400_400_after_processing.csv', sep = ',', header = None)\n",
    "Relative_Humidity_400_400_after_processing = pd.read_csv('useful_data_after_processing/Relative_Humidity_400_400_after_processing.csv', sep = ',', header = None)\n",
    "Wind_Speed_400_400_after_processing = pd.read_csv('useful_data_after_processing/Wind_Speed_400_400_after_processing.csv', sep = ',', header = None)\n"
   ],
   "id": "a6562ee1f03f7368",
   "outputs": [],
   "execution_count": 2
  },
  {
   "metadata": {
    "ExecuteTime": {
     "end_time": "2024-08-17T17:10:26.787996Z",
     "start_time": "2024-08-17T17:10:26.780232Z"
    }
   },
   "cell_type": "code",
   "source": [
    "import numpy as np\n",
    "from scipy import stats\n",
    "\n",
    "def analyze_layers(inpute, name=None):\n",
    "    print(f\"分析 {name if name else '输入'} 层：\")\n",
    "\n",
    "    # 总体最值\n",
    "    min_value = np.min(inpute)\n",
    "    max_value = np.max(inpute)\n",
    "    \n",
    "    # 形状\n",
    "    print(f\"形状: {inpute.shape}\")\n",
    "\n",
    "    # 展平\n",
    "    layer = inpute.values.flatten()\n",
    "    unique, counts = np.unique(layer, return_counts=True)\n",
    "\n",
    "    # 统计只出现1次的数值\n",
    "    once_values = unique[counts == 1]\n",
    "    num_once = len(once_values)\n",
    "\n",
    "    # 计算均值、方差和中位数，最值\n",
    "    mean_once = np.mean(once_values) if num_once > 0 else None\n",
    "    var_once = np.var(once_values) if num_once > 0 else None\n",
    "    median_once = np.median(once_values) if num_once > 0 else None\n",
    "    min_once = np.min(once_values) if num_once > 0 else None\n",
    "    max_once = np.max(once_values) if num_once > 0 else None\n",
    "\n",
    "    # 统计只出现2次的数值\n",
    "    twice_values = unique[counts == 2]\n",
    "    num_twice = len(twice_values)\n",
    "\n",
    "    # 计算均值、方差和中位数\n",
    "    mean_twice = np.mean(twice_values) if num_twice > 0 else None\n",
    "    var_twice = np.var(twice_values) if num_twice > 0 else None\n",
    "    median_twice = np.median(twice_values) if num_twice > 0 else None\n",
    "    min_twice = np.min(twice_values) if num_twice > 0 else None\n",
    "    max_twice = np.max(twice_values) if num_twice > 0 else None\n",
    "\n",
    "    # 统计只出现3次的数值\n",
    "    thrice_values = unique[counts == 3]\n",
    "    num_thrice = len(thrice_values)\n",
    "\n",
    "    # 计算均值、方差和中位数\n",
    "    mean_thrice = np.mean(thrice_values) if num_thrice > 0 else None\n",
    "    var_thrice = np.var(thrice_values) if num_thrice > 0 else None\n",
    "    median_thrice = np.median(thrice_values) if num_thrice > 0 else None\n",
    "    min_thrice = np.min(thrice_values) if num_thrice > 0 else None\n",
    "    max_thrice = np.max(thrice_values) if num_thrice > 0 else None\n",
    "\n",
    "    # 统计不止出现3次的数值及其对应出现次数\n",
    "    more_than_once = dict(zip(unique[counts > 3], counts[counts > 3]))\n",
    "\n",
    "    # 打印输出结果\n",
    "    print(f\"总体最小值: {min_value}, 总体最大值: {max_value}\")\n",
    "    print(f\"只出现1次的数值共有 {num_once} 个，它们出现了 {np.sum(counts[counts == 1])} 次。它们的均值、方差、中位数、最小值、最大值分别是 {mean_once}, {var_once}, {median_once}, {min_once}, {max_once}\")\n",
    "    print(f\"只出现2次的数值共有 {num_twice} 个，它们出现了 {np.sum(counts[counts == 2])} 次。它们的均值、方差、中位数、最小值、最大值分别是 {mean_twice}, {var_twice}, {median_twice}, {min_twice}, {max_twice}\")\n",
    "    print(f\"只出现3次的数值共有 {num_thrice} 个，它们出现了 {np.sum(counts[counts == 3])} 次。它们的均值、方差、中位数、最小值、最大值分别是 {mean_thrice}, {var_thrice}, {median_thrice}, {min_thrice}, {max_thrice}\")\n",
    "    if more_than_once:\n",
    "        print(\"不止出现3次的数值及其对应出现次数进行逆序排列如下：\")\n",
    "        for value, count in sorted(more_than_once.items(), key=lambda x: x[1], reverse=True):\n",
    "            print(f\"{value:>10}  : {value.dtype} : {count}\")\n",
    "    else:\n",
    "        print(\"没有不止出现1次的数值。\")\n",
    "    print()\n"
   ],
   "id": "2ddd82a3e91c1477",
   "outputs": [],
   "execution_count": 3
  },
  {
   "metadata": {
    "ExecuteTime": {
     "end_time": "2024-08-17T17:10:27.107906Z",
     "start_time": "2024-08-17T17:10:27.103930Z"
    }
   },
   "cell_type": "code",
   "source": "# analyze_layers(BH_tif_400_400_after_processing, '建筑物高度')\n",
   "id": "fc9bd4094f311403",
   "outputs": [],
   "execution_count": 4
  },
  {
   "metadata": {
    "ExecuteTime": {
     "end_time": "2024-08-17T17:10:27.347264Z",
     "start_time": "2024-08-17T17:10:27.343599Z"
    }
   },
   "cell_type": "code",
   "source": "# analyze_layers(BV_tif_400_400_after_processing, '建筑物体积')",
   "id": "b36b0e2bb3cb1102",
   "outputs": [],
   "execution_count": 5
  },
  {
   "metadata": {
    "ExecuteTime": {
     "end_time": "2024-08-17T17:10:27.583165Z",
     "start_time": "2024-08-17T17:10:27.579112Z"
    }
   },
   "cell_type": "code",
   "source": "# analyze_layers(CNM_tif_400_400_after_processing, '树冠高度')",
   "id": "6354e82cf77b7446",
   "outputs": [],
   "execution_count": 6
  },
  {
   "metadata": {
    "ExecuteTime": {
     "end_time": "2024-08-17T17:10:27.786102Z",
     "start_time": "2024-08-17T17:10:27.783491Z"
    }
   },
   "cell_type": "code",
   "source": "# analyze_layers(LAI_tif_400_400_after_processing, '叶面积指数')",
   "id": "41e056ccff1f0753",
   "outputs": [],
   "execution_count": 7
  },
  {
   "metadata": {
    "ExecuteTime": {
     "end_time": "2024-08-17T17:10:28.022240Z",
     "start_time": "2024-08-17T17:10:28.019312Z"
    }
   },
   "cell_type": "code",
   "source": "# analyze_layers(DSM_tif_400_400_after_processing, '地形数据')",
   "id": "b8e1b22649a55836",
   "outputs": [],
   "execution_count": 8
  },
  {
   "metadata": {
    "ExecuteTime": {
     "end_time": "2024-08-17T17:10:28.262913Z",
     "start_time": "2024-08-17T17:10:28.259679Z"
    }
   },
   "cell_type": "code",
   "source": "# analyze_layers(Air_Temperature_C_400_400_after_processing, '空气温度')",
   "id": "8697c77527af8d3e",
   "outputs": [],
   "execution_count": 9
  },
  {
   "metadata": {
    "ExecuteTime": {
     "end_time": "2024-08-17T17:10:28.506358Z",
     "start_time": "2024-08-17T17:10:28.503166Z"
    }
   },
   "cell_type": "code",
   "source": "# analyze_layers(Dew_Point_C_400_400_after_processing, '露点温度')",
   "id": "f733942b6c7d94f4",
   "outputs": [],
   "execution_count": 10
  },
  {
   "metadata": {
    "ExecuteTime": {
     "end_time": "2024-08-17T17:10:28.730949Z",
     "start_time": "2024-08-17T17:10:28.728397Z"
    }
   },
   "cell_type": "code",
   "source": "# analyze_layers(Relative_Humidity_400_400_after_processing, '相对湿度')",
   "id": "ec1747d9b98c7b9f",
   "outputs": [],
   "execution_count": 11
  },
  {
   "metadata": {
    "ExecuteTime": {
     "end_time": "2024-08-17T17:10:29.045744Z",
     "start_time": "2024-08-17T17:10:29.043077Z"
    }
   },
   "cell_type": "code",
   "source": "# analyze_layers(Wind_Speed_400_400_after_processing, '风速')",
   "id": "caf6ea2292ddca38",
   "outputs": [],
   "execution_count": 12
  },
  {
   "metadata": {},
   "cell_type": "markdown",
   "source": "## 数据检查",
   "id": "f3d3dc1bd4bd3d35"
  },
  {
   "metadata": {
    "ExecuteTime": {
     "end_time": "2024-08-17T17:10:29.511655Z",
     "start_time": "2024-08-17T17:10:29.504669Z"
    }
   },
   "cell_type": "code",
   "source": [
    "X = np.stack([BH_tif_400_400_after_processing, BV_tif_400_400_after_processing, CNM_tif_400_400_after_processing, LAI_tif_400_400_after_processing, DSM_tif_400_400_after_processing], axis=-1)\n",
    "Y = np.stack([Air_Temperature_C_400_400_after_processing, Dew_Point_C_400_400_after_processing, Relative_Humidity_400_400_after_processing, Wind_Speed_400_400_after_processing], axis=-1)"
   ],
   "id": "2cd65c27b57c9d07",
   "outputs": [],
   "execution_count": 13
  },
  {
   "metadata": {
    "ExecuteTime": {
     "end_time": "2024-08-17T17:17:25.671476Z",
     "start_time": "2024-08-17T17:17:25.667153Z"
    }
   },
   "cell_type": "code",
   "source": [
    "X_labels = ['BH', 'BV', 'CNM', 'LAI', 'DSM']\n",
    "Y_labels = ['AT', 'DP', 'RH', 'WS']"
   ],
   "id": "592931daac3c7d0a",
   "outputs": [],
   "execution_count": 35
  },
  {
   "metadata": {
    "ExecuteTime": {
     "end_time": "2024-08-17T17:10:29.713480Z",
     "start_time": "2024-08-17T17:10:29.707047Z"
    }
   },
   "cell_type": "code",
   "source": "X.shape",
   "id": "942059b974d6e50e",
   "outputs": [
    {
     "data": {
      "text/plain": [
       "(400, 400, 5)"
      ]
     },
     "execution_count": 14,
     "metadata": {},
     "output_type": "execute_result"
    }
   ],
   "execution_count": 14
  },
  {
   "metadata": {
    "ExecuteTime": {
     "end_time": "2024-08-17T17:10:29.989881Z",
     "start_time": "2024-08-17T17:10:29.985174Z"
    }
   },
   "cell_type": "code",
   "source": "Y.shape",
   "id": "5d4a6b6e8c0a92ca",
   "outputs": [
    {
     "data": {
      "text/plain": [
       "(400, 400, 4)"
      ]
     },
     "execution_count": 15,
     "metadata": {},
     "output_type": "execute_result"
    }
   ],
   "execution_count": 15
  },
  {
   "metadata": {
    "ExecuteTime": {
     "end_time": "2024-08-17T17:10:30.247414Z",
     "start_time": "2024-08-17T17:10:30.239369Z"
    }
   },
   "cell_type": "code",
   "source": [
    "# 展平X和Y\n",
    "X_flatten = X.reshape(-1, 5)  # X 变成形状 (160000, 5)\n",
    "Y_flatten = Y.reshape(-1, 4)  # Y 变成形状 (160000, 4)"
   ],
   "id": "5d502edab3da97f3",
   "outputs": [],
   "execution_count": 16
  },
  {
   "metadata": {
    "ExecuteTime": {
     "end_time": "2024-08-17T17:10:30.415731Z",
     "start_time": "2024-08-17T17:10:30.408499Z"
    }
   },
   "cell_type": "code",
   "source": "X_flatten.shape",
   "id": "c9e94f5ed9dadb52",
   "outputs": [
    {
     "data": {
      "text/plain": [
       "(160000, 5)"
      ]
     },
     "execution_count": 17,
     "metadata": {},
     "output_type": "execute_result"
    }
   ],
   "execution_count": 17
  },
  {
   "metadata": {
    "ExecuteTime": {
     "end_time": "2024-08-17T17:10:30.678389Z",
     "start_time": "2024-08-17T17:10:30.674040Z"
    }
   },
   "cell_type": "code",
   "source": "Y_flatten.shape",
   "id": "6008d821c904c32c",
   "outputs": [
    {
     "data": {
      "text/plain": [
       "(160000, 4)"
      ]
     },
     "execution_count": 18,
     "metadata": {},
     "output_type": "execute_result"
    }
   ],
   "execution_count": 18
  },
  {
   "metadata": {
    "ExecuteTime": {
     "end_time": "2024-08-17T17:10:30.949638Z",
     "start_time": "2024-08-17T17:10:30.945402Z"
    }
   },
   "cell_type": "code",
   "source": [
    "X_reshaped = X_flatten\n",
    "Y_reshaped = Y_flatten"
   ],
   "id": "95853f10624c4fa5",
   "outputs": [],
   "execution_count": 19
  },
  {
   "metadata": {
    "ExecuteTime": {
     "end_time": "2024-08-17T17:10:31.170845Z",
     "start_time": "2024-08-17T17:10:31.167439Z"
    }
   },
   "cell_type": "code",
   "source": "X_reshaped.shape",
   "id": "15429683e5f268b7",
   "outputs": [
    {
     "data": {
      "text/plain": [
       "(160000, 5)"
      ]
     },
     "execution_count": 20,
     "metadata": {},
     "output_type": "execute_result"
    }
   ],
   "execution_count": 20
  },
  {
   "metadata": {
    "ExecuteTime": {
     "end_time": "2024-08-17T17:10:31.497484Z",
     "start_time": "2024-08-17T17:10:31.493230Z"
    }
   },
   "cell_type": "code",
   "source": "Y_reshaped.shape",
   "id": "9925ed638c107605",
   "outputs": [
    {
     "data": {
      "text/plain": [
       "(160000, 4)"
      ]
     },
     "execution_count": 21,
     "metadata": {},
     "output_type": "execute_result"
    }
   ],
   "execution_count": 21
  },
  {
   "metadata": {
    "ExecuteTime": {
     "end_time": "2024-08-17T17:10:31.784547Z",
     "start_time": "2024-08-17T17:10:31.776690Z"
    }
   },
   "cell_type": "code",
   "source": [
    "X_contains_nan_or_inf = np.isnan(X_reshaped).any() or np.isinf(X_reshaped).any()\n",
    "Y_contains_nan_or_inf = np.isnan(Y_reshaped).any() or np.isinf(Y_reshaped).any()\n",
    "\n",
    "print(\"X contains NaN or Infinity:\", X_contains_nan_or_inf)\n",
    "print(\"Y contains NaN or Infinity:\", Y_contains_nan_or_inf)"
   ],
   "id": "9217005dfa1e2387",
   "outputs": [
    {
     "name": "stdout",
     "output_type": "stream",
     "text": [
      "X contains NaN or Infinity: False\n",
      "Y contains NaN or Infinity: False\n"
     ]
    }
   ],
   "execution_count": 22
  },
  {
   "metadata": {
    "ExecuteTime": {
     "end_time": "2024-08-17T17:10:32.098688Z",
     "start_time": "2024-08-17T17:10:32.093527Z"
    }
   },
   "cell_type": "code",
   "source": [
    "print(\"X min:\", X_reshaped.min(), \"X max:\", X_reshaped.max())\n",
    "print(\"Y min:\", Y_reshaped.min(), \"Y max:\", Y_reshaped.max())\n"
   ],
   "id": "7b3574bf82a4a026",
   "outputs": [
    {
     "name": "stdout",
     "output_type": "stream",
     "text": [
      "X min: -5.016123294830321 X max: 1470306.4419853743\n",
      "Y min: 0.3906410594318859 Y max: 69.43959655478638\n"
     ]
    }
   ],
   "execution_count": 23
  },
  {
   "metadata": {
    "ExecuteTime": {
     "end_time": "2024-08-17T17:10:32.348293Z",
     "start_time": "2024-08-17T17:10:32.340507Z"
    }
   },
   "cell_type": "code",
   "source": [
    "# 深复制X\n",
    "X_400_400 = X.copy()\n",
    "Y_400_400 = Y.copy()"
   ],
   "id": "bc5c0a6f7a563db",
   "outputs": [],
   "execution_count": 24
  },
  {
   "cell_type": "code",
   "source": [
    "# 读取数据\n",
    "X = X_reshaped\n",
    "Y = Y_reshaped\n",
    "X.shape, Y.shape"
   ],
   "metadata": {
    "collapsed": false,
    "ExecuteTime": {
     "end_time": "2024-08-17T17:10:32.519521Z",
     "start_time": "2024-08-17T17:10:32.513180Z"
    }
   },
   "id": "2e5452259f844adf",
   "outputs": [
    {
     "data": {
      "text/plain": [
       "((160000, 5), (160000, 4))"
      ]
     },
     "execution_count": 25,
     "metadata": {},
     "output_type": "execute_result"
    }
   ],
   "execution_count": 25
  },
  {
   "cell_type": "code",
   "source": [
    "from sklearn.metrics import mean_squared_error, r2_score, mean_absolute_error, make_scorer\n",
    "from skopt import BayesSearchCV\n",
    "from skopt.space import Integer, Categorical\n",
    "from sklearn.ensemble import RandomForestRegressor\n",
    "import numpy as np\n",
    "import matplotlib.pyplot as plt\n",
    "from tqdm import tqdm\n",
    "import pandas as pd\n",
    "import time\n",
    "from datetime import datetime"
   ],
   "metadata": {
    "collapsed": false,
    "ExecuteTime": {
     "end_time": "2024-08-17T17:10:33.458596Z",
     "start_time": "2024-08-17T17:10:33.454183Z"
    }
   },
   "id": "6542f33bffcd7a8f",
   "outputs": [],
   "execution_count": 26
  },
  {
   "metadata": {},
   "cell_type": "code",
   "source": [
    "# 初始化随机森林模型\n",
    "model = RandomForestRegressor(random_state=42, oob_score=True)"
   ],
   "id": "5d006481c8a0c3c4",
   "outputs": [],
   "execution_count": null
  },
  {
   "cell_type": "code",
   "source": [
    "# 使用贝叶斯优化进行超参数搜索\n",
    "bayes_search = BayesSearchCV(\n",
    "    estimator=model,\n",
    "    search_spaces=search_space,\n",
    "    n_iter=n_iter,  # 迭代次数\n",
    "    cv=5,  # 5 折交叉验证\n",
    "    n_jobs=-1,  # 使用所有可用的核\n",
    "    verbose=0,  # 显示详细信息\n",
    "    scoring=scoring, # 评分标准\n",
    "    refit='r2' # 使用r2作为评分, 这样scoring里的值都会被计算和储存，但是只使用mse作为优化标准\n",
    ")"
   ],
   "metadata": {
    "collapsed": false,
    "ExecuteTime": {
     "end_time": "2024-08-17T17:10:41.885171Z",
     "start_time": "2024-08-17T17:10:41.098276Z"
    }
   },
   "id": "969d18c3a8cb3b9e",
   "outputs": [
    {
     "ename": "NameError",
     "evalue": "name 'model' is not defined",
     "output_type": "error",
     "traceback": [
      "\u001B[1;31m---------------------------------------------------------------------------\u001B[0m",
      "\u001B[1;31mNameError\u001B[0m                                 Traceback (most recent call last)",
      "Cell \u001B[1;32mIn[29], line 3\u001B[0m\n\u001B[0;32m      1\u001B[0m \u001B[38;5;66;03m# 使用贝叶斯优化进行超参数搜索\u001B[39;00m\n\u001B[0;32m      2\u001B[0m bayes_search \u001B[38;5;241m=\u001B[39m BayesSearchCV(\n\u001B[1;32m----> 3\u001B[0m     estimator\u001B[38;5;241m=\u001B[39mmodel,\n\u001B[0;32m      4\u001B[0m     search_spaces\u001B[38;5;241m=\u001B[39msearch_space,\n\u001B[0;32m      5\u001B[0m     n_iter\u001B[38;5;241m=\u001B[39mn_iter,  \u001B[38;5;66;03m# 迭代次数\u001B[39;00m\n\u001B[0;32m      6\u001B[0m     cv\u001B[38;5;241m=\u001B[39m\u001B[38;5;241m5\u001B[39m,  \u001B[38;5;66;03m# 5 折交叉验证\u001B[39;00m\n\u001B[0;32m      7\u001B[0m     n_jobs\u001B[38;5;241m=\u001B[39m\u001B[38;5;241m-\u001B[39m\u001B[38;5;241m1\u001B[39m,  \u001B[38;5;66;03m# 使用所有可用的核\u001B[39;00m\n\u001B[0;32m      8\u001B[0m     verbose\u001B[38;5;241m=\u001B[39m\u001B[38;5;241m0\u001B[39m,  \u001B[38;5;66;03m# 显示详细信息\u001B[39;00m\n\u001B[0;32m      9\u001B[0m     scoring\u001B[38;5;241m=\u001B[39mscoring, \u001B[38;5;66;03m# 评分标准\u001B[39;00m\n\u001B[0;32m     10\u001B[0m     refit\u001B[38;5;241m=\u001B[39m\u001B[38;5;124m'\u001B[39m\u001B[38;5;124mr2\u001B[39m\u001B[38;5;124m'\u001B[39m \u001B[38;5;66;03m# 使用r2作为评分, 这样scoring里的值都会被计算和储存，但是只使用mse作为优化标准\u001B[39;00m\n\u001B[0;32m     11\u001B[0m )\n",
      "\u001B[1;31mNameError\u001B[0m: name 'model' is not defined"
     ]
    }
   ],
   "execution_count": 29
  },
  {
   "cell_type": "code",
   "source": [
    "%%time\n",
    "# 开始贝叶斯优化并找到最佳参数\n",
    "print(\"Optimizing model\")\n",
    "progress_callback = TqdmProgressCallback(total_iterations=n_iter, model_idx=0)\n",
    "\n",
    "# 第一次贝叶斯优化\n",
    "print('----------start fit----------')\n",
    "bayes_search.fit(X, Y[:, 0], callback=[progress_callback])\n",
    "print('----------end fit----------')\n",
    "\n",
    "# 显式关闭进度条\n",
    "progress_callback.close()\n"
   ],
   "metadata": {
    "collapsed": false
   },
   "id": "1b0074cf1088d818",
   "outputs": [],
   "execution_count": null
  },
  {
   "cell_type": "code",
   "source": [
    "# 提取优化后的最佳参数\n",
    "best_params = bayes_search.best_params_"
   ],
   "metadata": {
    "collapsed": false
   },
   "id": "a0855101175ff84",
   "outputs": [],
   "execution_count": null
  },
  {
   "cell_type": "code",
   "source": [
    "# 打印最佳参数\n",
    "best_params"
   ],
   "metadata": {
    "collapsed": false
   },
   "id": "c04856b2e33d79bc",
   "outputs": [],
   "execution_count": null
  },
  {
   "cell_type": "code",
   "source": [
    "# \n",
    "bayes_search.cv_results_"
   ],
   "metadata": {
    "collapsed": false
   },
   "id": "f0adba3c9c549d53",
   "outputs": [],
   "execution_count": null
  },
  {
   "cell_type": "markdown",
   "source": [
    "## 储存某次的优化结果\n",
    "bayes_search.cv_results_={\n",
    " 'mean_fit_time': array([ 28.55289884, 155.50317574,  52.50600681,  91.00274124,\n",
    "         66.90605783,  23.31525884,  74.57730494,  23.05400348,\n",
    "         44.88403435,  39.85511346]),\n",
    " 'std_fit_time': array([0.54538374, 7.96362842, 0.64139296, 1.40312096, 1.6577354 ,\n",
    "        0.30543965, 0.77421921, 0.1786838 , 2.19447796, 0.61888006]),\n",
    " 'mean_score_time': array([0.43226819, 1.38214898, 0.56199446, 1.42403045, 0.95648804,\n",
    "        0.27831697, 1.14831452, 0.23273978, 0.55242758, 0.50476799]),\n",
    " 'std_score_time': array([0.01843124, 0.14913223, 0.05973453, 0.25503474, 0.11458144,\n",
    "        0.08118022, 0.10377971, 0.0228234 , 0.0392118 , 0.06492125]),\n",
    " 'param_max_depth': masked_array(data=[22, 30, 13, 28, 30, 12, 20, 11, 14, 14],\n",
    "              mask=[False, False, False, False, False, False, False, False,\n",
    "                    False, False],\n",
    "        fill_value=999999),\n",
    " 'param_max_features': masked_array(data=['sqrt', None, 'log2', 'sqrt', 'log2', 'log2', 'sqrt',\n",
    "                    'log2', 'log2', 'sqrt'],\n",
    "              mask=[False, False, False, False, False, False, False, False,\n",
    "                    False, False],\n",
    "        fill_value='?',\n",
    "             dtype=object),\n",
    " 'param_min_samples_leaf': masked_array(data=[2, 2, 2, 1, 4, 4, 2, 4, 1, 4],\n",
    "              mask=[False, False, False, False, False, False, False, False,\n",
    "                    False, False],\n",
    "        fill_value=999999),\n",
    " 'param_min_samples_split': masked_array(data=[7, 6, 9, 4, 8, 6, 4, 4, 5, 3],\n",
    "              mask=[False, False, False, False, False, False, False, False,\n",
    "                    False, False],\n",
    "        fill_value=999999),\n",
    " 'param_n_estimators': masked_array(data=[122, 299, 280, 288, 232, 122, 294, 143, 214, 208],\n",
    "              mask=[False, False, False, False, False, False, False, False,\n",
    "                    False, False],\n",
    "        fill_value=999999),\n",
    " 'params': [OrderedDict([('max_depth', 22),\n",
    "               ('max_features', 'sqrt'),\n",
    "               ('min_samples_leaf', 2),\n",
    "               ('min_samples_split', 7),\n",
    "               ('n_estimators', 122)]),\n",
    "  OrderedDict([('max_depth', 30),\n",
    "               ('max_features', None),\n",
    "               ('min_samples_leaf', 2),\n",
    "               ('min_samples_split', 6),\n",
    "               ('n_estimators', 299)]),\n",
    "  OrderedDict([('max_depth', 13),\n",
    "               ('max_features', 'log2'),\n",
    "               ('min_samples_leaf', 2),\n",
    "               ('min_samples_split', 9),\n",
    "               ('n_estimators', 280)]),\n",
    "  OrderedDict([('max_depth', 28),\n",
    "               ('max_features', 'sqrt'),\n",
    "               ('min_samples_leaf', 1),\n",
    "               ('min_samples_split', 4),\n",
    "               ('n_estimators', 288)]),\n",
    "  OrderedDict([('max_depth', 30),\n",
    "               ('max_features', 'log2'),\n",
    "               ('min_samples_leaf', 4),\n",
    "               ('min_samples_split', 8),\n",
    "               ('n_estimators', 232)]),\n",
    "  OrderedDict([('max_depth', 12),\n",
    "               ('max_features', 'log2'),\n",
    "               ('min_samples_leaf', 4),\n",
    "               ('min_samples_split', 6),\n",
    "               ('n_estimators', 122)]),\n",
    "  OrderedDict([('max_depth', 20),\n",
    "               ('max_features', 'sqrt'),\n",
    "               ('min_samples_leaf', 2),\n",
    "               ('min_samples_split', 4),\n",
    "               ('n_estimators', 294)]),\n",
    "  OrderedDict([('max_depth', 11),\n",
    "               ('max_features', 'log2'),\n",
    "               ('min_samples_leaf', 4),\n",
    "               ('min_samples_split', 4),\n",
    "               ('n_estimators', 143)]),\n",
    "  OrderedDict([('max_depth', 14),\n",
    "               ('max_features', 'log2'),\n",
    "               ('min_samples_leaf', 1),\n",
    "               ('min_samples_split', 5),\n",
    "               ('n_estimators', 214)]),\n",
    "  OrderedDict([('max_depth', 14),\n",
    "               ('max_features', 'sqrt'),\n",
    "               ('min_samples_leaf', 4),\n",
    "               ('min_samples_split', 3),\n",
    "               ('n_estimators', 208)])],\n",
    " 'split0_test_mse': array([-0.00314969, -0.003404  , -0.00299522, -0.00320047, -0.00309079,\n",
    "        -0.00297859, -0.00314615, -0.00293712, -0.00305422, -0.00301126]),\n",
    " 'split1_test_mse': array([-0.00367954, -0.0039521 , -0.00304658, -0.00379419, -0.00366611,\n",
    "        -0.00295142, -0.00361088, -0.00284054, -0.0031712 , -0.00314926]),\n",
    " 'split2_test_mse': array([-0.00325977, -0.00342563, -0.0031388 , -0.00335028, -0.00329055,\n",
    "        -0.00311705, -0.00322929, -0.00310303, -0.00314138, -0.00315347]),\n",
    " 'split3_test_mse': array([-0.00301282, -0.00318465, -0.00281375, -0.00310288, -0.00305586,\n",
    "        -0.00279048, -0.00298284, -0.0027541 , -0.00284909, -0.00284888]),\n",
    " 'split4_test_mse': array([-0.00397664, -0.00420554, -0.00364901, -0.00413234, -0.00407106,\n",
    "        -0.00360221, -0.00394333, -0.00353378, -0.00371502, -0.00370656]),\n",
    " 'mean_test_mse': array([-0.00341569, -0.00363438, -0.00312867, -0.00351603, -0.00343487,\n",
    "        -0.00308795, -0.0033825 , -0.00303372, -0.00318618, -0.00317389]),\n",
    " 'std_test_mse': array([0.00035823, 0.00038107, 0.00028092, 0.00038858, 0.00038499,\n",
    "        0.00027727, 0.00034807, 0.00027557, 0.00028738, 0.00028874]),\n",
    " 'rank_test_mse': array([ 7, 10,  3,  9,  8,  2,  6,  1,  5,  4]),\n",
    " \n",
    "\n",
    "splitX_test_mse：\n",
    "- 含义：split0_test_mse、split1_test_mse 等是不同折交叉验证中，在每一折上对测试集计算的均方误差（MSE）。其中的 X 表示折数（从0开始）。\n",
    "- 负号的原因：Scikit-Learn 在进行优化时，通常希望最大化评分。因此，对于需要最小化的损失函数（如MSE），Scikit-Learn 会将其存储为负值，以便与其他评分方式（如R²）一致地进行优化。\n",
    "- 值：这些数组中的每个值对应于一个超参数组合在该折交叉验证中的MSE。\n",
    "\n",
    "mean_test_mse：\n",
    "- 含义：这是所有交叉验证折的测试集均方误差（MSE）的平均值。该值通常用于评估每个超参数组合的整体表现。\n",
    "- 负号的原因：同样，MSE 是损失函数，因此 Scikit-Learn 存储其为负值以便于优化。你可以通过取反来得到实际的均方误差。\n",
    "\n",
    "std_test_mse：\n",
    "- 含义：这是在所有交叉验证折上计算的 MSE 标准差，表示该超参数组合在不同交叉验证折之间的表现一致性。较小的标准差表示该超参数组合在不同数据集上表现更一致。\n",
    "- 值：这些值是标准差，用于衡量模型在不同折上的表现波动。\n",
    "\n",
    "rank_test_mse：\n",
    "- 含义：这是根据 mean_test_mse 对所有超参数组合进行排序后的排名。1 表示表现最好的参数组合，数字越大表示表现越差。\n",
    "- 值：这些值是排名，用于快速识别最佳的参数组合。\n",
    "\n",
    " 'split0_test_r2': array([ 0.03649199, -0.04130479,  0.08374358,  0.02095808,  0.05451029,\n",
    "         0.08883226,  0.03757433,  0.10151746,  0.06569649,  0.07883888]),\n",
    " 'split1_test_r2': array([-0.17892284, -0.26625028,  0.02387768, -0.21565647, -0.17461737,\n",
    "         0.0543681 , -0.15692174,  0.08989159, -0.01605045, -0.00902198]),\n",
    " 'split2_test_r2': array([-0.13331823, -0.19098099, -0.09126124, -0.1647846 , -0.14401791,\n",
    "        -0.08370052, -0.1227201 , -0.07882384, -0.09215823, -0.09636228]),\n",
    " 'split3_test_r2': array([-0.17730976, -0.24445503, -0.09952139, -0.21250353, -0.19412785,\n",
    "        -0.09042801, -0.1655939 , -0.07621163, -0.11332923, -0.11324614]),\n",
    " 'split4_test_r2': array([-0.80625985, -0.910231  , -0.65744157, -0.87698071, -0.84914693,\n",
    "        -0.63618698, -0.7911284 , -0.6051059 , -0.68742769, -0.68358576]),\n",
    " 'mean_test_r2': array([-0.25186374, -0.33064442, -0.14812059, -0.28979345, -0.26147995,\n",
    "        -0.13342303, -0.23975796, -0.11374646, -0.16865382, -0.16467546]),\n",
    " 'std_test_r2': array([0.28824843, 0.30023961, 0.26394966, 0.30608908, 0.30694659,\n",
    "        0.2614404 , 0.28530074, 0.25763135, 0.26692567, 0.26836796]),\n",
    " 'rank_test_r2': array([ 7, 10,  3,  9,  8,  2,  6,  1,  5,  4]),\n",
    " \n",
    "splitX_test_r2：\n",
    "- 含义：split0_test_r2、split1_test_r2 等是不同折交叉验证中，在每一折上对测试集计算的 R² 分数。其中的 X 表示折数（从0开始）。\n",
    "- 值：这些数组中的每个值对应于一个超参数组合在该折交叉验证中的 R² 分数。\n",
    "- 解释各个 R² 分数的含义：\n",
    "    - R² 取值大于 0：表示模型能够解释一部分方差，值越接近 1，表示模型拟合得越好。\n",
    "    - R² 取值等于 0：表示模型的预测能力和简单的平均值模型一样。\n",
    "    - R² 取值小于 0：表示模型的表现还不如直接用平均值预测好，这通常意味着模型不适合当前数据。\n",
    "- 在你的结果中，splitX_test_r2 的某些值为负，这意味着在某些折上，模型的预测效果还不如简单地用目标变量的平均值进行预测。这可能表明模型过拟合、欠拟合，或者数据本身具有很高的噪声。\n",
    "\n",
    "\n",
    "\n",
    "\n",
    "\n",
    "mean_test_r2：\n",
    "- 含义：这是所有交叉验证折的 R² 分数的平均值。该值通常用于评估每个超参数组合的整体表现。\n",
    "- 值：mean_test_r2 反映了模型在交叉验证过程中总体上的拟合优度。负值表示模型总体上并没有很好地拟合数据。\n",
    "\n",
    "std_test_r2：\n",
    "- 含义：这是在所有交叉验证折上计算的 R² 分数的标准差，表示该超参数组合在不同交叉验证折之间的表现一致性。较小的标准差表示该超参数组合在不同数据集上表现更一致。\n",
    "- 值：std_test_r2 的值越小，表示模型在不同折上的表现波动越小，模型的稳定性更好。\n",
    "\n",
    "rank_test_r2：\n",
    "- 含义：这是根据 mean_test_r2 对所有超参数组合进行排序后的排名。1 表示表现最好的参数组合，数字越大表示表现越差。\n",
    "- 值：rank_test_r2 的值用于快速识别最佳的参数组合。排名为 1 的组合是 R² 分数表现最好的组合。\n",
    "\n",
    " 'split0_test_mae': array([-0.04200953, -0.04376363, -0.04087904, -0.04236879, -0.04154537,\n",
    "        -0.04079124, -0.04199233, -0.04052508, -0.04124006, -0.04094894]),\n",
    " 'split1_test_mae': array([-0.04860571, -0.05002574, -0.04522395, -0.04920039, -0.0485336 ,\n",
    "        -0.044706  , -0.0482044 , -0.0442033 , -0.04592036, -0.04575566]),\n",
    " 'split2_test_mae': array([-0.04758374, -0.04798962, -0.04750999, -0.04785285, -0.04759882,\n",
    "        -0.04752959, -0.04740279, -0.04755268, -0.04746269, -0.04753878]),\n",
    " 'split3_test_mae': array([-0.04633569, -0.04719833, -0.04503293, -0.04680706, -0.04649121,\n",
    "        -0.0448956 , -0.04619349, -0.04473143, -0.04532353, -0.04528548]),\n",
    " 'split4_test_mae': array([-0.05339434, -0.05427687, -0.05214694, -0.05407761, -0.05390274,\n",
    "        -0.05193531, -0.05329677, -0.05158406, -0.05249817, -0.0524209 ]),\n",
    " 'mean_test_mae': array([-0.0475858 , -0.04865084, -0.04615857, -0.04806134, -0.04761435,\n",
    "        -0.04597155, -0.04741796, -0.04571931, -0.04648896, -0.04638995]),\n",
    " 'std_test_mae': array([0.00367252, 0.00346336, 0.0036797 , 0.00378192, 0.00396189,\n",
    "        0.00367665, 0.00363637, 0.00368811, 0.00364119, 0.00371265]),\n",
    " 'rank_test_mae': array([ 7, 10,  3,  9,  8,  2,  6,  1,  5,  4])}"
   ],
   "metadata": {
    "collapsed": false
   },
   "id": "3d2e22f04d679025"
  },
  {
   "cell_type": "code",
   "source": [
    "# 获取所有的参数组合列表\n",
    "params_list = bayes_search.cv_results_['params']"
   ],
   "metadata": {
    "collapsed": false
   },
   "id": "971848b1ae5b9079",
   "outputs": [],
   "execution_count": null
  },
  {
   "cell_type": "code",
   "source": [
    "# 所有的参数组合列表\n",
    "params_list"
   ],
   "metadata": {
    "collapsed": false
   },
   "id": "cf5fc80175874981",
   "outputs": [],
   "execution_count": null
  },
  {
   "cell_type": "code",
   "source": [
    "# 找到 best_params 对应的索引\n",
    "best_iteration = None\n",
    "for i, params in enumerate(params_list):\n",
    "    if params == best_params:\n",
    "        best_iteration = i\n",
    "        break"
   ],
   "metadata": {
    "collapsed": false
   },
   "id": "8b80334c0884d290",
   "outputs": [],
   "execution_count": null
  },
  {
   "cell_type": "code",
   "source": [
    "# best_params 对应的索引\n",
    "best_iteration"
   ],
   "metadata": {
    "collapsed": false
   },
   "id": "8b24919f119453b2",
   "outputs": [],
   "execution_count": null
  },
  {
   "cell_type": "code",
   "source": [
    "if best_iteration is not None:\n",
    "    best_mse = -bayes_search.cv_results_['mean_test_mse'][best_iteration]\n",
    "    best_r2 = bayes_search.cv_results_['mean_test_r2'][best_iteration]\n",
    "    best_mae = -bayes_search.cv_results_['mean_test_mae'][best_iteration]\n",
    "\n",
    "    print(f\"Best MSE: {best_mse}\")\n",
    "    print(f\"Best R²: {best_r2}\")\n",
    "    print(f\"Best MAE: {best_mae}\")"
   ],
   "metadata": {
    "collapsed": false
   },
   "id": "538304f3d88f3a1a",
   "outputs": [],
   "execution_count": null
  },
  {
   "cell_type": "code",
   "source": [
    "best_result_1 = [{\n",
    "    'mse': best_mse,\n",
    "    'r2': best_r2,\n",
    "    'mae': best_mae,\n",
    "}]"
   ],
   "metadata": {
    "collapsed": false
   },
   "id": "937e9d366f2715d5",
   "outputs": [],
   "execution_count": null
  },
  {
   "cell_type": "code",
   "source": [
    "best_result_1"
   ],
   "metadata": {
    "collapsed": false
   },
   "id": "44beafe8241d6429",
   "outputs": [],
   "execution_count": null
  },
  {
   "cell_type": "code",
   "source": [
    "# 储存每次迭代的评估指标\n",
    "metrics = {\n",
    "    'mse': -bayes_search.cv_results_['mean_test_mse'],\n",
    "    'r2': bayes_search.cv_results_['mean_test_r2'],\n",
    "    'mae': -bayes_search.cv_results_['mean_test_mae'],\n",
    "}"
   ],
   "metadata": {
    "collapsed": false
   },
   "id": "a62a5c3d9dfb7d01",
   "outputs": [],
   "execution_count": null
  },
  {
   "cell_type": "code",
   "source": [
    "metrics"
   ],
   "metadata": {
    "collapsed": false
   },
   "id": "cddeb4a19a6ccdc4",
   "outputs": [],
   "execution_count": null
  },
  {
   "cell_type": "code",
   "source": [
    "# 获取特征重要性\n",
    "importance_matrix[:, 0] = bayes_search.best_estimator_.feature_importances_"
   ],
   "metadata": {
    "collapsed": false
   },
   "id": "ae57d10d5570731a",
   "outputs": [],
   "execution_count": null
  },
  {
   "metadata": {},
   "cell_type": "code",
   "source": "importance_matrix",
   "id": "5f419b6e7b91e60e",
   "outputs": [],
   "execution_count": null
  },
  {
   "cell_type": "code",
   "source": [
    "# 获取每次迭代的参数组合\n",
    "params_list = bayes_search.cv_results_['params']\n",
    "\n",
    "# 打印每次迭代的参数\n",
    "for i, params in enumerate(params_list):\n",
    "    print(f\"Iteration {i+1}: {params}\")\n"
   ],
   "metadata": {
    "collapsed": false
   },
   "id": "1102b6b8b45690b0",
   "outputs": [],
   "execution_count": null
  },
  {
   "cell_type": "code",
   "source": [
    "import matplotlib.pyplot as plt\n",
    "import numpy as np\n",
    "\n",
    "\n",
    "# 1. 绘制数值类型参数的变化曲线\n",
    "iterations = np.arange(1, len(params_list) + 1)\n"
   ],
   "metadata": {
    "collapsed": false
   },
   "id": "edf778beaa1d241",
   "outputs": [],
   "execution_count": null
  },
  {
   "cell_type": "code",
   "source": [
    "# 提取数值参数\n",
    "max_depth_values = [params['max_depth'] for params in params_list]\n",
    "min_samples_leaf_values = [params['min_samples_leaf'] for params in params_list]\n",
    "min_samples_split_values = [params['min_samples_split'] for params in params_list]\n",
    "n_estimators_values = [params['n_estimators'] for params in params_list]\n"
   ],
   "metadata": {
    "collapsed": false
   },
   "id": "57e1af7013571ec6",
   "outputs": [],
   "execution_count": null
  },
  {
   "cell_type": "code",
   "source": [
    "# 绘制数值参数的折线图\n",
    "plt.figure(figsize=(14, 8))\n",
    "\n",
    "plt.plot(iterations, max_depth_values, label='max_depth', marker='o')\n",
    "plt.plot(iterations, min_samples_leaf_values, label='min_samples_leaf', marker='o')\n",
    "plt.plot(iterations, min_samples_split_values, label='min_samples_split', marker='o')\n",
    "plt.plot(iterations, n_estimators_values, label='n_estimators', marker='o')\n",
    "\n",
    "plt.xlabel('Iteration')\n",
    "plt.ylabel('Parameter Value')\n",
    "plt.title('Hyperparameter Evolution during Bayes Optimization')\n",
    "plt.legend()\n",
    "plt.grid(True)\n",
    "plt.show()\n"
   ],
   "metadata": {
    "collapsed": false
   },
   "id": "f59596c018f839e2",
   "outputs": [],
   "execution_count": null
  },
  {
   "cell_type": "code",
   "source": [
    "# 2. 绘制mse和mae的柱状图\n",
    "plt.figure(figsize=(14, 8))\n",
    "\n",
    "bar_width = 0.35\n",
    "index = np.arange(len(metrics['mse']))\n",
    "\n",
    "plt.bar(index, metrics['mse'], bar_width, label='MSE', alpha=0.7)\n",
    "plt.bar(index + bar_width, metrics['mae'], bar_width, label='MAE', alpha=0.7)\n",
    "\n",
    "plt.xlabel('Iteration')\n",
    "plt.ylabel('Metric Value')\n",
    "plt.title('MSE and MAE during Bayes Optimization')\n",
    "plt.legend()\n",
    "plt.grid(True)\n",
    "plt.show()\n"
   ],
   "metadata": {
    "collapsed": false
   },
   "id": "42903f985035854a",
   "outputs": [],
   "execution_count": null
  },
  {
   "cell_type": "code",
   "source": [
    "# 3. 非数值类型参数绘制建议：max_features\n",
    "# 将类别参数转换为数字表示，然后绘制折线图\n",
    "\n",
    "max_features_values = [params['max_features'] for params in params_list]\n",
    "unique_features = list(set(max_features_values))\n",
    "feature_to_num = {feature: idx for idx, feature in enumerate(unique_features)}\n",
    "\n",
    "# 将max_features值转换为数字\n",
    "max_features_numeric = [feature_to_num[feature] for feature in max_features_values]\n",
    "\n",
    "# 绘制折线图\n",
    "plt.figure(figsize=(14, 8))\n",
    "\n",
    "plt.plot(iterations, max_features_numeric, label='max_features', marker='o')\n",
    "plt.yticks(list(feature_to_num.values()), list(feature_to_num.keys()))\n",
    "\n",
    "plt.xlabel('Iteration')\n",
    "plt.ylabel('max_features')\n",
    "plt.title('max_features Evolution during Bayes Optimization')\n",
    "plt.grid(True)\n",
    "plt.show()\n"
   ],
   "metadata": {
    "collapsed": false
   },
   "id": "dafd3995549e8d12",
   "outputs": [],
   "execution_count": null
  },
  {
   "cell_type": "code",
   "source": [
    "# 2. 准备非数值类型参数的数据\n",
    "max_features_values = [params['max_features'] for params in params_list]\n",
    "unique_features = list(set(max_features_values))\n",
    "feature_to_num = {feature: idx for idx, feature in enumerate(unique_features)}\n",
    "\n",
    "# 将 max_features 值转换为数字\n",
    "max_features_numeric = [feature_to_num[feature] for feature in max_features_values]\n",
    "\n",
    "# 3. 绘制图表\n",
    "fig, axs = plt.subplots(3, 1, figsize=(14, 18))\n",
    "\n",
    "# 绘制数值参数的折线图\n",
    "axs[0].plot(iterations, max_depth_values, label='max_depth', marker='o')\n",
    "axs[0].plot(iterations, min_samples_leaf_values, label='min_samples_leaf', marker='o')\n",
    "axs[0].plot(iterations, min_samples_split_values, label='min_samples_split', marker='o')\n",
    "axs[0].plot(iterations, n_estimators_values, label='n_estimators', marker='o')\n",
    "\n",
    "axs[0].set_xlabel('Iteration')\n",
    "axs[0].set_ylabel('Parameter Value')\n",
    "axs[0].set_title('Hyperparameter Evolution during Bayes Optimization')\n",
    "axs[0].legend()\n",
    "axs[0].grid(True)\n",
    "\n",
    "# 绘制MSE和MAE的柱状图\n",
    "bar_width = 0.35\n",
    "index = np.arange(len(metrics['mse']))\n",
    "\n",
    "axs[1].bar(index, metrics['mse'], bar_width, label='MSE', alpha=0.7)\n",
    "axs[1].bar(index + bar_width, metrics['mae'], bar_width, label='MAE', alpha=0.7)\n",
    "\n",
    "axs[1].set_xlabel('Iteration')\n",
    "axs[1].set_ylabel('Metric Value')\n",
    "axs[1].set_title('MSE and MAE during Bayes Optimization')\n",
    "axs[1].legend()\n",
    "axs[1].grid(True)\n",
    "\n",
    "# 绘制非数值类型参数的折线图\n",
    "axs[2].plot(iterations, max_features_numeric, label='max_features', marker='o')\n",
    "axs[2].set_yticks(list(feature_to_num.values()))\n",
    "axs[2].set_yticklabels(list(feature_to_num.keys()))\n",
    "\n",
    "axs[2].set_xlabel('Iteration')\n",
    "axs[2].set_ylabel('max_features')\n",
    "axs[2].set_title('max_features Evolution during Bayes Optimization')\n",
    "axs[2].grid(True)\n",
    "\n",
    "# 调整布局\n",
    "plt.tight_layout()\n",
    "plt.show()\n"
   ],
   "metadata": {
    "collapsed": false
   },
   "id": "a5c5055b277e7e43",
   "outputs": [],
   "execution_count": null
  },
  {
   "cell_type": "code",
   "source": [
    "# 2. 创建图表\n",
    "fig, ax1 = plt.subplots(figsize=(14, 8))\n",
    "\n",
    "# 绘制数值参数的折线图（左侧y轴）\n",
    "ax1.plot(iterations, max_depth_values, label='max_depth', marker='o')\n",
    "ax1.plot(iterations, min_samples_leaf_values, label='min_samples_leaf', marker='o')\n",
    "ax1.plot(iterations, min_samples_split_values, label='min_samples_split', marker='o')\n",
    "ax1.plot(iterations, n_estimators_values, label='n_estimators', marker='o')\n",
    "\n",
    "ax1.set_xlabel('Iteration')\n",
    "ax1.set_ylabel('Parameter Value')\n",
    "ax1.set_title('Hyperparameter Evolution and Metrics during Bayes Optimization')\n",
    "ax1.legend(loc='upper left')\n",
    "ax1.grid(True)\n",
    "\n",
    "# 创建右侧的y轴，用于绘制柱状图\n",
    "ax2 = ax1.twinx()\n",
    "\n",
    "# 绘制MSE和MAE的柱状图（右侧y轴）\n",
    "bar_width = 0.35\n",
    "index = np.arange(len(metrics['mse']))\n",
    "\n",
    "ax2.bar(index - bar_width/2, metrics['mse'], bar_width, label='MSE', alpha=0.7)\n",
    "ax2.bar(index + bar_width/2, metrics['mae'], bar_width, label='MAE', alpha=0.7)\n",
    "\n",
    "ax2.set_ylabel('Metric Value')\n",
    "ax2.legend(loc='upper right')\n",
    "\n",
    "plt.show()"
   ],
   "metadata": {
    "collapsed": false
   },
   "id": "84e3f6e3813c5dfd",
   "outputs": [],
   "execution_count": null
  },
  {
   "metadata": {},
   "cell_type": "code",
   "source": "best_metrics_results = []",
   "id": "fc0eb41f59bde750",
   "outputs": [],
   "execution_count": null
  },
  {
   "cell_type": "code",
   "source": [
    "# 使用最佳参数进行后续三次训练\n",
    "for i in range(1, 4):\n",
    "    print(f\"Applying optimized parameters to model {i+1}/4\")\n",
    "\n",
    "    # 设置模型参数为最佳参数\n",
    "    model.set_params(**best_params)\n",
    "\n",
    "    # 进行模型训练\n",
    "    model.fit(X, Y[:, i])\n",
    "\n",
    "    # 进行预测并计算评估指标\n",
    "    y_pred = model.predict(X)\n",
    "    mse = mean_squared_error(Y[:, i], y_pred)\n",
    "    r2 = r2_score(Y[:, i], y_pred)\n",
    "    mae = mean_absolute_error(Y[:, i], y_pred)\n",
    "\n",
    "    # 将结果存储\n",
    "    result = {\n",
    "        'mse_scores': [mse],\n",
    "        'r2_scores': [r2],\n",
    "        'mae_scores': [mae],\n",
    "    }\n",
    "    # all_results.append((result, best_params))\n",
    "    best_metrics_results.append(result)\n",
    "\n",
    "    # 获取特征重要性\n",
    "    importance_matrix[:, i] = model.feature_importances_"
   ],
   "metadata": {
    "collapsed": false
   },
   "id": "4b34f82b549f873d",
   "outputs": [],
   "execution_count": null
  },
  {
   "cell_type": "code",
   "source": [
    "best_metrics_results"
   ],
   "metadata": {
    "collapsed": false
   },
   "id": "4c0c2058a560e22c",
   "outputs": [],
   "execution_count": null
  },
  {
   "cell_type": "code",
   "source": [
    "# 1. 拼接数据\n",
    "all_mse_scores = [best_result_1[0]['mse']] + [result['mse_scores'][0] for result in best_metrics_results]\n",
    "all_r2_scores = [best_result_1[0]['r2']] + [result['r2_scores'][0] for result in best_metrics_results]\n",
    "all_mae_scores = [best_result_1[0]['mae']] + [result['mae_scores'][0] for result in best_metrics_results]\n"
   ],
   "metadata": {
    "collapsed": false
   },
   "id": "7d60ce1f9fad885f",
   "outputs": [],
   "execution_count": null
  },
  {
   "metadata": {},
   "cell_type": "code",
   "source": "all_mse_scores",
   "id": "780e2021324ab08e",
   "outputs": [],
   "execution_count": null
  },
  {
   "cell_type": "code",
   "source": [
    "# 2. 绘制图表\n",
    "fig, ax1 = plt.subplots(figsize=(14, 8))\n",
    "\n",
    "iterations = np.arange(1, 5)  # 4个模型的编号\n",
    "\n",
    "# 绘制MSE和MAE的柱状图（左侧y轴）\n",
    "bar_width = 0.3\n",
    "\n",
    "ax1.bar(iterations - bar_width/2, all_mse_scores, bar_width, label='MSE', alpha=0.7)\n",
    "ax1.bar(iterations + bar_width/2, all_mae_scores, bar_width, label='MAE', alpha=0.7)\n",
    "\n",
    "ax1.set_xlabel('Model')\n",
    "ax1.set_ylabel('Metric Value (MSE/MAE)')\n",
    "ax1.set_title('Performance of Four Models')\n",
    "ax1.legend(loc='upper left')\n",
    "ax1.grid(True)\n",
    "\n",
    "# 创建右侧的y轴，用于绘制R²的折线图\n",
    "ax2 = ax1.twinx()\n",
    "\n",
    "ax2.plot(iterations, all_r2_scores, label='R²', marker='o', color='green')\n",
    "\n",
    "ax2.set_ylabel('R² Value')\n",
    "ax2.legend(loc='upper right')\n",
    "\n",
    "plt.xticks(iterations, [f'Model {i}' for i in iterations])  # 设置x轴刻度标签为Model 1, Model 2, Model 3, Model 4\n",
    "plt.show()"
   ],
   "metadata": {
    "collapsed": false
   },
   "id": "a3b76834e4f779e2",
   "outputs": [],
   "execution_count": null
  },
  {
   "cell_type": "code",
   "source": [
    "importance_matrix"
   ],
   "metadata": {
    "collapsed": false
   },
   "id": "9deffb6027c99fec",
   "outputs": [],
   "execution_count": null
  },
  {
   "cell_type": "code",
   "source": [
    "# 将特征重要性结果转化为DataFrame\n",
    "importance_df = pd.DataFrame(importance_matrix,\n",
    "                             columns=['Dew Point (°C)', 'Air Temperature (°C)', 'Relative Humidity (%)', 'Wind Speed (kn)'],\n",
    "                             index=['建筑物高度', '建筑物密度', '树冠高度', '叶面积指数', '地形数据'])\n",
    "\n",
    "print(\"Feature Importances:\")\n",
    "importance_df"
   ],
   "metadata": {
    "collapsed": false
   },
   "id": "4ecc8fc38a10606e",
   "outputs": [],
   "execution_count": null
  },
  {
   "metadata": {},
   "cell_type": "code",
   "source": [
    "# 特征名称\n",
    "feature_names = ['BH', 'BV', 'CHM', 'LAI', 'DEM']\n",
    "\n",
    "# 目标变量名称\n",
    "target_names = ['Dew Point (°C)', 'Air Temperature (°C)', 'Relative Humidity (%)', 'Wind Speed (kn)']\n",
    "\n",
    "# 绘制堆积柱状图\n",
    "fig, ax = plt.subplots(figsize=(10, 6))\n",
    "\n",
    "# 每一列表示一个目标变量的贡献\n",
    "for i, row in enumerate(importance_matrix):\n",
    "    ax.bar(target_names, row, bottom=np.sum(importance_matrix[:i], axis=0), label=feature_names[i])\n",
    "\n",
    "ax.set_xlabel('Target Variables')\n",
    "ax.set_ylabel('Contribution to Each Target')\n",
    "ax.set_title('Feature Contributions to Each Target Variable')\n",
    "ax.legend(title=\"Features\")\n",
    "plt.show()"
   ],
   "id": "77974a776406499c",
   "outputs": [],
   "execution_count": null
  },
  {
   "metadata": {},
   "cell_type": "markdown",
   "source": "# 每层都进行超参数调整",
   "id": "80d51499cc1b1eb1"
  },
  {
   "metadata": {
    "ExecuteTime": {
     "end_time": "2024-08-17T17:11:02.384229Z",
     "start_time": "2024-08-17T17:11:02.379722Z"
    }
   },
   "cell_type": "code",
   "source": "X.shape, Y.shape",
   "id": "f2099ac45990800a",
   "outputs": [
    {
     "data": {
      "text/plain": [
       "((160000, 5), (160000, 4))"
      ]
     },
     "execution_count": 30,
     "metadata": {},
     "output_type": "execute_result"
    }
   ],
   "execution_count": 30
  },
  {
   "metadata": {},
   "cell_type": "code",
   "outputs": [],
   "execution_count": null,
   "source": [
    "# 定义进度条回调函数\n",
    "class TqdmProgressCallback:\n",
    "    def __init__(self, total_iterations, model_idx):\n",
    "        self.pbar = tqdm(total=total_iterations, desc=f\"Optimizing Model {model_idx+1}\")\n",
    "\n",
    "    def __call__(self, result):\n",
    "        self.pbar.update(1)\n",
    "\n",
    "    def close(self):\n",
    "        self.pbar.close()"
   ],
   "id": "8137b825facacb50"
  },
  {
   "metadata": {},
   "cell_type": "code",
   "outputs": [],
   "execution_count": null,
   "source": [
    "# 定义随机森林的超参数搜索空间\n",
    "search_space = {\n",
    "    'n_estimators': Integer(100, 300),  # 决策树数量\n",
    "    'max_depth': Integer(10, 30),  # 最大深度\n",
    "    'max_features': Categorical(['sqrt', 'log2', None]), # 最大特征数，None表示使用所有特征\n",
    "    'min_samples_split': Integer(2, 10),  # 最小分裂样本数\n",
    "    'min_samples_leaf': Integer(1, 4),  # 最小叶子节点样本数\n",
    "    # 'bootstrap': Categorical([True])  # 由于袋外估计必须使用自助采样法，因此固定其值\n",
    "}"
   ],
   "id": "a9b3f296ee283f64"
  },
  {
   "metadata": {
    "ExecuteTime": {
     "end_time": "2024-08-17T17:11:02.941545Z",
     "start_time": "2024-08-17T17:11:02.937894Z"
    }
   },
   "cell_type": "code",
   "source": [
    "# 对每一层Y都进行超参数优化，并记录相应数据\n",
    "\n",
    "best_params_list = []\n",
    "best_metrics_list = []\n",
    "importance_matrices = np.zeros((X_reshaped.shape[1], Y_reshaped.shape[1]))\n",
    "\n",
    "n_iter = 10  # 迭代次数\n"
   ],
   "id": "a870b22f55ee039b",
   "outputs": [],
   "execution_count": 31
  },
  {
   "metadata": {},
   "cell_type": "code",
   "outputs": [],
   "execution_count": null,
   "source": [
    "scoring = {\n",
    "    'mse': 'neg_mean_squared_error',  # Mean Squared Error 均方误差\n",
    "    'r2': 'r2',  # R² Coefficient of Determination 决定系数\n",
    "    'mae': 'neg_mean_absolute_error',  # Mean Absolute Error 平均绝对误差\n",
    "}"
   ],
   "id": "ef2273bd4052226c"
  },
  {
   "metadata": {
    "ExecuteTime": {
     "end_time": "2024-08-17T17:11:03.945185Z",
     "start_time": "2024-08-17T17:11:03.941656Z"
    }
   },
   "cell_type": "code",
   "source": [
    "def get_best_metrics(bayes_search, best_params):\n",
    "    \"\"\"获取最佳参数对应的评价指标\"\"\"\n",
    "    best_iteration = None\n",
    "    for idx, params in enumerate(bayes_search.cv_results_['params']):\n",
    "        if params == best_params:\n",
    "            best_iteration = idx\n",
    "            break\n",
    "    if best_iteration is not None:\n",
    "        return {\n",
    "            'mse': -bayes_search.cv_results_['mean_test_mse'][best_iteration],\n",
    "            'r2': bayes_search.cv_results_['mean_test_r2'][best_iteration],\n",
    "            'mae': -bayes_search.cv_results_['mean_test_mae'][best_iteration],\n",
    "        }\n",
    "    return None"
   ],
   "id": "509ecf5c724b2016",
   "outputs": [],
   "execution_count": 32
  },
  {
   "metadata": {
    "ExecuteTime": {
     "end_time": "2024-08-17T17:11:05.756205Z",
     "start_time": "2024-08-17T17:11:05.752613Z"
    }
   },
   "cell_type": "code",
   "source": [
    "def TrainRandomForestModel(X, Y, bayes_search, index):\n",
    "    print(f\"Optimizing model for Y[:, {index}]\")\n",
    "    \n",
    "    # 定义进度条\n",
    "    progress_callback = TqdmProgressCallback(total_iterations=n_iter, model_idx=index)\n",
    "\n",
    "    # 执行贝叶斯优化\n",
    "    print(f\"----------Start optimizing model for Y[:, {index}]----------\")\n",
    "    bayes_search.fit(X, Y[:, index], callback=[progress_callback])\n",
    "    print(f\"----------Finish optimizing model for Y[:, {index}]----------\")\n",
    "\n",
    "    # 获取最佳参数\n",
    "    best_params = bayes_search.best_params_\n",
    "    best_params_list.append(best_params)\n",
    "\n",
    "    # 计算最佳参数对应的评价指标\n",
    "    best_metrics = get_best_metrics(bayes_search, best_params)\n",
    "    if best_metrics:\n",
    "        best_metrics_list.append(best_metrics)\n",
    "\n",
    "    importance_matrices[:, index] = bayes_search.best_estimator_.feature_importances_\n",
    "    progress_callback.close()\n"
   ],
   "id": "47650a39e27d6bf0",
   "outputs": [],
   "execution_count": 33
  },
  {
   "metadata": {},
   "cell_type": "code",
   "outputs": [],
   "execution_count": null,
   "source": [
    "model_DP = RandomForestRegressor(random_state=42, oob_score=True)\n",
    "model_AT = RandomForestRegressor(random_state=42, oob_score=True)\n",
    "model_RH = RandomForestRegressor(random_state=42, oob_score=True)\n",
    "model_WS = RandomForestRegressor(random_state=42, oob_score=True)"
   ],
   "id": "3c8defd423e924d0"
  },
  {
   "metadata": {},
   "cell_type": "code",
   "outputs": [],
   "execution_count": null,
   "source": [
    "# 使用贝叶斯优化进行超参数搜索\n",
    "bayes_search = BayesSearchCV(\n",
    "    estimator=model,\n",
    "    search_spaces=search_space,\n",
    "    n_iter=n_iter,  # 迭代次数\n",
    "    cv=5,  # 5 折交叉验证\n",
    "    n_jobs=-1,  # 使用所有可用的核\n",
    "    verbose=0,  # 显示详细信息\n",
    "    scoring=scoring, # 评分标准\n",
    "    refit='r2' # 使用r2作为评分, 这样scoring里的值都会被计算和储存，但是只使用mse作为优化标准\n",
    ")"
   ],
   "id": "5731e60af1a44153"
  },
  {
   "metadata": {
    "ExecuteTime": {
     "end_time": "2024-08-17T17:11:06.658350Z",
     "start_time": "2024-08-17T17:11:06.631321Z"
    }
   },
   "cell_type": "code",
   "source": "TrainRandomForestModel(X, Y, 0)",
   "id": "b52cc292c1f1842e",
   "outputs": [
    {
     "name": "stdout",
     "output_type": "stream",
     "text": [
      "Optimizing model for Y[:, 0]\n"
     ]
    },
    {
     "ename": "NameError",
     "evalue": "name 'n_iter' is not defined",
     "output_type": "error",
     "traceback": [
      "\u001B[1;31m---------------------------------------------------------------------------\u001B[0m",
      "\u001B[1;31mNameError\u001B[0m                                 Traceback (most recent call last)",
      "Cell \u001B[1;32mIn[34], line 1\u001B[0m\n\u001B[1;32m----> 1\u001B[0m TrainRandomForestModel(X, Y, \u001B[38;5;241m0\u001B[39m)\n",
      "Cell \u001B[1;32mIn[33], line 5\u001B[0m, in \u001B[0;36mTrainRandomForestModel\u001B[1;34m(X, Y, index)\u001B[0m\n\u001B[0;32m      2\u001B[0m \u001B[38;5;28mprint\u001B[39m(\u001B[38;5;124mf\u001B[39m\u001B[38;5;124m\"\u001B[39m\u001B[38;5;124mOptimizing model for Y[:, \u001B[39m\u001B[38;5;132;01m{\u001B[39;00mindex\u001B[38;5;132;01m}\u001B[39;00m\u001B[38;5;124m]\u001B[39m\u001B[38;5;124m\"\u001B[39m)\n\u001B[0;32m      4\u001B[0m \u001B[38;5;66;03m# 定义进度条\u001B[39;00m\n\u001B[1;32m----> 5\u001B[0m progress_callback \u001B[38;5;241m=\u001B[39m TqdmProgressCallback(total_iterations\u001B[38;5;241m=\u001B[39mn_iter, model_idx\u001B[38;5;241m=\u001B[39mindex)\n\u001B[0;32m      7\u001B[0m \u001B[38;5;66;03m# 执行贝叶斯优化\u001B[39;00m\n\u001B[0;32m      8\u001B[0m \u001B[38;5;28mprint\u001B[39m(\u001B[38;5;124mf\u001B[39m\u001B[38;5;124m\"\u001B[39m\u001B[38;5;124m----------Start optimizing model for Y[:, \u001B[39m\u001B[38;5;132;01m{\u001B[39;00mindex\u001B[38;5;132;01m}\u001B[39;00m\u001B[38;5;124m]----------\u001B[39m\u001B[38;5;124m\"\u001B[39m)\n",
      "\u001B[1;31mNameError\u001B[0m: name 'n_iter' is not defined"
     ]
    }
   ],
   "execution_count": 34
  },
  {
   "metadata": {},
   "cell_type": "code",
   "source": "TrainRandomForestModel(X, Y, 1)",
   "id": "ce49902c15bd1db1",
   "outputs": [],
   "execution_count": null
  },
  {
   "metadata": {},
   "cell_type": "code",
   "source": "TrainRandomForestModel(X, Y, 2)",
   "id": "8009b31dafcef99c",
   "outputs": [],
   "execution_count": null
  },
  {
   "metadata": {},
   "cell_type": "code",
   "source": "TrainRandomForestModel(X, Y, 3)",
   "id": "1356532b32cbb049",
   "outputs": [],
   "execution_count": null
  },
  {
   "metadata": {},
   "cell_type": "code",
   "source": [
    "# 保存结果\n",
    "import pickle\n",
    "\n",
    "with open('Results/RF_HP_best_params_list_r2.pkl', 'wb') as f:\n",
    "    pickle.dump(best_params_list, f)\n",
    "    \n",
    "with open('Results/RF_HP_best_metrics_list_r2.pkl', 'wb') as f:\n",
    "    pickle.dump(best_metrics_list, f)\n",
    "    \n",
    "with open('Results/RF_HP_importance_matrices_r2.pkl', 'wb') as f:\n",
    "    pickle.dump(importance_matrices, f)\n",
    "    \n",
    "print(\"Results saved successfully!\")\n"
   ],
   "id": "3e38164512e630e3",
   "outputs": [],
   "execution_count": null
  },
  {
   "metadata": {},
   "cell_type": "code",
   "source": [
    "# 打印每一层Y的最佳参数和评价指标\n",
    "for i, (params, metrics) in enumerate(zip(best_params_list, best_metrics_list)):\n",
    "    print(f\"Best parameters for Y[:, {i}]: {params}\")\n",
    "    print(f\"Metrics: MSE={metrics['mse']}, R²={metrics['r2']}, MAE={metrics['mae']}\")\n"
   ],
   "id": "a0023501c4959463",
   "outputs": [],
   "execution_count": null
  },
  {
   "metadata": {},
   "cell_type": "code",
   "source": "best_params_list",
   "id": "fbdb2577abf9c161",
   "outputs": [],
   "execution_count": null
  },
  {
   "metadata": {},
   "cell_type": "code",
   "source": "best_metrics_list",
   "id": "42629b75b3e9f652",
   "outputs": [],
   "execution_count": null
  },
  {
   "metadata": {},
   "cell_type": "code",
   "source": [
    "mse_scores = [metrics['mse'] for metrics in best_metrics_list]\n",
    "r2_scores = [metrics['r2'] for metrics in best_metrics_list]\n",
    "mae_scores = [metrics['mae'] for metrics in best_metrics_list]"
   ],
   "id": "73b31d01fe01c463",
   "outputs": [],
   "execution_count": null
  },
  {
   "metadata": {},
   "cell_type": "code",
   "source": [
    "labels = ['Air Temperature (°C)', 'Dew Point (°C)', 'Relative Humidity (%)', 'Wind Speed (kn)']\n",
    "\n",
    "x = np.arange(len(labels))  # 标签的位置\n",
    "width = 0.25  # 柱状图的宽度\n",
    "\n",
    "fig, ax = plt.subplots(figsize=(10, 6))\n",
    "\n",
    "# 绘制柱状图\n",
    "rects1 = ax.bar(x - width, mse_scores, width, label='MSE')\n",
    "rects2 = ax.bar(x, r2_scores, width, label='R²')\n",
    "rects3 = ax.bar(x + width, mae_scores, width, label='MAE')\n",
    "\n",
    "# 添加文本标签\n",
    "ax.set_xlabel('Target Variables')\n",
    "ax.set_title('Model Performance Comparison')\n",
    "ax.set_xticks(x)\n",
    "ax.set_xticklabels(labels)\n",
    "ax.legend()\n",
    "\n",
    "# 显示数值\n",
    "def autolabel(rects):\n",
    "    \"\"\"在每个条形图顶部显示数值\"\"\"\n",
    "    for rect in rects:\n",
    "        height = rect.get_height()\n",
    "        ax.annotate(f'{height:.4f}',\n",
    "                    xy=(rect.get_x() + rect.get_width() / 2, height),\n",
    "                    xytext=(0, 3),  # 3 points vertical offset\n",
    "                    textcoords=\"offset points\",\n",
    "                    ha='center', va='bottom')\n",
    "\n",
    "autolabel(rects1)\n",
    "autolabel(rects2)\n",
    "autolabel(rects3)\n",
    "\n",
    "plt.show()"
   ],
   "id": "dd0eb841ca92f72f",
   "outputs": [],
   "execution_count": null
  },
  {
   "metadata": {},
   "cell_type": "code",
   "source": [
    "from math import pi\n",
    "\n",
    "# 数据准备\n",
    "categories = ['MSE', 'R²', 'MAE']\n",
    "num_vars = len(categories)\n",
    "\n",
    "mse_scores_normalized = (mse_scores - np.min(mse_scores)) / (np.max(mse_scores) - np.min(mse_scores))\n",
    "r2_scores_normalized = (r2_scores - np.min(r2_scores)) / (np.max(r2_scores) - np.min(r2_scores))\n",
    "mae_scores_normalized = (mae_scores - np.min(mae_scores)) / (np.max(mae_scores) - np.min(mae_scores))\n",
    "\n",
    "data = [mse_scores_normalized, r2_scores_normalized, mae_scores_normalized]\n",
    "labels = ['Y[:, 0]', 'Y[:, 1]', 'Y[:, 2]', 'Y[:, 3]']\n",
    "\n",
    "# 角度和布局\n",
    "angles = [n / float(num_vars) * 2 * pi for n in range(num_vars)]\n",
    "angles += angles[:1]\n",
    "\n",
    "fig, ax = plt.subplots(figsize=(8, 8), subplot_kw=dict(polar=True))\n",
    "\n",
    "# 绘制每一个雷达图\n",
    "for i in range(len(labels)):\n",
    "    values = data[i] + data[i][:1]\n",
    "    ax.plot(angles, values, linewidth=2, linestyle='solid', label=labels[i])\n",
    "    ax.fill(angles, values, alpha=0.25)\n",
    "\n",
    "ax.set_theta_offset(pi / 2)\n",
    "ax.set_theta_direction(-1)\n",
    "ax.set_thetagrids([angle * 180/pi for angle in angles[:-1]], categories)\n",
    "\n",
    "plt.title('Comparison of Model Performance Metrics')\n",
    "plt.legend(loc='upper right', bbox_to_anchor=(0.1, 0.1))\n",
    "plt.show()"
   ],
   "id": "a36453223432750e",
   "outputs": [],
   "execution_count": null
  },
  {
   "metadata": {},
   "cell_type": "code",
   "source": [
    "from math import pi\n",
    "import matplotlib.pyplot as plt\n",
    "\n",
    "# 数据准备：确保每个列表包含与目标变量数量相对应的项\n",
    "categories = ['MSE', 'R²', 'MAE']\n",
    "num_vars = len(categories)\n",
    "\n",
    "# 这里我们假设数据已经标准化为 [0, 1] 区间内，以便在雷达图上绘制\n",
    "mse_scores_normalized = (mse_scores - np.min(mse_scores)) / (np.max(mse_scores) - np.min(mse_scores))\n",
    "r2_scores_normalized = (r2_scores - np.min(r2_scores)) / (np.max(r2_scores) - np.min(r2_scores))\n",
    "mae_scores_normalized = (mae_scores - np.min(mae_scores)) / (np.max(mae_scores) - np.min(mae_scores))\n",
    "\n",
    "data = [\n",
    "    [mse_scores_normalized[0], r2_scores_normalized[0], mae_scores_normalized[0]],\n",
    "    [mse_scores_normalized[1], r2_scores_normalized[1], mae_scores_normalized[1]],\n",
    "    [mse_scores_normalized[2], r2_scores_normalized[2], mae_scores_normalized[2]],\n",
    "    [mse_scores_normalized[3], r2_scores_normalized[3], mae_scores_normalized[3]],\n",
    "]\n",
    "\n",
    "labels = ['Dew Point (°C)', 'Air Temperature (°C)', 'Relative Humidity (%)', 'Wind Speed (kn)']\n",
    "\n",
    "# 角度和布局\n",
    "angles = [n / float(num_vars) * 2 * pi for n in range(num_vars)]\n",
    "angles += angles[:1]  # 将第一个角度加到最后，用于闭合图形\n",
    "\n",
    "fig, ax = plt.subplots(figsize=(8, 8), subplot_kw=dict(polar=True))\n",
    "\n",
    "# 绘制每一个雷达图\n",
    "for i in range(len(labels)):\n",
    "    values = data[i] + data[i][:1]  # 闭合图形\n",
    "    ax.plot(angles, values, linewidth=2, linestyle='solid', label=labels[i])\n",
    "    ax.fill(angles, values, alpha=0.25)\n",
    "\n",
    "ax.set_theta_offset(pi / 2)\n",
    "ax.set_theta_direction(-1)\n",
    "ax.set_thetagrids([angle * 180/pi for angle in angles[:-1]], categories)\n",
    "\n",
    "plt.title('Comparison of Model Performance Metrics')\n",
    "plt.legend(loc='upper right', bbox_to_anchor=(0.1, 0.1))\n",
    "plt.show()\n"
   ],
   "id": "dc52093bce3e16c4",
   "outputs": [],
   "execution_count": null
  },
  {
   "metadata": {},
   "cell_type": "code",
   "source": [
    "# 绘制每层Y的评价指标柱状图\n",
    "all_mse_scores = [metrics['mse'] for metrics in best_metrics_list]\n",
    "all_r2_scores = [metrics['r2'] for metrics in best_metrics_list]\n",
    "all_mae_scores = [metrics['mae'] for metrics in best_metrics_list]\n",
    "\n",
    "fig, ax1 = plt.subplots(figsize=(14, 8))\n",
    "\n",
    "iterations = np.arange(1, Y.shape[1] + 1)  # 根据Y的列数生成模型编号\n",
    "\n",
    "# 绘制MSE和MAE的柱状图（左侧y轴）\n",
    "bar_width = 0.3\n",
    "\n",
    "ax1.bar(iterations - bar_width/2, all_mse_scores, bar_width, label='MSE', alpha=0.7)\n",
    "ax1.bar(iterations + bar_width/2, all_mae_scores, bar_width, label='MAE', alpha=0.7)\n",
    "\n",
    "ax1.set_xlabel('Model')\n",
    "ax1.set_ylabel('Metric Value (MSE/MAE)')\n",
    "ax1.set_title('Performance of Optimized Models for Each Y Layer')\n",
    "ax1.legend(loc='upper left')\n",
    "ax1.grid(True)\n",
    "\n",
    "# 创建右侧的y轴，用于绘制R²的折线图\n",
    "ax2 = ax1.twinx()\n",
    "\n",
    "ax2.plot(iterations, all_r2_scores, label='R²', marker='o', color='green')\n",
    "\n",
    "ax2.set_ylabel('R² Value')\n",
    "ax2.legend(loc='upper right')\n",
    "\n",
    "plt.xticks(iterations, [f'Y[:, {i}]' for i in range(Y.shape[1])])  # 设置x轴刻度标签为Y[:, 0], Y[:, 1], ...\n",
    "plt.show()\n"
   ],
   "id": "9d8c703f2f2142a7",
   "outputs": [],
   "execution_count": null
  },
  {
   "metadata": {},
   "cell_type": "code",
   "source": [
    "# 将特征重要性结果转化为DataFrame\n",
    "importance_df = pd.DataFrame(importance_matrices,\n",
    "                             columns=[f'Y[:, {i}]' for i in range(Y.shape[1])],\n",
    "                             index=['建筑物高度', '建筑物密度', '树冠高度', '叶面积指数', '地形数据'])\n",
    "\n",
    "print(\"Feature Importances:\")\n",
    "importance_df\n"
   ],
   "id": "32ea958daec176b",
   "outputs": [],
   "execution_count": null
  },
  {
   "cell_type": "code",
   "source": [
    "# import matplotlib.pyplot as plt\n",
    "# \n",
    "# # 定义要绘制的超参数名称\n",
    "# param_names = list(search_space.keys())\n",
    "# colors = ['r', 'g', 'b', 'm']  # 4个模型的颜色\n",
    "# \n",
    "# # 遍历每个超参数\n",
    "# for param_name in param_names:\n",
    "#     plt.figure(figsize=(10, 6))\n",
    "# \n",
    "#     # 对于每个模型，获取其参数历史，并绘制在同一张图上\n",
    "#     for i in range(4):\n",
    "#         # 获取当前模型对应的参数历史\n",
    "#         params_history = []\n",
    "#         for best_index in range(len(all_results[i][0]['mse_scores'])):\n",
    "#             params_history.append(bayes_search.cv_results_['params'][best_index])\n",
    "# \n",
    "#         param_values = [params[param_name] for params in params_history]\n",
    "# \n",
    "#         if isinstance(search_space[param_name], Categorical):\n",
    "#             # 如果超参数是类别类型，绘制类别标签\n",
    "#             unique_categories = list(set(param_values))\n",
    "#             category_to_num = {category: num for num, category in enumerate(unique_categories)}\n",
    "#             num_values = [category_to_num[val] for val in param_values]\n",
    "#             plt.plot(range(len(num_values)), num_values, marker='o', color=colors[i], label=f'Model {i+1}')\n",
    "#             plt.yticks(list(category_to_num.values()), list(category_to_num.keys()))\n",
    "#         else:\n",
    "#             # 如果是数值类型，直接绘制\n",
    "#             plt.plot(range(len(param_values)), param_values, marker='o', color=colors[i], label=f'Model {i+1}')\n",
    "# \n",
    "#     plt.title(f'{param_name} evolution during Bayes Optimization')\n",
    "#     plt.xlabel('Iteration')\n",
    "#     plt.ylabel(param_name)\n",
    "#     plt.legend()  # 显示图例\n",
    "#     plt.grid(True)\n",
    "#     plt.show()\n"
   ],
   "metadata": {
    "collapsed": false
   },
   "id": "7d977e4477971554",
   "outputs": [],
   "execution_count": null
  },
  {
   "cell_type": "code",
   "source": [
    "# import matplotlib.pyplot as plt\n",
    "# \n",
    "# # 定义评估指标和对应的键\n",
    "# metrics = ['MSE', 'R²', 'MAE']\n",
    "# metric_keys = ['mse_scores', 'r2_scores', 'mae_scores']\n",
    "# \n",
    "# # 创建一个包含多个子图的图表\n",
    "# fig, axs = plt.subplots(len(metrics), 1, figsize=(14, 8 * len(metrics)))\n",
    "# \n",
    "# # 遍历每个评估指标并绘制子图\n",
    "# for idx, (metric_name, metric_key) in enumerate(zip(metrics, metric_keys)):\n",
    "#     for i, (result, _) in enumerate(all_results):\n",
    "#         axs[idx].plot(range(len(result[metric_key])), result[metric_key], label=f'Model {i+1}', marker='o')\n",
    "# \n",
    "#     axs[idx].set_title(f'{metric_name} evolution during Bayes Optimization')\n",
    "#     axs[idx].set_xlabel('Iteration')\n",
    "#     axs[idx].set_ylabel(metric_name)\n",
    "#     axs[idx].legend()\n",
    "#     axs[idx].grid(True)\n",
    "# \n",
    "# # 自动调整子图布局，避免重叠\n",
    "# plt.tight_layout()\n",
    "# \n",
    "# # 显示图表\n",
    "# plt.show()\n"
   ],
   "metadata": {
    "collapsed": false
   },
   "id": "b3deb671ce3ed9db",
   "outputs": [],
   "execution_count": null
  },
  {
   "cell_type": "code",
   "source": [
    "# # 初始化用于存储参数和评估指标的列表\n",
    "# params_list = []\n",
    "# metrics_list = []\n",
    "# \n",
    "# # 遍历每个模型的结果\n",
    "# for i, (result, best_params) in enumerate(all_results):\n",
    "#     # 将最佳参数保存到 params_list 中\n",
    "#     best_params['Model'] = f'Model {i+1}'\n",
    "#     params_list.append(best_params)\n",
    "# \n",
    "#     # 将最终的评估指标保存到 metrics_list 中\n",
    "#     metrics = {\n",
    "#         'Model': f'Model {i+1}',\n",
    "#         'MSE': result['mse_scores'][-1],\n",
    "#         'R²': result['r2_scores'][-1],\n",
    "#         'MAE': result['mae_scores'][-1],\n",
    "#     }\n",
    "#     metrics_list.append(metrics)\n",
    "# \n",
    "# # 将参数和评估指标分别转换为 DataFrame\n",
    "# params_df = pd.DataFrame(params_list)\n",
    "# metrics_df = pd.DataFrame(metrics_list)"
   ],
   "metadata": {
    "collapsed": false
   },
   "id": "c7efa42cbcf679a6",
   "outputs": [],
   "execution_count": null
  },
  {
   "cell_type": "code",
   "source": "# params_df",
   "metadata": {
    "collapsed": false
   },
   "id": "338109628feb821a",
   "outputs": [],
   "execution_count": null
  },
  {
   "cell_type": "code",
   "source": "# metrics_df",
   "metadata": {
    "collapsed": false
   },
   "id": "928f410aeb3d5394",
   "outputs": [],
   "execution_count": null
  },
  {
   "cell_type": "code",
   "source": [
    "# %%time\n",
    "# # 开始针对 Y 的四次训练\n",
    "# for i in range(4):\n",
    "#     print(f\"Optimizing model {i+1}/4\")\n",
    "# \n",
    "#     # 在新一轮循环开始前，确保关闭和清理之前的进度条\n",
    "#     if 'progress_callback' in locals():\n",
    "#         progress_callback.close()\n",
    "#         del progress_callback\n",
    "# \n",
    "#     # 实例化进度条回调函数\n",
    "#     # progress_callback = TqdmProgressCallback(total_iterations=n_iter, model_idx=i)\n",
    "#     progress_callback = TqdmTimeProgressCallback(total_iterations=n_iter, model_idx=i)\n",
    "# \n",
    "#     # 开始贝叶斯优化\n",
    "#     print('----------start fit----------')\n",
    "#     bayes_search.fit(X, Y[:, i], callback=[progress_callback])\n",
    "#     print('----------end fit----------')\n",
    "# \n",
    "#     # 显式关闭进度条\n",
    "#     progress_callback.close()\n",
    "# \n",
    "#     # 直接从 cv_results_ 中提取每次迭代的评估指标\n",
    "#     mae_scores = -bayes_search.cv_results_['mean_test_mae']  # 负号是因为贝叶斯优化会尝试最小化评分，但我们想要最大化评分，在优化中实际使用的是neg_mean_squared_error\n",
    "#     r2_scores = -bayes_search.cv_results_['mean_test_r2']\n",
    "#     mse_scores = bayes_search.cv_results_['mean_test_mse']\n",
    "# \n",
    "#     # 将结果存储\n",
    "#     result = {\n",
    "#         'mse_scores': mse_scores,\n",
    "#         'r2_scores': r2_scores,\n",
    "#         'mae_scores': mae_scores,\n",
    "#     }\n",
    "#     all_results.append((result, bayes_search.best_params_))\n",
    "# \n",
    "#     # 获取特征重要性\n",
    "#     importance_matrix[:, i] = bayes_search.best_estimator_.feature_importances_\n",
    "# \n",
    "# # 打印或保存结果\n"
   ],
   "metadata": {
    "collapsed": false
   },
   "id": "400d8bab31122126",
   "outputs": [],
   "execution_count": null
  }
 ],
 "metadata": {
  "kernelspec": {
   "display_name": "Python 3",
   "language": "python",
   "name": "python3"
  },
  "language_info": {
   "codemirror_mode": {
    "name": "ipython",
    "version": 2
   },
   "file_extension": ".py",
   "mimetype": "text/x-python",
   "name": "python",
   "nbconvert_exporter": "python",
   "pygments_lexer": "ipython2",
   "version": "2.7.6"
  }
 },
 "nbformat": 4,
 "nbformat_minor": 5
}
