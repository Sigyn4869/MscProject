{
 "cells": [
  {
   "cell_type": "code",
   "execution_count": 1,
   "id": "initial_id",
   "metadata": {
    "collapsed": true,
    "ExecuteTime": {
     "end_time": "2024-08-14T17:12:28.520651Z",
     "start_time": "2024-08-14T17:12:27.146127Z"
    }
   },
   "outputs": [],
   "source": [
    "import copy\n",
    "\n",
    "import numpy as np\n",
    "import pandas as pd\n",
    "import rasterio\n",
    "from rasterio.windows import from_bounds\n",
    "from sklearn.ensemble import RandomForestRegressor\n",
    "from sklearn.metrics import mean_squared_error, r2_score, mean_absolute_error, mean_absolute_percentage_error\n",
    "from skopt import BayesSearchCV\n",
    "from skopt.space import Categorical, Integer\n",
    "from tqdm import tqdm\n",
    "from matplotlib import pyplot as plt"
   ]
  },
  {
   "cell_type": "code",
   "outputs": [],
   "source": [
    "# 自定义类，用于封装tif文件的操作\n",
    "class TifFile:\n",
    "    def __init__(self, file_path):\n",
    "        self.file_path = file_path\n",
    "        with rasterio.open(self.file_path) as src:\n",
    "            self.data = src.read(1)  # 数值矩阵\n",
    "            self.shape = self.data.shape  # 矩阵大小\n",
    "            self.transform = src.transform  # 坐标变换参数\n",
    "            self.crs = src.crs  # 坐标参考系统\n",
    "            self.bounds = src.bounds  # 边界坐标\n",
    "            self.width = src.width  # 宽度\n",
    "            self.height = src.height  # 高度\n",
    "            self.count = src.count  # 波段数\n",
    "\n",
    "\n",
    "# 文件路径字典\n",
    "file_paths = {\n",
    "    \"GLcBld_Height\": \"datasets/GLcBld_Height.tif\",\n",
    "    \"glcent_CHM\": \"datasets/glcent_CHM.tif\",\n",
    "    \"glcent_DSM\": \"datasets/glcent_DSM.tif\",\n",
    "    \"KernelD_GLcB_new\": \"datasets/KernelD_GLcB_new.tif\",\n",
    "    \"LAI\": \"datasets/LAI.tif\"\n",
    "}\n",
    "\n",
    "# 动态创建TifFile实例并存储为全局变量\n",
    "for variable_name, file_path in file_paths.items():\n",
    "    tif_GLcBld_Height = TifFile('datasets/GLcBld_Height.tif')\n",
    "    tif_glcent_CHM = TifFile('datasets/glcent_CHM.tif')\n",
    "    tif_glcent_DSM = TifFile('datasets/glcent_DSM.tif')\n",
    "    tif_KernelD_GLcB_new = TifFile('datasets/KernelD_GLcB_new.tif')\n",
    "    tif_LAI = TifFile('datasets/LAI.tif')\n"
   ],
   "metadata": {
    "collapsed": false,
    "ExecuteTime": {
     "end_time": "2024-08-14T17:12:28.791212Z",
     "start_time": "2024-08-14T17:12:28.521937Z"
    }
   },
   "id": "edf9766ed65d6cc",
   "execution_count": 2
  },
  {
   "cell_type": "markdown",
   "source": [
    "# 数据信息了解"
   ],
   "metadata": {
    "collapsed": false
   },
   "id": "d8f790e4df0e4c8"
  },
  {
   "cell_type": "code",
   "outputs": [
    {
     "data": {
      "text/plain": "array([[65535, 65535, 65535, ..., 65535, 65535, 65535],\n       [65535, 65535, 65535, ..., 65535, 65535, 65535],\n       [65535, 65535, 65535, ..., 65535, 65535, 65535],\n       ...,\n       [65535, 65535, 65535, ..., 65535, 65535, 65535],\n       [65535, 65535, 65535, ..., 65535, 65535, 65535],\n       [65535, 65535, 65535, ..., 65535, 65535, 65535]], dtype=uint16)"
     },
     "execution_count": 3,
     "metadata": {},
     "output_type": "execute_result"
    }
   ],
   "source": [
    "tif_GLcBld_Height.data"
   ],
   "metadata": {
    "collapsed": false,
    "ExecuteTime": {
     "end_time": "2024-08-14T17:12:28.797158Z",
     "start_time": "2024-08-14T17:12:28.792220Z"
    }
   },
   "id": "795563deb356ed38",
   "execution_count": 3
  },
  {
   "cell_type": "code",
   "outputs": [
    {
     "name": "stdout",
     "output_type": "stream",
     "text": [
      "Value: 65535, Count: 139282\n",
      "Value: 109, Count: 1798\n",
      "Value: 249, Count: 1338\n",
      "Value: 294, Count: 1312\n",
      "Value: 3, Count: 1113\n",
      "Value: 205, Count: 822\n",
      "Value: 342, Count: 698\n",
      "Value: 96, Count: 584\n",
      "Value: 340, Count: 552\n",
      "Value: 154, Count: 534\n",
      "Value: 315, Count: 528\n",
      "Value: 195, Count: 510\n",
      "Value: 232, Count: 497\n",
      "Value: 299, Count: 482\n",
      "Value: 268, Count: 479\n",
      "Value: 233, Count: 473\n",
      "Value: 170, Count: 437\n",
      "Value: 104, Count: 433\n",
      "Value: 110, Count: 421\n",
      "Value: 215, Count: 394\n",
      "Value: 280, Count: 380\n",
      "Value: 75, Count: 376\n",
      "Value: 269, Count: 374\n",
      "Value: 175, Count: 374\n",
      "Value: 210, Count: 370\n",
      "Value: 243, Count: 357\n",
      "Value: 67, Count: 346\n",
      "Value: 40, Count: 345\n",
      "Value: 140, Count: 343\n",
      "Value: 30, Count: 340\n",
      "Value: 333, Count: 339\n",
      "Value: 157, Count: 335\n",
      "Value: 98, Count: 335\n",
      "Value: 139, Count: 331\n",
      "Value: 270, Count: 321\n",
      "Value: 242, Count: 321\n",
      "Value: 145, Count: 319\n",
      "Value: 106, Count: 319\n",
      "Value: 39, Count: 317\n",
      "Value: 63, Count: 315\n",
      "Value: 180, Count: 313\n",
      "Value: 16, Count: 308\n",
      "Value: 244, Count: 305\n",
      "Value: 21, Count: 300\n",
      "Value: 197, Count: 296\n",
      "Value: 56, Count: 295\n",
      "Value: 206, Count: 287\n",
      "Value: 15, Count: 287\n",
      "Value: 24, Count: 270\n",
      "Value: 99, Count: 270\n",
      "Value: 80, Count: 267\n",
      "Value: 255, Count: 267\n",
      "Value: 84, Count: 263\n",
      "Value: 179, Count: 262\n",
      "Value: 62, Count: 262\n",
      "Value: 146, Count: 260\n",
      "Value: 59, Count: 260\n",
      "Value: 220, Count: 257\n",
      "Value: 199, Count: 256\n",
      "Value: 49, Count: 255\n",
      "Value: 122, Count: 253\n",
      "Value: 138, Count: 250\n",
      "Value: 12, Count: 242\n",
      "Value: 191, Count: 241\n",
      "Value: 169, Count: 239\n",
      "Value: 50, Count: 239\n",
      "Value: 229, Count: 237\n",
      "Value: 7, Count: 236\n",
      "Value: 128, Count: 233\n",
      "Value: 273, Count: 231\n",
      "Value: 64, Count: 230\n",
      "Value: 129, Count: 229\n",
      "Value: 187, Count: 227\n",
      "Value: 72, Count: 222\n",
      "Value: 238, Count: 222\n",
      "Value: 298, Count: 218\n",
      "Value: 92, Count: 214\n",
      "Value: 178, Count: 213\n",
      "Value: 261, Count: 213\n",
      "Value: 121, Count: 212\n",
      "Value: 202, Count: 210\n",
      "Value: 53, Count: 210\n",
      "Value: 58, Count: 209\n",
      "Value: 136, Count: 207\n",
      "Value: 216, Count: 205\n",
      "Value: 41, Count: 203\n",
      "Value: 183, Count: 202\n",
      "Value: 19, Count: 202\n",
      "Value: 168, Count: 199\n",
      "Value: 6, Count: 193\n",
      "Value: 213, Count: 191\n",
      "Value: 171, Count: 187\n",
      "Value: 224, Count: 185\n",
      "Value: 310, Count: 182\n",
      "Value: 274, Count: 180\n",
      "Value: 173, Count: 175\n",
      "Value: 185, Count: 175\n",
      "Value: 287, Count: 172\n",
      "Value: 152, Count: 171\n",
      "Value: 241, Count: 169\n",
      "Value: 161, Count: 168\n",
      "Value: 116, Count: 163\n",
      "Value: 31, Count: 162\n",
      "Value: 141, Count: 162\n",
      "Value: 222, Count: 161\n",
      "Value: 93, Count: 160\n",
      "Value: 207, Count: 160\n",
      "Value: 188, Count: 159\n",
      "Value: 18, Count: 159\n",
      "Value: 142, Count: 158\n",
      "Value: 292, Count: 155\n",
      "Value: 79, Count: 155\n",
      "Value: 55, Count: 151\n",
      "Value: 120, Count: 150\n",
      "Value: 107, Count: 150\n",
      "Value: 130, Count: 149\n",
      "Value: 51, Count: 147\n",
      "Value: 103, Count: 147\n",
      "Value: 38, Count: 146\n",
      "Value: 167, Count: 145\n",
      "Value: 219, Count: 143\n",
      "Value: 54, Count: 142\n",
      "Value: 226, Count: 141\n",
      "Value: 42, Count: 140\n",
      "Value: 125, Count: 139\n",
      "Value: 176, Count: 138\n",
      "Value: 231, Count: 137\n",
      "Value: 289, Count: 137\n",
      "Value: 76, Count: 137\n",
      "Value: 194, Count: 136\n",
      "Value: 61, Count: 133\n",
      "Value: 200, Count: 133\n",
      "Value: 259, Count: 132\n",
      "Value: 225, Count: 130\n",
      "Value: 33, Count: 128\n",
      "Value: 97, Count: 127\n",
      "Value: 144, Count: 127\n",
      "Value: 193, Count: 126\n",
      "Value: 43, Count: 126\n",
      "Value: 65, Count: 126\n",
      "Value: 172, Count: 124\n",
      "Value: 245, Count: 124\n",
      "Value: 13, Count: 123\n",
      "Value: 250, Count: 122\n",
      "Value: 132, Count: 122\n",
      "Value: 36, Count: 121\n",
      "Value: 88, Count: 121\n",
      "Value: 35, Count: 120\n",
      "Value: 284, Count: 120\n",
      "Value: 237, Count: 120\n",
      "Value: 235, Count: 119\n",
      "Value: 57, Count: 119\n",
      "Value: 326, Count: 119\n",
      "Value: 86, Count: 119\n",
      "Value: 23, Count: 117\n",
      "Value: 301, Count: 117\n",
      "Value: 204, Count: 111\n",
      "Value: 11, Count: 108\n",
      "Value: 162, Count: 107\n",
      "Value: 263, Count: 107\n",
      "Value: 45, Count: 106\n",
      "Value: 163, Count: 106\n",
      "Value: 208, Count: 106\n",
      "Value: 115, Count: 105\n",
      "Value: 137, Count: 104\n",
      "Value: 131, Count: 104\n",
      "Value: 248, Count: 104\n",
      "Value: 174, Count: 104\n",
      "Value: 20, Count: 104\n",
      "Value: 227, Count: 103\n",
      "Value: 331, Count: 101\n",
      "Value: 114, Count: 101\n",
      "Value: 165, Count: 99\n",
      "Value: 239, Count: 99\n",
      "Value: 266, Count: 99\n",
      "Value: 81, Count: 98\n",
      "Value: 321, Count: 98\n",
      "Value: 25, Count: 97\n",
      "Value: 112, Count: 97\n",
      "Value: 166, Count: 97\n",
      "Value: 322, Count: 97\n",
      "Value: 155, Count: 95\n",
      "Value: 279, Count: 95\n",
      "Value: 1, Count: 95\n",
      "Value: 267, Count: 94\n",
      "Value: 28, Count: 94\n",
      "Value: 283, Count: 94\n",
      "Value: 303, Count: 93\n",
      "Value: 8, Count: 93\n",
      "Value: 184, Count: 92\n",
      "Value: 228, Count: 92\n",
      "Value: 214, Count: 92\n",
      "Value: 281, Count: 91\n",
      "Value: 256, Count: 91\n",
      "Value: 22, Count: 89\n",
      "Value: 181, Count: 89\n",
      "Value: 295, Count: 88\n",
      "Value: 236, Count: 87\n",
      "Value: 311, Count: 87\n",
      "Value: 60, Count: 87\n",
      "Value: 111, Count: 86\n",
      "Value: 156, Count: 86\n",
      "Value: 4, Count: 84\n",
      "Value: 201, Count: 84\n",
      "Value: 296, Count: 84\n",
      "Value: 29, Count: 84\n",
      "Value: 164, Count: 83\n",
      "Value: 253, Count: 83\n",
      "Value: 285, Count: 81\n",
      "Value: 52, Count: 80\n",
      "Value: 149, Count: 80\n",
      "Value: 85, Count: 80\n",
      "Value: 126, Count: 80\n",
      "Value: 293, Count: 79\n",
      "Value: 95, Count: 78\n",
      "Value: 212, Count: 77\n",
      "Value: 198, Count: 77\n",
      "Value: 47, Count: 75\n",
      "Value: 277, Count: 75\n",
      "Value: 74, Count: 74\n",
      "Value: 73, Count: 74\n",
      "Value: 318, Count: 73\n",
      "Value: 304, Count: 73\n",
      "Value: 158, Count: 73\n",
      "Value: 217, Count: 72\n",
      "Value: 9, Count: 72\n",
      "Value: 196, Count: 71\n",
      "Value: 70, Count: 71\n",
      "Value: 94, Count: 71\n",
      "Value: 10, Count: 70\n",
      "Value: 252, Count: 69\n",
      "Value: 329, Count: 69\n",
      "Value: 192, Count: 69\n",
      "Value: 189, Count: 68\n",
      "Value: 77, Count: 67\n",
      "Value: 32, Count: 67\n",
      "Value: 34, Count: 66\n",
      "Value: 48, Count: 64\n",
      "Value: 159, Count: 63\n",
      "Value: 297, Count: 63\n",
      "Value: 258, Count: 63\n",
      "Value: 69, Count: 62\n",
      "Value: 87, Count: 62\n",
      "Value: 150, Count: 62\n",
      "Value: 305, Count: 60\n",
      "Value: 282, Count: 59\n",
      "Value: 37, Count: 58\n",
      "Value: 338, Count: 58\n",
      "Value: 306, Count: 58\n",
      "Value: 275, Count: 57\n",
      "Value: 108, Count: 57\n",
      "Value: 316, Count: 57\n",
      "Value: 5, Count: 55\n",
      "Value: 133, Count: 54\n",
      "Value: 101, Count: 54\n",
      "Value: 26, Count: 54\n",
      "Value: 89, Count: 53\n",
      "Value: 68, Count: 53\n",
      "Value: 337, Count: 53\n",
      "Value: 186, Count: 53\n",
      "Value: 327, Count: 51\n",
      "Value: 153, Count: 50\n",
      "Value: 209, Count: 49\n",
      "Value: 221, Count: 47\n",
      "Value: 14, Count: 47\n",
      "Value: 240, Count: 46\n",
      "Value: 143, Count: 45\n",
      "Value: 309, Count: 45\n",
      "Value: 160, Count: 45\n",
      "Value: 82, Count: 44\n",
      "Value: 302, Count: 44\n",
      "Value: 203, Count: 43\n",
      "Value: 336, Count: 42\n",
      "Value: 264, Count: 42\n",
      "Value: 319, Count: 42\n",
      "Value: 17, Count: 41\n",
      "Value: 230, Count: 40\n",
      "Value: 2, Count: 40\n",
      "Value: 177, Count: 35\n",
      "Value: 135, Count: 35\n",
      "Value: 91, Count: 34\n",
      "Value: 100, Count: 33\n",
      "Value: 278, Count: 33\n",
      "Value: 288, Count: 32\n",
      "Value: 147, Count: 32\n",
      "Value: 71, Count: 29\n",
      "Value: 325, Count: 29\n",
      "Value: 246, Count: 29\n",
      "Value: 223, Count: 29\n",
      "Value: 46, Count: 27\n",
      "Value: 190, Count: 27\n",
      "Value: 83, Count: 26\n",
      "Value: 127, Count: 26\n",
      "Value: 290, Count: 25\n",
      "Value: 27, Count: 25\n",
      "Value: 320, Count: 24\n",
      "Value: 314, Count: 24\n",
      "Value: 286, Count: 23\n",
      "Value: 134, Count: 23\n",
      "Value: 257, Count: 22\n",
      "Value: 234, Count: 22\n",
      "Value: 328, Count: 22\n",
      "Value: 148, Count: 22\n",
      "Value: 211, Count: 22\n",
      "Value: 276, Count: 21\n",
      "Value: 218, Count: 20\n",
      "Value: 247, Count: 18\n",
      "Value: 254, Count: 18\n",
      "Value: 262, Count: 17\n",
      "Value: 251, Count: 17\n",
      "Value: 123, Count: 17\n",
      "Value: 312, Count: 16\n",
      "Value: 90, Count: 15\n",
      "Value: 341, Count: 15\n",
      "Value: 332, Count: 15\n",
      "Value: 343, Count: 14\n",
      "Value: 308, Count: 14\n",
      "Value: 271, Count: 13\n",
      "Value: 66, Count: 12\n",
      "Value: 307, Count: 12\n",
      "Value: 117, Count: 12\n",
      "Value: 44, Count: 11\n",
      "Value: 313, Count: 11\n",
      "Value: 272, Count: 10\n",
      "Value: 119, Count: 10\n",
      "Value: 335, Count: 8\n",
      "Value: 265, Count: 7\n",
      "Value: 323, Count: 7\n",
      "Value: 317, Count: 7\n",
      "Value: 78, Count: 5\n",
      "Value: 124, Count: 5\n",
      "Value: 105, Count: 5\n",
      "Value: 330, Count: 4\n",
      "Value: 324, Count: 4\n",
      "Value: 151, Count: 3\n",
      "Value: 260, Count: 3\n",
      "Value: 334, Count: 2\n",
      "Value: 182, Count: 2\n",
      "Value: 118, Count: 2\n",
      "Value: 113, Count: 2\n",
      "Value: 291, Count: 2\n",
      "Value: 300, Count: 2\n",
      "Value: 102, Count: 2\n",
      "Value: 339, Count: 1\n"
     ]
    }
   ],
   "source": [
    "# 计算每个唯一值的数量\n",
    "unique_values, counts = np.unique(tif_GLcBld_Height.data, return_counts=True)\n",
    "\n",
    "# 根据计数进行排序，倒序排列\n",
    "sorted_indices = np.argsort(counts)[::-1]\n",
    "\n",
    "# 使用排序后的索引重新排序唯一值和计数\n",
    "sorted_unique_values = unique_values[sorted_indices]\n",
    "sorted_counts = counts[sorted_indices]\n",
    "\n",
    "# 打印倒序的结果\n",
    "for value, count in zip(sorted_unique_values, sorted_counts):\n",
    "    print(f\"Value: {value}, Count: {count}\")"
   ],
   "metadata": {
    "collapsed": false,
    "ExecuteTime": {
     "end_time": "2024-08-14T17:12:28.807494Z",
     "start_time": "2024-08-14T17:12:28.798162Z"
    }
   },
   "id": "208a87ecf2cffeb7",
   "execution_count": 4
  },
  {
   "cell_type": "code",
   "outputs": [
    {
     "name": "stdout",
     "output_type": "stream",
     "text": [
      "\n",
      "Basic Statistics:\n",
      "Mean: 47696.188133956304\n",
      "Standard Deviation: 29118.9257780749\n",
      "Min: 1\n",
      "Max: 65535\n"
     ]
    }
   ],
   "source": [
    "# 计算基本统计数据（此部分与前面代码相同）\n",
    "mean_value = np.mean(tif_GLcBld_Height.data)\n",
    "std_dev = np.std(tif_GLcBld_Height.data)\n",
    "min_value = np.min(tif_GLcBld_Height.data)\n",
    "max_value = np.max(tif_GLcBld_Height.data)\n",
    "\n",
    "print(\"\\nBasic Statistics:\")\n",
    "print(f\"Mean: {mean_value}\")\n",
    "print(f\"Standard Deviation: {std_dev}\")\n",
    "print(f\"Min: {min_value}\")\n",
    "print(f\"Max: {max_value}\")"
   ],
   "metadata": {
    "collapsed": false,
    "ExecuteTime": {
     "end_time": "2024-08-14T17:12:28.812221Z",
     "start_time": "2024-08-14T17:12:28.808498Z"
    }
   },
   "id": "ed21c3778d030ccb",
   "execution_count": 5
  },
  {
   "cell_type": "code",
   "outputs": [
    {
     "data": {
      "text/plain": "Affine(5.0, 0.0, 257976.73599999957,\n       0.0, -5.0, 666174.3099000007)"
     },
     "execution_count": 6,
     "metadata": {},
     "output_type": "execute_result"
    }
   ],
   "source": [
    "tif_GLcBld_Height.transform"
   ],
   "metadata": {
    "collapsed": false,
    "ExecuteTime": {
     "end_time": "2024-08-14T17:12:28.818905Z",
     "start_time": "2024-08-14T17:12:28.813226Z"
    }
   },
   "id": "b05e55f56efbc7d7",
   "execution_count": 6
  },
  {
   "cell_type": "code",
   "outputs": [
    {
     "data": {
      "text/plain": "CRS.from_epsg(27700)"
     },
     "execution_count": 7,
     "metadata": {},
     "output_type": "execute_result"
    }
   ],
   "source": [
    "tif_GLcBld_Height.crs"
   ],
   "metadata": {
    "collapsed": false,
    "ExecuteTime": {
     "end_time": "2024-08-14T17:12:28.826583Z",
     "start_time": "2024-08-14T17:12:28.818905Z"
    }
   },
   "id": "13bc476d512cf1bf",
   "execution_count": 7
  },
  {
   "cell_type": "code",
   "outputs": [
    {
     "data": {
      "text/plain": "BoundingBox(left=257976.73599999957, bottom=663899.3099000007, right=260081.73599999957, top=666174.3099000007)"
     },
     "execution_count": 8,
     "metadata": {},
     "output_type": "execute_result"
    }
   ],
   "source": [
    "tif_GLcBld_Height.bounds"
   ],
   "metadata": {
    "collapsed": false,
    "ExecuteTime": {
     "end_time": "2024-08-14T17:12:28.834254Z",
     "start_time": "2024-08-14T17:12:28.826583Z"
    }
   },
   "id": "4de45f42e55c7ed3",
   "execution_count": 8
  },
  {
   "cell_type": "code",
   "outputs": [
    {
     "data": {
      "text/plain": "421"
     },
     "execution_count": 9,
     "metadata": {},
     "output_type": "execute_result"
    }
   ],
   "source": [
    "tif_GLcBld_Height.width"
   ],
   "metadata": {
    "collapsed": false,
    "ExecuteTime": {
     "end_time": "2024-08-14T17:12:28.841290Z",
     "start_time": "2024-08-14T17:12:28.835262Z"
    }
   },
   "id": "357826e187fa62d3",
   "execution_count": 9
  },
  {
   "cell_type": "code",
   "outputs": [
    {
     "data": {
      "text/plain": "455"
     },
     "execution_count": 10,
     "metadata": {},
     "output_type": "execute_result"
    }
   ],
   "source": [
    "tif_GLcBld_Height.height"
   ],
   "metadata": {
    "collapsed": false,
    "ExecuteTime": {
     "end_time": "2024-08-14T17:12:28.848159Z",
     "start_time": "2024-08-14T17:12:28.841290Z"
    }
   },
   "id": "77262a9fa4435741",
   "execution_count": 10
  },
  {
   "cell_type": "code",
   "outputs": [
    {
     "data": {
      "text/plain": "1"
     },
     "execution_count": 11,
     "metadata": {},
     "output_type": "execute_result"
    }
   ],
   "source": [
    "tif_GLcBld_Height.count"
   ],
   "metadata": {
    "collapsed": false,
    "ExecuteTime": {
     "end_time": "2024-08-14T17:12:28.855168Z",
     "start_time": "2024-08-14T17:12:28.849163Z"
    }
   },
   "id": "cac99d91b0171459",
   "execution_count": 11
  },
  {
   "cell_type": "code",
   "outputs": [
    {
     "data": {
      "text/plain": "array([[28.882736  , 28.408676  , 27.841417  , ..., 15.216122  ,\n        14.058662  ,  0.08586502],\n       [31.331669  , 30.637243  , 31.719954  , ..., 13.888069  ,\n        12.631687  ,  0.07413864],\n       [31.908613  , 31.804506  , 32.027122  , ..., 10.486404  ,\n         9.954441  ,  0.0562439 ],\n       ...,\n       [ 6.266613  ,  6.3237047 ,  1.4739332 , ..., 17.83626   ,\n        18.70651   , 17.208393  ],\n       [ 4.7787457 ,  1.4792271 ,  0.1911993 , ..., 12.996392  ,\n        14.958178  , 18.35652   ],\n       [ 0.25867653,  0.15101147,  0.16328621, ...,  0.0835458 ,\n         0.13466549, 12.975633  ]], dtype=float32)"
     },
     "execution_count": 12,
     "metadata": {},
     "output_type": "execute_result"
    }
   ],
   "source": [
    "tif_glcent_CHM.data"
   ],
   "metadata": {
    "collapsed": false,
    "ExecuteTime": {
     "end_time": "2024-08-14T17:12:28.862772Z",
     "start_time": "2024-08-14T17:12:28.856172Z"
    }
   },
   "id": "b3c97b4a45e6ee77",
   "execution_count": 12
  },
  {
   "cell_type": "code",
   "outputs": [],
   "source": [
    "tif_list = [tif_GLcBld_Height, tif_glcent_CHM, tif_glcent_DSM, tif_KernelD_GLcB_new, tif_LAI]\n",
    "\n",
    "# 创建一个空的列表，用于存储每个tif文件的属性\n",
    "data = []\n",
    "\n",
    "# 遍历每个TifFile对象，提取属性并存储到data列表中\n",
    "data = [\n",
    "    {\n",
    "        \"Name\": tif.file_path.split('/')[-1],  # 提取文件名\n",
    "        \"Data\": tif.data,\n",
    "        \"Data.shape\": tif.shape,\n",
    "        \"Transform\": tif.transform,\n",
    "        \"CRS\": tif.crs,\n",
    "        \"Bounds\": tif.bounds,\n",
    "        \"Width\": tif.width,\n",
    "        \"Height\": tif.height,\n",
    "        \"Band Count\": tif.count\n",
    "    }\n",
    "    for tif in tif_list\n",
    "]\n",
    "\n",
    "# 将列表转换为DataFrame\n",
    "df = pd.DataFrame(data)\n"
   ],
   "metadata": {
    "collapsed": false,
    "ExecuteTime": {
     "end_time": "2024-08-14T17:12:28.869569Z",
     "start_time": "2024-08-14T17:12:28.862772Z"
    }
   },
   "id": "8f24c7abf9c484a7",
   "execution_count": 13
  },
  {
   "cell_type": "code",
   "outputs": [
    {
     "data": {
      "text/plain": "                   Name                                               Data  \\\n0     GLcBld_Height.tif  [[65535, 65535, 65535, 65535, 65535, 65535, 65...   \n1        glcent_CHM.tif  [[28.882736, 28.408676, 27.841417, 2.758522, 0...   \n2        glcent_DSM.tif  [[55.24, 54.737, 54.116, 28.998, 26.305, 36.85...   \n3  KernelD_GLcB_new.tif  [[244.3018, 275.4633, 306.76352, 337.6687, 367...   \n4               LAI.tif  [[11.7030945, 11.513471, 11.286567, 1.2534088,...   \n\n   Data.shape                                          Transform     CRS  \\\n0  (455, 421)  (5.0, 0.0, 257976.73599999957, 0.0, -5.0, 6661...  (init)   \n1  (400, 400)  (5.0, 0.0, 258000.0, 0.0, -5.0, 666000.0, 0.0,...  (init)   \n2  (400, 400)  (5.0, 0.0, 258000.0, 0.0, -5.0, 666000.0, 0.0,...  (init)   \n3  (245, 244)  (8.21323320000243, 0.0, 257999.8617497996, 0.0...  (init)   \n4  (400, 400)  (5.0, 0.0, 258000.0, 0.0, -5.0, 666000.0, 0.0,...  (init)   \n\n                                              Bounds  Width  Height  \\\n0  (257976.73599999957, 663899.3099000007, 260081...    421     455   \n1           (258000.0, 664000.0, 260000.0, 666000.0)    400     400   \n2           (258000.0, 664000.0, 260000.0, 666000.0)    400     400   \n3  (257999.8617497996, 663991.944182601, 260003.8...    244     245   \n4           (258000.0, 664000.0, 260000.0, 666000.0)    400     400   \n\n   Band Count  \n0           1  \n1           1  \n2           1  \n3           1  \n4           1  ",
      "text/html": "<div>\n<style scoped>\n    .dataframe tbody tr th:only-of-type {\n        vertical-align: middle;\n    }\n\n    .dataframe tbody tr th {\n        vertical-align: top;\n    }\n\n    .dataframe thead th {\n        text-align: right;\n    }\n</style>\n<table border=\"1\" class=\"dataframe\">\n  <thead>\n    <tr style=\"text-align: right;\">\n      <th></th>\n      <th>Name</th>\n      <th>Data</th>\n      <th>Data.shape</th>\n      <th>Transform</th>\n      <th>CRS</th>\n      <th>Bounds</th>\n      <th>Width</th>\n      <th>Height</th>\n      <th>Band Count</th>\n    </tr>\n  </thead>\n  <tbody>\n    <tr>\n      <th>0</th>\n      <td>GLcBld_Height.tif</td>\n      <td>[[65535, 65535, 65535, 65535, 65535, 65535, 65...</td>\n      <td>(455, 421)</td>\n      <td>(5.0, 0.0, 257976.73599999957, 0.0, -5.0, 6661...</td>\n      <td>(init)</td>\n      <td>(257976.73599999957, 663899.3099000007, 260081...</td>\n      <td>421</td>\n      <td>455</td>\n      <td>1</td>\n    </tr>\n    <tr>\n      <th>1</th>\n      <td>glcent_CHM.tif</td>\n      <td>[[28.882736, 28.408676, 27.841417, 2.758522, 0...</td>\n      <td>(400, 400)</td>\n      <td>(5.0, 0.0, 258000.0, 0.0, -5.0, 666000.0, 0.0,...</td>\n      <td>(init)</td>\n      <td>(258000.0, 664000.0, 260000.0, 666000.0)</td>\n      <td>400</td>\n      <td>400</td>\n      <td>1</td>\n    </tr>\n    <tr>\n      <th>2</th>\n      <td>glcent_DSM.tif</td>\n      <td>[[55.24, 54.737, 54.116, 28.998, 26.305, 36.85...</td>\n      <td>(400, 400)</td>\n      <td>(5.0, 0.0, 258000.0, 0.0, -5.0, 666000.0, 0.0,...</td>\n      <td>(init)</td>\n      <td>(258000.0, 664000.0, 260000.0, 666000.0)</td>\n      <td>400</td>\n      <td>400</td>\n      <td>1</td>\n    </tr>\n    <tr>\n      <th>3</th>\n      <td>KernelD_GLcB_new.tif</td>\n      <td>[[244.3018, 275.4633, 306.76352, 337.6687, 367...</td>\n      <td>(245, 244)</td>\n      <td>(8.21323320000243, 0.0, 257999.8617497996, 0.0...</td>\n      <td>(init)</td>\n      <td>(257999.8617497996, 663991.944182601, 260003.8...</td>\n      <td>244</td>\n      <td>245</td>\n      <td>1</td>\n    </tr>\n    <tr>\n      <th>4</th>\n      <td>LAI.tif</td>\n      <td>[[11.7030945, 11.513471, 11.286567, 1.2534088,...</td>\n      <td>(400, 400)</td>\n      <td>(5.0, 0.0, 258000.0, 0.0, -5.0, 666000.0, 0.0,...</td>\n      <td>(init)</td>\n      <td>(258000.0, 664000.0, 260000.0, 666000.0)</td>\n      <td>400</td>\n      <td>400</td>\n      <td>1</td>\n    </tr>\n  </tbody>\n</table>\n</div>"
     },
     "execution_count": 14,
     "metadata": {},
     "output_type": "execute_result"
    }
   ],
   "source": [
    "df"
   ],
   "metadata": {
    "collapsed": false,
    "ExecuteTime": {
     "end_time": "2024-08-14T17:12:29.065496Z",
     "start_time": "2024-08-14T17:12:28.869569Z"
    }
   },
   "id": "bd2f1b00f1a9b856",
   "execution_count": 14
  },
  {
   "cell_type": "code",
   "outputs": [],
   "source": [
    "A = tif_glcent_CHM\n",
    "B = tif_GLcBld_Height\n",
    "transform_A = A.transform\n",
    "transform_B = B.transform\n",
    "width_A = A.width\n",
    "height_A = A.height\n",
    "width_B = B.width\n",
    "height_B = B.height"
   ],
   "metadata": {
    "collapsed": false,
    "ExecuteTime": {
     "end_time": "2024-08-14T17:12:29.069245Z",
     "start_time": "2024-08-14T17:12:29.066501Z"
    }
   },
   "id": "abe369e4ebcda48b",
   "execution_count": 15
  },
  {
   "cell_type": "code",
   "outputs": [
    {
     "data": {
      "text/plain": "Affine(5.0, 0.0, 258000.0,\n       0.0, -5.0, 666000.0)"
     },
     "execution_count": 16,
     "metadata": {},
     "output_type": "execute_result"
    }
   ],
   "source": [
    "transform_A"
   ],
   "metadata": {
    "collapsed": false,
    "ExecuteTime": {
     "end_time": "2024-08-14T17:12:29.077583Z",
     "start_time": "2024-08-14T17:12:29.069245Z"
    }
   },
   "id": "4a7d1a05c138d503",
   "execution_count": 16
  },
  {
   "cell_type": "code",
   "outputs": [
    {
     "data": {
      "text/plain": "Affine(5.0, 0.0, 257976.73599999957,\n       0.0, -5.0, 666174.3099000007)"
     },
     "execution_count": 17,
     "metadata": {},
     "output_type": "execute_result"
    }
   ],
   "source": [
    "transform_B"
   ],
   "metadata": {
    "collapsed": false,
    "ExecuteTime": {
     "end_time": "2024-08-14T17:12:29.085345Z",
     "start_time": "2024-08-14T17:12:29.077583Z"
    }
   },
   "id": "9dfbbb4093711d5a",
   "execution_count": 17
  },
  {
   "cell_type": "code",
   "outputs": [
    {
     "data": {
      "text/plain": "400"
     },
     "execution_count": 18,
     "metadata": {},
     "output_type": "execute_result"
    }
   ],
   "source": [
    "width_A"
   ],
   "metadata": {
    "collapsed": false,
    "ExecuteTime": {
     "end_time": "2024-08-14T17:12:29.092168Z",
     "start_time": "2024-08-14T17:12:29.087349Z"
    }
   },
   "id": "962cceb9d3ef47b2",
   "execution_count": 18
  },
  {
   "cell_type": "markdown",
   "source": [
    "边界计算：\n",
    "已知信息\n",
    "A 的仿射变换: Affine(5.0, 0.0, 258000.0, 0.0, -5.0, 666000.0)\n",
    "B 的仿射变换: Affine(5.0, 0.0, 257976.73599999997, 0.0, -5.0, 666174.3099999997)\n",
    "\n",
    "A 的大小: width_A = 400，height_A = 400\n",
    "B 的大小: width_B = 421，height_B = 455\n",
    "\n",
    "计算边界（Bounding Box）\n",
    "我们需要计算两个图像的空间范围（Bounding Box），即确定它们的左上角和右下角的地理坐标。\n",
    "\n",
    "1. A 的边界\n",
    "左上角（xmin_A, ymax_A）:\n",
    "xmin_A = 258000.0\n",
    "ymax_A = 666000.0\n",
    "右下角（xmax_A, ymin_A）:\n",
    "xmax_A = 258000.0 + 400 * 5.0 = 260000.0\n",
    "ymin_A = 666000.0 + 400 * -5.0 = 664000.0\n",
    "因此，A 的边界是：\n",
    "\n",
    "(xmin_A, ymin_A, xmax_A, ymax_A) = (258000.0, 664000.0, 260000.0, 666000.0)\n",
    "2. B 的边界\n",
    "左上角（xmin_B, ymax_B）:\n",
    "xmin_B = 257976.736\n",
    "ymax_B = 666174.31\n",
    "右下角（xmax_B, ymin_B）:\n",
    "xmax_B = 257976.736 + 421 * 5.0 = 260081.736\n",
    "ymin_B = 666174.31 + 455 * -5.0 = 663899.81\n",
    "因此，B 的边界是：\n",
    "\n",
    "(xmin_B, ymin_B, xmax_B, ymax_B) = (257976.736, 663899.81, 260081.736, 666174.31)\n",
    "\n",
    "B完全覆盖A"
   ],
   "metadata": {
    "collapsed": false
   },
   "id": "4a379fd81a72d32c"
  },
  {
   "cell_type": "code",
   "outputs": [
    {
     "name": "stdout",
     "output_type": "stream",
     "text": [
      "裁剪范围在原始 B 图像中的列偏移: 4.652800000083516, 行偏移: 34.86198000013246\n",
      "裁剪范围的宽度: 400.0 像素，高度: 400.0 像素\n",
      "裁剪范围结束的列号: 404.6528000000835, 行号: 434.86198000013246\n"
     ]
    }
   ],
   "source": [
    "# 读取 B 的文件\n",
    "with rasterio.open('datasets/GLcBld_Height.tif') as src_B:\n",
    "    # A 的边界\n",
    "    xmin_A, ymin_A, xmax_A, ymax_A = 258000.0, 664000.0, 260000.0, 666000.0\n",
    "\n",
    "    # 计算 B 中与 A 重叠的窗口\n",
    "    window = from_bounds(xmin_A, ymin_A, xmax_A, ymax_A, transform=src_B.transform)\n",
    "\n",
    "    # 获取窗口的行列偏移和大小\n",
    "    col_off, row_off = window.col_off, window.row_off\n",
    "    width, height = window.width, window.height\n",
    "\n",
    "    # 打印裁剪范围相对于原始 B 图像的行列范围\n",
    "    print(f\"裁剪范围在原始 B 图像中的列偏移: {col_off}, 行偏移: {row_off}\")\n",
    "    print(f\"裁剪范围的宽度: {width} 像素，高度: {height} 像素\")\n",
    "    print(f\"裁剪范围结束的列号: {col_off + width}, 行号: {row_off + height}\")\n",
    "\n",
    "    # 读取窗口内的 B 的数据\n",
    "    B_overlap_data = src_B.read(window=window)\n",
    "\n",
    "    # 生成裁剪后的 B 数据\n",
    "    profile = src_B.profile\n",
    "    profile.update({\n",
    "        \"height\": window.height,\n",
    "        \"width\": window.width,\n",
    "        \"transform\": rasterio.windows.transform(window, src_B.transform)\n",
    "    })\n"
   ],
   "metadata": {
    "collapsed": false,
    "ExecuteTime": {
     "end_time": "2024-08-14T17:12:29.109371Z",
     "start_time": "2024-08-14T17:12:29.092168Z"
    }
   },
   "id": "5418c42292702c4a",
   "execution_count": 19
  },
  {
   "cell_type": "code",
   "outputs": [
    {
     "data": {
      "text/plain": "array([[[  181, 65535, 65535, ..., 65535, 65535, 65535],\n        [  181,   181,   181, ..., 65535, 65535, 65535],\n        [  181,   181,   181, ..., 65535, 65535, 65535],\n        ...,\n        [65535, 65535, 65535, ..., 65535, 65535, 65535],\n        [65535, 65535, 65535, ..., 65535, 65535, 65535],\n        [65535, 65535, 65535, ..., 65535, 65535, 65535]]], dtype=uint16)"
     },
     "execution_count": 20,
     "metadata": {},
     "output_type": "execute_result"
    }
   ],
   "source": [
    "B_overlap_data"
   ],
   "metadata": {
    "collapsed": false,
    "ExecuteTime": {
     "end_time": "2024-08-14T17:12:29.113303Z",
     "start_time": "2024-08-14T17:12:29.110422Z"
    }
   },
   "id": "1e3e2d260d1de1f9",
   "execution_count": 20
  },
  {
   "cell_type": "code",
   "outputs": [],
   "source": [
    "C = B_overlap_data[0, :, :]"
   ],
   "metadata": {
    "collapsed": false,
    "ExecuteTime": {
     "end_time": "2024-08-14T17:12:29.119531Z",
     "start_time": "2024-08-14T17:12:29.114311Z"
    }
   },
   "id": "9d5fd0ea8ec0a2cf",
   "execution_count": 21
  },
  {
   "cell_type": "code",
   "outputs": [],
   "source": [
    "CHM_tif = copy.deepcopy(tif_glcent_CHM)\n",
    "DSM_tif = copy.deepcopy(tif_glcent_DSM)\n",
    "LAI_tif = copy.deepcopy(tif_LAI)\n",
    "BH_tif = copy.deepcopy(tif_glcent_CHM)"
   ],
   "metadata": {
    "collapsed": false,
    "ExecuteTime": {
     "end_time": "2024-08-14T17:12:29.128321Z",
     "start_time": "2024-08-14T17:12:29.120539Z"
    }
   },
   "id": "16a155835ca15ab4",
   "execution_count": 22
  },
  {
   "cell_type": "code",
   "outputs": [
    {
     "data": {
      "text/plain": "<__main__.TifFile at 0x26d7c51bd50>"
     },
     "execution_count": 23,
     "metadata": {},
     "output_type": "execute_result"
    }
   ],
   "source": [
    "BH_tif"
   ],
   "metadata": {
    "collapsed": false,
    "ExecuteTime": {
     "end_time": "2024-08-14T17:12:29.134356Z",
     "start_time": "2024-08-14T17:12:29.129330Z"
    }
   },
   "id": "7181113170b0b485",
   "execution_count": 23
  },
  {
   "cell_type": "code",
   "outputs": [
    {
     "data": {
      "text/plain": "array([[28.882736  , 28.408676  , 27.841417  , ..., 15.216122  ,\n        14.058662  ,  0.08586502],\n       [31.331669  , 30.637243  , 31.719954  , ..., 13.888069  ,\n        12.631687  ,  0.07413864],\n       [31.908613  , 31.804506  , 32.027122  , ..., 10.486404  ,\n         9.954441  ,  0.0562439 ],\n       ...,\n       [ 6.266613  ,  6.3237047 ,  1.4739332 , ..., 17.83626   ,\n        18.70651   , 17.208393  ],\n       [ 4.7787457 ,  1.4792271 ,  0.1911993 , ..., 12.996392  ,\n        14.958178  , 18.35652   ],\n       [ 0.25867653,  0.15101147,  0.16328621, ...,  0.0835458 ,\n         0.13466549, 12.975633  ]], dtype=float32)"
     },
     "execution_count": 24,
     "metadata": {},
     "output_type": "execute_result"
    }
   ],
   "source": [
    "BH_tif.data"
   ],
   "metadata": {
    "collapsed": false,
    "ExecuteTime": {
     "end_time": "2024-08-14T17:12:29.141722Z",
     "start_time": "2024-08-14T17:12:29.134356Z"
    }
   },
   "id": "3c89343d7e17f4b0",
   "execution_count": 24
  },
  {
   "cell_type": "code",
   "outputs": [
    {
     "data": {
      "text/plain": "(1, 400, 400)"
     },
     "execution_count": 25,
     "metadata": {},
     "output_type": "execute_result"
    }
   ],
   "source": [
    "B_overlap_data.shape"
   ],
   "metadata": {
    "collapsed": false,
    "ExecuteTime": {
     "end_time": "2024-08-14T17:12:29.150150Z",
     "start_time": "2024-08-14T17:12:29.142727Z"
    }
   },
   "id": "db49f42b7a4a9914",
   "execution_count": 25
  },
  {
   "cell_type": "code",
   "outputs": [],
   "source": [
    "\n",
    "BH_tif.data = C\n",
    "BH_tif.shape = C.shape"
   ],
   "metadata": {
    "collapsed": false,
    "ExecuteTime": {
     "end_time": "2024-08-14T17:12:29.155722Z",
     "start_time": "2024-08-14T17:12:29.150664Z"
    }
   },
   "id": "7ebff9e235d99ff1",
   "execution_count": 26
  },
  {
   "cell_type": "code",
   "outputs": [
    {
     "data": {
      "text/plain": "array([[  181, 65535, 65535, ..., 65535, 65535, 65535],\n       [  181,   181,   181, ..., 65535, 65535, 65535],\n       [  181,   181,   181, ..., 65535, 65535, 65535],\n       ...,\n       [65535, 65535, 65535, ..., 65535, 65535, 65535],\n       [65535, 65535, 65535, ..., 65535, 65535, 65535],\n       [65535, 65535, 65535, ..., 65535, 65535, 65535]], dtype=uint16)"
     },
     "execution_count": 27,
     "metadata": {},
     "output_type": "execute_result"
    }
   ],
   "source": [
    "BH_tif.data"
   ],
   "metadata": {
    "collapsed": false,
    "ExecuteTime": {
     "end_time": "2024-08-14T17:12:29.163770Z",
     "start_time": "2024-08-14T17:12:29.155722Z"
    }
   },
   "id": "c3a5f7b60bbf6545",
   "execution_count": 27
  },
  {
   "cell_type": "code",
   "outputs": [],
   "source": [
    "list_tif = [\n",
    "    BH_tif,  # 建筑物高度\n",
    "    CHM_tif,  # 树冠高度\n",
    "    LAI_tif,  # 叶面积指数\n",
    "    DSM_tif  # 地形数据   \n",
    "]\n",
    "\n",
    "data1 = []\n",
    "\n",
    "# 遍历每个TifFile对象，提取属性并存储到data列表中\n",
    "data1 = [\n",
    "    {\n",
    "        \"Name\": tif.file_path.split('/')[-1],  # 提取文件名\n",
    "        \"Data\": tif.data,\n",
    "        \"Data.shape\": tif.shape,\n",
    "        \"Transform\": tif.transform,\n",
    "        \"CRS\": tif.crs,\n",
    "        \"Bounds\": tif.bounds,\n",
    "        \"Width\": tif.width,\n",
    "        \"Height\": tif.height,\n",
    "        \"Band Count\": tif.count\n",
    "    }\n",
    "    for tif in list_tif\n",
    "]"
   ],
   "metadata": {
    "collapsed": false,
    "ExecuteTime": {
     "end_time": "2024-08-14T17:12:29.170280Z",
     "start_time": "2024-08-14T17:12:29.164779Z"
    }
   },
   "id": "bea5c79ba5d4b50d",
   "execution_count": 28
  },
  {
   "cell_type": "code",
   "outputs": [],
   "source": [
    "df = pd.DataFrame(data1)"
   ],
   "metadata": {
    "collapsed": false,
    "ExecuteTime": {
     "end_time": "2024-08-14T17:12:29.177249Z",
     "start_time": "2024-08-14T17:12:29.170788Z"
    }
   },
   "id": "639322df5102ce6b",
   "execution_count": 29
  },
  {
   "cell_type": "code",
   "outputs": [
    {
     "data": {
      "text/plain": "             Name                                               Data  \\\n0  glcent_CHM.tif  [[181, 65535, 65535, 65535, 65535, 65535, 6553...   \n1  glcent_CHM.tif  [[28.882736, 28.408676, 27.841417, 2.758522, 0...   \n2         LAI.tif  [[11.7030945, 11.513471, 11.286567, 1.2534088,...   \n3  glcent_DSM.tif  [[55.24, 54.737, 54.116, 28.998, 26.305, 36.85...   \n\n   Data.shape                                          Transform     CRS  \\\n0  (400, 400)  (5.0, 0.0, 258000.0, 0.0, -5.0, 666000.0, 0.0,...  (init)   \n1  (400, 400)  (5.0, 0.0, 258000.0, 0.0, -5.0, 666000.0, 0.0,...  (init)   \n2  (400, 400)  (5.0, 0.0, 258000.0, 0.0, -5.0, 666000.0, 0.0,...  (init)   \n3  (400, 400)  (5.0, 0.0, 258000.0, 0.0, -5.0, 666000.0, 0.0,...  (init)   \n\n                                     Bounds  Width  Height  Band Count  \n0  (258000.0, 664000.0, 260000.0, 666000.0)    400     400           1  \n1  (258000.0, 664000.0, 260000.0, 666000.0)    400     400           1  \n2  (258000.0, 664000.0, 260000.0, 666000.0)    400     400           1  \n3  (258000.0, 664000.0, 260000.0, 666000.0)    400     400           1  ",
      "text/html": "<div>\n<style scoped>\n    .dataframe tbody tr th:only-of-type {\n        vertical-align: middle;\n    }\n\n    .dataframe tbody tr th {\n        vertical-align: top;\n    }\n\n    .dataframe thead th {\n        text-align: right;\n    }\n</style>\n<table border=\"1\" class=\"dataframe\">\n  <thead>\n    <tr style=\"text-align: right;\">\n      <th></th>\n      <th>Name</th>\n      <th>Data</th>\n      <th>Data.shape</th>\n      <th>Transform</th>\n      <th>CRS</th>\n      <th>Bounds</th>\n      <th>Width</th>\n      <th>Height</th>\n      <th>Band Count</th>\n    </tr>\n  </thead>\n  <tbody>\n    <tr>\n      <th>0</th>\n      <td>glcent_CHM.tif</td>\n      <td>[[181, 65535, 65535, 65535, 65535, 65535, 6553...</td>\n      <td>(400, 400)</td>\n      <td>(5.0, 0.0, 258000.0, 0.0, -5.0, 666000.0, 0.0,...</td>\n      <td>(init)</td>\n      <td>(258000.0, 664000.0, 260000.0, 666000.0)</td>\n      <td>400</td>\n      <td>400</td>\n      <td>1</td>\n    </tr>\n    <tr>\n      <th>1</th>\n      <td>glcent_CHM.tif</td>\n      <td>[[28.882736, 28.408676, 27.841417, 2.758522, 0...</td>\n      <td>(400, 400)</td>\n      <td>(5.0, 0.0, 258000.0, 0.0, -5.0, 666000.0, 0.0,...</td>\n      <td>(init)</td>\n      <td>(258000.0, 664000.0, 260000.0, 666000.0)</td>\n      <td>400</td>\n      <td>400</td>\n      <td>1</td>\n    </tr>\n    <tr>\n      <th>2</th>\n      <td>LAI.tif</td>\n      <td>[[11.7030945, 11.513471, 11.286567, 1.2534088,...</td>\n      <td>(400, 400)</td>\n      <td>(5.0, 0.0, 258000.0, 0.0, -5.0, 666000.0, 0.0,...</td>\n      <td>(init)</td>\n      <td>(258000.0, 664000.0, 260000.0, 666000.0)</td>\n      <td>400</td>\n      <td>400</td>\n      <td>1</td>\n    </tr>\n    <tr>\n      <th>3</th>\n      <td>glcent_DSM.tif</td>\n      <td>[[55.24, 54.737, 54.116, 28.998, 26.305, 36.85...</td>\n      <td>(400, 400)</td>\n      <td>(5.0, 0.0, 258000.0, 0.0, -5.0, 666000.0, 0.0,...</td>\n      <td>(init)</td>\n      <td>(258000.0, 664000.0, 260000.0, 666000.0)</td>\n      <td>400</td>\n      <td>400</td>\n      <td>1</td>\n    </tr>\n  </tbody>\n</table>\n</div>"
     },
     "execution_count": 30,
     "metadata": {},
     "output_type": "execute_result"
    }
   ],
   "source": [
    "df"
   ],
   "metadata": {
    "collapsed": false,
    "ExecuteTime": {
     "end_time": "2024-08-14T17:12:29.327040Z",
     "start_time": "2024-08-14T17:12:29.178254Z"
    }
   },
   "id": "e4f23a5023266bbf",
   "execution_count": 30
  },
  {
   "cell_type": "code",
   "outputs": [],
   "source": [
    "list_tifs = [BH_tif.data, CHM_tif.data, LAI_tif.data, DSM_tif.data]"
   ],
   "metadata": {
    "collapsed": false,
    "ExecuteTime": {
     "end_time": "2024-08-14T17:12:29.330549Z",
     "start_time": "2024-08-14T17:12:29.327040Z"
    }
   },
   "id": "e104d14a89f8eea6",
   "execution_count": 31
  },
  {
   "cell_type": "code",
   "outputs": [
    {
     "data": {
      "text/plain": "[array([[  181, 65535, 65535, ..., 65535, 65535, 65535],\n        [  181,   181,   181, ..., 65535, 65535, 65535],\n        [  181,   181,   181, ..., 65535, 65535, 65535],\n        ...,\n        [65535, 65535, 65535, ..., 65535, 65535, 65535],\n        [65535, 65535, 65535, ..., 65535, 65535, 65535],\n        [65535, 65535, 65535, ..., 65535, 65535, 65535]], dtype=uint16),\n array([[28.882736  , 28.408676  , 27.841417  , ..., 15.216122  ,\n         14.058662  ,  0.08586502],\n        [31.331669  , 30.637243  , 31.719954  , ..., 13.888069  ,\n         12.631687  ,  0.07413864],\n        [31.908613  , 31.804506  , 32.027122  , ..., 10.486404  ,\n          9.954441  ,  0.0562439 ],\n        ...,\n        [ 6.266613  ,  6.3237047 ,  1.4739332 , ..., 17.83626   ,\n         18.70651   , 17.208393  ],\n        [ 4.7787457 ,  1.4792271 ,  0.1911993 , ..., 12.996392  ,\n         14.958178  , 18.35652   ],\n        [ 0.25867653,  0.15101147,  0.16328621, ...,  0.0835458 ,\n          0.13466549, 12.975633  ]], dtype=float32),\n array([[11.7030945 , 11.513471  , 11.286567  , ...,  6.236449  ,\n          5.773465  ,  0.18434602],\n        [12.682668  , 12.404897  , 12.837981  , ...,  5.705228  ,\n          5.202675  ,  0.17965546],\n        [12.913445  , 12.871802  , 12.960849  , ...,  4.344562  ,\n          4.1317763 ,  0.17249757],\n        ...,\n        [ 2.6566453 ,  2.679482  ,  0.73957336, ...,  7.284504  ,\n          7.6326046 ,  7.0333576 ],\n        [ 2.0614984 ,  0.7416909 ,  0.22647974, ...,  5.348557  ,\n          6.133271  ,  7.492608  ],\n        [ 0.25347063,  0.21040459,  0.2153145 , ...,  0.18341833,\n          0.2038662 ,  5.3402534 ]], dtype=float32),\n array([[55.24 , 54.737, 54.116, ..., 58.844, 57.252, 43.179],\n        [57.543, 56.951, 58.069, ..., 57.408, 55.8  , 43.125],\n        [57.914, 57.915, 58.18 , ..., 53.714, 53.067, 43.102],\n        ...,\n        [19.027, 19.032, 15.773, ..., 19.636, 20.578, 20.239],\n        [19.003, 15.733, 14.537, ..., 14.83 , 16.715, 20.174],\n        [14.48 , 14.572, 14.617, ...,  1.903,  1.944, 14.771]],\n       dtype=float32)]"
     },
     "execution_count": 32,
     "metadata": {},
     "output_type": "execute_result"
    }
   ],
   "source": [
    "list_tifs"
   ],
   "metadata": {
    "collapsed": false,
    "ExecuteTime": {
     "end_time": "2024-08-14T17:12:29.339704Z",
     "start_time": "2024-08-14T17:12:29.331553Z"
    }
   },
   "id": "a1fe650839f0826f",
   "execution_count": 32
  },
  {
   "cell_type": "markdown",
   "source": [
    "# 网格数据差值"
   ],
   "metadata": {
    "collapsed": false
   },
   "id": "fcb7fa5b4cf37580"
  },
  {
   "cell_type": "code",
   "outputs": [
    {
     "name": "stdout",
     "output_type": "stream",
     "text": [
      "点 P (0.5, 0.5) 的估计温度值为: 6.16\n"
     ]
    }
   ],
   "source": [
    "# 已知点的坐标和温度值\n",
    "points = np.array([\n",
    "    [0, 0],  # 点 A\n",
    "    [1, 0],  # 点 B\n",
    "    [0, 1]   # 点 C\n",
    "])\n",
    "\n",
    "temperatures = np.array([5, 6, 7])  # 点 A, B, C 的温度值\n",
    "\n",
    "# 半变异矩阵\n",
    "Gamma = np.array([\n",
    "    [0, 1, 1, 1],          # 点 A 到 A, B, C 和约束条件\n",
    "    [1, 0, np.sqrt(2), 1], # 点 B 到 A, B, C 和约束条件\n",
    "    [1, np.sqrt(2), 0, 1], # 点 C 到 A, B, C 和约束条件\n",
    "    [1, 1, 1, 0]           # 约束条件\n",
    "])\n",
    "\n",
    "# 目标点 P 的坐标\n",
    "P = np.array([0.5, 0.5])\n",
    "\n",
    "# 计算 P 到 A, B, C 的半变异函数值\n",
    "gamma = np.array([\n",
    "    np.sqrt(np.sum((P - points[0])**2)),  # 到 A 的距离\n",
    "    np.sqrt(np.sum((P - points[1])**2)),  # 到 B 的距离\n",
    "    np.sqrt(np.sum((P - points[2])**2)),  # 到 C 的距离\n",
    "    1  # 约束条件\n",
    "])\n",
    "\n",
    "# 解克里金系统\n",
    "lambdas = np.linalg.solve(Gamma, gamma)\n",
    "\n",
    "# 提取权重\n",
    "lambda_A, lambda_B, lambda_C, mu = lambdas\n",
    "\n",
    "# 使用权重计算插值点 P 的温度值\n",
    "Z_P = lambda_A * temperatures[0] + lambda_B * temperatures[1] + lambda_C * temperatures[2]\n",
    "\n",
    "print(f\"点 P (0.5, 0.5) 的估计温度值为: {Z_P:.2f}\")\n"
   ],
   "metadata": {
    "collapsed": false,
    "ExecuteTime": {
     "end_time": "2024-08-14T17:12:29.346243Z",
     "start_time": "2024-08-14T17:12:29.340713Z"
    }
   },
   "id": "c9c41fcb038b83d",
   "execution_count": 33
  },
  {
   "cell_type": "code",
   "outputs": [
    {
     "data": {
      "text/plain": "                  Location  A Coordinates (Lat, Lon) B Coordinates (X_B, Y_B)  \\\n0          Renfrew Weather   (55.8739065, -4.388791)   (250756.73, 666880.47)   \n1  Ralston Weather Station  (55.8466298, -4.3708027)    (251848.22, 663740.0)   \n2                 Cathcart  (55.8114036, -4.2603826)   (258548.22, 659684.28)   \n3             Clincarthill  (55.8253972, -4.2119939)   (261484.32, 661295.42)   \n4      Cambuslang Scotland  (55.8253972, -4.2119939)   (261484.32, 661295.42)   \n\n    Report Date / Time  Dew Point (°C)  Air Temperature (°C)  \\\n0  31/07/2024 09:30:00             8.4                  17.0   \n1  31/07/2024 09:30:00             8.1                  11.8   \n2  31/07/2024 09:28:07            10.0                  15.9   \n3  31/07/2024 09:29:36             9.3                  15.1   \n4  31/07/2024 09:31:36             8.9                  13.4   \n\n   Relative Humidity (%)  Wind Speed (kn)  \n0                   57.0              0.4  \n1                   78.2              0.9  \n2                   68.0              0.0  \n3                   68.0              0.8  \n4                   74.0              0.0  ",
      "text/html": "<div>\n<style scoped>\n    .dataframe tbody tr th:only-of-type {\n        vertical-align: middle;\n    }\n\n    .dataframe tbody tr th {\n        vertical-align: top;\n    }\n\n    .dataframe thead th {\n        text-align: right;\n    }\n</style>\n<table border=\"1\" class=\"dataframe\">\n  <thead>\n    <tr style=\"text-align: right;\">\n      <th></th>\n      <th>Location</th>\n      <th>A Coordinates (Lat, Lon)</th>\n      <th>B Coordinates (X_B, Y_B)</th>\n      <th>Report Date / Time</th>\n      <th>Dew Point (°C)</th>\n      <th>Air Temperature (°C)</th>\n      <th>Relative Humidity (%)</th>\n      <th>Wind Speed (kn)</th>\n    </tr>\n  </thead>\n  <tbody>\n    <tr>\n      <th>0</th>\n      <td>Renfrew Weather</td>\n      <td>(55.8739065, -4.388791)</td>\n      <td>(250756.73, 666880.47)</td>\n      <td>31/07/2024 09:30:00</td>\n      <td>8.4</td>\n      <td>17.0</td>\n      <td>57.0</td>\n      <td>0.4</td>\n    </tr>\n    <tr>\n      <th>1</th>\n      <td>Ralston Weather Station</td>\n      <td>(55.8466298, -4.3708027)</td>\n      <td>(251848.22, 663740.0)</td>\n      <td>31/07/2024 09:30:00</td>\n      <td>8.1</td>\n      <td>11.8</td>\n      <td>78.2</td>\n      <td>0.9</td>\n    </tr>\n    <tr>\n      <th>2</th>\n      <td>Cathcart</td>\n      <td>(55.8114036, -4.2603826)</td>\n      <td>(258548.22, 659684.28)</td>\n      <td>31/07/2024 09:28:07</td>\n      <td>10.0</td>\n      <td>15.9</td>\n      <td>68.0</td>\n      <td>0.0</td>\n    </tr>\n    <tr>\n      <th>3</th>\n      <td>Clincarthill</td>\n      <td>(55.8253972, -4.2119939)</td>\n      <td>(261484.32, 661295.42)</td>\n      <td>31/07/2024 09:29:36</td>\n      <td>9.3</td>\n      <td>15.1</td>\n      <td>68.0</td>\n      <td>0.8</td>\n    </tr>\n    <tr>\n      <th>4</th>\n      <td>Cambuslang Scotland</td>\n      <td>(55.8253972, -4.2119939)</td>\n      <td>(261484.32, 661295.42)</td>\n      <td>31/07/2024 09:31:36</td>\n      <td>8.9</td>\n      <td>13.4</td>\n      <td>74.0</td>\n      <td>0.0</td>\n    </tr>\n  </tbody>\n</table>\n</div>"
     },
     "execution_count": 34,
     "metadata": {},
     "output_type": "execute_result"
    }
   ],
   "source": [
    "# 输入6个点的坐标和天气数据值\n",
    "\n",
    "# 提取的数据如下：\n",
    "data_5_extra_points = [\n",
    "    ['Renfrew Weather', (55.8739065, -4.3887910), (250756.73, 666880.47), '31/07/2024 09:30:00', 8.4, 17, 57, 0.4],\n",
    "    ['Ralston Weather Station', (55.8466298, -4.3708027), (251848.22, 663740.00), '31/07/2024 09:30:00', 8.1, 11.8, 78.2, 0.9],\n",
    "    ['Cathcart', (55.8114036, -4.2603826), (258548.22, 659684.28), '31/07/2024 09:28:07', 10, 15.9, 68, 0],\n",
    "    ['Clincarthill', (55.8253972, -4.2119939), (261484.32, 661295.42), '31/07/2024 09:29:36', 9.3, 15.1, 68, 0.8],\n",
    "    ['Cambuslang Scotland', (55.8253972, -4.2119939), (261484.32, 661295.42), '31/07/2024 09:31:36', 8.9, 13.4, 74, 0]\n",
    "]\n",
    "\n",
    "# 直接将数据列表转换为 Pandas DataFrame\n",
    "columns = ['Location', 'A Coordinates (Lat, Lon)', 'B Coordinates (X_B, Y_B)', 'Report Date / Time', 'Dew Point (°C)', 'Air Temperature (°C)', 'Relative Humidity (%)', 'Wind Speed (kn)']\n",
    "df_5_extra_points = pd.DataFrame(data_5_extra_points, columns=columns)\n",
    "\n",
    "# 显示 DataFrame\n",
    "df_5_extra_points\n"
   ],
   "metadata": {
    "collapsed": false,
    "ExecuteTime": {
     "end_time": "2024-08-14T17:12:29.358796Z",
     "start_time": "2024-08-14T17:12:29.346243Z"
    }
   },
   "id": "9be495e4e878543b",
   "execution_count": 34
  },
  {
   "cell_type": "code",
   "outputs": [],
   "source": [
    "# 从DataFrame中提取B坐标系的点和相关数据\n",
    "B_points = np.array([item[2] for item in data_5_extra_points])\n",
    "dew_points = np.array(df_5_extra_points['Dew Point (°C)'])\n",
    "air_temps = np.array(df_5_extra_points['Air Temperature (°C)'])\n",
    "humidity = np.array(df_5_extra_points['Relative Humidity (%)'])\n",
    "wind_speeds = np.array(df_5_extra_points['Wind Speed (kn)'])\n"
   ],
   "metadata": {
    "collapsed": false,
    "ExecuteTime": {
     "end_time": "2024-08-14T17:12:29.365879Z",
     "start_time": "2024-08-14T17:12:29.359728Z"
    }
   },
   "id": "46415a367cef5e2e",
   "execution_count": 35
  },
  {
   "cell_type": "code",
   "outputs": [
    {
     "data": {
      "text/plain": "array([[250756.73, 666880.47],\n       [251848.22, 663740.  ],\n       [258548.22, 659684.28],\n       [261484.32, 661295.42],\n       [261484.32, 661295.42]])"
     },
     "execution_count": 36,
     "metadata": {},
     "output_type": "execute_result"
    }
   ],
   "source": [
    "B_points"
   ],
   "metadata": {
    "collapsed": false,
    "ExecuteTime": {
     "end_time": "2024-08-14T17:12:29.373908Z",
     "start_time": "2024-08-14T17:12:29.366883Z"
    }
   },
   "id": "3cc864dc5df49680",
   "execution_count": 36
  },
  {
   "cell_type": "code",
   "outputs": [
    {
     "data": {
      "text/plain": "array([ 8.4,  8.1, 10. ,  9.3,  8.9])"
     },
     "execution_count": 37,
     "metadata": {},
     "output_type": "execute_result"
    }
   ],
   "source": [
    "dew_points"
   ],
   "metadata": {
    "collapsed": false,
    "ExecuteTime": {
     "end_time": "2024-08-14T17:12:29.381349Z",
     "start_time": "2024-08-14T17:12:29.374832Z"
    }
   },
   "id": "18f55c5ea2b5003a",
   "execution_count": 37
  },
  {
   "cell_type": "code",
   "outputs": [
    {
     "data": {
      "text/plain": "array([17. , 11.8, 15.9, 15.1, 13.4])"
     },
     "execution_count": 38,
     "metadata": {},
     "output_type": "execute_result"
    }
   ],
   "source": [
    "air_temps"
   ],
   "metadata": {
    "collapsed": false,
    "ExecuteTime": {
     "end_time": "2024-08-14T17:12:29.388416Z",
     "start_time": "2024-08-14T17:12:29.381349Z"
    }
   },
   "id": "322468730c8dc65c",
   "execution_count": 38
  },
  {
   "cell_type": "code",
   "outputs": [
    {
     "data": {
      "text/plain": "array([57. , 78.2, 68. , 68. , 74. ])"
     },
     "execution_count": 39,
     "metadata": {},
     "output_type": "execute_result"
    }
   ],
   "source": [
    "humidity"
   ],
   "metadata": {
    "collapsed": false,
    "ExecuteTime": {
     "end_time": "2024-08-14T17:12:29.396393Z",
     "start_time": "2024-08-14T17:12:29.389420Z"
    }
   },
   "id": "bdab44cb17a6d7e7",
   "execution_count": 39
  },
  {
   "cell_type": "code",
   "outputs": [
    {
     "data": {
      "text/plain": "array([0.4, 0.9, 0. , 0.8, 0. ])"
     },
     "execution_count": 40,
     "metadata": {},
     "output_type": "execute_result"
    }
   ],
   "source": [
    "wind_speeds"
   ],
   "metadata": {
    "collapsed": false,
    "ExecuteTime": {
     "end_time": "2024-08-14T17:12:29.402360Z",
     "start_time": "2024-08-14T17:12:29.397398Z"
    }
   },
   "id": "ac93a612ac44302d",
   "execution_count": 40
  },
  {
   "cell_type": "code",
   "outputs": [],
   "source": [
    "# 定义网格\n",
    "x_min, x_max = 258000, 260000\n",
    "y_min, y_max = 664000, 666000\n",
    "grid_x, grid_y = np.mgrid[x_min:x_max:400j, y_min:y_max:400j]\n",
    "grid_points = np.vstack([grid_x.ravel(), grid_y.ravel()]).T  # 是一个 (160000, 2) 的数组，保存了所有网格点的 (x, y) 坐标"
   ],
   "metadata": {
    "collapsed": false,
    "ExecuteTime": {
     "end_time": "2024-08-14T17:12:29.410937Z",
     "start_time": "2024-08-14T17:12:29.402360Z"
    }
   },
   "id": "846bf7eeb9633cf7",
   "execution_count": 41
  },
  {
   "cell_type": "code",
   "outputs": [
    {
     "data": {
      "text/plain": "array([[258000.        , 664000.        ],\n       [258000.        , 664005.01253133],\n       [258000.        , 664010.02506266],\n       ...,\n       [260000.        , 665989.97493734],\n       [260000.        , 665994.98746867],\n       [260000.        , 666000.        ]])"
     },
     "execution_count": 42,
     "metadata": {},
     "output_type": "execute_result"
    }
   ],
   "source": [
    "grid_points"
   ],
   "metadata": {
    "collapsed": false,
    "ExecuteTime": {
     "end_time": "2024-08-14T17:12:29.416565Z",
     "start_time": "2024-08-14T17:12:29.410937Z"
    }
   },
   "id": "a85025b62868060",
   "execution_count": 42
  },
  {
   "cell_type": "code",
   "outputs": [],
   "source": [
    "# 定义半变异矩阵Gamma，简化处理为欧式距离\n",
    "def compute_gamma(points, P):\n",
    "    dist = np.sqrt(np.sum((points - P)**2, axis=1))\n",
    "    return np.hstack([dist, 1])\n"
   ],
   "metadata": {
    "collapsed": false,
    "ExecuteTime": {
     "end_time": "2024-08-14T17:12:29.423345Z",
     "start_time": "2024-08-14T17:12:29.417569Z"
    }
   },
   "id": "a919fea165bc7cd",
   "execution_count": 43
  },
  {
   "cell_type": "code",
   "outputs": [],
   "source": [
    "# 函数：计算克里金插值\n",
    "def kriging_interpolation(B_points, values, grid_points):\n",
    "    # 构造Gamma矩阵\n",
    "    n_points = len(B_points)\n",
    "    Gamma = np.ones((n_points + 1, n_points + 1))\n",
    "    for i in range(n_points):\n",
    "        for j in range(n_points):\n",
    "            Gamma[i, j] = np.sqrt(np.sum((B_points[i] - B_points[j])**2))\n",
    "\n",
    "    # 添加一个小的正数扰动到对角线以避免奇异矩阵\n",
    "    Gamma[np.diag_indices_from(Gamma)] += 1e-10\n",
    "\n",
    "    Gamma[-1, -1] = 0\n",
    "\n",
    "    # 插值结果存储\n",
    "    interpolated_values = []\n",
    "\n",
    "    for P in grid_points:\n",
    "        gamma = compute_gamma(B_points, P)\n",
    "        lambdas = np.linalg.solve(Gamma, gamma)\n",
    "        interpolated_value = np.sum(lambdas[:-1] * values)\n",
    "        interpolated_values.append(interpolated_value)\n",
    "\n",
    "    return np.array(interpolated_values)\n"
   ],
   "metadata": {
    "collapsed": false,
    "ExecuteTime": {
     "end_time": "2024-08-14T17:12:29.430854Z",
     "start_time": "2024-08-14T17:12:29.424348Z"
    }
   },
   "id": "a403a68a4425e3df",
   "execution_count": 44
  },
  {
   "cell_type": "code",
   "outputs": [],
   "source": [
    "# 对每个变量进行插值\n",
    "dew_point_grid = kriging_interpolation(B_points, dew_points, grid_points)\n",
    "air_temp_grid = kriging_interpolation(B_points, air_temps, grid_points)\n",
    "humidity_grid = kriging_interpolation(B_points, humidity, grid_points)\n",
    "wind_speed_grid = kriging_interpolation(B_points, wind_speeds, grid_points)\n"
   ],
   "metadata": {
    "collapsed": false,
    "ExecuteTime": {
     "end_time": "2024-08-14T17:12:36.259315Z",
     "start_time": "2024-08-14T17:12:29.431857Z"
    }
   },
   "id": "a57a63abaa4343a8",
   "execution_count": 45
  },
  {
   "cell_type": "code",
   "outputs": [],
   "source": [
    "# 将结果存储为DataFrame\n",
    "grid_df = pd.DataFrame({\n",
    "    'X': grid_points[:, 0],\n",
    "    'Y': grid_points[:, 1],\n",
    "    'Dew Point (°C)': dew_point_grid,\n",
    "    'Air Temperature (°C)': air_temp_grid,\n",
    "    'Relative Humidity (%)': humidity_grid,\n",
    "    'Wind Speed (kn)': wind_speed_grid\n",
    "})"
   ],
   "metadata": {
    "collapsed": false,
    "ExecuteTime": {
     "end_time": "2024-08-14T17:12:36.265839Z",
     "start_time": "2024-08-14T17:12:36.259315Z"
    }
   },
   "id": "125688bb7860632d",
   "execution_count": 46
  },
  {
   "cell_type": "code",
   "outputs": [
    {
     "data": {
      "text/plain": "               X              Y  Dew Point (°C)  Air Temperature (°C)  \\\n0       258000.0  664000.000000        8.999907             14.600371   \n1       258000.0  664005.012531        8.999255             14.600463   \n2       258000.0  664010.025063        8.998604             14.600558   \n3       258000.0  664015.037594        8.997953             14.600656   \n4       258000.0  664020.050125        8.997304             14.600757   \n...          ...            ...             ...                   ...   \n159995  260000.0  665979.949875        8.868125             14.825202   \n159996  260000.0  665984.962406        8.867806             14.825854   \n159997  260000.0  665989.974937        8.867487             14.826507   \n159998  260000.0  665994.987469        8.867168             14.827160   \n159999  260000.0  666000.000000        8.866850             14.827814   \n\n        Relative Humidity (%)  Wind Speed (kn)  \n0                   69.439597         0.404868  \n1                   69.436530         0.405059  \n2                   69.433455         0.405249  \n3                   69.430372         0.405438  \n4                   69.427280         0.405627  \n...                       ...              ...  \n159995              67.820382         0.426470  \n159996              67.816359         0.426516  \n159997              67.812334         0.426562  \n159998              67.808308         0.426608  \n159999              67.804279         0.426654  \n\n[160000 rows x 6 columns]",
      "text/html": "<div>\n<style scoped>\n    .dataframe tbody tr th:only-of-type {\n        vertical-align: middle;\n    }\n\n    .dataframe tbody tr th {\n        vertical-align: top;\n    }\n\n    .dataframe thead th {\n        text-align: right;\n    }\n</style>\n<table border=\"1\" class=\"dataframe\">\n  <thead>\n    <tr style=\"text-align: right;\">\n      <th></th>\n      <th>X</th>\n      <th>Y</th>\n      <th>Dew Point (°C)</th>\n      <th>Air Temperature (°C)</th>\n      <th>Relative Humidity (%)</th>\n      <th>Wind Speed (kn)</th>\n    </tr>\n  </thead>\n  <tbody>\n    <tr>\n      <th>0</th>\n      <td>258000.0</td>\n      <td>664000.000000</td>\n      <td>8.999907</td>\n      <td>14.600371</td>\n      <td>69.439597</td>\n      <td>0.404868</td>\n    </tr>\n    <tr>\n      <th>1</th>\n      <td>258000.0</td>\n      <td>664005.012531</td>\n      <td>8.999255</td>\n      <td>14.600463</td>\n      <td>69.436530</td>\n      <td>0.405059</td>\n    </tr>\n    <tr>\n      <th>2</th>\n      <td>258000.0</td>\n      <td>664010.025063</td>\n      <td>8.998604</td>\n      <td>14.600558</td>\n      <td>69.433455</td>\n      <td>0.405249</td>\n    </tr>\n    <tr>\n      <th>3</th>\n      <td>258000.0</td>\n      <td>664015.037594</td>\n      <td>8.997953</td>\n      <td>14.600656</td>\n      <td>69.430372</td>\n      <td>0.405438</td>\n    </tr>\n    <tr>\n      <th>4</th>\n      <td>258000.0</td>\n      <td>664020.050125</td>\n      <td>8.997304</td>\n      <td>14.600757</td>\n      <td>69.427280</td>\n      <td>0.405627</td>\n    </tr>\n    <tr>\n      <th>...</th>\n      <td>...</td>\n      <td>...</td>\n      <td>...</td>\n      <td>...</td>\n      <td>...</td>\n      <td>...</td>\n    </tr>\n    <tr>\n      <th>159995</th>\n      <td>260000.0</td>\n      <td>665979.949875</td>\n      <td>8.868125</td>\n      <td>14.825202</td>\n      <td>67.820382</td>\n      <td>0.426470</td>\n    </tr>\n    <tr>\n      <th>159996</th>\n      <td>260000.0</td>\n      <td>665984.962406</td>\n      <td>8.867806</td>\n      <td>14.825854</td>\n      <td>67.816359</td>\n      <td>0.426516</td>\n    </tr>\n    <tr>\n      <th>159997</th>\n      <td>260000.0</td>\n      <td>665989.974937</td>\n      <td>8.867487</td>\n      <td>14.826507</td>\n      <td>67.812334</td>\n      <td>0.426562</td>\n    </tr>\n    <tr>\n      <th>159998</th>\n      <td>260000.0</td>\n      <td>665994.987469</td>\n      <td>8.867168</td>\n      <td>14.827160</td>\n      <td>67.808308</td>\n      <td>0.426608</td>\n    </tr>\n    <tr>\n      <th>159999</th>\n      <td>260000.0</td>\n      <td>666000.000000</td>\n      <td>8.866850</td>\n      <td>14.827814</td>\n      <td>67.804279</td>\n      <td>0.426654</td>\n    </tr>\n  </tbody>\n</table>\n<p>160000 rows × 6 columns</p>\n</div>"
     },
     "execution_count": 47,
     "metadata": {},
     "output_type": "execute_result"
    }
   ],
   "source": [
    "grid_df"
   ],
   "metadata": {
    "collapsed": false,
    "ExecuteTime": {
     "end_time": "2024-08-14T17:12:36.275999Z",
     "start_time": "2024-08-14T17:12:36.265839Z"
    }
   },
   "id": "b821b2c4b932fe0",
   "execution_count": 47
  },
  {
   "cell_type": "code",
   "outputs": [],
   "source": [
    "# 匹配地形数据与天气数据的形状\n",
    "\n",
    "# 展平地形数据\n",
    "X = np.array([tif.ravel() for tif in list_tifs]).T # (160000, 4)"
   ],
   "metadata": {
    "collapsed": false,
    "ExecuteTime": {
     "end_time": "2024-08-14T17:12:36.282732Z",
     "start_time": "2024-08-14T17:12:36.277002Z"
    }
   },
   "id": "63a09c9419201413",
   "execution_count": 48
  },
  {
   "cell_type": "code",
   "outputs": [
    {
     "data": {
      "text/plain": "array([[1.81000000e+02, 2.88827362e+01, 1.17030945e+01, 5.52400017e+01],\n       [6.55350000e+04, 2.84086761e+01, 1.15134706e+01, 5.47369995e+01],\n       [6.55350000e+04, 2.78414173e+01, 1.12865667e+01, 5.41160011e+01],\n       ...,\n       [6.55350000e+04, 8.35458040e-02, 1.83418334e-01, 1.90300000e+00],\n       [6.55350000e+04, 1.34665489e-01, 2.03866199e-01, 1.94400001e+00],\n       [6.55350000e+04, 1.29756327e+01, 5.34025335e+00, 1.47709999e+01]],\n      dtype=float32)"
     },
     "execution_count": 49,
     "metadata": {},
     "output_type": "execute_result"
    }
   ],
   "source": [
    "X"
   ],
   "metadata": {
    "collapsed": false,
    "ExecuteTime": {
     "end_time": "2024-08-14T17:12:36.290737Z",
     "start_time": "2024-08-14T17:12:36.283737Z"
    }
   },
   "id": "75e0f9af84fbb06d",
   "execution_count": 49
  },
  {
   "cell_type": "code",
   "outputs": [],
   "source": [
    "# 提取天气数据\n",
    "Y = grid_df[['Dew Point (°C)', 'Air Temperature (°C)', 'Relative Humidity (%)', 'Wind Speed (kn)']].values # (160000, 4)"
   ],
   "metadata": {
    "collapsed": false,
    "ExecuteTime": {
     "end_time": "2024-08-14T17:12:36.298263Z",
     "start_time": "2024-08-14T17:12:36.291241Z"
    }
   },
   "id": "7a8d3063b20ec2bf",
   "execution_count": 50
  },
  {
   "cell_type": "code",
   "outputs": [
    {
     "data": {
      "text/plain": "array([[ 8.99990701, 14.6003705 , 69.43959655,  0.40486841],\n       [ 8.99925483, 14.600463  , 69.43653002,  0.40505876],\n       [ 8.99860355, 14.60055833, 69.43345515,  0.40524862],\n       ...,\n       [ 8.86748666, 14.82650657, 67.81233419,  0.42656228],\n       [ 8.86716808, 14.82715992, 67.80830767,  0.42660798],\n       [ 8.86684982, 14.82781394, 67.80427948,  0.42665352]])"
     },
     "execution_count": 51,
     "metadata": {},
     "output_type": "execute_result"
    }
   ],
   "source": [
    "Y"
   ],
   "metadata": {
    "collapsed": false,
    "ExecuteTime": {
     "end_time": "2024-08-14T17:12:36.305205Z",
     "start_time": "2024-08-14T17:12:36.298263Z"
    }
   },
   "id": "a3450537b385efe1",
   "execution_count": 51
  },
  {
   "cell_type": "code",
   "outputs": [
    {
     "data": {
      "text/plain": "array([[1.81000000e+02, 2.88827362e+01, 1.17030945e+01, 5.52400017e+01],\n       [6.55350000e+04, 2.84086761e+01, 1.15134706e+01, 5.47369995e+01],\n       [6.55350000e+04, 2.78414173e+01, 1.12865667e+01, 5.41160011e+01],\n       ...,\n       [6.55350000e+04, 8.35458040e-02, 1.83418334e-01, 1.90300000e+00],\n       [6.55350000e+04, 1.34665489e-01, 2.03866199e-01, 1.94400001e+00],\n       [6.55350000e+04, 1.29756327e+01, 5.34025335e+00, 1.47709999e+01]],\n      dtype=float32)"
     },
     "execution_count": 52,
     "metadata": {},
     "output_type": "execute_result"
    }
   ],
   "source": [
    "X"
   ],
   "metadata": {
    "collapsed": false,
    "ExecuteTime": {
     "end_time": "2024-08-14T17:12:36.311952Z",
     "start_time": "2024-08-14T17:12:36.306209Z"
    }
   },
   "id": "cf852b4eb528f21b",
   "execution_count": 52
  },
  {
   "cell_type": "code",
   "outputs": [
    {
     "data": {
      "text/plain": "array([[ 8.99990701, 14.6003705 , 69.43959655,  0.40486841],\n       [ 8.99925483, 14.600463  , 69.43653002,  0.40505876],\n       [ 8.99860355, 14.60055833, 69.43345515,  0.40524862],\n       ...,\n       [ 8.86748666, 14.82650657, 67.81233419,  0.42656228],\n       [ 8.86716808, 14.82715992, 67.80830767,  0.42660798],\n       [ 8.86684982, 14.82781394, 67.80427948,  0.42665352]])"
     },
     "execution_count": 53,
     "metadata": {},
     "output_type": "execute_result"
    }
   ],
   "source": [
    "Y"
   ],
   "metadata": {
    "collapsed": false,
    "ExecuteTime": {
     "end_time": "2024-08-14T17:12:36.319251Z",
     "start_time": "2024-08-14T17:12:36.311952Z"
    }
   },
   "id": "8ae208cb72031f38",
   "execution_count": 53
  },
  {
   "cell_type": "code",
   "outputs": [],
   "source": [
    "# # 构建存储结果的表格\n",
    "# importance_matrix = np.zeros((4, 4))"
   ],
   "metadata": {
    "collapsed": false,
    "ExecuteTime": {
     "end_time": "2024-08-14T17:12:36.325348Z",
     "start_time": "2024-08-14T17:12:36.322402Z"
    }
   },
   "id": "a6ba96236180aad5",
   "execution_count": 54
  },
  {
   "cell_type": "code",
   "outputs": [],
   "source": [
    "# from sklearn.ensemble import RandomForestRegressor"
   ],
   "metadata": {
    "collapsed": false,
    "ExecuteTime": {
     "end_time": "2024-08-14T17:12:36.332712Z",
     "start_time": "2024-08-14T17:12:36.325348Z"
    }
   },
   "id": "7b07b9f92519a965",
   "execution_count": 55
  },
  {
   "cell_type": "code",
   "outputs": [],
   "source": [
    "# # 对每一个Y参数构建随机森林模型并计算重要性\n",
    "# for i in range(4):\n",
    "#     y = Y[:, i]  # 第 i 个 Y 参数\n",
    "#     model = RandomForestRegressor(n_estimators=100, random_state=42)\n",
    "#     model.fit(X, y)\n",
    "#     importance_matrix[:, i] = model.feature_importances_"
   ],
   "metadata": {
    "collapsed": false,
    "ExecuteTime": {
     "end_time": "2024-08-14T17:12:36.339764Z",
     "start_time": "2024-08-14T17:12:36.332712Z"
    }
   },
   "id": "b51c495b5f18c28d",
   "execution_count": 56
  },
  {
   "cell_type": "code",
   "outputs": [],
   "source": [
    "# model"
   ],
   "metadata": {
    "collapsed": false,
    "ExecuteTime": {
     "end_time": "2024-08-14T17:12:36.346658Z",
     "start_time": "2024-08-14T17:12:36.340768Z"
    }
   },
   "id": "bc1a717e2af2f36c",
   "execution_count": 57
  },
  {
   "cell_type": "code",
   "outputs": [],
   "source": [
    "# # 将结果转化为DataFrame以便显示\n",
    "# importance_df = pd.DataFrame(importance_matrix,\n",
    "#                              columns=['Dew Point (°C)', 'Air Temperature (°C)', 'Relative Humidity (%)', 'Wind Speed (kn)'],\n",
    "#                              index=['建筑物高度', '树冠高度', '叶面积指数', '地形数据'])\n"
   ],
   "metadata": {
    "collapsed": false,
    "ExecuteTime": {
     "end_time": "2024-08-14T17:12:36.353637Z",
     "start_time": "2024-08-14T17:12:36.347662Z"
    }
   },
   "id": "526a63af133af6d5",
   "execution_count": 58
  },
  {
   "cell_type": "code",
   "outputs": [],
   "source": [
    "# 显示结果\n",
    "# importance_df"
   ],
   "metadata": {
    "collapsed": false,
    "ExecuteTime": {
     "end_time": "2024-08-14T17:12:36.360668Z",
     "start_time": "2024-08-14T17:12:36.354640Z"
    }
   },
   "id": "c800b035b7bce9d5",
   "execution_count": 59
  },
  {
   "cell_type": "code",
   "outputs": [
    {
     "data": {
      "text/plain": "array([[1.81000000e+02, 2.88827362e+01, 1.17030945e+01, 5.52400017e+01],\n       [6.55350000e+04, 2.84086761e+01, 1.15134706e+01, 5.47369995e+01],\n       [6.55350000e+04, 2.78414173e+01, 1.12865667e+01, 5.41160011e+01],\n       ...,\n       [6.55350000e+04, 8.35458040e-02, 1.83418334e-01, 1.90300000e+00],\n       [6.55350000e+04, 1.34665489e-01, 2.03866199e-01, 1.94400001e+00],\n       [6.55350000e+04, 1.29756327e+01, 5.34025335e+00, 1.47709999e+01]],\n      dtype=float32)"
     },
     "execution_count": 60,
     "metadata": {},
     "output_type": "execute_result"
    }
   ],
   "source": [
    "# 读取数据\n",
    "X "
   ],
   "metadata": {
    "collapsed": false,
    "ExecuteTime": {
     "end_time": "2024-08-14T17:12:36.368775Z",
     "start_time": "2024-08-14T17:12:36.361172Z"
    }
   },
   "id": "2e5452259f844adf",
   "execution_count": 60
  },
  {
   "cell_type": "code",
   "outputs": [
    {
     "data": {
      "text/plain": "array([[ 8.99990701, 14.6003705 , 69.43959655,  0.40486841],\n       [ 8.99925483, 14.600463  , 69.43653002,  0.40505876],\n       [ 8.99860355, 14.60055833, 69.43345515,  0.40524862],\n       ...,\n       [ 8.86748666, 14.82650657, 67.81233419,  0.42656228],\n       [ 8.86716808, 14.82715992, 67.80830767,  0.42660798],\n       [ 8.86684982, 14.82781394, 67.80427948,  0.42665352]])"
     },
     "execution_count": 61,
     "metadata": {},
     "output_type": "execute_result"
    }
   ],
   "source": [
    "Y"
   ],
   "metadata": {
    "collapsed": false,
    "ExecuteTime": {
     "end_time": "2024-08-14T17:12:36.375536Z",
     "start_time": "2024-08-14T17:12:36.369778Z"
    }
   },
   "id": "9084eec00c7f2739",
   "execution_count": 61
  },
  {
   "cell_type": "code",
   "outputs": [],
   "source": [
    "from sklearn.metrics import mean_squared_error, r2_score, mean_absolute_error, make_scorer\n",
    "from skopt import BayesSearchCV\n",
    "from skopt.space import Integer, Categorical\n",
    "from sklearn.ensemble import RandomForestRegressor\n",
    "import numpy as np\n",
    "import matplotlib.pyplot as plt\n",
    "from tqdm import tqdm\n",
    "import pandas as pd\n",
    "import time\n",
    "from datetime import datetime"
   ],
   "metadata": {
    "collapsed": false,
    "ExecuteTime": {
     "end_time": "2024-08-14T17:12:36.382411Z",
     "start_time": "2024-08-14T17:12:36.376552Z"
    }
   },
   "id": "6542f33bffcd7a8f",
   "execution_count": 62
  },
  {
   "cell_type": "code",
   "outputs": [],
   "source": [
    "# 定义进度条回调函数\n",
    "class TqdmProgressCallback:\n",
    "    def __init__(self, total_iterations, model_idx):\n",
    "        self.pbar = tqdm(total=total_iterations, desc=f\"Optimizing Model {model_idx+1}\")\n",
    "\n",
    "    def __call__(self, result):\n",
    "        self.pbar.update(1)\n",
    "\n",
    "    def close(self):\n",
    "        self.pbar.close()"
   ],
   "metadata": {
    "collapsed": false,
    "ExecuteTime": {
     "end_time": "2024-08-14T17:12:52.075699Z",
     "start_time": "2024-08-14T17:12:52.070932Z"
    }
   },
   "id": "7545e8dd26260ab2",
   "execution_count": 67
  },
  {
   "cell_type": "code",
   "outputs": [],
   "source": [
    "# 定义随机森林的超参数搜索空间\n",
    "search_space = {\n",
    "    'n_estimators': Integer(100, 300),  # 决策树数量\n",
    "    'max_depth': Integer(10, 30),  # 最大深度\n",
    "    'max_features': Categorical(['sqrt', 'log2', None]), # 最大特征数，None表示使用所有特征\n",
    "    'min_samples_split': Integer(2, 10),  # 最小分裂样本数\n",
    "    'min_samples_leaf': Integer(1, 4),  # 最小叶子节点样本数\n",
    "    # 'bootstrap': Categorical([True])  # 由于袋外估计必须使用自助采样法，因此固定其值\n",
    "}\n"
   ],
   "metadata": {
    "collapsed": false,
    "ExecuteTime": {
     "end_time": "2024-08-14T17:12:52.741502Z",
     "start_time": "2024-08-14T17:12:52.735838Z"
    }
   },
   "id": "6935f5dbc2fd528d",
   "execution_count": 68
  },
  {
   "cell_type": "code",
   "outputs": [],
   "source": [
    "# 初始化随机森林模型\n",
    "model = RandomForestRegressor(random_state=42, oob_score=True)\n",
    "\n",
    "# 用于存储每个模型的结果\n",
    "# all_results = []\n",
    "best_metrics_results = []\n",
    "\n",
    "# 用于储存模型的特征重要性\n",
    "importance_matrix = np.zeros((4, 4))\n",
    "\n",
    "n_iter = 10  # 迭代次数\n"
   ],
   "metadata": {
    "collapsed": false,
    "ExecuteTime": {
     "end_time": "2024-08-14T17:12:54.936598Z",
     "start_time": "2024-08-14T17:12:54.931409Z"
    }
   },
   "id": "129b5c4a78914765",
   "execution_count": 69
  },
  {
   "cell_type": "code",
   "outputs": [],
   "source": [
    "scoring = {\n",
    "    'mse': 'neg_mean_squared_error',  # Mean Squared Error 均方误差\n",
    "    'r2': 'r2',  # R² Coefficient of Determination 决定系数\n",
    "    'mae': 'neg_mean_absolute_error',  # Mean Absolute Error 平均绝对误差\n",
    "}"
   ],
   "metadata": {
    "collapsed": false,
    "ExecuteTime": {
     "end_time": "2024-08-14T17:12:55.451541Z",
     "start_time": "2024-08-14T17:12:55.448532Z"
    }
   },
   "id": "be7f80815e0a9186",
   "execution_count": 70
  },
  {
   "cell_type": "code",
   "outputs": [],
   "source": [
    "# 使用贝叶斯优化进行超参数搜索\n",
    "bayes_search = BayesSearchCV(\n",
    "    estimator=model,\n",
    "    search_spaces=search_space,\n",
    "    n_iter=n_iter,  # 迭代次数\n",
    "    cv=5,  # 5 折交叉验证\n",
    "    n_jobs=-1,  # 使用所有可用的核\n",
    "    verbose=0,  # 显示详细信息\n",
    "    scoring=scoring, # 评分标准\n",
    "    refit='r2' # 使用负均方误差作为评分, 这样scoring里的值都会被计算和储存，但是只使用mse作为优化标准\n",
    ")"
   ],
   "metadata": {
    "collapsed": false,
    "ExecuteTime": {
     "end_time": "2024-08-14T17:12:57.986676Z",
     "start_time": "2024-08-14T17:12:57.982930Z"
    }
   },
   "id": "969d18c3a8cb3b9e",
   "execution_count": 71
  },
  {
   "cell_type": "code",
   "outputs": [
    {
     "name": "stdout",
     "output_type": "stream",
     "text": [
      "Optimizing model\n"
     ]
    },
    {
     "name": "stderr",
     "output_type": "stream",
     "text": [
      "Optimizing Model 1:   0%|          | 0/10 [00:00<?, ?it/s]"
     ]
    },
    {
     "name": "stdout",
     "output_type": "stream",
     "text": [
      "----------start fit----------\n"
     ]
    },
    {
     "name": "stderr",
     "output_type": "stream",
     "text": [
      "Optimizing Model 1: 100%|██████████| 10/10 [08:22<00:00, 50.20s/it]"
     ]
    },
    {
     "name": "stdout",
     "output_type": "stream",
     "text": [
      "----------end fit----------\n",
      "CPU times: total: 8.33 s\n",
      "Wall time: 8min 22s\n"
     ]
    },
    {
     "name": "stderr",
     "output_type": "stream",
     "text": [
      "\n"
     ]
    }
   ],
   "source": [
    "%%time\n",
    "# 开始贝叶斯优化并找到最佳参数\n",
    "print(\"Optimizing model\")\n",
    "progress_callback = TqdmProgressCallback(total_iterations=n_iter, model_idx=0)\n",
    "\n",
    "# 第一次贝叶斯优化\n",
    "print('----------start fit----------')\n",
    "bayes_search.fit(X, Y[:, 0], callback=[progress_callback])\n",
    "print('----------end fit----------')\n",
    "\n",
    "# 显式关闭进度条\n",
    "progress_callback.close()\n"
   ],
   "metadata": {
    "collapsed": false,
    "ExecuteTime": {
     "end_time": "2024-08-14T17:21:22.560143Z",
     "start_time": "2024-08-14T17:13:00.547681Z"
    }
   },
   "id": "1b0074cf1088d818",
   "execution_count": 72
  },
  {
   "cell_type": "code",
   "outputs": [],
   "source": [
    "# 提取优化后的最佳参数\n",
    "best_params = bayes_search.best_params_"
   ],
   "metadata": {
    "collapsed": false,
    "ExecuteTime": {
     "end_time": "2024-08-14T20:54:46.468138Z",
     "start_time": "2024-08-14T20:54:46.463300Z"
    }
   },
   "id": "a0855101175ff84",
   "execution_count": 73
  },
  {
   "cell_type": "code",
   "outputs": [
    {
     "data": {
      "text/plain": "OrderedDict([('max_depth', 12),\n             ('max_features', 'sqrt'),\n             ('min_samples_leaf', 2),\n             ('min_samples_split', 7),\n             ('n_estimators', 131)])"
     },
     "execution_count": 74,
     "metadata": {},
     "output_type": "execute_result"
    }
   ],
   "source": [
    "# 打印最佳参数\n",
    "best_params"
   ],
   "metadata": {
    "collapsed": false,
    "ExecuteTime": {
     "end_time": "2024-08-14T20:54:47.135315Z",
     "start_time": "2024-08-14T20:54:47.131407Z"
    }
   },
   "id": "c04856b2e33d79bc",
   "execution_count": 74
  },
  {
   "cell_type": "code",
   "outputs": [
    {
     "data": {
      "text/plain": "{'mean_fit_time': array([26.07102556, 26.71393347, 21.49452224, 23.38263097, 91.12862883,\n        40.28856587, 50.70873618, 54.05480943, 76.77693958, 42.47910185]),\n 'std_fit_time': array([0.58751919, 0.19123942, 0.1800638 , 0.19335246, 1.98492229,\n        0.63811943, 0.21464187, 0.355173  , 1.4140623 , 0.52541784]),\n 'mean_score_time': array([0.40677166, 0.32974148, 0.24988723, 0.26383009, 0.7181982 ,\n        0.49058671, 0.52025318, 0.66630697, 1.04722819, 0.58329701]),\n 'std_score_time': array([0.0364561 , 0.02341175, 0.02589138, 0.0341603 , 0.14900128,\n        0.1772154 , 0.04330057, 0.07262198, 0.15634196, 0.07996702]),\n 'param_max_depth': masked_array(data=[27, 15, 12, 12, 18, 12, 12, 14, 19, 19],\n              mask=[False, False, False, False, False, False, False, False,\n                    False, False],\n        fill_value=999999),\n 'param_max_features': masked_array(data=['log2', 'sqrt', 'log2', 'sqrt', None, 'log2', 'log2',\n                    'log2', 'sqrt', 'log2'],\n              mask=[False, False, False, False, False, False, False, False,\n                    False, False],\n        fill_value='?',\n             dtype=object),\n 'param_min_samples_leaf': masked_array(data=[2, 2, 2, 2, 3, 1, 2, 4, 3, 4],\n              mask=[False, False, False, False, False, False, False, False,\n                    False, False],\n        fill_value=999999),\n 'param_min_samples_split': masked_array(data=[8, 9, 8, 7, 8, 7, 8, 4, 2, 8],\n              mask=[False, False, False, False, False, False, False, False,\n                    False, False],\n        fill_value=999999),\n 'param_n_estimators': masked_array(data=[107, 143, 130, 131, 200, 206, 276, 274, 291, 165],\n              mask=[False, False, False, False, False, False, False, False,\n                    False, False],\n        fill_value=999999),\n 'params': [OrderedDict([('max_depth', 27),\n               ('max_features', 'log2'),\n               ('min_samples_leaf', 2),\n               ('min_samples_split', 8),\n               ('n_estimators', 107)]),\n  OrderedDict([('max_depth', 15),\n               ('max_features', 'sqrt'),\n               ('min_samples_leaf', 2),\n               ('min_samples_split', 9),\n               ('n_estimators', 143)]),\n  OrderedDict([('max_depth', 12),\n               ('max_features', 'log2'),\n               ('min_samples_leaf', 2),\n               ('min_samples_split', 8),\n               ('n_estimators', 130)]),\n  OrderedDict([('max_depth', 12),\n               ('max_features', 'sqrt'),\n               ('min_samples_leaf', 2),\n               ('min_samples_split', 7),\n               ('n_estimators', 131)]),\n  OrderedDict([('max_depth', 18),\n               ('max_features', None),\n               ('min_samples_leaf', 3),\n               ('min_samples_split', 8),\n               ('n_estimators', 200)]),\n  OrderedDict([('max_depth', 12),\n               ('max_features', 'log2'),\n               ('min_samples_leaf', 1),\n               ('min_samples_split', 7),\n               ('n_estimators', 206)]),\n  OrderedDict([('max_depth', 12),\n               ('max_features', 'log2'),\n               ('min_samples_leaf', 2),\n               ('min_samples_split', 8),\n               ('n_estimators', 276)]),\n  OrderedDict([('max_depth', 14),\n               ('max_features', 'log2'),\n               ('min_samples_leaf', 4),\n               ('min_samples_split', 4),\n               ('n_estimators', 274)]),\n  OrderedDict([('max_depth', 19),\n               ('max_features', 'sqrt'),\n               ('min_samples_leaf', 3),\n               ('min_samples_split', 2),\n               ('n_estimators', 291)]),\n  OrderedDict([('max_depth', 19),\n               ('max_features', 'log2'),\n               ('min_samples_leaf', 4),\n               ('min_samples_split', 8),\n               ('n_estimators', 165)])],\n 'split0_test_mse': array([-0.00315614, -0.00304637, -0.00296848, -0.00298067, -0.00334233,\n        -0.00297517, -0.00297619, -0.00300798, -0.00309799, -0.00307356]),\n 'split1_test_mse': array([-0.00370179, -0.00323214, -0.00294446, -0.00294966, -0.00373365,\n        -0.00294474, -0.00294214, -0.00315056, -0.00354496, -0.00350152]),\n 'split2_test_mse': array([-0.00329228, -0.0031505 , -0.00312291, -0.00311261, -0.00327422,\n        -0.00311226, -0.00312117, -0.0031527 , -0.00320675, -0.00319703]),\n 'split3_test_mse': array([-0.00306912, -0.00286618, -0.00278685, -0.00278481, -0.00302339,\n        -0.00279229, -0.00278954, -0.00284625, -0.00295531, -0.00295478]),\n 'split4_test_mse': array([-0.00406558, -0.00375271, -0.00361434, -0.00358927, -0.00394   ,\n        -0.00361365, -0.00360033, -0.00369968, -0.00388831, -0.00389908]),\n 'mean_test_mse': array([-0.00345698, -0.00320958, -0.00308741, -0.0030834 , -0.00346272,\n        -0.00308762, -0.00308587, -0.00317144, -0.00333866, -0.00332519]),\n 'std_test_mse': array([0.00037374, 0.00029784, 0.00028419, 0.00027362, 0.00032992,\n        0.00028199, 0.000278  , 0.00028716, 0.00033673, 0.00033982]),\n 'rank_test_mse': array([ 9,  6,  3,  1, 10,  4,  2,  5,  8,  7]),\n 'split0_test_r2': array([ 0.03451881,  0.06809758,  0.09192472,  0.08819461, -0.02243755,\n         0.0898783 ,  0.089565  ,  0.07984007,  0.05230548,  0.0597796 ]),\n 'split1_test_r2': array([-0.18605054, -0.0355737 ,  0.05659592,  0.05493211, -0.19626001,\n         0.05650702,  0.05734193, -0.00943663, -0.13580233, -0.12188438]),\n 'split2_test_r2': array([-0.14462087, -0.09532827, -0.08573688, -0.08215639, -0.13834277,\n        -0.08203328, -0.08513211, -0.0960946 , -0.11488502, -0.11150438]),\n 'split3_test_r2': array([-0.19930918, -0.12000913, -0.08900767, -0.08821273, -0.18144168,\n        -0.0911352 , -0.09006017, -0.11222143, -0.15483654, -0.15462901]),\n 'split4_test_r2': array([-0.84665504, -0.70454527, -0.64169711, -0.63030767, -0.78961784,\n        -0.64138333, -0.6353334 , -0.68046095, -0.76613659, -0.77102759]),\n 'mean_test_r2': array([-0.26842336, -0.17747176, -0.1335842 , -0.13151001, -0.26561997,\n        -0.1336333 , -0.13272375, -0.16367471, -0.223871  , -0.21985315]),\n 'std_test_r2': array([0.3010033 , 0.27140205, 0.26437773, 0.25928376, 0.26900102,\n        0.26396573, 0.26162525, 0.26734673, 0.2809716 , 0.28550981]),\n 'rank_test_r2': array([10,  6,  3,  1,  9,  4,  2,  5,  8,  7]),\n 'split0_test_mae': array([-0.04216796, -0.04117714, -0.04068462, -0.04072028, -0.04330805,\n        -0.04064553, -0.04073971, -0.04090927, -0.04166152, -0.04147892]),\n 'split1_test_mae': array([-0.04868957, -0.04617966, -0.04474882, -0.04476162, -0.04889007,\n        -0.0447271 , -0.0446924 , -0.04576071, -0.04785136, -0.04762282]),\n 'split2_test_mae': array([-0.04759627, -0.04734019, -0.04758768, -0.04750625, -0.04737072,\n        -0.04741837, -0.04755545, -0.04753451, -0.0473335 , -0.04730911]),\n 'split3_test_mae': array([-0.04663049, -0.04538724, -0.04489832, -0.04487014, -0.04644633,\n        -0.04494134, -0.04489243, -0.04526631, -0.04599692, -0.04598231]),\n 'split4_test_mae': array([-0.05376062, -0.05260743, -0.0520376 , -0.05179902, -0.05304619,\n        -0.05204619, -0.05194746, -0.05238508, -0.05304927, -0.05314944]),\n 'mean_test_mae': array([-0.04776898, -0.04653833, -0.04599141, -0.04593146, -0.04781227,\n        -0.0459557 , -0.04596549, -0.04637118, -0.04717851, -0.04710852]),\n 'std_test_mae': array([0.00372679, 0.00367894, 0.0037418 , 0.00364855, 0.00319075,\n        0.00374085, 0.00369846, 0.00371339, 0.00365447, 0.00373519]),\n 'rank_test_mae': array([ 9,  6,  4,  1, 10,  2,  3,  5,  8,  7])}"
     },
     "execution_count": 75,
     "metadata": {},
     "output_type": "execute_result"
    }
   ],
   "source": [
    "# \n",
    "bayes_search.cv_results_"
   ],
   "metadata": {
    "collapsed": false,
    "ExecuteTime": {
     "end_time": "2024-08-14T20:54:48.796975Z",
     "start_time": "2024-08-14T20:54:48.790165Z"
    }
   },
   "id": "f0adba3c9c549d53",
   "execution_count": 75
  },
  {
   "cell_type": "markdown",
   "source": [
    "## 储存某次的R2标准优化结果\n",
    "{'mean_fit_time': array([26.07102556, 26.71393347, 21.49452224, 23.38263097, 91.12862883,\n",
    "        40.28856587, 50.70873618, 54.05480943, 76.77693958, 42.47910185]),\n",
    " 'std_fit_time': array([0.58751919, 0.19123942, 0.1800638 , 0.19335246, 1.98492229,\n",
    "        0.63811943, 0.21464187, 0.355173  , 1.4140623 , 0.52541784]),\n",
    " 'mean_score_time': array([0.40677166, 0.32974148, 0.24988723, 0.26383009, 0.7181982 ,\n",
    "        0.49058671, 0.52025318, 0.66630697, 1.04722819, 0.58329701]),\n",
    " 'std_score_time': array([0.0364561 , 0.02341175, 0.02589138, 0.0341603 , 0.14900128,\n",
    "        0.1772154 , 0.04330057, 0.07262198, 0.15634196, 0.07996702]),\n",
    " 'param_max_depth': masked_array(data=[27, 15, 12, 12, 18, 12, 12, 14, 19, 19],\n",
    "              mask=[False, False, False, False, False, False, False, False,\n",
    "                    False, False],\n",
    "        fill_value=999999),\n",
    " 'param_max_features': masked_array(data=['log2', 'sqrt', 'log2', 'sqrt', None, 'log2', 'log2',\n",
    "                    'log2', 'sqrt', 'log2'],\n",
    "              mask=[False, False, False, False, False, False, False, False,\n",
    "                    False, False],\n",
    "        fill_value='?',\n",
    "             dtype=object),\n",
    " 'param_min_samples_leaf': masked_array(data=[2, 2, 2, 2, 3, 1, 2, 4, 3, 4],\n",
    "              mask=[False, False, False, False, False, False, False, False,\n",
    "                    False, False],\n",
    "        fill_value=999999),\n",
    " 'param_min_samples_split': masked_array(data=[8, 9, 8, 7, 8, 7, 8, 4, 2, 8],\n",
    "              mask=[False, False, False, False, False, False, False, False,\n",
    "                    False, False],\n",
    "        fill_value=999999),\n",
    " 'param_n_estimators': masked_array(data=[107, 143, 130, 131, 200, 206, 276, 274, 291, 165],\n",
    "              mask=[False, False, False, False, False, False, False, False,\n",
    "                    False, False],\n",
    "        fill_value=999999),\n",
    " 'params': [OrderedDict([('max_depth', 27),\n",
    "               ('max_features', 'log2'),\n",
    "               ('min_samples_leaf', 2),\n",
    "               ('min_samples_split', 8),\n",
    "               ('n_estimators', 107)]),\n",
    "  OrderedDict([('max_depth', 15),\n",
    "               ('max_features', 'sqrt'),\n",
    "               ('min_samples_leaf', 2),\n",
    "               ('min_samples_split', 9),\n",
    "               ('n_estimators', 143)]),\n",
    "  OrderedDict([('max_depth', 12),\n",
    "               ('max_features', 'log2'),\n",
    "               ('min_samples_leaf', 2),\n",
    "               ('min_samples_split', 8),\n",
    "               ('n_estimators', 130)]),\n",
    "  OrderedDict([('max_depth', 12),\n",
    "               ('max_features', 'sqrt'),\n",
    "               ('min_samples_leaf', 2),\n",
    "               ('min_samples_split', 7),\n",
    "               ('n_estimators', 131)]),\n",
    "  OrderedDict([('max_depth', 18),\n",
    "               ('max_features', None),\n",
    "               ('min_samples_leaf', 3),\n",
    "               ('min_samples_split', 8),\n",
    "               ('n_estimators', 200)]),\n",
    "  OrderedDict([('max_depth', 12),\n",
    "               ('max_features', 'log2'),\n",
    "               ('min_samples_leaf', 1),\n",
    "               ('min_samples_split', 7),\n",
    "               ('n_estimators', 206)]),\n",
    "  OrderedDict([('max_depth', 12),\n",
    "               ('max_features', 'log2'),\n",
    "               ('min_samples_leaf', 2),\n",
    "               ('min_samples_split', 8),\n",
    "               ('n_estimators', 276)]),\n",
    "  OrderedDict([('max_depth', 14),\n",
    "               ('max_features', 'log2'),\n",
    "               ('min_samples_leaf', 4),\n",
    "               ('min_samples_split', 4),\n",
    "               ('n_estimators', 274)]),\n",
    "  OrderedDict([('max_depth', 19),\n",
    "               ('max_features', 'sqrt'),\n",
    "               ('min_samples_leaf', 3),\n",
    "               ('min_samples_split', 2),\n",
    "               ('n_estimators', 291)]),\n",
    "  OrderedDict([('max_depth', 19),\n",
    "               ('max_features', 'log2'),\n",
    "               ('min_samples_leaf', 4),\n",
    "               ('min_samples_split', 8),\n",
    "               ('n_estimators', 165)])],\n",
    "               \n",
    " 'split0_test_mse': array([-0.00315614, -0.00304637, -0.00296848, -0.00298067, -0.00334233,\n",
    "        -0.00297517, -0.00297619, -0.00300798, -0.00309799, -0.00307356]),\n",
    " 'split1_test_mse': array([-0.00370179, -0.00323214, -0.00294446, -0.00294966, -0.00373365,\n",
    "        -0.00294474, -0.00294214, -0.00315056, -0.00354496, -0.00350152]),\n",
    " 'split2_test_mse': array([-0.00329228, -0.0031505 , -0.00312291, -0.00311261, -0.00327422,\n",
    "        -0.00311226, -0.00312117, -0.0031527 , -0.00320675, -0.00319703]),\n",
    " 'split3_test_mse': array([-0.00306912, -0.00286618, -0.00278685, -0.00278481, -0.00302339,\n",
    "        -0.00279229, -0.00278954, -0.00284625, -0.00295531, -0.00295478]),\n",
    " 'split4_test_mse': array([-0.00406558, -0.00375271, -0.00361434, -0.00358927, -0.00394   ,\n",
    "        -0.00361365, -0.00360033, -0.00369968, -0.00388831, -0.00389908]),\n",
    " 'mean_test_mse': array([-0.00345698, -0.00320958, -0.00308741, -0.0030834 , -0.00346272,\n",
    "        -0.00308762, -0.00308587, -0.00317144, -0.00333866, -0.00332519]),\n",
    " 'std_test_mse': array([0.00037374, 0.00029784, 0.00028419, 0.00027362, 0.00032992,\n",
    "        0.00028199, 0.000278  , 0.00028716, 0.00033673, 0.00033982]),\n",
    " 'rank_test_mse': array([ 9,  6,  3,  1, 10,  4,  2,  5,  8,  7]),\n",
    " \n",
    " 'split0_test_r2': array([ 0.03451881,  0.06809758,  0.09192472,  0.08819461, -0.02243755,\n",
    "         0.0898783 ,  0.089565  ,  0.07984007,  0.05230548,  0.0597796 ]),\n",
    " 'split1_test_r2': array([-0.18605054, -0.0355737 ,  0.05659592,  0.05493211, -0.19626001,\n",
    "         0.05650702,  0.05734193, -0.00943663, -0.13580233, -0.12188438]),\n",
    " 'split2_test_r2': array([-0.14462087, -0.09532827, -0.08573688, -0.08215639, -0.13834277,\n",
    "        -0.08203328, -0.08513211, -0.0960946 , -0.11488502, -0.11150438]),\n",
    " 'split3_test_r2': array([-0.19930918, -0.12000913, -0.08900767, -0.08821273, -0.18144168,\n",
    "        -0.0911352 , -0.09006017, -0.11222143, -0.15483654, -0.15462901]),\n",
    " 'split4_test_r2': array([-0.84665504, -0.70454527, -0.64169711, -0.63030767, -0.78961784,\n",
    "        -0.64138333, -0.6353334 , -0.68046095, -0.76613659, -0.77102759]),\n",
    " 'mean_test_r2': array([-0.26842336, -0.17747176, -0.1335842 , -0.13151001, -0.26561997,\n",
    "        -0.1336333 , -0.13272375, -0.16367471, -0.223871  , -0.21985315]),\n",
    " 'std_test_r2': array([0.3010033 , 0.27140205, 0.26437773, 0.25928376, 0.26900102,\n",
    "        0.26396573, 0.26162525, 0.26734673, 0.2809716 , 0.28550981]),\n",
    " 'rank_test_r2': array([10,  6,  3,  1,  9,  4,  2,  5,  8,  7]),\n",
    " \n",
    " 'split0_test_mae': array([-0.04216796, -0.04117714, -0.04068462, -0.04072028, -0.04330805,\n",
    "        -0.04064553, -0.04073971, -0.04090927, -0.04166152, -0.04147892]),\n",
    " 'split1_test_mae': array([-0.04868957, -0.04617966, -0.04474882, -0.04476162, -0.04889007,\n",
    "        -0.0447271 , -0.0446924 , -0.04576071, -0.04785136, -0.04762282]),\n",
    " 'split2_test_mae': array([-0.04759627, -0.04734019, -0.04758768, -0.04750625, -0.04737072,\n",
    "        -0.04741837, -0.04755545, -0.04753451, -0.0473335 , -0.04730911]),\n",
    " 'split3_test_mae': array([-0.04663049, -0.04538724, -0.04489832, -0.04487014, -0.04644633,\n",
    "        -0.04494134, -0.04489243, -0.04526631, -0.04599692, -0.04598231]),\n",
    " 'split4_test_mae': array([-0.05376062, -0.05260743, -0.0520376 , -0.05179902, -0.05304619,\n",
    "        -0.05204619, -0.05194746, -0.05238508, -0.05304927, -0.05314944]),\n",
    " 'mean_test_mae': array([-0.04776898, -0.04653833, -0.04599141, -0.04593146, -0.04781227,\n",
    "        -0.0459557 , -0.04596549, -0.04637118, -0.04717851, -0.04710852]),\n",
    " 'std_test_mae': array([0.00372679, 0.00367894, 0.0037418 , 0.00364855, 0.00319075,\n",
    "        0.00374085, 0.00369846, 0.00371339, 0.00365447, 0.00373519]),\n",
    " 'rank_test_mae': array([ 9,  6,  4,  1, 10,  2,  3,  5,  8,  7])}\n",
    "\n",
    "\n",
    "\n",
    "\n",
    "bayes_search.cv_results_={\n",
    " 'mean_fit_time': array([ 28.55289884, 155.50317574,  52.50600681,  91.00274124,\n",
    "         66.90605783,  23.31525884,  74.57730494,  23.05400348,\n",
    "         44.88403435,  39.85511346]),\n",
    " 'std_fit_time': array([0.54538374, 7.96362842, 0.64139296, 1.40312096, 1.6577354 ,\n",
    "        0.30543965, 0.77421921, 0.1786838 , 2.19447796, 0.61888006]),\n",
    " 'mean_score_time': array([0.43226819, 1.38214898, 0.56199446, 1.42403045, 0.95648804,\n",
    "        0.27831697, 1.14831452, 0.23273978, 0.55242758, 0.50476799]),\n",
    " 'std_score_time': array([0.01843124, 0.14913223, 0.05973453, 0.25503474, 0.11458144,\n",
    "        0.08118022, 0.10377971, 0.0228234 , 0.0392118 , 0.06492125]),\n",
    " 'param_max_depth': masked_array(data=[22, 30, 13, 28, 30, 12, 20, 11, 14, 14],\n",
    "              mask=[False, False, False, False, False, False, False, False,\n",
    "                    False, False],\n",
    "        fill_value=999999),\n",
    " 'param_max_features': masked_array(data=['sqrt', None, 'log2', 'sqrt', 'log2', 'log2', 'sqrt',\n",
    "                    'log2', 'log2', 'sqrt'],\n",
    "              mask=[False, False, False, False, False, False, False, False,\n",
    "                    False, False],\n",
    "        fill_value='?',\n",
    "             dtype=object),\n",
    " 'param_min_samples_leaf': masked_array(data=[2, 2, 2, 1, 4, 4, 2, 4, 1, 4],\n",
    "              mask=[False, False, False, False, False, False, False, False,\n",
    "                    False, False],\n",
    "        fill_value=999999),\n",
    " 'param_min_samples_split': masked_array(data=[7, 6, 9, 4, 8, 6, 4, 4, 5, 3],\n",
    "              mask=[False, False, False, False, False, False, False, False,\n",
    "                    False, False],\n",
    "        fill_value=999999),\n",
    " 'param_n_estimators': masked_array(data=[122, 299, 280, 288, 232, 122, 294, 143, 214, 208],\n",
    "              mask=[False, False, False, False, False, False, False, False,\n",
    "                    False, False],\n",
    "        fill_value=999999),\n",
    " 'params': [OrderedDict([('max_depth', 22),\n",
    "               ('max_features', 'sqrt'),\n",
    "               ('min_samples_leaf', 2),\n",
    "               ('min_samples_split', 7),\n",
    "               ('n_estimators', 122)]),\n",
    "  OrderedDict([('max_depth', 30),\n",
    "               ('max_features', None),\n",
    "               ('min_samples_leaf', 2),\n",
    "               ('min_samples_split', 6),\n",
    "               ('n_estimators', 299)]),\n",
    "  OrderedDict([('max_depth', 13),\n",
    "               ('max_features', 'log2'),\n",
    "               ('min_samples_leaf', 2),\n",
    "               ('min_samples_split', 9),\n",
    "               ('n_estimators', 280)]),\n",
    "  OrderedDict([('max_depth', 28),\n",
    "               ('max_features', 'sqrt'),\n",
    "               ('min_samples_leaf', 1),\n",
    "               ('min_samples_split', 4),\n",
    "               ('n_estimators', 288)]),\n",
    "  OrderedDict([('max_depth', 30),\n",
    "               ('max_features', 'log2'),\n",
    "               ('min_samples_leaf', 4),\n",
    "               ('min_samples_split', 8),\n",
    "               ('n_estimators', 232)]),\n",
    "  OrderedDict([('max_depth', 12),\n",
    "               ('max_features', 'log2'),\n",
    "               ('min_samples_leaf', 4),\n",
    "               ('min_samples_split', 6),\n",
    "               ('n_estimators', 122)]),\n",
    "  OrderedDict([('max_depth', 20),\n",
    "               ('max_features', 'sqrt'),\n",
    "               ('min_samples_leaf', 2),\n",
    "               ('min_samples_split', 4),\n",
    "               ('n_estimators', 294)]),\n",
    "  OrderedDict([('max_depth', 11),\n",
    "               ('max_features', 'log2'),\n",
    "               ('min_samples_leaf', 4),\n",
    "               ('min_samples_split', 4),\n",
    "               ('n_estimators', 143)]),\n",
    "  OrderedDict([('max_depth', 14),\n",
    "               ('max_features', 'log2'),\n",
    "               ('min_samples_leaf', 1),\n",
    "               ('min_samples_split', 5),\n",
    "               ('n_estimators', 214)]),\n",
    "  OrderedDict([('max_depth', 14),\n",
    "               ('max_features', 'sqrt'),\n",
    "               ('min_samples_leaf', 4),\n",
    "               ('min_samples_split', 3),\n",
    "               ('n_estimators', 208)])],\n",
    " 'split0_test_mse': array([-0.00314969, -0.003404  , -0.00299522, -0.00320047, -0.00309079,\n",
    "        -0.00297859, -0.00314615, -0.00293712, -0.00305422, -0.00301126]),\n",
    " 'split1_test_mse': array([-0.00367954, -0.0039521 , -0.00304658, -0.00379419, -0.00366611,\n",
    "        -0.00295142, -0.00361088, -0.00284054, -0.0031712 , -0.00314926]),\n",
    " 'split2_test_mse': array([-0.00325977, -0.00342563, -0.0031388 , -0.00335028, -0.00329055,\n",
    "        -0.00311705, -0.00322929, -0.00310303, -0.00314138, -0.00315347]),\n",
    " 'split3_test_mse': array([-0.00301282, -0.00318465, -0.00281375, -0.00310288, -0.00305586,\n",
    "        -0.00279048, -0.00298284, -0.0027541 , -0.00284909, -0.00284888]),\n",
    " 'split4_test_mse': array([-0.00397664, -0.00420554, -0.00364901, -0.00413234, -0.00407106,\n",
    "        -0.00360221, -0.00394333, -0.00353378, -0.00371502, -0.00370656]),\n",
    " 'mean_test_mse': array([-0.00341569, -0.00363438, -0.00312867, -0.00351603, -0.00343487,\n",
    "        -0.00308795, -0.0033825 , -0.00303372, -0.00318618, -0.00317389]),\n",
    " 'std_test_mse': array([0.00035823, 0.00038107, 0.00028092, 0.00038858, 0.00038499,\n",
    "        0.00027727, 0.00034807, 0.00027557, 0.00028738, 0.00028874]),\n",
    " 'rank_test_mse': array([ 7, 10,  3,  9,  8,  2,  6,  1,  5,  4]),\n",
    " \n",
    "\n",
    "splitX_test_mse：\n",
    "- 含义：split0_test_mse、split1_test_mse 等是不同折交叉验证中，在每一折上对测试集计算的均方误差（MSE）。其中的 X 表示折数（从0开始）。\n",
    "- 负号的原因：Scikit-Learn 在进行优化时，通常希望最大化评分。因此，对于需要最小化的损失函数（如MSE），Scikit-Learn 会将其存储为负值，以便与其他评分方式（如R²）一致地进行优化。\n",
    "- 值：这些数组中的每个值对应于一个超参数组合在该折交叉验证中的MSE。\n",
    "\n",
    "mean_test_mse：\n",
    "- 含义：这是所有交叉验证折的测试集均方误差（MSE）的平均值。该值通常用于评估每个超参数组合的整体表现。\n",
    "- 负号的原因：同样，MSE 是损失函数，因此 Scikit-Learn 存储其为负值以便于优化。你可以通过取反来得到实际的均方误差。\n",
    "\n",
    "std_test_mse：\n",
    "- 含义：这是在所有交叉验证折上计算的 MSE 标准差，表示该超参数组合在不同交叉验证折之间的表现一致性。较小的标准差表示该超参数组合在不同数据集上表现更一致。\n",
    "- 值：这些值是标准差，用于衡量模型在不同折上的表现波动。\n",
    "\n",
    "rank_test_mse：\n",
    "- 含义：这是根据 mean_test_mse 对所有超参数组合进行排序后的排名。1 表示表现最好的参数组合，数字越大表示表现越差。\n",
    "- 值：这些值是排名，用于快速识别最佳的参数组合。\n",
    "\n",
    " 'split0_test_r2': array([ 0.03649199, -0.04130479,  0.08374358,  0.02095808,  0.05451029,\n",
    "         0.08883226,  0.03757433,  0.10151746,  0.06569649,  0.07883888]),\n",
    " 'split1_test_r2': array([-0.17892284, -0.26625028,  0.02387768, -0.21565647, -0.17461737,\n",
    "         0.0543681 , -0.15692174,  0.08989159, -0.01605045, -0.00902198]),\n",
    " 'split2_test_r2': array([-0.13331823, -0.19098099, -0.09126124, -0.1647846 , -0.14401791,\n",
    "        -0.08370052, -0.1227201 , -0.07882384, -0.09215823, -0.09636228]),\n",
    " 'split3_test_r2': array([-0.17730976, -0.24445503, -0.09952139, -0.21250353, -0.19412785,\n",
    "        -0.09042801, -0.1655939 , -0.07621163, -0.11332923, -0.11324614]),\n",
    " 'split4_test_r2': array([-0.80625985, -0.910231  , -0.65744157, -0.87698071, -0.84914693,\n",
    "        -0.63618698, -0.7911284 , -0.6051059 , -0.68742769, -0.68358576]),\n",
    " 'mean_test_r2': array([-0.25186374, -0.33064442, -0.14812059, -0.28979345, -0.26147995,\n",
    "        -0.13342303, -0.23975796, -0.11374646, -0.16865382, -0.16467546]),\n",
    " 'std_test_r2': array([0.28824843, 0.30023961, 0.26394966, 0.30608908, 0.30694659,\n",
    "        0.2614404 , 0.28530074, 0.25763135, 0.26692567, 0.26836796]),\n",
    " 'rank_test_r2': array([ 7, 10,  3,  9,  8,  2,  6,  1,  5,  4]),\n",
    " \n",
    "splitX_test_r2：\n",
    "- 含义：split0_test_r2、split1_test_r2 等是不同折交叉验证中，在每一折上对测试集计算的 R² 分数。其中的 X 表示折数（从0开始）。\n",
    "- 值：这些数组中的每个值对应于一个超参数组合在该折交叉验证中的 R² 分数。\n",
    "- 解释各个 R² 分数的含义：\n",
    "    - R² 取值大于 0：表示模型能够解释一部分方差，值越接近 1，表示模型拟合得越好。\n",
    "    - R² 取值等于 0：表示模型的预测能力和简单的平均值模型一样。\n",
    "    - R² 取值小于 0：表示模型的表现还不如直接用平均值预测好，这通常意味着模型不适合当前数据。\n",
    "- 在你的结果中，splitX_test_r2 的某些值为负，这意味着在某些折上，模型的预测效果还不如简单地用目标变量的平均值进行预测。这可能表明模型过拟合、欠拟合，或者数据本身具有很高的噪声。\n",
    "\n",
    "\n",
    "\n",
    "\n",
    "\n",
    "mean_test_r2：\n",
    "- 含义：这是所有交叉验证折的 R² 分数的平均值。该值通常用于评估每个超参数组合的整体表现。\n",
    "- 值：mean_test_r2 反映了模型在交叉验证过程中总体上的拟合优度。负值表示模型总体上并没有很好地拟合数据。\n",
    "\n",
    "std_test_r2：\n",
    "- 含义：这是在所有交叉验证折上计算的 R² 分数的标准差，表示该超参数组合在不同交叉验证折之间的表现一致性。较小的标准差表示该超参数组合在不同数据集上表现更一致。\n",
    "- 值：std_test_r2 的值越小，表示模型在不同折上的表现波动越小，模型的稳定性更好。\n",
    "\n",
    "rank_test_r2：\n",
    "- 含义：这是根据 mean_test_r2 对所有超参数组合进行排序后的排名。1 表示表现最好的参数组合，数字越大表示表现越差。\n",
    "- 值：rank_test_r2 的值用于快速识别最佳的参数组合。排名为 1 的组合是 R² 分数表现最好的组合。\n",
    "\n",
    " 'split0_test_mae': array([-0.04200953, -0.04376363, -0.04087904, -0.04236879, -0.04154537,\n",
    "        -0.04079124, -0.04199233, -0.04052508, -0.04124006, -0.04094894]),\n",
    " 'split1_test_mae': array([-0.04860571, -0.05002574, -0.04522395, -0.04920039, -0.0485336 ,\n",
    "        -0.044706  , -0.0482044 , -0.0442033 , -0.04592036, -0.04575566]),\n",
    " 'split2_test_mae': array([-0.04758374, -0.04798962, -0.04750999, -0.04785285, -0.04759882,\n",
    "        -0.04752959, -0.04740279, -0.04755268, -0.04746269, -0.04753878]),\n",
    " 'split3_test_mae': array([-0.04633569, -0.04719833, -0.04503293, -0.04680706, -0.04649121,\n",
    "        -0.0448956 , -0.04619349, -0.04473143, -0.04532353, -0.04528548]),\n",
    " 'split4_test_mae': array([-0.05339434, -0.05427687, -0.05214694, -0.05407761, -0.05390274,\n",
    "        -0.05193531, -0.05329677, -0.05158406, -0.05249817, -0.0524209 ]),\n",
    " 'mean_test_mae': array([-0.0475858 , -0.04865084, -0.04615857, -0.04806134, -0.04761435,\n",
    "        -0.04597155, -0.04741796, -0.04571931, -0.04648896, -0.04638995]),\n",
    " 'std_test_mae': array([0.00367252, 0.00346336, 0.0036797 , 0.00378192, 0.00396189,\n",
    "        0.00367665, 0.00363637, 0.00368811, 0.00364119, 0.00371265]),\n",
    " 'rank_test_mae': array([ 7, 10,  3,  9,  8,  2,  6,  1,  5,  4])}"
   ],
   "metadata": {
    "collapsed": false
   },
   "id": "3d2e22f04d679025"
  },
  {
   "cell_type": "code",
   "outputs": [],
   "source": [
    "# 获取所有的参数组合列表\n",
    "params_list = bayes_search.cv_results_['params']"
   ],
   "metadata": {
    "collapsed": false,
    "ExecuteTime": {
     "end_time": "2024-08-14T02:40:42.760068Z",
     "start_time": "2024-08-14T02:40:42.757138Z"
    }
   },
   "id": "971848b1ae5b9079",
   "execution_count": 69
  },
  {
   "cell_type": "code",
   "outputs": [
    {
     "data": {
      "text/plain": "[OrderedDict([('max_depth', 22),\n              ('max_features', 'sqrt'),\n              ('min_samples_leaf', 2),\n              ('min_samples_split', 7),\n              ('n_estimators', 122)]),\n OrderedDict([('max_depth', 30),\n              ('max_features', None),\n              ('min_samples_leaf', 2),\n              ('min_samples_split', 6),\n              ('n_estimators', 299)]),\n OrderedDict([('max_depth', 13),\n              ('max_features', 'log2'),\n              ('min_samples_leaf', 2),\n              ('min_samples_split', 9),\n              ('n_estimators', 280)]),\n OrderedDict([('max_depth', 28),\n              ('max_features', 'sqrt'),\n              ('min_samples_leaf', 1),\n              ('min_samples_split', 4),\n              ('n_estimators', 288)]),\n OrderedDict([('max_depth', 30),\n              ('max_features', 'log2'),\n              ('min_samples_leaf', 4),\n              ('min_samples_split', 8),\n              ('n_estimators', 232)]),\n OrderedDict([('max_depth', 12),\n              ('max_features', 'log2'),\n              ('min_samples_leaf', 4),\n              ('min_samples_split', 6),\n              ('n_estimators', 122)]),\n OrderedDict([('max_depth', 20),\n              ('max_features', 'sqrt'),\n              ('min_samples_leaf', 2),\n              ('min_samples_split', 4),\n              ('n_estimators', 294)]),\n OrderedDict([('max_depth', 11),\n              ('max_features', 'log2'),\n              ('min_samples_leaf', 4),\n              ('min_samples_split', 4),\n              ('n_estimators', 143)]),\n OrderedDict([('max_depth', 14),\n              ('max_features', 'log2'),\n              ('min_samples_leaf', 1),\n              ('min_samples_split', 5),\n              ('n_estimators', 214)]),\n OrderedDict([('max_depth', 14),\n              ('max_features', 'sqrt'),\n              ('min_samples_leaf', 4),\n              ('min_samples_split', 3),\n              ('n_estimators', 208)])]"
     },
     "execution_count": 70,
     "metadata": {},
     "output_type": "execute_result"
    }
   ],
   "source": [
    "# 所有的参数组合列表\n",
    "params_list"
   ],
   "metadata": {
    "collapsed": false,
    "ExecuteTime": {
     "end_time": "2024-08-14T02:40:43.446375Z",
     "start_time": "2024-08-14T02:40:43.438244Z"
    }
   },
   "id": "cf5fc80175874981",
   "execution_count": 70
  },
  {
   "cell_type": "code",
   "outputs": [],
   "source": [
    "# 找到 best_params 对应的索引\n",
    "best_iteration = None\n",
    "for i, params in enumerate(params_list):\n",
    "    if params == best_params:\n",
    "        best_iteration = i\n",
    "        break"
   ],
   "metadata": {
    "collapsed": false,
    "ExecuteTime": {
     "end_time": "2024-08-14T02:41:55.934152Z",
     "start_time": "2024-08-14T02:41:55.931105Z"
    }
   },
   "id": "8b80334c0884d290",
   "execution_count": 71
  },
  {
   "cell_type": "code",
   "outputs": [
    {
     "data": {
      "text/plain": "7"
     },
     "execution_count": 72,
     "metadata": {},
     "output_type": "execute_result"
    }
   ],
   "source": [
    "# best_params 对应的索引\n",
    "best_iteration"
   ],
   "metadata": {
    "collapsed": false,
    "ExecuteTime": {
     "end_time": "2024-08-14T02:41:56.610198Z",
     "start_time": "2024-08-14T02:41:56.603725Z"
    }
   },
   "id": "8b24919f119453b2",
   "execution_count": 72
  },
  {
   "cell_type": "code",
   "outputs": [
    {
     "name": "stdout",
     "output_type": "stream",
     "text": [
      "Best MSE: 0.003033715796918525\n",
      "Best R²: -0.1137464641089662\n",
      "Best MAE: 0.0457193135640276\n"
     ]
    }
   ],
   "source": [
    "if best_iteration is not None:\n",
    "    best_mse = -bayes_search.cv_results_['mean_test_mse'][best_iteration]\n",
    "    best_r2 = bayes_search.cv_results_['mean_test_r2'][best_iteration]\n",
    "    best_mae = -bayes_search.cv_results_['mean_test_mae'][best_iteration]\n",
    "\n",
    "    print(f\"Best MSE: {best_mse}\")\n",
    "    print(f\"Best R²: {best_r2}\")\n",
    "    print(f\"Best MAE: {best_mae}\")"
   ],
   "metadata": {
    "collapsed": false,
    "ExecuteTime": {
     "end_time": "2024-08-14T17:07:12.554052Z",
     "start_time": "2024-08-14T17:07:12.549344Z"
    }
   },
   "id": "538304f3d88f3a1a",
   "execution_count": 84
  },
  {
   "cell_type": "code",
   "outputs": [],
   "source": [
    "# 储存每次迭代的评估指标\n",
    "metrics = {\n",
    "    'mse': -bayes_search.cv_results_['mean_test_mse'],\n",
    "    'r2': bayes_search.cv_results_['mean_test_r2'],\n",
    "    'mae': -bayes_search.cv_results_['mean_test_mae'],\n",
    "}"
   ],
   "metadata": {
    "collapsed": false,
    "ExecuteTime": {
     "end_time": "2024-08-14T17:08:21.889445Z",
     "start_time": "2024-08-14T17:08:21.887115Z"
    }
   },
   "id": "a62a5c3d9dfb7d01",
   "execution_count": 85
  },
  {
   "cell_type": "code",
   "outputs": [
    {
     "data": {
      "text/plain": "{'mse': array([0.00341569, 0.00363438, 0.00312867, 0.00351603, 0.00343487,\n        0.00308795, 0.0033825 , 0.00303372, 0.00318618, 0.00317389]),\n 'r2': array([-0.25186374, -0.33064442, -0.14812059, -0.28979345, -0.26147995,\n        -0.13342303, -0.23975796, -0.11374646, -0.16865382, -0.16467546]),\n 'mae': array([0.0475858 , 0.04865084, 0.04615857, 0.04806134, 0.04761435,\n        0.04597155, 0.04741796, 0.04571931, 0.04648896, 0.04638995])}"
     },
     "execution_count": 86,
     "metadata": {},
     "output_type": "execute_result"
    }
   ],
   "source": [
    "metrics"
   ],
   "metadata": {
    "collapsed": false,
    "ExecuteTime": {
     "end_time": "2024-08-14T17:08:27.273317Z",
     "start_time": "2024-08-14T17:08:27.269231Z"
    }
   },
   "id": "cddeb4a19a6ccdc4",
   "execution_count": 86
  },
  {
   "cell_type": "code",
   "outputs": [],
   "source": [
    "# 获取特征重要性\n",
    "importance_matrix[:, 0] = bayes_search.best_estimator_.feature_importances_"
   ],
   "metadata": {
    "collapsed": false
   },
   "id": "ae57d10d5570731a"
  },
  {
   "cell_type": "code",
   "outputs": [
    {
     "name": "stdout",
     "output_type": "stream",
     "text": [
      "Iteration 1: OrderedDict([('max_depth', 26), ('max_features', 'log2'), ('min_samples_leaf', 3), ('min_samples_split', 9), ('n_estimators', 287)])\n",
      "Iteration 2: OrderedDict([('max_depth', 26), ('max_features', 'sqrt'), ('min_samples_leaf', 3), ('min_samples_split', 9), ('n_estimators', 286)])\n",
      "Iteration 3: OrderedDict([('max_depth', 17), ('max_features', 'sqrt'), ('min_samples_leaf', 3), ('min_samples_split', 5), ('n_estimators', 134)])\n",
      "Iteration 4: OrderedDict([('max_depth', 14), ('max_features', 'sqrt'), ('min_samples_leaf', 1), ('min_samples_split', 4), ('n_estimators', 295)])\n",
      "Iteration 5: OrderedDict([('max_depth', 20), ('max_features', 'sqrt'), ('min_samples_leaf', 3), ('min_samples_split', 3), ('n_estimators', 117)])\n",
      "Iteration 6: OrderedDict([('max_depth', 14), ('max_features', 'sqrt'), ('min_samples_leaf', 3), ('min_samples_split', 6), ('n_estimators', 105)])\n",
      "Iteration 7: OrderedDict([('max_depth', 29), ('max_features', 'log2'), ('min_samples_leaf', 2), ('min_samples_split', 3), ('n_estimators', 116)])\n",
      "Iteration 8: OrderedDict([('max_depth', 20), ('max_features', 'log2'), ('min_samples_leaf', 3), ('min_samples_split', 3), ('n_estimators', 178)])\n",
      "Iteration 9: OrderedDict([('max_depth', 13), ('max_features', 'sqrt'), ('min_samples_leaf', 3), ('min_samples_split', 6), ('n_estimators', 235)])\n",
      "Iteration 10: OrderedDict([('max_depth', 24), ('max_features', 'sqrt'), ('min_samples_leaf', 3), ('min_samples_split', 7), ('n_estimators', 211)])\n"
     ]
    }
   ],
   "source": [
    "# 获取每次迭代的参数组合\n",
    "params_list = bayes_search.cv_results_['params']\n",
    "\n",
    "# 打印每次迭代的参数\n",
    "for i, params in enumerate(params_list):\n",
    "    print(f\"Iteration {i+1}: {params}\")\n"
   ],
   "metadata": {
    "collapsed": false,
    "ExecuteTime": {
     "end_time": "2024-08-14T02:24:56.042862Z",
     "start_time": "2024-08-14T02:24:56.039143Z"
    }
   },
   "id": "1102b6b8b45690b0",
   "execution_count": 76
  },
  {
   "cell_type": "code",
   "outputs": [],
   "source": [],
   "metadata": {
    "collapsed": false
   },
   "id": "dafd3995549e8d12"
  },
  {
   "cell_type": "code",
   "outputs": [],
   "source": [
    "# 使用最佳参数进行后续三次训练\n",
    "for i in range(1, 4):\n",
    "    print(f\"Applying optimized parameters to model {i+1}/4\")\n",
    "\n",
    "    # 设置模型参数为最佳参数\n",
    "    model.set_params(**best_params)\n",
    "\n",
    "    # 进行模型训练\n",
    "    model.fit(X, Y[:, i])\n",
    "\n",
    "    # 进行预测并计算评估指标\n",
    "    y_pred = model.predict(X)\n",
    "    mse = mean_squared_error(Y[:, i], y_pred)\n",
    "    r2 = r2_score(Y[:, i], y_pred)\n",
    "    mae = mean_absolute_error(Y[:, i], y_pred)\n",
    "\n",
    "    # 将结果存储\n",
    "    result = {\n",
    "        'mse_scores': [mse],\n",
    "        'r2_scores': [r2],\n",
    "        'mae_scores': [mae],\n",
    "    }\n",
    "    # all_results.append((result, best_params))\n",
    "    best_metrics_results.append(result)\n",
    "\n",
    "    # 获取特征重要性\n",
    "    importance_matrix[:, i] = model.feature_importances_"
   ],
   "metadata": {
    "collapsed": false,
    "ExecuteTime": {
     "start_time": "2024-08-14T02:21:38.510041Z"
    }
   },
   "id": "4b34f82b549f873d"
  },
  {
   "cell_type": "code",
   "outputs": [
    {
     "data": {
      "text/plain": "[{'mse': array([0.00341987, 0.00341987, 0.00329055, 0.00317886, 0.00336556,\n         0.00317719, 0.00350847, 0.00336249, 0.00313609, 0.00342461]),\n  'r2': array([-0.25527645, -0.25529847, -0.20634553, -0.16610928, -0.23432093,\n         -0.16598217, -0.28779892, -0.23304371, -0.15081749, -0.25658639]),\n  'mae': array([0.04754308, 0.04754302, 0.04696854, 0.04643581, 0.04730519,\n         0.04640843, 0.04799888, 0.04728638, 0.04622011, 0.0475945 ])},\n {'mse_scores': [0.0019936713490209704],\n  'r2_scores': [0.38099031054094057],\n  'mae_scores': [0.03505485018506276]},\n {'mse_scores': [0.13689877925033103],\n  'r2_scores': [0.31197322191210464],\n  'mae_scores': [0.2978506852998302]},\n {'mse_scores': [8.518768985677214e-05],\n  'r2_scores': [0.5003644059125065],\n  'mae_scores': [0.00737143563032097]}]"
     },
     "execution_count": 71,
     "metadata": {},
     "output_type": "execute_result"
    }
   ],
   "source": [
    "best_metrics_results"
   ],
   "metadata": {
    "collapsed": false,
    "ExecuteTime": {
     "end_time": "2024-08-14T02:21:54.997704Z",
     "start_time": "2024-08-14T02:21:54.993334Z"
    }
   },
   "id": "2b43b6084fe708d9",
   "execution_count": 71
  },
  {
   "cell_type": "code",
   "outputs": [
    {
     "data": {
      "text/plain": "array([[0.15908625, 0.22720543, 0.19216447, 0.12894067],\n       [0.15909416, 0.14678206, 0.15284483, 0.13328912],\n       [0.14622056, 0.1497073 , 0.152218  , 0.13191805],\n       [0.53559903, 0.47630521, 0.50277271, 0.60585216]])"
     },
     "execution_count": 72,
     "metadata": {},
     "output_type": "execute_result"
    }
   ],
   "source": [
    "importance_matrix"
   ],
   "metadata": {
    "collapsed": false,
    "ExecuteTime": {
     "end_time": "2024-08-14T02:21:58.091848Z",
     "start_time": "2024-08-14T02:21:58.087243Z"
    }
   },
   "id": "9deffb6027c99fec",
   "execution_count": 72
  },
  {
   "cell_type": "code",
   "outputs": [
    {
     "name": "stdout",
     "output_type": "stream",
     "text": [
      "Feature Importances:\n"
     ]
    },
    {
     "data": {
      "text/plain": "       Dew Point (°C)  Air Temperature (°C)  Relative Humidity (%)  \\\n建筑物高度        0.159086              0.227205               0.192164   \n树冠高度         0.159094              0.146782               0.152845   \n叶面积指数        0.146221              0.149707               0.152218   \n地形数据         0.535599              0.476305               0.502773   \n\n       Wind Speed (kn)  \n建筑物高度         0.128941  \n树冠高度          0.133289  \n叶面积指数         0.131918  \n地形数据          0.605852  ",
      "text/html": "<div>\n<style scoped>\n    .dataframe tbody tr th:only-of-type {\n        vertical-align: middle;\n    }\n\n    .dataframe tbody tr th {\n        vertical-align: top;\n    }\n\n    .dataframe thead th {\n        text-align: right;\n    }\n</style>\n<table border=\"1\" class=\"dataframe\">\n  <thead>\n    <tr style=\"text-align: right;\">\n      <th></th>\n      <th>Dew Point (°C)</th>\n      <th>Air Temperature (°C)</th>\n      <th>Relative Humidity (%)</th>\n      <th>Wind Speed (kn)</th>\n    </tr>\n  </thead>\n  <tbody>\n    <tr>\n      <th>建筑物高度</th>\n      <td>0.159086</td>\n      <td>0.227205</td>\n      <td>0.192164</td>\n      <td>0.128941</td>\n    </tr>\n    <tr>\n      <th>树冠高度</th>\n      <td>0.159094</td>\n      <td>0.146782</td>\n      <td>0.152845</td>\n      <td>0.133289</td>\n    </tr>\n    <tr>\n      <th>叶面积指数</th>\n      <td>0.146221</td>\n      <td>0.149707</td>\n      <td>0.152218</td>\n      <td>0.131918</td>\n    </tr>\n    <tr>\n      <th>地形数据</th>\n      <td>0.535599</td>\n      <td>0.476305</td>\n      <td>0.502773</td>\n      <td>0.605852</td>\n    </tr>\n  </tbody>\n</table>\n</div>"
     },
     "execution_count": 73,
     "metadata": {},
     "output_type": "execute_result"
    }
   ],
   "source": [
    "# 将特征重要性结果转化为DataFrame\n",
    "importance_df = pd.DataFrame(importance_matrix,\n",
    "                             columns=['Dew Point (°C)', 'Air Temperature (°C)', 'Relative Humidity (%)', 'Wind Speed (kn)'],\n",
    "                             index=['建筑物高度', '树冠高度', '叶面积指数', '地形数据'])\n",
    "\n",
    "print(\"Feature Importances:\")\n",
    "importance_df"
   ],
   "metadata": {
    "collapsed": false,
    "ExecuteTime": {
     "end_time": "2024-08-14T02:22:22.458263Z",
     "start_time": "2024-08-14T02:22:22.448387Z"
    }
   },
   "id": "4ecc8fc38a10606e",
   "execution_count": 73
  },
  {
   "cell_type": "code",
   "outputs": [
    {
     "ename": "NameError",
     "evalue": "name 'params' is not defined",
     "output_type": "error",
     "traceback": [
      "\u001B[1;31m---------------------------------------------------------------------------\u001B[0m",
      "\u001B[1;31mNameError\u001B[0m                                 Traceback (most recent call last)",
      "Cell \u001B[1;32mIn[75], line 1\u001B[0m\n\u001B[1;32m----> 1\u001B[0m params\n",
      "\u001B[1;31mNameError\u001B[0m: name 'params' is not defined"
     ]
    }
   ],
   "source": [
    "params"
   ],
   "metadata": {
    "collapsed": false,
    "ExecuteTime": {
     "end_time": "2024-08-14T02:23:40.310700Z",
     "start_time": "2024-08-14T02:23:40.292426Z"
    }
   },
   "id": "37b9d142b262bc21",
   "execution_count": 75
  },
  {
   "cell_type": "code",
   "outputs": [
    {
     "data": {
      "text/plain": "<Figure size 1200x800 with 2 Axes>",
      "image/png": "[encoded data removed]"
     },
     "metadata": {},
     "output_type": "display_data"
    }
   ],
   "source": [
    "import matplotlib.pyplot as plt\n",
    "import numpy as np\n",
    "\n",
    "# 从 cv_results_ 中获取参数变化和评估指标\n",
    "n_estimators_values = [params['n_estimators'] for params in bayes_search.cv_results_['params']]\n",
    "max_depth_values = [params['max_depth'] for params in bayes_search.cv_results_['params']]\n",
    "mean_test_mse = -bayes_search.cv_results_['mean_test_mse']\n",
    "mean_test_r2 = bayes_search.cv_results_['mean_test_r2']\n",
    "mean_test_mae = -bayes_search.cv_results_['mean_test_mae']\n",
    "\n",
    "# 创建图形对象和子图\n",
    "fig, ax1 = plt.subplots(figsize=(12, 8))\n",
    "\n",
    "# 绘制折线图：参数在每次迭代中的变化\n",
    "ax1.plot(range(len(n_estimators_values)), n_estimators_values, color='red', marker='o', label='n_estimators')\n",
    "ax1.plot(range(len(max_depth_values)), max_depth_values, color='blue', marker='o', label='max_depth')\n",
    "ax1.plot(range(len(\n",
    "\n",
    "\n",
    "# 添加折线图的标题和标签\n",
    "ax1.set_xlabel('Iteration')\n",
    "ax1.set_ylabel('Hyperparameter Value')\n",
    "ax1.set_title('Bayes Optimization: Hyperparameters Evolution and Metrics')\n",
    "ax1.legend(loc='upper left')\n",
    "\n",
    "# 创建第二个 y 轴用于绘制评估指标的柱状图\n",
    "ax2 = ax1.twinx()\n",
    "\n",
    "# 绘制柱状图：评估指标的值\n",
    "width = 0.2\n",
    "x = np.arange(len(mean_test_mse))\n",
    "\n",
    "ax2.bar(x - width, mean_test_mse, width=width, color='green', label='MSE')\n",
    "ax2.bar(x, mean_test_r2, width=width, color='purple', label='R²')\n",
    "ax2.bar(x + width, mean_test_mae, width=width, color='orange', label='MAE')\n",
    "\n",
    "# 添加柱状图的标签\n",
    "ax2.set_ylabel('Metric Value')\n",
    "ax2.legend(loc='upper right')\n",
    "\n",
    "# 显示图表\n",
    "plt.show()\n"
   ],
   "metadata": {
    "collapsed": false,
    "ExecuteTime": {
     "end_time": "2024-08-14T02:22:27.557182Z",
     "start_time": "2024-08-14T02:22:27.332189Z"
    }
   },
   "id": "2403d391a0db8530",
   "execution_count": 74
  },
  {
   "cell_type": "code",
   "outputs": [],
   "source": [
    "# %%time\n",
    "# \n",
    "# # 训练四次模型，每次都使用贝叶斯优化\n",
    "# all_results = []  # 用于存储所有结果\n",
    "# # 开始针对 Y 的四次训练\n",
    "# for i in range(4):\n",
    "#     print(f\"Optimizing model {i+1}/4\")\n",
    "# \n",
    "#     # 在新一轮循环开始前，确保关闭和清理之前的进度条\n",
    "#     if 'progress_callback' in locals():\n",
    "#         progress_callback.close()\n",
    "#         del progress_callback\n",
    "# \n",
    "#     # 实例化进度条回调函数\n",
    "#     progress_callback = TqdmProgressCallback(total_iterations=n_iter, model_idx=i)\n",
    "#     \n",
    "#     # 开始贝叶斯优化\n",
    "#     print('----------start fit----------')\n",
    "#     bayes_search.fit(X, Y[:, i], callback=[progress_callback])\n",
    "#     print('----------end fit----------')\n",
    "# \n",
    "#     # 显式关闭进度条\n",
    "#     progress_callback.close()\n",
    "# \n",
    "#     # 直接从 cv_results_ 中提取每次迭代的评估指标\n",
    "#     mae_scores = -bayes_search.cv_results_['mean_test_mae']  # 负号是因为贝叶斯优化会尝试最小化评分，但我们想要最大化评分，在优化中实际使用的是neg_mean_squared_error\n",
    "#     r2_scores = -bayes_search.cv_results_['mean_test_r2']\n",
    "#     mse_scores = bayes_search.cv_results_['mean_test_mse']\n",
    "# \n",
    "#     # 将结果存储\n",
    "#     result = {\n",
    "#         'mse_scores': mse_scores,\n",
    "#         'r2_scores': r2_scores,\n",
    "#         'mae_scores': mae_scores,\n",
    "#     }\n",
    "#     all_results.append((result, bayes_search.best_params_))\n",
    "# \n",
    "#     # 获取特征重要性\n",
    "#     importance_matrix[:, i] = bayes_search.best_estimator_.feature_importances_\n",
    "# \n",
    "# # 打印或保存结果\n",
    "# all_results\n",
    "# importance_matrix"
   ],
   "metadata": {
    "collapsed": false,
    "ExecuteTime": {
     "end_time": "2024-08-14T02:21:37.716866Z",
     "start_time": "2024-08-14T02:21:37.712745Z"
    }
   },
   "id": "22b185e5eeeca12f",
   "execution_count": 69
  },
  {
   "cell_type": "code",
   "outputs": [],
   "source": [
    "import matplotlib.pyplot as plt\n",
    "\n",
    "# 定义要绘制的超参数名称\n",
    "param_names = list(search_space.keys())\n",
    "colors = ['r', 'g', 'b', 'm']  # 4个模型的颜色\n",
    "\n",
    "# 遍历每个超参数\n",
    "for param_name in param_names:\n",
    "    plt.figure(figsize=(10, 6))\n",
    "\n",
    "    # 对于每个模型，获取其参数历史，并绘制在同一张图上\n",
    "    for i in range(4):\n",
    "        # 获取当前模型对应的参数历史\n",
    "        params_history = []\n",
    "        for best_index in range(len(all_results[i][0]['mse_scores'])):\n",
    "            params_history.append(bayes_search.cv_results_['params'][best_index])\n",
    "\n",
    "        param_values = [params[param_name] for params in params_history]\n",
    "\n",
    "        if isinstance(search_space[param_name], Categorical):\n",
    "            # 如果超参数是类别类型，绘制类别标签\n",
    "            unique_categories = list(set(param_values))\n",
    "            category_to_num = {category: num for num, category in enumerate(unique_categories)}\n",
    "            num_values = [category_to_num[val] for val in param_values]\n",
    "            plt.plot(range(len(num_values)), num_values, marker='o', color=colors[i], label=f'Model {i+1}')\n",
    "            plt.yticks(list(category_to_num.values()), list(category_to_num.keys()))\n",
    "        else:\n",
    "            # 如果是数值类型，直接绘制\n",
    "            plt.plot(range(len(param_values)), param_values, marker='o', color=colors[i], label=f'Model {i+1}')\n",
    "\n",
    "    plt.title(f'{param_name} evolution during Bayes Optimization')\n",
    "    plt.xlabel('Iteration')\n",
    "    plt.ylabel(param_name)\n",
    "    plt.legend()  # 显示图例\n",
    "    plt.grid(True)\n",
    "    plt.show()\n"
   ],
   "metadata": {
    "collapsed": false
   },
   "id": "7d977e4477971554"
  },
  {
   "cell_type": "code",
   "outputs": [],
   "source": [
    "import matplotlib.pyplot as plt\n",
    "\n",
    "# 定义评估指标和对应的键\n",
    "metrics = ['MSE', 'R²', 'MAE']\n",
    "metric_keys = ['mse_scores', 'r2_scores', 'mae_scores']\n",
    "\n",
    "# 创建一个包含多个子图的图表\n",
    "fig, axs = plt.subplots(len(metrics), 1, figsize=(14, 8 * len(metrics)))\n",
    "\n",
    "# 遍历每个评估指标并绘制子图\n",
    "for idx, (metric_name, metric_key) in enumerate(zip(metrics, metric_keys)):\n",
    "    for i, (result, _) in enumerate(all_results):\n",
    "        axs[idx].plot(range(len(result[metric_key])), result[metric_key], label=f'Model {i+1}', marker='o')\n",
    "\n",
    "    axs[idx].set_title(f'{metric_name} evolution during Bayes Optimization')\n",
    "    axs[idx].set_xlabel('Iteration')\n",
    "    axs[idx].set_ylabel(metric_name)\n",
    "    axs[idx].legend()\n",
    "    axs[idx].grid(True)\n",
    "\n",
    "# 自动调整子图布局，避免重叠\n",
    "plt.tight_layout()\n",
    "\n",
    "# 显示图表\n",
    "plt.show()\n"
   ],
   "metadata": {
    "collapsed": false
   },
   "id": "b3deb671ce3ed9db"
  },
  {
   "cell_type": "code",
   "outputs": [],
   "source": [
    "# 初始化用于存储参数和评估指标的列表\n",
    "params_list = []\n",
    "metrics_list = []\n",
    "\n",
    "# 遍历每个模型的结果\n",
    "for i, (result, best_params) in enumerate(all_results):\n",
    "    # 将最佳参数保存到 params_list 中\n",
    "    best_params['Model'] = f'Model {i+1}'\n",
    "    params_list.append(best_params)\n",
    "\n",
    "    # 将最终的评估指标保存到 metrics_list 中\n",
    "    metrics = {\n",
    "        'Model': f'Model {i+1}',\n",
    "        'MSE': result['mse_scores'][-1],\n",
    "        'R²': result['r2_scores'][-1],\n",
    "        'MAE': result['mae_scores'][-1],\n",
    "    }\n",
    "    metrics_list.append(metrics)\n",
    "\n",
    "# 将参数和评估指标分别转换为 DataFrame\n",
    "params_df = pd.DataFrame(params_list)\n",
    "metrics_df = pd.DataFrame(metrics_list)"
   ],
   "metadata": {
    "collapsed": false,
    "ExecuteTime": {
     "end_time": "2024-08-14T01:23:46.802050Z",
     "start_time": "2024-08-14T01:23:46.797819Z"
    }
   },
   "id": "c7efa42cbcf679a6",
   "execution_count": 89
  },
  {
   "cell_type": "code",
   "outputs": [
    {
     "data": {
      "text/plain": "   max_depth max_features  min_samples_leaf  min_samples_split  n_estimators  \\\n0         11         None                 3                  5           242   \n1         14         log2                 2                  3           259   \n2         14         sqrt                 3                  9           256   \n3         12         log2                 4                  8           236   \n\n     Model  \n0  Model 1  \n1  Model 2  \n2  Model 3  \n3  Model 4  ",
      "text/html": "<div>\n<style scoped>\n    .dataframe tbody tr th:only-of-type {\n        vertical-align: middle;\n    }\n\n    .dataframe tbody tr th {\n        vertical-align: top;\n    }\n\n    .dataframe thead th {\n        text-align: right;\n    }\n</style>\n<table border=\"1\" class=\"dataframe\">\n  <thead>\n    <tr style=\"text-align: right;\">\n      <th></th>\n      <th>max_depth</th>\n      <th>max_features</th>\n      <th>min_samples_leaf</th>\n      <th>min_samples_split</th>\n      <th>n_estimators</th>\n      <th>Model</th>\n    </tr>\n  </thead>\n  <tbody>\n    <tr>\n      <th>0</th>\n      <td>11</td>\n      <td>None</td>\n      <td>3</td>\n      <td>5</td>\n      <td>242</td>\n      <td>Model 1</td>\n    </tr>\n    <tr>\n      <th>1</th>\n      <td>14</td>\n      <td>log2</td>\n      <td>2</td>\n      <td>3</td>\n      <td>259</td>\n      <td>Model 2</td>\n    </tr>\n    <tr>\n      <th>2</th>\n      <td>14</td>\n      <td>sqrt</td>\n      <td>3</td>\n      <td>9</td>\n      <td>256</td>\n      <td>Model 3</td>\n    </tr>\n    <tr>\n      <th>3</th>\n      <td>12</td>\n      <td>log2</td>\n      <td>4</td>\n      <td>8</td>\n      <td>236</td>\n      <td>Model 4</td>\n    </tr>\n  </tbody>\n</table>\n</div>"
     },
     "execution_count": 90,
     "metadata": {},
     "output_type": "execute_result"
    }
   ],
   "source": [
    "params_df"
   ],
   "metadata": {
    "collapsed": false,
    "ExecuteTime": {
     "end_time": "2024-08-14T01:23:49.125857Z",
     "start_time": "2024-08-14T01:23:49.120305Z"
    }
   },
   "id": "338109628feb821a",
   "execution_count": 90
  },
  {
   "cell_type": "code",
   "outputs": [
    {
     "data": {
      "text/plain": "     Model       MSE        R²       MAE\n0  Model 1 -0.003299  0.209065  0.047016\n1  Model 2 -0.004466  0.432576  0.054314\n2  Model 3 -0.250980  0.267409  0.409451\n3  Model 4 -0.000177  0.296136  0.010733",
      "text/html": "<div>\n<style scoped>\n    .dataframe tbody tr th:only-of-type {\n        vertical-align: middle;\n    }\n\n    .dataframe tbody tr th {\n        vertical-align: top;\n    }\n\n    .dataframe thead th {\n        text-align: right;\n    }\n</style>\n<table border=\"1\" class=\"dataframe\">\n  <thead>\n    <tr style=\"text-align: right;\">\n      <th></th>\n      <th>Model</th>\n      <th>MSE</th>\n      <th>R²</th>\n      <th>MAE</th>\n    </tr>\n  </thead>\n  <tbody>\n    <tr>\n      <th>0</th>\n      <td>Model 1</td>\n      <td>-0.003299</td>\n      <td>0.209065</td>\n      <td>0.047016</td>\n    </tr>\n    <tr>\n      <th>1</th>\n      <td>Model 2</td>\n      <td>-0.004466</td>\n      <td>0.432576</td>\n      <td>0.054314</td>\n    </tr>\n    <tr>\n      <th>2</th>\n      <td>Model 3</td>\n      <td>-0.250980</td>\n      <td>0.267409</td>\n      <td>0.409451</td>\n    </tr>\n    <tr>\n      <th>3</th>\n      <td>Model 4</td>\n      <td>-0.000177</td>\n      <td>0.296136</td>\n      <td>0.010733</td>\n    </tr>\n  </tbody>\n</table>\n</div>"
     },
     "execution_count": 91,
     "metadata": {},
     "output_type": "execute_result"
    }
   ],
   "source": [
    "metrics_df"
   ],
   "metadata": {
    "collapsed": false,
    "ExecuteTime": {
     "end_time": "2024-08-14T01:23:49.827947Z",
     "start_time": "2024-08-14T01:23:49.821448Z"
    }
   },
   "id": "928f410aeb3d5394",
   "execution_count": 91
  },
  {
   "cell_type": "code",
   "outputs": [],
   "source": [],
   "metadata": {
    "collapsed": false,
    "ExecuteTime": {
     "start_time": "2024-08-14T00:43:47.636141Z"
    }
   },
   "id": "35276915ce4aea7e",
   "execution_count": null
  },
  {
   "cell_type": "code",
   "outputs": [],
   "source": [
    "%%time\n",
    "# 开始针对 Y 的四次训练\n",
    "for i in range(4):\n",
    "    print(f\"Optimizing model {i+1}/4\")\n",
    "\n",
    "    # 在新一轮循环开始前，确保关闭和清理之前的进度条\n",
    "    if 'progress_callback' in locals():\n",
    "        progress_callback.close()\n",
    "        del progress_callback\n",
    "\n",
    "    # 实例化进度条回调函数\n",
    "    # progress_callback = TqdmProgressCallback(total_iterations=n_iter, model_idx=i)\n",
    "    progress_callback = TqdmTimeProgressCallback(total_iterations=n_iter, model_idx=i)\n",
    "\n",
    "    # 开始贝叶斯优化\n",
    "    print('----------start fit----------')\n",
    "    bayes_search.fit(X, Y[:, i], callback=[progress_callback])\n",
    "    print('----------end fit----------')\n",
    "\n",
    "    # 显式关闭进度条\n",
    "    progress_callback.close()\n",
    "\n",
    "    # 直接从 cv_results_ 中提取每次迭代的评估指标\n",
    "    mae_scores = -bayes_search.cv_results_['mean_test_mae']  # 负号是因为贝叶斯优化会尝试最小化评分，但我们想要最大化评分，在优化中实际使用的是neg_mean_squared_error\n",
    "    r2_scores = -bayes_search.cv_results_['mean_test_r2']\n",
    "    mse_scores = bayes_search.cv_results_['mean_test_mse']\n",
    "\n",
    "    # 将结果存储\n",
    "    result = {\n",
    "        'mse_scores': mse_scores,\n",
    "        'r2_scores': r2_scores,\n",
    "        'mae_scores': mae_scores,\n",
    "    }\n",
    "    all_results.append((result, bayes_search.best_params_))\n",
    "\n",
    "    # 获取特征重要性\n",
    "    importance_matrix[:, i] = bayes_search.best_estimator_.feature_importances_\n",
    "\n",
    "# 打印或保存结果\n"
   ],
   "metadata": {
    "collapsed": false
   },
   "id": "400d8bab31122126"
  }
 ],
 "metadata": {
  "kernelspec": {
   "display_name": "Python 3",
   "language": "python",
   "name": "python3"
  },
  "language_info": {
   "codemirror_mode": {
    "name": "ipython",
    "version": 2
   },
   "file_extension": ".py",
   "mimetype": "text/x-python",
   "name": "python",
   "nbconvert_exporter": "python",
   "pygments_lexer": "ipython2",
   "version": "2.7.6"
  }
 },
 "nbformat": 4,
 "nbformat_minor": 5
}
