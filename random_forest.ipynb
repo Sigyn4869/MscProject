{
 "cells": [
  {
   "cell_type": "code",
   "execution_count": 1,
   "id": "initial_id",
   "metadata": {
    "collapsed": true,
    "ExecuteTime": {
     "end_time": "2024-08-13T22:43:49.809996Z",
     "start_time": "2024-08-13T22:43:48.543253Z"
    }
   },
   "outputs": [],
   "source": [
    "import copy\n",
    "\n",
    "import numpy as np\n",
    "import pandas as pd\n",
    "import rasterio\n",
    "from rasterio.windows import from_bounds\n",
    "from sklearn.ensemble import RandomForestRegressor\n",
    "from sklearn.metrics import mean_squared_error, r2_score, mean_absolute_error, mean_absolute_percentage_error\n",
    "from skopt import BayesSearchCV\n",
    "from skopt.space import Categorical, Integer\n",
    "from tqdm import tqdm\n",
    "from matplotlib import pyplot as plt"
   ]
  },
  {
   "cell_type": "code",
   "outputs": [],
   "source": [
    "# 自定义类，用于封装tif文件的操作\n",
    "class TifFile:\n",
    "    def __init__(self, file_path):\n",
    "        self.file_path = file_path\n",
    "        with rasterio.open(self.file_path) as src:\n",
    "            self.data = src.read(1)  # 数值矩阵\n",
    "            self.shape = self.data.shape  # 矩阵大小\n",
    "            self.transform = src.transform  # 坐标变换参数\n",
    "            self.crs = src.crs  # 坐标参考系统\n",
    "            self.bounds = src.bounds  # 边界坐标\n",
    "            self.width = src.width  # 宽度\n",
    "            self.height = src.height  # 高度\n",
    "            self.count = src.count  # 波段数\n",
    "\n",
    "\n",
    "# 文件路径字典\n",
    "file_paths = {\n",
    "    \"GLcBld_Height\": \"datasets/GLcBld_Height.tif\",\n",
    "    \"glcent_CHM\": \"datasets/glcent_CHM.tif\",\n",
    "    \"glcent_DSM\": \"datasets/glcent_DSM.tif\",\n",
    "    \"KernelD_GLcB_new\": \"datasets/KernelD_GLcB_new.tif\",\n",
    "    \"LAI\": \"datasets/LAI.tif\"\n",
    "}\n",
    "\n",
    "# 动态创建TifFile实例并存储为全局变量\n",
    "for variable_name, file_path in file_paths.items():\n",
    "    tif_GLcBld_Height = TifFile('datasets/GLcBld_Height.tif')\n",
    "    tif_glcent_CHM = TifFile('datasets/glcent_CHM.tif')\n",
    "    tif_glcent_DSM = TifFile('datasets/glcent_DSM.tif')\n",
    "    tif_KernelD_GLcB_new = TifFile('datasets/KernelD_GLcB_new.tif')\n",
    "    tif_LAI = TifFile('datasets/LAI.tif')\n"
   ],
   "metadata": {
    "collapsed": false,
    "ExecuteTime": {
     "end_time": "2024-08-13T22:43:50.183884Z",
     "start_time": "2024-08-13T22:43:49.812005Z"
    }
   },
   "id": "edf9766ed65d6cc",
   "execution_count": 2
  },
  {
   "cell_type": "markdown",
   "source": [
    "# 数据信息了解"
   ],
   "metadata": {
    "collapsed": false
   },
   "id": "d8f790e4df0e4c8"
  },
  {
   "cell_type": "code",
   "outputs": [
    {
     "data": {
      "text/plain": "array([[65535, 65535, 65535, ..., 65535, 65535, 65535],\n       [65535, 65535, 65535, ..., 65535, 65535, 65535],\n       [65535, 65535, 65535, ..., 65535, 65535, 65535],\n       ...,\n       [65535, 65535, 65535, ..., 65535, 65535, 65535],\n       [65535, 65535, 65535, ..., 65535, 65535, 65535],\n       [65535, 65535, 65535, ..., 65535, 65535, 65535]], dtype=uint16)"
     },
     "execution_count": 3,
     "metadata": {},
     "output_type": "execute_result"
    }
   ],
   "source": [
    "tif_GLcBld_Height.data"
   ],
   "metadata": {
    "collapsed": false,
    "ExecuteTime": {
     "end_time": "2024-08-13T22:43:50.192503Z",
     "start_time": "2024-08-13T22:43:50.184892Z"
    }
   },
   "id": "795563deb356ed38",
   "execution_count": 3
  },
  {
   "cell_type": "code",
   "outputs": [
    {
     "name": "stdout",
     "output_type": "stream",
     "text": [
      "Value: 65535, Count: 139282\n",
      "Value: 109, Count: 1798\n",
      "Value: 249, Count: 1338\n",
      "Value: 294, Count: 1312\n",
      "Value: 3, Count: 1113\n",
      "Value: 205, Count: 822\n",
      "Value: 342, Count: 698\n",
      "Value: 96, Count: 584\n",
      "Value: 340, Count: 552\n",
      "Value: 154, Count: 534\n",
      "Value: 315, Count: 528\n",
      "Value: 195, Count: 510\n",
      "Value: 232, Count: 497\n",
      "Value: 299, Count: 482\n",
      "Value: 268, Count: 479\n",
      "Value: 233, Count: 473\n",
      "Value: 170, Count: 437\n",
      "Value: 104, Count: 433\n",
      "Value: 110, Count: 421\n",
      "Value: 215, Count: 394\n",
      "Value: 280, Count: 380\n",
      "Value: 75, Count: 376\n",
      "Value: 269, Count: 374\n",
      "Value: 175, Count: 374\n",
      "Value: 210, Count: 370\n",
      "Value: 243, Count: 357\n",
      "Value: 67, Count: 346\n",
      "Value: 40, Count: 345\n",
      "Value: 140, Count: 343\n",
      "Value: 30, Count: 340\n",
      "Value: 333, Count: 339\n",
      "Value: 157, Count: 335\n",
      "Value: 98, Count: 335\n",
      "Value: 139, Count: 331\n",
      "Value: 270, Count: 321\n",
      "Value: 242, Count: 321\n",
      "Value: 145, Count: 319\n",
      "Value: 106, Count: 319\n",
      "Value: 39, Count: 317\n",
      "Value: 63, Count: 315\n",
      "Value: 180, Count: 313\n",
      "Value: 16, Count: 308\n",
      "Value: 244, Count: 305\n",
      "Value: 21, Count: 300\n",
      "Value: 197, Count: 296\n",
      "Value: 56, Count: 295\n",
      "Value: 206, Count: 287\n",
      "Value: 15, Count: 287\n",
      "Value: 24, Count: 270\n",
      "Value: 99, Count: 270\n",
      "Value: 80, Count: 267\n",
      "Value: 255, Count: 267\n",
      "Value: 84, Count: 263\n",
      "Value: 179, Count: 262\n",
      "Value: 62, Count: 262\n",
      "Value: 146, Count: 260\n",
      "Value: 59, Count: 260\n",
      "Value: 220, Count: 257\n",
      "Value: 199, Count: 256\n",
      "Value: 49, Count: 255\n",
      "Value: 122, Count: 253\n",
      "Value: 138, Count: 250\n",
      "Value: 12, Count: 242\n",
      "Value: 191, Count: 241\n",
      "Value: 169, Count: 239\n",
      "Value: 50, Count: 239\n",
      "Value: 229, Count: 237\n",
      "Value: 7, Count: 236\n",
      "Value: 128, Count: 233\n",
      "Value: 273, Count: 231\n",
      "Value: 64, Count: 230\n",
      "Value: 129, Count: 229\n",
      "Value: 187, Count: 227\n",
      "Value: 72, Count: 222\n",
      "Value: 238, Count: 222\n",
      "Value: 298, Count: 218\n",
      "Value: 92, Count: 214\n",
      "Value: 178, Count: 213\n",
      "Value: 261, Count: 213\n",
      "Value: 121, Count: 212\n",
      "Value: 202, Count: 210\n",
      "Value: 53, Count: 210\n",
      "Value: 58, Count: 209\n",
      "Value: 136, Count: 207\n",
      "Value: 216, Count: 205\n",
      "Value: 41, Count: 203\n",
      "Value: 183, Count: 202\n",
      "Value: 19, Count: 202\n",
      "Value: 168, Count: 199\n",
      "Value: 6, Count: 193\n",
      "Value: 213, Count: 191\n",
      "Value: 171, Count: 187\n",
      "Value: 224, Count: 185\n",
      "Value: 310, Count: 182\n",
      "Value: 274, Count: 180\n",
      "Value: 173, Count: 175\n",
      "Value: 185, Count: 175\n",
      "Value: 287, Count: 172\n",
      "Value: 152, Count: 171\n",
      "Value: 241, Count: 169\n",
      "Value: 161, Count: 168\n",
      "Value: 116, Count: 163\n",
      "Value: 31, Count: 162\n",
      "Value: 141, Count: 162\n",
      "Value: 222, Count: 161\n",
      "Value: 93, Count: 160\n",
      "Value: 207, Count: 160\n",
      "Value: 188, Count: 159\n",
      "Value: 18, Count: 159\n",
      "Value: 142, Count: 158\n",
      "Value: 292, Count: 155\n",
      "Value: 79, Count: 155\n",
      "Value: 55, Count: 151\n",
      "Value: 120, Count: 150\n",
      "Value: 107, Count: 150\n",
      "Value: 130, Count: 149\n",
      "Value: 51, Count: 147\n",
      "Value: 103, Count: 147\n",
      "Value: 38, Count: 146\n",
      "Value: 167, Count: 145\n",
      "Value: 219, Count: 143\n",
      "Value: 54, Count: 142\n",
      "Value: 226, Count: 141\n",
      "Value: 42, Count: 140\n",
      "Value: 125, Count: 139\n",
      "Value: 176, Count: 138\n",
      "Value: 231, Count: 137\n",
      "Value: 289, Count: 137\n",
      "Value: 76, Count: 137\n",
      "Value: 194, Count: 136\n",
      "Value: 61, Count: 133\n",
      "Value: 200, Count: 133\n",
      "Value: 259, Count: 132\n",
      "Value: 225, Count: 130\n",
      "Value: 33, Count: 128\n",
      "Value: 97, Count: 127\n",
      "Value: 144, Count: 127\n",
      "Value: 193, Count: 126\n",
      "Value: 43, Count: 126\n",
      "Value: 65, Count: 126\n",
      "Value: 172, Count: 124\n",
      "Value: 245, Count: 124\n",
      "Value: 13, Count: 123\n",
      "Value: 250, Count: 122\n",
      "Value: 132, Count: 122\n",
      "Value: 36, Count: 121\n",
      "Value: 88, Count: 121\n",
      "Value: 35, Count: 120\n",
      "Value: 284, Count: 120\n",
      "Value: 237, Count: 120\n",
      "Value: 235, Count: 119\n",
      "Value: 57, Count: 119\n",
      "Value: 326, Count: 119\n",
      "Value: 86, Count: 119\n",
      "Value: 23, Count: 117\n",
      "Value: 301, Count: 117\n",
      "Value: 204, Count: 111\n",
      "Value: 11, Count: 108\n",
      "Value: 162, Count: 107\n",
      "Value: 263, Count: 107\n",
      "Value: 45, Count: 106\n",
      "Value: 163, Count: 106\n",
      "Value: 208, Count: 106\n",
      "Value: 115, Count: 105\n",
      "Value: 137, Count: 104\n",
      "Value: 131, Count: 104\n",
      "Value: 248, Count: 104\n",
      "Value: 174, Count: 104\n",
      "Value: 20, Count: 104\n",
      "Value: 227, Count: 103\n",
      "Value: 331, Count: 101\n",
      "Value: 114, Count: 101\n",
      "Value: 165, Count: 99\n",
      "Value: 239, Count: 99\n",
      "Value: 266, Count: 99\n",
      "Value: 81, Count: 98\n",
      "Value: 321, Count: 98\n",
      "Value: 25, Count: 97\n",
      "Value: 112, Count: 97\n",
      "Value: 166, Count: 97\n",
      "Value: 322, Count: 97\n",
      "Value: 155, Count: 95\n",
      "Value: 279, Count: 95\n",
      "Value: 1, Count: 95\n",
      "Value: 267, Count: 94\n",
      "Value: 28, Count: 94\n",
      "Value: 283, Count: 94\n",
      "Value: 303, Count: 93\n",
      "Value: 8, Count: 93\n",
      "Value: 184, Count: 92\n",
      "Value: 228, Count: 92\n",
      "Value: 214, Count: 92\n",
      "Value: 281, Count: 91\n",
      "Value: 256, Count: 91\n",
      "Value: 22, Count: 89\n",
      "Value: 181, Count: 89\n",
      "Value: 295, Count: 88\n",
      "Value: 236, Count: 87\n",
      "Value: 311, Count: 87\n",
      "Value: 60, Count: 87\n",
      "Value: 111, Count: 86\n",
      "Value: 156, Count: 86\n",
      "Value: 4, Count: 84\n",
      "Value: 201, Count: 84\n",
      "Value: 296, Count: 84\n",
      "Value: 29, Count: 84\n",
      "Value: 164, Count: 83\n",
      "Value: 253, Count: 83\n",
      "Value: 285, Count: 81\n",
      "Value: 52, Count: 80\n",
      "Value: 149, Count: 80\n",
      "Value: 85, Count: 80\n",
      "Value: 126, Count: 80\n",
      "Value: 293, Count: 79\n",
      "Value: 95, Count: 78\n",
      "Value: 212, Count: 77\n",
      "Value: 198, Count: 77\n",
      "Value: 47, Count: 75\n",
      "Value: 277, Count: 75\n",
      "Value: 74, Count: 74\n",
      "Value: 73, Count: 74\n",
      "Value: 318, Count: 73\n",
      "Value: 304, Count: 73\n",
      "Value: 158, Count: 73\n",
      "Value: 217, Count: 72\n",
      "Value: 9, Count: 72\n",
      "Value: 196, Count: 71\n",
      "Value: 70, Count: 71\n",
      "Value: 94, Count: 71\n",
      "Value: 10, Count: 70\n",
      "Value: 252, Count: 69\n",
      "Value: 329, Count: 69\n",
      "Value: 192, Count: 69\n",
      "Value: 189, Count: 68\n",
      "Value: 77, Count: 67\n",
      "Value: 32, Count: 67\n",
      "Value: 34, Count: 66\n",
      "Value: 48, Count: 64\n",
      "Value: 159, Count: 63\n",
      "Value: 297, Count: 63\n",
      "Value: 258, Count: 63\n",
      "Value: 69, Count: 62\n",
      "Value: 87, Count: 62\n",
      "Value: 150, Count: 62\n",
      "Value: 305, Count: 60\n",
      "Value: 282, Count: 59\n",
      "Value: 37, Count: 58\n",
      "Value: 338, Count: 58\n",
      "Value: 306, Count: 58\n",
      "Value: 275, Count: 57\n",
      "Value: 108, Count: 57\n",
      "Value: 316, Count: 57\n",
      "Value: 5, Count: 55\n",
      "Value: 133, Count: 54\n",
      "Value: 101, Count: 54\n",
      "Value: 26, Count: 54\n",
      "Value: 89, Count: 53\n",
      "Value: 68, Count: 53\n",
      "Value: 337, Count: 53\n",
      "Value: 186, Count: 53\n",
      "Value: 327, Count: 51\n",
      "Value: 153, Count: 50\n",
      "Value: 209, Count: 49\n",
      "Value: 221, Count: 47\n",
      "Value: 14, Count: 47\n",
      "Value: 240, Count: 46\n",
      "Value: 143, Count: 45\n",
      "Value: 309, Count: 45\n",
      "Value: 160, Count: 45\n",
      "Value: 82, Count: 44\n",
      "Value: 302, Count: 44\n",
      "Value: 203, Count: 43\n",
      "Value: 336, Count: 42\n",
      "Value: 264, Count: 42\n",
      "Value: 319, Count: 42\n",
      "Value: 17, Count: 41\n",
      "Value: 230, Count: 40\n",
      "Value: 2, Count: 40\n",
      "Value: 177, Count: 35\n",
      "Value: 135, Count: 35\n",
      "Value: 91, Count: 34\n",
      "Value: 100, Count: 33\n",
      "Value: 278, Count: 33\n",
      "Value: 288, Count: 32\n",
      "Value: 147, Count: 32\n",
      "Value: 71, Count: 29\n",
      "Value: 325, Count: 29\n",
      "Value: 246, Count: 29\n",
      "Value: 223, Count: 29\n",
      "Value: 46, Count: 27\n",
      "Value: 190, Count: 27\n",
      "Value: 83, Count: 26\n",
      "Value: 127, Count: 26\n",
      "Value: 290, Count: 25\n",
      "Value: 27, Count: 25\n",
      "Value: 320, Count: 24\n",
      "Value: 314, Count: 24\n",
      "Value: 286, Count: 23\n",
      "Value: 134, Count: 23\n",
      "Value: 257, Count: 22\n",
      "Value: 234, Count: 22\n",
      "Value: 328, Count: 22\n",
      "Value: 148, Count: 22\n",
      "Value: 211, Count: 22\n",
      "Value: 276, Count: 21\n",
      "Value: 218, Count: 20\n",
      "Value: 247, Count: 18\n",
      "Value: 254, Count: 18\n",
      "Value: 262, Count: 17\n",
      "Value: 251, Count: 17\n",
      "Value: 123, Count: 17\n",
      "Value: 312, Count: 16\n",
      "Value: 90, Count: 15\n",
      "Value: 341, Count: 15\n",
      "Value: 332, Count: 15\n",
      "Value: 343, Count: 14\n",
      "Value: 308, Count: 14\n",
      "Value: 271, Count: 13\n",
      "Value: 66, Count: 12\n",
      "Value: 307, Count: 12\n",
      "Value: 117, Count: 12\n",
      "Value: 44, Count: 11\n",
      "Value: 313, Count: 11\n",
      "Value: 272, Count: 10\n",
      "Value: 119, Count: 10\n",
      "Value: 335, Count: 8\n",
      "Value: 265, Count: 7\n",
      "Value: 323, Count: 7\n",
      "Value: 317, Count: 7\n",
      "Value: 78, Count: 5\n",
      "Value: 124, Count: 5\n",
      "Value: 105, Count: 5\n",
      "Value: 330, Count: 4\n",
      "Value: 324, Count: 4\n",
      "Value: 151, Count: 3\n",
      "Value: 260, Count: 3\n",
      "Value: 334, Count: 2\n",
      "Value: 182, Count: 2\n",
      "Value: 118, Count: 2\n",
      "Value: 113, Count: 2\n",
      "Value: 291, Count: 2\n",
      "Value: 300, Count: 2\n",
      "Value: 102, Count: 2\n",
      "Value: 339, Count: 1\n"
     ]
    }
   ],
   "source": [
    "# 计算每个唯一值的数量\n",
    "unique_values, counts = np.unique(tif_GLcBld_Height.data, return_counts=True)\n",
    "\n",
    "# 根据计数进行排序，倒序排列\n",
    "sorted_indices = np.argsort(counts)[::-1]\n",
    "\n",
    "# 使用排序后的索引重新排序唯一值和计数\n",
    "sorted_unique_values = unique_values[sorted_indices]\n",
    "sorted_counts = counts[sorted_indices]\n",
    "\n",
    "# 打印倒序的结果\n",
    "for value, count in zip(sorted_unique_values, sorted_counts):\n",
    "    print(f\"Value: {value}, Count: {count}\")"
   ],
   "metadata": {
    "collapsed": false,
    "ExecuteTime": {
     "end_time": "2024-08-13T22:43:50.210020Z",
     "start_time": "2024-08-13T22:43:50.193511Z"
    }
   },
   "id": "208a87ecf2cffeb7",
   "execution_count": 4
  },
  {
   "cell_type": "code",
   "outputs": [
    {
     "name": "stdout",
     "output_type": "stream",
     "text": [
      "\n",
      "Basic Statistics:\n",
      "Mean: 47696.188133956304\n",
      "Standard Deviation: 29118.9257780749\n",
      "Min: 1\n",
      "Max: 65535\n"
     ]
    }
   ],
   "source": [
    "# 计算基本统计数据（此部分与前面代码相同）\n",
    "mean_value = np.mean(tif_GLcBld_Height.data)\n",
    "std_dev = np.std(tif_GLcBld_Height.data)\n",
    "min_value = np.min(tif_GLcBld_Height.data)\n",
    "max_value = np.max(tif_GLcBld_Height.data)\n",
    "\n",
    "print(\"\\nBasic Statistics:\")\n",
    "print(f\"Mean: {mean_value}\")\n",
    "print(f\"Standard Deviation: {std_dev}\")\n",
    "print(f\"Min: {min_value}\")\n",
    "print(f\"Max: {max_value}\")"
   ],
   "metadata": {
    "collapsed": false,
    "ExecuteTime": {
     "end_time": "2024-08-13T22:43:50.215568Z",
     "start_time": "2024-08-13T22:43:50.212024Z"
    }
   },
   "id": "ed21c3778d030ccb",
   "execution_count": 5
  },
  {
   "cell_type": "code",
   "outputs": [
    {
     "data": {
      "text/plain": "Affine(5.0, 0.0, 257976.73599999957,\n       0.0, -5.0, 666174.3099000007)"
     },
     "execution_count": 6,
     "metadata": {},
     "output_type": "execute_result"
    }
   ],
   "source": [
    "tif_GLcBld_Height.transform"
   ],
   "metadata": {
    "collapsed": false,
    "ExecuteTime": {
     "end_time": "2024-08-13T22:43:50.222502Z",
     "start_time": "2024-08-13T22:43:50.216572Z"
    }
   },
   "id": "b05e55f56efbc7d7",
   "execution_count": 6
  },
  {
   "cell_type": "code",
   "outputs": [
    {
     "data": {
      "text/plain": "CRS.from_epsg(27700)"
     },
     "execution_count": 7,
     "metadata": {},
     "output_type": "execute_result"
    }
   ],
   "source": [
    "tif_GLcBld_Height.crs"
   ],
   "metadata": {
    "collapsed": false,
    "ExecuteTime": {
     "end_time": "2024-08-13T22:43:50.229352Z",
     "start_time": "2024-08-13T22:43:50.223505Z"
    }
   },
   "id": "13bc476d512cf1bf",
   "execution_count": 7
  },
  {
   "cell_type": "code",
   "outputs": [
    {
     "data": {
      "text/plain": "BoundingBox(left=257976.73599999957, bottom=663899.3099000007, right=260081.73599999957, top=666174.3099000007)"
     },
     "execution_count": 8,
     "metadata": {},
     "output_type": "execute_result"
    }
   ],
   "source": [
    "tif_GLcBld_Height.bounds"
   ],
   "metadata": {
    "collapsed": false,
    "ExecuteTime": {
     "end_time": "2024-08-13T22:43:50.236098Z",
     "start_time": "2024-08-13T22:43:50.229352Z"
    }
   },
   "id": "4de45f42e55c7ed3",
   "execution_count": 8
  },
  {
   "cell_type": "code",
   "outputs": [
    {
     "data": {
      "text/plain": "421"
     },
     "execution_count": 9,
     "metadata": {},
     "output_type": "execute_result"
    }
   ],
   "source": [
    "tif_GLcBld_Height.width"
   ],
   "metadata": {
    "collapsed": false,
    "ExecuteTime": {
     "end_time": "2024-08-13T22:43:50.243107Z",
     "start_time": "2024-08-13T22:43:50.236098Z"
    }
   },
   "id": "357826e187fa62d3",
   "execution_count": 9
  },
  {
   "cell_type": "code",
   "outputs": [
    {
     "data": {
      "text/plain": "455"
     },
     "execution_count": 10,
     "metadata": {},
     "output_type": "execute_result"
    }
   ],
   "source": [
    "tif_GLcBld_Height.height"
   ],
   "metadata": {
    "collapsed": false,
    "ExecuteTime": {
     "end_time": "2024-08-13T22:43:50.250435Z",
     "start_time": "2024-08-13T22:43:50.243610Z"
    }
   },
   "id": "77262a9fa4435741",
   "execution_count": 10
  },
  {
   "cell_type": "code",
   "outputs": [
    {
     "data": {
      "text/plain": "1"
     },
     "execution_count": 11,
     "metadata": {},
     "output_type": "execute_result"
    }
   ],
   "source": [
    "tif_GLcBld_Height.count"
   ],
   "metadata": {
    "collapsed": false,
    "ExecuteTime": {
     "end_time": "2024-08-13T22:43:50.257055Z",
     "start_time": "2024-08-13T22:43:50.250435Z"
    }
   },
   "id": "cac99d91b0171459",
   "execution_count": 11
  },
  {
   "cell_type": "code",
   "outputs": [
    {
     "data": {
      "text/plain": "array([[28.882736  , 28.408676  , 27.841417  , ..., 15.216122  ,\n        14.058662  ,  0.08586502],\n       [31.331669  , 30.637243  , 31.719954  , ..., 13.888069  ,\n        12.631687  ,  0.07413864],\n       [31.908613  , 31.804506  , 32.027122  , ..., 10.486404  ,\n         9.954441  ,  0.0562439 ],\n       ...,\n       [ 6.266613  ,  6.3237047 ,  1.4739332 , ..., 17.83626   ,\n        18.70651   , 17.208393  ],\n       [ 4.7787457 ,  1.4792271 ,  0.1911993 , ..., 12.996392  ,\n        14.958178  , 18.35652   ],\n       [ 0.25867653,  0.15101147,  0.16328621, ...,  0.0835458 ,\n         0.13466549, 12.975633  ]], dtype=float32)"
     },
     "execution_count": 12,
     "metadata": {},
     "output_type": "execute_result"
    }
   ],
   "source": [
    "tif_glcent_CHM.data"
   ],
   "metadata": {
    "collapsed": false,
    "ExecuteTime": {
     "end_time": "2024-08-13T22:43:50.264666Z",
     "start_time": "2024-08-13T22:43:50.257055Z"
    }
   },
   "id": "b3c97b4a45e6ee77",
   "execution_count": 12
  },
  {
   "cell_type": "code",
   "outputs": [],
   "source": [
    "tif_list = [tif_GLcBld_Height, tif_glcent_CHM, tif_glcent_DSM, tif_KernelD_GLcB_new, tif_LAI]\n",
    "\n",
    "# 创建一个空的列表，用于存储每个tif文件的属性\n",
    "data = []\n",
    "\n",
    "# 遍历每个TifFile对象，提取属性并存储到data列表中\n",
    "data = [\n",
    "    {\n",
    "        \"Name\": tif.file_path.split('/')[-1],  # 提取文件名\n",
    "        \"Data\": tif.data,\n",
    "        \"Data.shape\": tif.shape,\n",
    "        \"Transform\": tif.transform,\n",
    "        \"CRS\": tif.crs,\n",
    "        \"Bounds\": tif.bounds,\n",
    "        \"Width\": tif.width,\n",
    "        \"Height\": tif.height,\n",
    "        \"Band Count\": tif.count\n",
    "    }\n",
    "    for tif in tif_list\n",
    "]\n",
    "\n",
    "# 将列表转换为DataFrame\n",
    "df = pd.DataFrame(data)\n"
   ],
   "metadata": {
    "collapsed": false,
    "ExecuteTime": {
     "end_time": "2024-08-13T22:43:50.275851Z",
     "start_time": "2024-08-13T22:43:50.264666Z"
    }
   },
   "id": "8f24c7abf9c484a7",
   "execution_count": 13
  },
  {
   "cell_type": "code",
   "outputs": [
    {
     "data": {
      "text/plain": "                   Name                                               Data  \\\n0     GLcBld_Height.tif  [[65535, 65535, 65535, 65535, 65535, 65535, 65...   \n1        glcent_CHM.tif  [[28.882736, 28.408676, 27.841417, 2.758522, 0...   \n2        glcent_DSM.tif  [[55.24, 54.737, 54.116, 28.998, 26.305, 36.85...   \n3  KernelD_GLcB_new.tif  [[244.3018, 275.4633, 306.76352, 337.6687, 367...   \n4               LAI.tif  [[11.7030945, 11.513471, 11.286567, 1.2534088,...   \n\n   Data.shape                                          Transform     CRS  \\\n0  (455, 421)  (5.0, 0.0, 257976.73599999957, 0.0, -5.0, 6661...  (init)   \n1  (400, 400)  (5.0, 0.0, 258000.0, 0.0, -5.0, 666000.0, 0.0,...  (init)   \n2  (400, 400)  (5.0, 0.0, 258000.0, 0.0, -5.0, 666000.0, 0.0,...  (init)   \n3  (245, 244)  (8.21323320000243, 0.0, 257999.8617497996, 0.0...  (init)   \n4  (400, 400)  (5.0, 0.0, 258000.0, 0.0, -5.0, 666000.0, 0.0,...  (init)   \n\n                                              Bounds  Width  Height  \\\n0  (257976.73599999957, 663899.3099000007, 260081...    421     455   \n1           (258000.0, 664000.0, 260000.0, 666000.0)    400     400   \n2           (258000.0, 664000.0, 260000.0, 666000.0)    400     400   \n3  (257999.8617497996, 663991.944182601, 260003.8...    244     245   \n4           (258000.0, 664000.0, 260000.0, 666000.0)    400     400   \n\n   Band Count  \n0           1  \n1           1  \n2           1  \n3           1  \n4           1  ",
      "text/html": "<div>\n<style scoped>\n    .dataframe tbody tr th:only-of-type {\n        vertical-align: middle;\n    }\n\n    .dataframe tbody tr th {\n        vertical-align: top;\n    }\n\n    .dataframe thead th {\n        text-align: right;\n    }\n</style>\n<table border=\"1\" class=\"dataframe\">\n  <thead>\n    <tr style=\"text-align: right;\">\n      <th></th>\n      <th>Name</th>\n      <th>Data</th>\n      <th>Data.shape</th>\n      <th>Transform</th>\n      <th>CRS</th>\n      <th>Bounds</th>\n      <th>Width</th>\n      <th>Height</th>\n      <th>Band Count</th>\n    </tr>\n  </thead>\n  <tbody>\n    <tr>\n      <th>0</th>\n      <td>GLcBld_Height.tif</td>\n      <td>[[65535, 65535, 65535, 65535, 65535, 65535, 65...</td>\n      <td>(455, 421)</td>\n      <td>(5.0, 0.0, 257976.73599999957, 0.0, -5.0, 6661...</td>\n      <td>(init)</td>\n      <td>(257976.73599999957, 663899.3099000007, 260081...</td>\n      <td>421</td>\n      <td>455</td>\n      <td>1</td>\n    </tr>\n    <tr>\n      <th>1</th>\n      <td>glcent_CHM.tif</td>\n      <td>[[28.882736, 28.408676, 27.841417, 2.758522, 0...</td>\n      <td>(400, 400)</td>\n      <td>(5.0, 0.0, 258000.0, 0.0, -5.0, 666000.0, 0.0,...</td>\n      <td>(init)</td>\n      <td>(258000.0, 664000.0, 260000.0, 666000.0)</td>\n      <td>400</td>\n      <td>400</td>\n      <td>1</td>\n    </tr>\n    <tr>\n      <th>2</th>\n      <td>glcent_DSM.tif</td>\n      <td>[[55.24, 54.737, 54.116, 28.998, 26.305, 36.85...</td>\n      <td>(400, 400)</td>\n      <td>(5.0, 0.0, 258000.0, 0.0, -5.0, 666000.0, 0.0,...</td>\n      <td>(init)</td>\n      <td>(258000.0, 664000.0, 260000.0, 666000.0)</td>\n      <td>400</td>\n      <td>400</td>\n      <td>1</td>\n    </tr>\n    <tr>\n      <th>3</th>\n      <td>KernelD_GLcB_new.tif</td>\n      <td>[[244.3018, 275.4633, 306.76352, 337.6687, 367...</td>\n      <td>(245, 244)</td>\n      <td>(8.21323320000243, 0.0, 257999.8617497996, 0.0...</td>\n      <td>(init)</td>\n      <td>(257999.8617497996, 663991.944182601, 260003.8...</td>\n      <td>244</td>\n      <td>245</td>\n      <td>1</td>\n    </tr>\n    <tr>\n      <th>4</th>\n      <td>LAI.tif</td>\n      <td>[[11.7030945, 11.513471, 11.286567, 1.2534088,...</td>\n      <td>(400, 400)</td>\n      <td>(5.0, 0.0, 258000.0, 0.0, -5.0, 666000.0, 0.0,...</td>\n      <td>(init)</td>\n      <td>(258000.0, 664000.0, 260000.0, 666000.0)</td>\n      <td>400</td>\n      <td>400</td>\n      <td>1</td>\n    </tr>\n  </tbody>\n</table>\n</div>"
     },
     "execution_count": 14,
     "metadata": {},
     "output_type": "execute_result"
    }
   ],
   "source": [
    "df"
   ],
   "metadata": {
    "collapsed": false,
    "ExecuteTime": {
     "end_time": "2024-08-13T22:43:50.462521Z",
     "start_time": "2024-08-13T22:43:50.277861Z"
    }
   },
   "id": "bd2f1b00f1a9b856",
   "execution_count": 14
  },
  {
   "cell_type": "code",
   "outputs": [],
   "source": [
    "A = tif_glcent_CHM\n",
    "B = tif_GLcBld_Height\n",
    "transform_A = A.transform\n",
    "transform_B = B.transform\n",
    "width_A = A.width\n",
    "height_A = A.height\n",
    "width_B = B.width\n",
    "height_B = B.height"
   ],
   "metadata": {
    "collapsed": false,
    "ExecuteTime": {
     "end_time": "2024-08-13T22:43:50.466223Z",
     "start_time": "2024-08-13T22:43:50.463524Z"
    }
   },
   "id": "abe369e4ebcda48b",
   "execution_count": 15
  },
  {
   "cell_type": "code",
   "outputs": [
    {
     "data": {
      "text/plain": "Affine(5.0, 0.0, 258000.0,\n       0.0, -5.0, 666000.0)"
     },
     "execution_count": 16,
     "metadata": {},
     "output_type": "execute_result"
    }
   ],
   "source": [
    "transform_A"
   ],
   "metadata": {
    "collapsed": false,
    "ExecuteTime": {
     "end_time": "2024-08-13T22:43:50.474965Z",
     "start_time": "2024-08-13T22:43:50.466223Z"
    }
   },
   "id": "4a7d1a05c138d503",
   "execution_count": 16
  },
  {
   "cell_type": "code",
   "outputs": [
    {
     "data": {
      "text/plain": "Affine(5.0, 0.0, 257976.73599999957,\n       0.0, -5.0, 666174.3099000007)"
     },
     "execution_count": 17,
     "metadata": {},
     "output_type": "execute_result"
    }
   ],
   "source": [
    "transform_B"
   ],
   "metadata": {
    "collapsed": false,
    "ExecuteTime": {
     "end_time": "2024-08-13T22:43:50.481622Z",
     "start_time": "2024-08-13T22:43:50.474965Z"
    }
   },
   "id": "9dfbbb4093711d5a",
   "execution_count": 17
  },
  {
   "cell_type": "code",
   "outputs": [
    {
     "data": {
      "text/plain": "400"
     },
     "execution_count": 18,
     "metadata": {},
     "output_type": "execute_result"
    }
   ],
   "source": [
    "width_A"
   ],
   "metadata": {
    "collapsed": false,
    "ExecuteTime": {
     "end_time": "2024-08-13T22:43:50.488866Z",
     "start_time": "2024-08-13T22:43:50.481622Z"
    }
   },
   "id": "962cceb9d3ef47b2",
   "execution_count": 18
  },
  {
   "cell_type": "markdown",
   "source": [
    "边界计算：\n",
    "已知信息\n",
    "A 的仿射变换: Affine(5.0, 0.0, 258000.0, 0.0, -5.0, 666000.0)\n",
    "B 的仿射变换: Affine(5.0, 0.0, 257976.73599999997, 0.0, -5.0, 666174.3099999997)\n",
    "\n",
    "A 的大小: width_A = 400，height_A = 400\n",
    "B 的大小: width_B = 421，height_B = 455\n",
    "\n",
    "计算边界（Bounding Box）\n",
    "我们需要计算两个图像的空间范围（Bounding Box），即确定它们的左上角和右下角的地理坐标。\n",
    "\n",
    "1. A 的边界\n",
    "左上角（xmin_A, ymax_A）:\n",
    "xmin_A = 258000.0\n",
    "ymax_A = 666000.0\n",
    "右下角（xmax_A, ymin_A）:\n",
    "xmax_A = 258000.0 + 400 * 5.0 = 260000.0\n",
    "ymin_A = 666000.0 + 400 * -5.0 = 664000.0\n",
    "因此，A 的边界是：\n",
    "\n",
    "(xmin_A, ymin_A, xmax_A, ymax_A) = (258000.0, 664000.0, 260000.0, 666000.0)\n",
    "2. B 的边界\n",
    "左上角（xmin_B, ymax_B）:\n",
    "xmin_B = 257976.736\n",
    "ymax_B = 666174.31\n",
    "右下角（xmax_B, ymin_B）:\n",
    "xmax_B = 257976.736 + 421 * 5.0 = 260081.736\n",
    "ymin_B = 666174.31 + 455 * -5.0 = 663899.81\n",
    "因此，B 的边界是：\n",
    "\n",
    "(xmin_B, ymin_B, xmax_B, ymax_B) = (257976.736, 663899.81, 260081.736, 666174.31)\n",
    "\n",
    "B完全覆盖A"
   ],
   "metadata": {
    "collapsed": false
   },
   "id": "4a379fd81a72d32c"
  },
  {
   "cell_type": "code",
   "outputs": [
    {
     "name": "stdout",
     "output_type": "stream",
     "text": [
      "裁剪范围在原始 B 图像中的列偏移: 4.652800000083516, 行偏移: 34.86198000013246\n",
      "裁剪范围的宽度: 400.0 像素，高度: 400.0 像素\n",
      "裁剪范围结束的列号: 404.6528000000835, 行号: 434.86198000013246\n"
     ]
    }
   ],
   "source": [
    "# 读取 B 的文件\n",
    "with rasterio.open('datasets/GLcBld_Height.tif') as src_B:\n",
    "    # A 的边界\n",
    "    xmin_A, ymin_A, xmax_A, ymax_A = 258000.0, 664000.0, 260000.0, 666000.0\n",
    "\n",
    "    # 计算 B 中与 A 重叠的窗口\n",
    "    window = from_bounds(xmin_A, ymin_A, xmax_A, ymax_A, transform=src_B.transform)\n",
    "\n",
    "    # 获取窗口的行列偏移和大小\n",
    "    col_off, row_off = window.col_off, window.row_off\n",
    "    width, height = window.width, window.height\n",
    "\n",
    "    # 打印裁剪范围相对于原始 B 图像的行列范围\n",
    "    print(f\"裁剪范围在原始 B 图像中的列偏移: {col_off}, 行偏移: {row_off}\")\n",
    "    print(f\"裁剪范围的宽度: {width} 像素，高度: {height} 像素\")\n",
    "    print(f\"裁剪范围结束的列号: {col_off + width}, 行号: {row_off + height}\")\n",
    "\n",
    "    # 读取窗口内的 B 的数据\n",
    "    B_overlap_data = src_B.read(window=window)\n",
    "\n",
    "    # 生成裁剪后的 B 数据\n",
    "    profile = src_B.profile\n",
    "    profile.update({\n",
    "        \"height\": window.height,\n",
    "        \"width\": window.width,\n",
    "        \"transform\": rasterio.windows.transform(window, src_B.transform)\n",
    "    })\n"
   ],
   "metadata": {
    "collapsed": false,
    "ExecuteTime": {
     "end_time": "2024-08-13T22:43:50.505982Z",
     "start_time": "2024-08-13T22:43:50.489870Z"
    }
   },
   "id": "5418c42292702c4a",
   "execution_count": 19
  },
  {
   "cell_type": "code",
   "outputs": [
    {
     "data": {
      "text/plain": "array([[[  181, 65535, 65535, ..., 65535, 65535, 65535],\n        [  181,   181,   181, ..., 65535, 65535, 65535],\n        [  181,   181,   181, ..., 65535, 65535, 65535],\n        ...,\n        [65535, 65535, 65535, ..., 65535, 65535, 65535],\n        [65535, 65535, 65535, ..., 65535, 65535, 65535],\n        [65535, 65535, 65535, ..., 65535, 65535, 65535]]], dtype=uint16)"
     },
     "execution_count": 20,
     "metadata": {},
     "output_type": "execute_result"
    }
   ],
   "source": [
    "B_overlap_data"
   ],
   "metadata": {
    "collapsed": false,
    "ExecuteTime": {
     "end_time": "2024-08-13T22:43:50.510567Z",
     "start_time": "2024-08-13T22:43:50.506990Z"
    }
   },
   "id": "1e3e2d260d1de1f9",
   "execution_count": 20
  },
  {
   "cell_type": "code",
   "outputs": [],
   "source": [
    "C = B_overlap_data[0, :, :]"
   ],
   "metadata": {
    "collapsed": false,
    "ExecuteTime": {
     "end_time": "2024-08-13T22:43:50.517141Z",
     "start_time": "2024-08-13T22:43:50.510567Z"
    }
   },
   "id": "9d5fd0ea8ec0a2cf",
   "execution_count": 21
  },
  {
   "cell_type": "code",
   "outputs": [],
   "source": [
    "CHM_tif = copy.deepcopy(tif_glcent_CHM)\n",
    "DSM_tif = copy.deepcopy(tif_glcent_DSM)\n",
    "LAI_tif = copy.deepcopy(tif_LAI)\n",
    "BH_tif = copy.deepcopy(tif_glcent_CHM)"
   ],
   "metadata": {
    "collapsed": false,
    "ExecuteTime": {
     "end_time": "2024-08-13T22:43:50.525843Z",
     "start_time": "2024-08-13T22:43:50.518144Z"
    }
   },
   "id": "16a155835ca15ab4",
   "execution_count": 22
  },
  {
   "cell_type": "code",
   "outputs": [
    {
     "data": {
      "text/plain": "<__main__.TifFile at 0x1d176670990>"
     },
     "execution_count": 23,
     "metadata": {},
     "output_type": "execute_result"
    }
   ],
   "source": [
    "BH_tif"
   ],
   "metadata": {
    "collapsed": false,
    "ExecuteTime": {
     "end_time": "2024-08-13T22:43:50.531329Z",
     "start_time": "2024-08-13T22:43:50.526848Z"
    }
   },
   "id": "7181113170b0b485",
   "execution_count": 23
  },
  {
   "cell_type": "code",
   "outputs": [
    {
     "data": {
      "text/plain": "array([[28.882736  , 28.408676  , 27.841417  , ..., 15.216122  ,\n        14.058662  ,  0.08586502],\n       [31.331669  , 30.637243  , 31.719954  , ..., 13.888069  ,\n        12.631687  ,  0.07413864],\n       [31.908613  , 31.804506  , 32.027122  , ..., 10.486404  ,\n         9.954441  ,  0.0562439 ],\n       ...,\n       [ 6.266613  ,  6.3237047 ,  1.4739332 , ..., 17.83626   ,\n        18.70651   , 17.208393  ],\n       [ 4.7787457 ,  1.4792271 ,  0.1911993 , ..., 12.996392  ,\n        14.958178  , 18.35652   ],\n       [ 0.25867653,  0.15101147,  0.16328621, ...,  0.0835458 ,\n         0.13466549, 12.975633  ]], dtype=float32)"
     },
     "execution_count": 24,
     "metadata": {},
     "output_type": "execute_result"
    }
   ],
   "source": [
    "BH_tif.data"
   ],
   "metadata": {
    "collapsed": false,
    "ExecuteTime": {
     "end_time": "2024-08-13T22:43:50.538602Z",
     "start_time": "2024-08-13T22:43:50.532333Z"
    }
   },
   "id": "3c89343d7e17f4b0",
   "execution_count": 24
  },
  {
   "cell_type": "code",
   "outputs": [
    {
     "data": {
      "text/plain": "(1, 400, 400)"
     },
     "execution_count": 25,
     "metadata": {},
     "output_type": "execute_result"
    }
   ],
   "source": [
    "B_overlap_data.shape"
   ],
   "metadata": {
    "collapsed": false,
    "ExecuteTime": {
     "end_time": "2024-08-13T22:43:50.545198Z",
     "start_time": "2024-08-13T22:43:50.538602Z"
    }
   },
   "id": "db49f42b7a4a9914",
   "execution_count": 25
  },
  {
   "cell_type": "code",
   "outputs": [],
   "source": [
    "\n",
    "BH_tif.data = C\n",
    "BH_tif.shape = C.shape"
   ],
   "metadata": {
    "collapsed": false,
    "ExecuteTime": {
     "end_time": "2024-08-13T22:43:50.551415Z",
     "start_time": "2024-08-13T22:43:50.546201Z"
    }
   },
   "id": "7ebff9e235d99ff1",
   "execution_count": 26
  },
  {
   "cell_type": "code",
   "outputs": [
    {
     "data": {
      "text/plain": "array([[  181, 65535, 65535, ..., 65535, 65535, 65535],\n       [  181,   181,   181, ..., 65535, 65535, 65535],\n       [  181,   181,   181, ..., 65535, 65535, 65535],\n       ...,\n       [65535, 65535, 65535, ..., 65535, 65535, 65535],\n       [65535, 65535, 65535, ..., 65535, 65535, 65535],\n       [65535, 65535, 65535, ..., 65535, 65535, 65535]], dtype=uint16)"
     },
     "execution_count": 27,
     "metadata": {},
     "output_type": "execute_result"
    }
   ],
   "source": [
    "BH_tif.data"
   ],
   "metadata": {
    "collapsed": false,
    "ExecuteTime": {
     "end_time": "2024-08-13T22:43:50.559008Z",
     "start_time": "2024-08-13T22:43:50.552424Z"
    }
   },
   "id": "c3a5f7b60bbf6545",
   "execution_count": 27
  },
  {
   "cell_type": "code",
   "outputs": [],
   "source": [
    "list_tif = [\n",
    "    BH_tif,  # 建筑物高度\n",
    "    CHM_tif,  # 树冠高度\n",
    "    LAI_tif,  # 叶面积指数\n",
    "    DSM_tif  # 地形数据   \n",
    "]\n",
    "\n",
    "data1 = []\n",
    "\n",
    "# 遍历每个TifFile对象，提取属性并存储到data列表中\n",
    "data1 = [\n",
    "    {\n",
    "        \"Name\": tif.file_path.split('/')[-1],  # 提取文件名\n",
    "        \"Data\": tif.data,\n",
    "        \"Data.shape\": tif.shape,\n",
    "        \"Transform\": tif.transform,\n",
    "        \"CRS\": tif.crs,\n",
    "        \"Bounds\": tif.bounds,\n",
    "        \"Width\": tif.width,\n",
    "        \"Height\": tif.height,\n",
    "        \"Band Count\": tif.count\n",
    "    }\n",
    "    for tif in list_tif\n",
    "]"
   ],
   "metadata": {
    "collapsed": false,
    "ExecuteTime": {
     "end_time": "2024-08-13T22:43:50.566454Z",
     "start_time": "2024-08-13T22:43:50.560012Z"
    }
   },
   "id": "bea5c79ba5d4b50d",
   "execution_count": 28
  },
  {
   "cell_type": "code",
   "outputs": [],
   "source": [
    "df = pd.DataFrame(data1)"
   ],
   "metadata": {
    "collapsed": false,
    "ExecuteTime": {
     "end_time": "2024-08-13T22:43:50.573692Z",
     "start_time": "2024-08-13T22:43:50.566454Z"
    }
   },
   "id": "639322df5102ce6b",
   "execution_count": 29
  },
  {
   "cell_type": "code",
   "outputs": [
    {
     "data": {
      "text/plain": "             Name                                               Data  \\\n0  glcent_CHM.tif  [[181, 65535, 65535, 65535, 65535, 65535, 6553...   \n1  glcent_CHM.tif  [[28.882736, 28.408676, 27.841417, 2.758522, 0...   \n2         LAI.tif  [[11.7030945, 11.513471, 11.286567, 1.2534088,...   \n3  glcent_DSM.tif  [[55.24, 54.737, 54.116, 28.998, 26.305, 36.85...   \n\n   Data.shape                                          Transform     CRS  \\\n0  (400, 400)  (5.0, 0.0, 258000.0, 0.0, -5.0, 666000.0, 0.0,...  (init)   \n1  (400, 400)  (5.0, 0.0, 258000.0, 0.0, -5.0, 666000.0, 0.0,...  (init)   \n2  (400, 400)  (5.0, 0.0, 258000.0, 0.0, -5.0, 666000.0, 0.0,...  (init)   \n3  (400, 400)  (5.0, 0.0, 258000.0, 0.0, -5.0, 666000.0, 0.0,...  (init)   \n\n                                     Bounds  Width  Height  Band Count  \n0  (258000.0, 664000.0, 260000.0, 666000.0)    400     400           1  \n1  (258000.0, 664000.0, 260000.0, 666000.0)    400     400           1  \n2  (258000.0, 664000.0, 260000.0, 666000.0)    400     400           1  \n3  (258000.0, 664000.0, 260000.0, 666000.0)    400     400           1  ",
      "text/html": "<div>\n<style scoped>\n    .dataframe tbody tr th:only-of-type {\n        vertical-align: middle;\n    }\n\n    .dataframe tbody tr th {\n        vertical-align: top;\n    }\n\n    .dataframe thead th {\n        text-align: right;\n    }\n</style>\n<table border=\"1\" class=\"dataframe\">\n  <thead>\n    <tr style=\"text-align: right;\">\n      <th></th>\n      <th>Name</th>\n      <th>Data</th>\n      <th>Data.shape</th>\n      <th>Transform</th>\n      <th>CRS</th>\n      <th>Bounds</th>\n      <th>Width</th>\n      <th>Height</th>\n      <th>Band Count</th>\n    </tr>\n  </thead>\n  <tbody>\n    <tr>\n      <th>0</th>\n      <td>glcent_CHM.tif</td>\n      <td>[[181, 65535, 65535, 65535, 65535, 65535, 6553...</td>\n      <td>(400, 400)</td>\n      <td>(5.0, 0.0, 258000.0, 0.0, -5.0, 666000.0, 0.0,...</td>\n      <td>(init)</td>\n      <td>(258000.0, 664000.0, 260000.0, 666000.0)</td>\n      <td>400</td>\n      <td>400</td>\n      <td>1</td>\n    </tr>\n    <tr>\n      <th>1</th>\n      <td>glcent_CHM.tif</td>\n      <td>[[28.882736, 28.408676, 27.841417, 2.758522, 0...</td>\n      <td>(400, 400)</td>\n      <td>(5.0, 0.0, 258000.0, 0.0, -5.0, 666000.0, 0.0,...</td>\n      <td>(init)</td>\n      <td>(258000.0, 664000.0, 260000.0, 666000.0)</td>\n      <td>400</td>\n      <td>400</td>\n      <td>1</td>\n    </tr>\n    <tr>\n      <th>2</th>\n      <td>LAI.tif</td>\n      <td>[[11.7030945, 11.513471, 11.286567, 1.2534088,...</td>\n      <td>(400, 400)</td>\n      <td>(5.0, 0.0, 258000.0, 0.0, -5.0, 666000.0, 0.0,...</td>\n      <td>(init)</td>\n      <td>(258000.0, 664000.0, 260000.0, 666000.0)</td>\n      <td>400</td>\n      <td>400</td>\n      <td>1</td>\n    </tr>\n    <tr>\n      <th>3</th>\n      <td>glcent_DSM.tif</td>\n      <td>[[55.24, 54.737, 54.116, 28.998, 26.305, 36.85...</td>\n      <td>(400, 400)</td>\n      <td>(5.0, 0.0, 258000.0, 0.0, -5.0, 666000.0, 0.0,...</td>\n      <td>(init)</td>\n      <td>(258000.0, 664000.0, 260000.0, 666000.0)</td>\n      <td>400</td>\n      <td>400</td>\n      <td>1</td>\n    </tr>\n  </tbody>\n</table>\n</div>"
     },
     "execution_count": 30,
     "metadata": {},
     "output_type": "execute_result"
    }
   ],
   "source": [
    "df"
   ],
   "metadata": {
    "collapsed": false,
    "ExecuteTime": {
     "end_time": "2024-08-13T22:43:50.724193Z",
     "start_time": "2024-08-13T22:43:50.573692Z"
    }
   },
   "id": "e4f23a5023266bbf",
   "execution_count": 30
  },
  {
   "cell_type": "code",
   "outputs": [],
   "source": [
    "list_tifs = [BH_tif.data, CHM_tif.data, LAI_tif.data, DSM_tif.data]"
   ],
   "metadata": {
    "collapsed": false,
    "ExecuteTime": {
     "end_time": "2024-08-13T22:43:50.727747Z",
     "start_time": "2024-08-13T22:43:50.724193Z"
    }
   },
   "id": "e104d14a89f8eea6",
   "execution_count": 31
  },
  {
   "cell_type": "code",
   "outputs": [
    {
     "data": {
      "text/plain": "[array([[  181, 65535, 65535, ..., 65535, 65535, 65535],\n        [  181,   181,   181, ..., 65535, 65535, 65535],\n        [  181,   181,   181, ..., 65535, 65535, 65535],\n        ...,\n        [65535, 65535, 65535, ..., 65535, 65535, 65535],\n        [65535, 65535, 65535, ..., 65535, 65535, 65535],\n        [65535, 65535, 65535, ..., 65535, 65535, 65535]], dtype=uint16),\n array([[28.882736  , 28.408676  , 27.841417  , ..., 15.216122  ,\n         14.058662  ,  0.08586502],\n        [31.331669  , 30.637243  , 31.719954  , ..., 13.888069  ,\n         12.631687  ,  0.07413864],\n        [31.908613  , 31.804506  , 32.027122  , ..., 10.486404  ,\n          9.954441  ,  0.0562439 ],\n        ...,\n        [ 6.266613  ,  6.3237047 ,  1.4739332 , ..., 17.83626   ,\n         18.70651   , 17.208393  ],\n        [ 4.7787457 ,  1.4792271 ,  0.1911993 , ..., 12.996392  ,\n         14.958178  , 18.35652   ],\n        [ 0.25867653,  0.15101147,  0.16328621, ...,  0.0835458 ,\n          0.13466549, 12.975633  ]], dtype=float32),\n array([[11.7030945 , 11.513471  , 11.286567  , ...,  6.236449  ,\n          5.773465  ,  0.18434602],\n        [12.682668  , 12.404897  , 12.837981  , ...,  5.705228  ,\n          5.202675  ,  0.17965546],\n        [12.913445  , 12.871802  , 12.960849  , ...,  4.344562  ,\n          4.1317763 ,  0.17249757],\n        ...,\n        [ 2.6566453 ,  2.679482  ,  0.73957336, ...,  7.284504  ,\n          7.6326046 ,  7.0333576 ],\n        [ 2.0614984 ,  0.7416909 ,  0.22647974, ...,  5.348557  ,\n          6.133271  ,  7.492608  ],\n        [ 0.25347063,  0.21040459,  0.2153145 , ...,  0.18341833,\n          0.2038662 ,  5.3402534 ]], dtype=float32),\n array([[55.24 , 54.737, 54.116, ..., 58.844, 57.252, 43.179],\n        [57.543, 56.951, 58.069, ..., 57.408, 55.8  , 43.125],\n        [57.914, 57.915, 58.18 , ..., 53.714, 53.067, 43.102],\n        ...,\n        [19.027, 19.032, 15.773, ..., 19.636, 20.578, 20.239],\n        [19.003, 15.733, 14.537, ..., 14.83 , 16.715, 20.174],\n        [14.48 , 14.572, 14.617, ...,  1.903,  1.944, 14.771]],\n       dtype=float32)]"
     },
     "execution_count": 32,
     "metadata": {},
     "output_type": "execute_result"
    }
   ],
   "source": [
    "list_tifs"
   ],
   "metadata": {
    "collapsed": false,
    "ExecuteTime": {
     "end_time": "2024-08-13T22:43:50.738515Z",
     "start_time": "2024-08-13T22:43:50.728751Z"
    }
   },
   "id": "a1fe650839f0826f",
   "execution_count": 32
  },
  {
   "cell_type": "markdown",
   "source": [
    "# 网格数据差值"
   ],
   "metadata": {
    "collapsed": false
   },
   "id": "fcb7fa5b4cf37580"
  },
  {
   "cell_type": "code",
   "outputs": [
    {
     "name": "stdout",
     "output_type": "stream",
     "text": [
      "点 P (0.5, 0.5) 的估计温度值为: 6.16\n"
     ]
    }
   ],
   "source": [
    "# 已知点的坐标和温度值\n",
    "points = np.array([\n",
    "    [0, 0],  # 点 A\n",
    "    [1, 0],  # 点 B\n",
    "    [0, 1]   # 点 C\n",
    "])\n",
    "\n",
    "temperatures = np.array([5, 6, 7])  # 点 A, B, C 的温度值\n",
    "\n",
    "# 半变异矩阵\n",
    "Gamma = np.array([\n",
    "    [0, 1, 1, 1],          # 点 A 到 A, B, C 和约束条件\n",
    "    [1, 0, np.sqrt(2), 1], # 点 B 到 A, B, C 和约束条件\n",
    "    [1, np.sqrt(2), 0, 1], # 点 C 到 A, B, C 和约束条件\n",
    "    [1, 1, 1, 0]           # 约束条件\n",
    "])\n",
    "\n",
    "# 目标点 P 的坐标\n",
    "P = np.array([0.5, 0.5])\n",
    "\n",
    "# 计算 P 到 A, B, C 的半变异函数值\n",
    "gamma = np.array([\n",
    "    np.sqrt(np.sum((P - points[0])**2)),  # 到 A 的距离\n",
    "    np.sqrt(np.sum((P - points[1])**2)),  # 到 B 的距离\n",
    "    np.sqrt(np.sum((P - points[2])**2)),  # 到 C 的距离\n",
    "    1  # 约束条件\n",
    "])\n",
    "\n",
    "# 解克里金系统\n",
    "lambdas = np.linalg.solve(Gamma, gamma)\n",
    "\n",
    "# 提取权重\n",
    "lambda_A, lambda_B, lambda_C, mu = lambdas\n",
    "\n",
    "# 使用权重计算插值点 P 的温度值\n",
    "Z_P = lambda_A * temperatures[0] + lambda_B * temperatures[1] + lambda_C * temperatures[2]\n",
    "\n",
    "print(f\"点 P (0.5, 0.5) 的估计温度值为: {Z_P:.2f}\")\n"
   ],
   "metadata": {
    "collapsed": false,
    "ExecuteTime": {
     "end_time": "2024-08-13T22:43:50.744844Z",
     "start_time": "2024-08-13T22:43:50.738515Z"
    }
   },
   "id": "c9c41fcb038b83d",
   "execution_count": 33
  },
  {
   "cell_type": "code",
   "outputs": [
    {
     "data": {
      "text/plain": "                  Location  A Coordinates (Lat, Lon) B Coordinates (X_B, Y_B)  \\\n0          Renfrew Weather   (55.8739065, -4.388791)   (250756.73, 666880.47)   \n1  Ralston Weather Station  (55.8466298, -4.3708027)    (251848.22, 663740.0)   \n2                 Cathcart  (55.8114036, -4.2603826)   (258548.22, 659684.28)   \n3             Clincarthill  (55.8253972, -4.2119939)   (261484.32, 661295.42)   \n4      Cambuslang Scotland  (55.8253972, -4.2119939)   (261484.32, 661295.42)   \n\n    Report Date / Time  Dew Point (°C)  Air Temperature (°C)  \\\n0  31/07/2024 09:30:00             8.4                  17.0   \n1  31/07/2024 09:30:00             8.1                  11.8   \n2  31/07/2024 09:28:07            10.0                  15.9   \n3  31/07/2024 09:29:36             9.3                  15.1   \n4  31/07/2024 09:31:36             8.9                  13.4   \n\n   Relative Humidity (%)  Wind Speed (kn)  \n0                   57.0              0.4  \n1                   78.2              0.9  \n2                   68.0              0.0  \n3                   68.0              0.8  \n4                   74.0              0.0  ",
      "text/html": "<div>\n<style scoped>\n    .dataframe tbody tr th:only-of-type {\n        vertical-align: middle;\n    }\n\n    .dataframe tbody tr th {\n        vertical-align: top;\n    }\n\n    .dataframe thead th {\n        text-align: right;\n    }\n</style>\n<table border=\"1\" class=\"dataframe\">\n  <thead>\n    <tr style=\"text-align: right;\">\n      <th></th>\n      <th>Location</th>\n      <th>A Coordinates (Lat, Lon)</th>\n      <th>B Coordinates (X_B, Y_B)</th>\n      <th>Report Date / Time</th>\n      <th>Dew Point (°C)</th>\n      <th>Air Temperature (°C)</th>\n      <th>Relative Humidity (%)</th>\n      <th>Wind Speed (kn)</th>\n    </tr>\n  </thead>\n  <tbody>\n    <tr>\n      <th>0</th>\n      <td>Renfrew Weather</td>\n      <td>(55.8739065, -4.388791)</td>\n      <td>(250756.73, 666880.47)</td>\n      <td>31/07/2024 09:30:00</td>\n      <td>8.4</td>\n      <td>17.0</td>\n      <td>57.0</td>\n      <td>0.4</td>\n    </tr>\n    <tr>\n      <th>1</th>\n      <td>Ralston Weather Station</td>\n      <td>(55.8466298, -4.3708027)</td>\n      <td>(251848.22, 663740.0)</td>\n      <td>31/07/2024 09:30:00</td>\n      <td>8.1</td>\n      <td>11.8</td>\n      <td>78.2</td>\n      <td>0.9</td>\n    </tr>\n    <tr>\n      <th>2</th>\n      <td>Cathcart</td>\n      <td>(55.8114036, -4.2603826)</td>\n      <td>(258548.22, 659684.28)</td>\n      <td>31/07/2024 09:28:07</td>\n      <td>10.0</td>\n      <td>15.9</td>\n      <td>68.0</td>\n      <td>0.0</td>\n    </tr>\n    <tr>\n      <th>3</th>\n      <td>Clincarthill</td>\n      <td>(55.8253972, -4.2119939)</td>\n      <td>(261484.32, 661295.42)</td>\n      <td>31/07/2024 09:29:36</td>\n      <td>9.3</td>\n      <td>15.1</td>\n      <td>68.0</td>\n      <td>0.8</td>\n    </tr>\n    <tr>\n      <th>4</th>\n      <td>Cambuslang Scotland</td>\n      <td>(55.8253972, -4.2119939)</td>\n      <td>(261484.32, 661295.42)</td>\n      <td>31/07/2024 09:31:36</td>\n      <td>8.9</td>\n      <td>13.4</td>\n      <td>74.0</td>\n      <td>0.0</td>\n    </tr>\n  </tbody>\n</table>\n</div>"
     },
     "execution_count": 34,
     "metadata": {},
     "output_type": "execute_result"
    }
   ],
   "source": [
    "# 输入6个点的坐标和天气数据值\n",
    "\n",
    "# 提取的数据如下：\n",
    "data_5_extra_points = [\n",
    "    ['Renfrew Weather', (55.8739065, -4.3887910), (250756.73, 666880.47), '31/07/2024 09:30:00', 8.4, 17, 57, 0.4],\n",
    "    ['Ralston Weather Station', (55.8466298, -4.3708027), (251848.22, 663740.00), '31/07/2024 09:30:00', 8.1, 11.8, 78.2, 0.9],\n",
    "    ['Cathcart', (55.8114036, -4.2603826), (258548.22, 659684.28), '31/07/2024 09:28:07', 10, 15.9, 68, 0],\n",
    "    ['Clincarthill', (55.8253972, -4.2119939), (261484.32, 661295.42), '31/07/2024 09:29:36', 9.3, 15.1, 68, 0.8],\n",
    "    ['Cambuslang Scotland', (55.8253972, -4.2119939), (261484.32, 661295.42), '31/07/2024 09:31:36', 8.9, 13.4, 74, 0]\n",
    "]\n",
    "\n",
    "# 直接将数据列表转换为 Pandas DataFrame\n",
    "columns = ['Location', 'A Coordinates (Lat, Lon)', 'B Coordinates (X_B, Y_B)', 'Report Date / Time', 'Dew Point (°C)', 'Air Temperature (°C)', 'Relative Humidity (%)', 'Wind Speed (kn)']\n",
    "df_5_extra_points = pd.DataFrame(data_5_extra_points, columns=columns)\n",
    "\n",
    "# 显示 DataFrame\n",
    "df_5_extra_points\n"
   ],
   "metadata": {
    "collapsed": false,
    "ExecuteTime": {
     "end_time": "2024-08-13T22:43:50.757732Z",
     "start_time": "2024-08-13T22:43:50.744844Z"
    }
   },
   "id": "9be495e4e878543b",
   "execution_count": 34
  },
  {
   "cell_type": "code",
   "outputs": [],
   "source": [
    "# 从DataFrame中提取B坐标系的点和相关数据\n",
    "B_points = np.array([item[2] for item in data_5_extra_points])\n",
    "dew_points = np.array(df_5_extra_points['Dew Point (°C)'])\n",
    "air_temps = np.array(df_5_extra_points['Air Temperature (°C)'])\n",
    "humidity = np.array(df_5_extra_points['Relative Humidity (%)'])\n",
    "wind_speeds = np.array(df_5_extra_points['Wind Speed (kn)'])\n"
   ],
   "metadata": {
    "collapsed": false,
    "ExecuteTime": {
     "end_time": "2024-08-13T22:43:50.761879Z",
     "start_time": "2024-08-13T22:43:50.758736Z"
    }
   },
   "id": "46415a367cef5e2e",
   "execution_count": 35
  },
  {
   "cell_type": "code",
   "outputs": [
    {
     "data": {
      "text/plain": "array([[250756.73, 666880.47],\n       [251848.22, 663740.  ],\n       [258548.22, 659684.28],\n       [261484.32, 661295.42],\n       [261484.32, 661295.42]])"
     },
     "execution_count": 36,
     "metadata": {},
     "output_type": "execute_result"
    }
   ],
   "source": [
    "B_points"
   ],
   "metadata": {
    "collapsed": false,
    "ExecuteTime": {
     "end_time": "2024-08-13T22:43:50.769380Z",
     "start_time": "2024-08-13T22:43:50.761879Z"
    }
   },
   "id": "3cc864dc5df49680",
   "execution_count": 36
  },
  {
   "cell_type": "code",
   "outputs": [
    {
     "data": {
      "text/plain": "array([ 8.4,  8.1, 10. ,  9.3,  8.9])"
     },
     "execution_count": 37,
     "metadata": {},
     "output_type": "execute_result"
    }
   ],
   "source": [
    "dew_points"
   ],
   "metadata": {
    "collapsed": false,
    "ExecuteTime": {
     "end_time": "2024-08-13T22:43:50.776437Z",
     "start_time": "2024-08-13T22:43:50.769380Z"
    }
   },
   "id": "18f55c5ea2b5003a",
   "execution_count": 37
  },
  {
   "cell_type": "code",
   "outputs": [
    {
     "data": {
      "text/plain": "array([17. , 11.8, 15.9, 15.1, 13.4])"
     },
     "execution_count": 38,
     "metadata": {},
     "output_type": "execute_result"
    }
   ],
   "source": [
    "air_temps"
   ],
   "metadata": {
    "collapsed": false,
    "ExecuteTime": {
     "end_time": "2024-08-13T22:43:50.784409Z",
     "start_time": "2024-08-13T22:43:50.777446Z"
    }
   },
   "id": "322468730c8dc65c",
   "execution_count": 38
  },
  {
   "cell_type": "code",
   "outputs": [
    {
     "data": {
      "text/plain": "array([57. , 78.2, 68. , 68. , 74. ])"
     },
     "execution_count": 39,
     "metadata": {},
     "output_type": "execute_result"
    }
   ],
   "source": [
    "humidity"
   ],
   "metadata": {
    "collapsed": false,
    "ExecuteTime": {
     "end_time": "2024-08-13T22:43:50.790922Z",
     "start_time": "2024-08-13T22:43:50.784409Z"
    }
   },
   "id": "bdab44cb17a6d7e7",
   "execution_count": 39
  },
  {
   "cell_type": "code",
   "outputs": [
    {
     "data": {
      "text/plain": "array([0.4, 0.9, 0. , 0.8, 0. ])"
     },
     "execution_count": 40,
     "metadata": {},
     "output_type": "execute_result"
    }
   ],
   "source": [
    "wind_speeds"
   ],
   "metadata": {
    "collapsed": false,
    "ExecuteTime": {
     "end_time": "2024-08-13T22:43:50.797723Z",
     "start_time": "2024-08-13T22:43:50.791926Z"
    }
   },
   "id": "ac93a612ac44302d",
   "execution_count": 40
  },
  {
   "cell_type": "code",
   "outputs": [],
   "source": [
    "# 定义网格\n",
    "x_min, x_max = 258000, 260000\n",
    "y_min, y_max = 664000, 666000\n",
    "grid_x, grid_y = np.mgrid[x_min:x_max:400j, y_min:y_max:400j]\n",
    "grid_points = np.vstack([grid_x.ravel(), grid_y.ravel()]).T  # 是一个 (160000, 2) 的数组，保存了所有网格点的 (x, y) 坐标"
   ],
   "metadata": {
    "collapsed": false,
    "ExecuteTime": {
     "end_time": "2024-08-13T22:43:50.807227Z",
     "start_time": "2024-08-13T22:43:50.800727Z"
    }
   },
   "id": "846bf7eeb9633cf7",
   "execution_count": 41
  },
  {
   "cell_type": "code",
   "outputs": [
    {
     "data": {
      "text/plain": "array([[258000.        , 664000.        ],\n       [258000.        , 664005.01253133],\n       [258000.        , 664010.02506266],\n       ...,\n       [260000.        , 665989.97493734],\n       [260000.        , 665994.98746867],\n       [260000.        , 666000.        ]])"
     },
     "execution_count": 42,
     "metadata": {},
     "output_type": "execute_result"
    }
   ],
   "source": [
    "grid_points"
   ],
   "metadata": {
    "collapsed": false,
    "ExecuteTime": {
     "end_time": "2024-08-13T22:43:50.813740Z",
     "start_time": "2024-08-13T22:43:50.808236Z"
    }
   },
   "id": "a85025b62868060",
   "execution_count": 42
  },
  {
   "cell_type": "code",
   "outputs": [],
   "source": [
    "# 定义半变异矩阵Gamma，简化处理为欧式距离\n",
    "def compute_gamma(points, P):\n",
    "    dist = np.sqrt(np.sum((points - P)**2, axis=1))\n",
    "    return np.hstack([dist, 1])\n"
   ],
   "metadata": {
    "collapsed": false,
    "ExecuteTime": {
     "end_time": "2024-08-13T22:43:50.819506Z",
     "start_time": "2024-08-13T22:43:50.814744Z"
    }
   },
   "id": "a919fea165bc7cd",
   "execution_count": 43
  },
  {
   "cell_type": "code",
   "outputs": [],
   "source": [
    "# 函数：计算克里金插值\n",
    "def kriging_interpolation(B_points, values, grid_points):\n",
    "    # 构造Gamma矩阵\n",
    "    n_points = len(B_points)\n",
    "    Gamma = np.ones((n_points + 1, n_points + 1))\n",
    "    for i in range(n_points):\n",
    "        for j in range(n_points):\n",
    "            Gamma[i, j] = np.sqrt(np.sum((B_points[i] - B_points[j])**2))\n",
    "\n",
    "    # 添加一个小的正数扰动到对角线以避免奇异矩阵\n",
    "    Gamma[np.diag_indices_from(Gamma)] += 1e-10\n",
    "\n",
    "    Gamma[-1, -1] = 0\n",
    "\n",
    "    # 插值结果存储\n",
    "    interpolated_values = []\n",
    "\n",
    "    for P in grid_points:\n",
    "        gamma = compute_gamma(B_points, P)\n",
    "        lambdas = np.linalg.solve(Gamma, gamma)\n",
    "        interpolated_value = np.sum(lambdas[:-1] * values)\n",
    "        interpolated_values.append(interpolated_value)\n",
    "\n",
    "    return np.array(interpolated_values)\n"
   ],
   "metadata": {
    "collapsed": false,
    "ExecuteTime": {
     "end_time": "2024-08-13T22:43:50.827790Z",
     "start_time": "2024-08-13T22:43:50.820509Z"
    }
   },
   "id": "a403a68a4425e3df",
   "execution_count": 44
  },
  {
   "cell_type": "code",
   "outputs": [],
   "source": [
    "# 对每个变量进行插值\n",
    "dew_point_grid = kriging_interpolation(B_points, dew_points, grid_points)\n",
    "air_temp_grid = kriging_interpolation(B_points, air_temps, grid_points)\n",
    "humidity_grid = kriging_interpolation(B_points, humidity, grid_points)\n",
    "wind_speed_grid = kriging_interpolation(B_points, wind_speeds, grid_points)\n"
   ],
   "metadata": {
    "collapsed": false,
    "ExecuteTime": {
     "end_time": "2024-08-13T22:43:59.326420Z",
     "start_time": "2024-08-13T22:43:50.828801Z"
    }
   },
   "id": "a57a63abaa4343a8",
   "execution_count": 45
  },
  {
   "cell_type": "code",
   "outputs": [],
   "source": [
    "# 将结果存储为DataFrame\n",
    "grid_df = pd.DataFrame({\n",
    "    'X': grid_points[:, 0],\n",
    "    'Y': grid_points[:, 1],\n",
    "    'Dew Point (°C)': dew_point_grid,\n",
    "    'Air Temperature (°C)': air_temp_grid,\n",
    "    'Relative Humidity (%)': humidity_grid,\n",
    "    'Wind Speed (kn)': wind_speed_grid\n",
    "})"
   ],
   "metadata": {
    "collapsed": false,
    "ExecuteTime": {
     "end_time": "2024-08-13T22:43:59.331860Z",
     "start_time": "2024-08-13T22:43:59.326420Z"
    }
   },
   "id": "125688bb7860632d",
   "execution_count": 46
  },
  {
   "cell_type": "code",
   "outputs": [
    {
     "data": {
      "text/plain": "               X              Y  Dew Point (°C)  Air Temperature (°C)  \\\n0       258000.0  664000.000000        8.999907             14.600371   \n1       258000.0  664005.012531        8.999255             14.600463   \n2       258000.0  664010.025063        8.998604             14.600558   \n3       258000.0  664015.037594        8.997953             14.600656   \n4       258000.0  664020.050125        8.997304             14.600757   \n...          ...            ...             ...                   ...   \n159995  260000.0  665979.949875        8.868125             14.825202   \n159996  260000.0  665984.962406        8.867806             14.825854   \n159997  260000.0  665989.974937        8.867487             14.826507   \n159998  260000.0  665994.987469        8.867168             14.827160   \n159999  260000.0  666000.000000        8.866850             14.827814   \n\n        Relative Humidity (%)  Wind Speed (kn)  \n0                   69.439597         0.404868  \n1                   69.436530         0.405059  \n2                   69.433455         0.405249  \n3                   69.430372         0.405438  \n4                   69.427280         0.405627  \n...                       ...              ...  \n159995              67.820382         0.426470  \n159996              67.816359         0.426516  \n159997              67.812334         0.426562  \n159998              67.808308         0.426608  \n159999              67.804279         0.426654  \n\n[160000 rows x 6 columns]",
      "text/html": "<div>\n<style scoped>\n    .dataframe tbody tr th:only-of-type {\n        vertical-align: middle;\n    }\n\n    .dataframe tbody tr th {\n        vertical-align: top;\n    }\n\n    .dataframe thead th {\n        text-align: right;\n    }\n</style>\n<table border=\"1\" class=\"dataframe\">\n  <thead>\n    <tr style=\"text-align: right;\">\n      <th></th>\n      <th>X</th>\n      <th>Y</th>\n      <th>Dew Point (°C)</th>\n      <th>Air Temperature (°C)</th>\n      <th>Relative Humidity (%)</th>\n      <th>Wind Speed (kn)</th>\n    </tr>\n  </thead>\n  <tbody>\n    <tr>\n      <th>0</th>\n      <td>258000.0</td>\n      <td>664000.000000</td>\n      <td>8.999907</td>\n      <td>14.600371</td>\n      <td>69.439597</td>\n      <td>0.404868</td>\n    </tr>\n    <tr>\n      <th>1</th>\n      <td>258000.0</td>\n      <td>664005.012531</td>\n      <td>8.999255</td>\n      <td>14.600463</td>\n      <td>69.436530</td>\n      <td>0.405059</td>\n    </tr>\n    <tr>\n      <th>2</th>\n      <td>258000.0</td>\n      <td>664010.025063</td>\n      <td>8.998604</td>\n      <td>14.600558</td>\n      <td>69.433455</td>\n      <td>0.405249</td>\n    </tr>\n    <tr>\n      <th>3</th>\n      <td>258000.0</td>\n      <td>664015.037594</td>\n      <td>8.997953</td>\n      <td>14.600656</td>\n      <td>69.430372</td>\n      <td>0.405438</td>\n    </tr>\n    <tr>\n      <th>4</th>\n      <td>258000.0</td>\n      <td>664020.050125</td>\n      <td>8.997304</td>\n      <td>14.600757</td>\n      <td>69.427280</td>\n      <td>0.405627</td>\n    </tr>\n    <tr>\n      <th>...</th>\n      <td>...</td>\n      <td>...</td>\n      <td>...</td>\n      <td>...</td>\n      <td>...</td>\n      <td>...</td>\n    </tr>\n    <tr>\n      <th>159995</th>\n      <td>260000.0</td>\n      <td>665979.949875</td>\n      <td>8.868125</td>\n      <td>14.825202</td>\n      <td>67.820382</td>\n      <td>0.426470</td>\n    </tr>\n    <tr>\n      <th>159996</th>\n      <td>260000.0</td>\n      <td>665984.962406</td>\n      <td>8.867806</td>\n      <td>14.825854</td>\n      <td>67.816359</td>\n      <td>0.426516</td>\n    </tr>\n    <tr>\n      <th>159997</th>\n      <td>260000.0</td>\n      <td>665989.974937</td>\n      <td>8.867487</td>\n      <td>14.826507</td>\n      <td>67.812334</td>\n      <td>0.426562</td>\n    </tr>\n    <tr>\n      <th>159998</th>\n      <td>260000.0</td>\n      <td>665994.987469</td>\n      <td>8.867168</td>\n      <td>14.827160</td>\n      <td>67.808308</td>\n      <td>0.426608</td>\n    </tr>\n    <tr>\n      <th>159999</th>\n      <td>260000.0</td>\n      <td>666000.000000</td>\n      <td>8.866850</td>\n      <td>14.827814</td>\n      <td>67.804279</td>\n      <td>0.426654</td>\n    </tr>\n  </tbody>\n</table>\n<p>160000 rows × 6 columns</p>\n</div>"
     },
     "execution_count": 47,
     "metadata": {},
     "output_type": "execute_result"
    }
   ],
   "source": [
    "grid_df"
   ],
   "metadata": {
    "collapsed": false,
    "ExecuteTime": {
     "end_time": "2024-08-13T22:43:59.352085Z",
     "start_time": "2024-08-13T22:43:59.332371Z"
    }
   },
   "id": "b821b2c4b932fe0",
   "execution_count": 47
  },
  {
   "cell_type": "code",
   "outputs": [],
   "source": [
    "# 匹配地形数据与天气数据的形状\n",
    "\n",
    "# 展平地形数据\n",
    "X = np.array([tif.ravel() for tif in list_tifs]).T # (160000, 4)"
   ],
   "metadata": {
    "collapsed": false,
    "ExecuteTime": {
     "end_time": "2024-08-13T22:43:59.358629Z",
     "start_time": "2024-08-13T22:43:59.353089Z"
    }
   },
   "id": "63a09c9419201413",
   "execution_count": 48
  },
  {
   "cell_type": "code",
   "outputs": [
    {
     "data": {
      "text/plain": "array([[1.81000000e+02, 2.88827362e+01, 1.17030945e+01, 5.52400017e+01],\n       [6.55350000e+04, 2.84086761e+01, 1.15134706e+01, 5.47369995e+01],\n       [6.55350000e+04, 2.78414173e+01, 1.12865667e+01, 5.41160011e+01],\n       ...,\n       [6.55350000e+04, 8.35458040e-02, 1.83418334e-01, 1.90300000e+00],\n       [6.55350000e+04, 1.34665489e-01, 2.03866199e-01, 1.94400001e+00],\n       [6.55350000e+04, 1.29756327e+01, 5.34025335e+00, 1.47709999e+01]],\n      dtype=float32)"
     },
     "execution_count": 49,
     "metadata": {},
     "output_type": "execute_result"
    }
   ],
   "source": [
    "X"
   ],
   "metadata": {
    "collapsed": false,
    "ExecuteTime": {
     "end_time": "2024-08-13T22:43:59.366730Z",
     "start_time": "2024-08-13T22:43:59.359634Z"
    }
   },
   "id": "75e0f9af84fbb06d",
   "execution_count": 49
  },
  {
   "cell_type": "code",
   "outputs": [],
   "source": [
    "# 提取天气数据\n",
    "Y = grid_df[['Dew Point (°C)', 'Air Temperature (°C)', 'Relative Humidity (%)', 'Wind Speed (kn)']].values # (160000, 4)"
   ],
   "metadata": {
    "collapsed": false,
    "ExecuteTime": {
     "end_time": "2024-08-13T22:43:59.374654Z",
     "start_time": "2024-08-13T22:43:59.367400Z"
    }
   },
   "id": "7a8d3063b20ec2bf",
   "execution_count": 50
  },
  {
   "cell_type": "code",
   "outputs": [
    {
     "data": {
      "text/plain": "array([[ 8.99990701, 14.6003705 , 69.43959655,  0.40486841],\n       [ 8.99925483, 14.600463  , 69.43653002,  0.40505876],\n       [ 8.99860355, 14.60055833, 69.43345515,  0.40524862],\n       ...,\n       [ 8.86748666, 14.82650657, 67.81233419,  0.42656228],\n       [ 8.86716808, 14.82715992, 67.80830767,  0.42660798],\n       [ 8.86684982, 14.82781394, 67.80427948,  0.42665352]])"
     },
     "execution_count": 51,
     "metadata": {},
     "output_type": "execute_result"
    }
   ],
   "source": [
    "Y"
   ],
   "metadata": {
    "collapsed": false,
    "ExecuteTime": {
     "end_time": "2024-08-13T22:43:59.381554Z",
     "start_time": "2024-08-13T22:43:59.375658Z"
    }
   },
   "id": "a3450537b385efe1",
   "execution_count": 51
  },
  {
   "cell_type": "code",
   "outputs": [],
   "source": [
    "# # 构建存储结果的表格\n",
    "# importance_matrix = np.zeros((4, 4))"
   ],
   "metadata": {
    "collapsed": false,
    "ExecuteTime": {
     "end_time": "2024-08-13T22:43:59.387582Z",
     "start_time": "2024-08-13T22:43:59.381554Z"
    }
   },
   "id": "a6ba96236180aad5",
   "execution_count": 52
  },
  {
   "cell_type": "code",
   "outputs": [],
   "source": [
    "# from sklearn.ensemble import RandomForestRegressor"
   ],
   "metadata": {
    "collapsed": false,
    "ExecuteTime": {
     "end_time": "2024-08-13T22:43:59.393989Z",
     "start_time": "2024-08-13T22:43:59.388474Z"
    }
   },
   "id": "7b07b9f92519a965",
   "execution_count": 53
  },
  {
   "cell_type": "code",
   "outputs": [],
   "source": [
    "# # 对每一个Y参数构建随机森林模型并计算重要性\n",
    "# for i in range(4):\n",
    "#     y = Y[:, i]  # 第 i 个 Y 参数\n",
    "#     model = RandomForestRegressor(n_estimators=100, random_state=42)\n",
    "#     model.fit(X, y)\n",
    "#     importance_matrix[:, i] = model.feature_importances_"
   ],
   "metadata": {
    "collapsed": false,
    "ExecuteTime": {
     "end_time": "2024-08-13T22:43:59.400642Z",
     "start_time": "2024-08-13T22:43:59.393989Z"
    }
   },
   "id": "b51c495b5f18c28d",
   "execution_count": 54
  },
  {
   "cell_type": "code",
   "outputs": [],
   "source": [
    "# # 将结果转化为DataFrame以便显示\n",
    "# importance_df = pd.DataFrame(importance_matrix,\n",
    "#                              columns=['Dew Point (°C)', 'Air Temperature (°C)', 'Relative Humidity (%)', 'Wind Speed (kn)'],\n",
    "#                              index=['建筑物高度', '树冠高度', '叶面积指数', '地形数据'])\n"
   ],
   "metadata": {
    "collapsed": false,
    "ExecuteTime": {
     "end_time": "2024-08-13T22:43:59.407677Z",
     "start_time": "2024-08-13T22:43:59.401646Z"
    }
   },
   "id": "526a63af133af6d5",
   "execution_count": 55
  },
  {
   "cell_type": "code",
   "outputs": [],
   "source": [
    "# # 显示结果\n",
    "# importance_df"
   ],
   "metadata": {
    "collapsed": false,
    "ExecuteTime": {
     "end_time": "2024-08-13T22:43:59.414186Z",
     "start_time": "2024-08-13T22:43:59.408680Z"
    }
   },
   "id": "c800b035b7bce9d5",
   "execution_count": 56
  },
  {
   "cell_type": "code",
   "outputs": [
    {
     "data": {
      "text/plain": "array([[1.81000000e+02, 2.88827362e+01, 1.17030945e+01, 5.52400017e+01],\n       [6.55350000e+04, 2.84086761e+01, 1.15134706e+01, 5.47369995e+01],\n       [6.55350000e+04, 2.78414173e+01, 1.12865667e+01, 5.41160011e+01],\n       ...,\n       [6.55350000e+04, 8.35458040e-02, 1.83418334e-01, 1.90300000e+00],\n       [6.55350000e+04, 1.34665489e-01, 2.03866199e-01, 1.94400001e+00],\n       [6.55350000e+04, 1.29756327e+01, 5.34025335e+00, 1.47709999e+01]],\n      dtype=float32)"
     },
     "execution_count": 57,
     "metadata": {},
     "output_type": "execute_result"
    }
   ],
   "source": [
    "# 读取数据\n",
    "X "
   ],
   "metadata": {
    "collapsed": false,
    "ExecuteTime": {
     "end_time": "2024-08-13T22:47:13.380039Z",
     "start_time": "2024-08-13T22:47:13.375341Z"
    }
   },
   "id": "2e5452259f844adf",
   "execution_count": 57
  },
  {
   "cell_type": "code",
   "outputs": [
    {
     "data": {
      "text/plain": "array([[ 8.99990701, 14.6003705 , 69.43959655,  0.40486841],\n       [ 8.99925483, 14.600463  , 69.43653002,  0.40505876],\n       [ 8.99860355, 14.60055833, 69.43345515,  0.40524862],\n       ...,\n       [ 8.86748666, 14.82650657, 67.81233419,  0.42656228],\n       [ 8.86716808, 14.82715992, 67.80830767,  0.42660798],\n       [ 8.86684982, 14.82781394, 67.80427948,  0.42665352]])"
     },
     "execution_count": 58,
     "metadata": {},
     "output_type": "execute_result"
    }
   ],
   "source": [
    "Y"
   ],
   "metadata": {
    "collapsed": false,
    "ExecuteTime": {
     "end_time": "2024-08-13T22:47:14.227171Z",
     "start_time": "2024-08-13T22:47:14.223275Z"
    }
   },
   "id": "9084eec00c7f2739",
   "execution_count": 58
  },
  {
   "cell_type": "code",
   "outputs": [],
   "source": [
    "# class StoreResultsCallback:\n",
    "#     def __init__(self, total_iterations, X, Y, model_idx):\n",
    "#         self.parameters = []\n",
    "#         self.mse_scores = []\n",
    "#         self.r2_scores = []\n",
    "#         self.mae_scores = []\n",
    "#         self.rmse_scores = []\n",
    "#         self.mape_scores = []\n",
    "#         self.X = X\n",
    "#         self.Y = Y\n",
    "#         self.model_idx = model_idx\n",
    "#         self.pbar = tqdm(total=total_iterations, desc=f\"BayesSearchCV Iterations for Model {model_idx+1}\")\n",
    "# \n",
    "#     def __call__(self, result):\n",
    "#         self.parameters.append(result.x)  # 储存当前参数\n",
    "# \n",
    "#         # 从结果中获取当前估计器并进行预测\n",
    "#         current_estimator = result.models[-1]\n",
    "#         y_pred = current_estimator.predict(self.X)\n",
    "# \n",
    "#         mse = mean_squared_error(self.Y[:, self.model_idx], y_pred)\n",
    "#         r2 = r2_score(self.Y[:, self.model_idx], y_pred)\n",
    "#         mae = mean_absolute_error(self.Y[:, self.model_idx], y_pred)\n",
    "#         rmse = np.sqrt(mse)\n",
    "#         mape = mean_absolute_percentage_error(self.Y[:, self.model_idx], y_pred)\n",
    "# \n",
    "#         # 储存每次迭代的评估指标\n",
    "#         self.mse_scores.append(mse)\n",
    "#         self.r2_scores.append(r2)\n",
    "#         self.mae_scores.append(mae)\n",
    "#         self.rmse_scores.append(rmse)\n",
    "#         self.mape_scores.append(mape)\n",
    "# \n",
    "#         # 更新进度条\n",
    "#         self.pbar.update(1)\n",
    "# \n",
    "#     def __del__(self):\n",
    "#         # 在进度条完成后关闭它\n",
    "#         self.pbar.close()"
   ],
   "metadata": {
    "collapsed": false,
    "ExecuteTime": {
     "end_time": "2024-08-13T22:49:41.863544Z",
     "start_time": "2024-08-13T22:49:41.860519Z"
    }
   },
   "id": "3655c6baf40d02dc",
   "execution_count": 67
  },
  {
   "cell_type": "code",
   "outputs": [],
   "source": [
    "# class StoreResultsCallback:\n",
    "#     def __init__(self, total_iterations, X, Y, model_idx):\n",
    "#         self.parameters = []\n",
    "#         self.mse_scores = []\n",
    "#         self.r2_scores = []\n",
    "#         self.mae_scores = []\n",
    "#         self.rmse_scores = []\n",
    "#         self.mape_scores = []\n",
    "#         self.X = X\n",
    "#         self.Y = Y\n",
    "#         self.model_idx = model_idx\n",
    "#         self.pbar = tqdm(total=total_iterations, desc=f\"BayesSearchCV Iterations for Model {model_idx+1}\")\n",
    "# \n",
    "#     def __call__(self, result):\n",
    "#         self.parameters.append(result.x)  # 储存当前参数\n",
    "# \n",
    "#         # 从result中获取当前估计器并进行预测\n",
    "#         current_estimator = result.estimator\n",
    "#         y_pred = current_estimator.predict(self.X)\n",
    "# \n",
    "#         mse = mean_squared_error(self.Y[:, self.model_idx], y_pred)\n",
    "#         r2 = r2_score(self.Y[:, self.model_idx], y_pred)\n",
    "#         mae = mean_absolute_error(self.Y[:, self.model_idx], y_pred)\n",
    "#         rmse = np.sqrt(mse)\n",
    "#         mape = mean_absolute_percentage_error(self.Y[:, self.model_idx], y_pred)\n",
    "# \n",
    "#         # 储存每次迭代的评估指标\n",
    "#         self.mse_scores.append(mse)\n",
    "#         self.r2_scores.append(r2)\n",
    "#         self.mae_scores.append(mae)\n",
    "#         self.rmse_scores.append(rmse)\n",
    "#         self.mape_scores.append(mape)\n",
    "# \n",
    "#         # 更新进度条\n",
    "#         self.pbar.update(1)\n",
    "# \n",
    "#     def __del__(self):\n",
    "#         # 在进度条完成后关闭它\n",
    "#         self.pbar.close()\n"
   ],
   "metadata": {
    "collapsed": false,
    "ExecuteTime": {
     "end_time": "2024-08-13T22:49:41.908347Z",
     "start_time": "2024-08-13T22:49:41.902265Z"
    }
   },
   "id": "3121bce564a78760",
   "execution_count": 68
  },
  {
   "cell_type": "code",
   "outputs": [],
   "source": [
    "class StoreResultsCallback:\n",
    "    def __init__(self, total_iterations, X, Y, model_idx):\n",
    "        self.parameters = []\n",
    "        self.mse_scores = []\n",
    "        self.r2_scores = []\n",
    "        self.mae_scores = []\n",
    "        self.rmse_scores = []\n",
    "        self.mape_scores = []\n",
    "        self.X = X\n",
    "        self.Y = Y\n",
    "        self.model_idx = model_idx\n",
    "        self.pbar = tqdm(total=total_iterations, desc=f\"BayesSearchCV Iterations for Model {model_idx+1}\")\n",
    "\n",
    "    def __call__(self, result):\n",
    "        self.parameters.append(result.x)  # 储存当前参数\n",
    "\n",
    "        # 获取当前评估的模型\n",
    "        current_estimator = result.model\n",
    "        y_pred = current_estimator.predict(self.X)\n",
    "\n",
    "        mse = mean_squared_error(self.Y[:, self.model_idx], y_pred)\n",
    "        r2 = r2_score(self.Y[:, self.model_idx], y_pred)\n",
    "        mae = mean_absolute_error(self.Y[:, self.model_idx], y_pred)\n",
    "        rmse = np.sqrt(mse)\n",
    "        mape = mean_absolute_percentage_error(self.Y[:, self.model_idx], y_pred)\n",
    "\n",
    "        # 储存每次迭代的评估指标\n",
    "        self.mse_scores.append(mse)\n",
    "        self.r2_scores.append(r2)\n",
    "        self.mae_scores.append(mae)\n",
    "        self.rmse_scores.append(rmse)\n",
    "        self.mape_scores.append(mape)\n",
    "\n",
    "        # 更新进度条\n",
    "        self.pbar.update(1)\n",
    "\n",
    "    def __del__(self):\n",
    "        # 在进度条完成后关闭它\n",
    "        self.pbar.close()\n"
   ],
   "metadata": {
    "collapsed": false,
    "ExecuteTime": {
     "end_time": "2024-08-13T22:54:29.434133Z",
     "start_time": "2024-08-13T22:54:29.427791Z"
    }
   },
   "id": "99d9ac5da6e482c4",
   "execution_count": 76
  },
  {
   "cell_type": "code",
   "outputs": [],
   "source": [
    "# 定义随机森林的超参数搜索空间\n",
    "search_space = {\n",
    "    'n_estimators': Integer(100, 300),  # 决策树数量\n",
    "    'max_depth': Integer(10, 30),  # 最大深度\n",
    "    'max_features': Categorical(['sqrt', 'log2', None]), # 最大特征数，None表示使用所有特征\n",
    "    'min_samples_split': Integer(2, 10),  # 最小分裂样本数\n",
    "    'min_samples_leaf': Integer(1, 4),  # 最小叶子节点样本数\n",
    "    'bootstrap': Categorical([True])  # 由于袋外估计必须使用自助采样法，因此固定其值\n",
    "}"
   ],
   "metadata": {
    "collapsed": false,
    "ExecuteTime": {
     "end_time": "2024-08-13T22:54:30.298216Z",
     "start_time": "2024-08-13T22:54:30.291952Z"
    }
   },
   "id": "993671e0838e227f",
   "execution_count": 77
  },
  {
   "cell_type": "code",
   "outputs": [],
   "source": [
    "# 初始化随机森林模型\n",
    "model = RandomForestRegressor(random_state=42, oob_score=True)"
   ],
   "metadata": {
    "collapsed": false,
    "ExecuteTime": {
     "end_time": "2024-08-13T22:54:30.710001Z",
     "start_time": "2024-08-13T22:54:30.703456Z"
    }
   },
   "id": "471778b4808e09ac",
   "execution_count": 78
  },
  {
   "cell_type": "code",
   "outputs": [],
   "source": [
    "# 用于存储每个模型的结果\n",
    "all_results = []"
   ],
   "metadata": {
    "collapsed": false,
    "ExecuteTime": {
     "end_time": "2024-08-13T22:54:30.828498Z",
     "start_time": "2024-08-13T22:54:30.826233Z"
    }
   },
   "id": "731bd9e7fe2be39c",
   "execution_count": 79
  },
  {
   "cell_type": "code",
   "outputs": [],
   "source": [
    "# 用于储存模型的特征重要性\n",
    "importance_matrix = np.zeros((4, len(search_space)))"
   ],
   "metadata": {
    "collapsed": false,
    "ExecuteTime": {
     "end_time": "2024-08-13T22:54:31.319314Z",
     "start_time": "2024-08-13T22:54:31.316435Z"
    }
   },
   "id": "def9a820fcc1673d",
   "execution_count": 80
  },
  {
   "cell_type": "code",
   "outputs": [],
   "source": [
    "n_iter = 10  # 迭代次数"
   ],
   "metadata": {
    "collapsed": false,
    "ExecuteTime": {
     "end_time": "2024-08-13T22:54:31.736386Z",
     "start_time": "2024-08-13T22:54:31.733829Z"
    }
   },
   "id": "1d198d8bfb8f1cba",
   "execution_count": 81
  },
  {
   "cell_type": "code",
   "outputs": [],
   "source": [
    "from sklearn.metrics import mean_squared_error, r2_score, mean_absolute_error, make_scorer\n",
    "from skopt import BayesSearchCV\n"
   ],
   "metadata": {
    "collapsed": false
   },
   "id": "fa12fc87ed983031"
  },
  {
   "cell_type": "code",
   "outputs": [],
   "source": [
    "# 全局变量，用于存储每次迭代的结果\n",
    "global_metrics = {\n",
    "    'parameters': [],\n",
    "    'mse_scores': [],\n",
    "    'r2_scores': [],\n",
    "    'mae_scores': [],\n",
    "    'rmse_scores': [],\n",
    "    'mape_scores': []\n",
    "}\n"
   ],
   "metadata": {
    "collapsed": false
   },
   "id": "95812e40737a0d45"
  },
  {
   "cell_type": "code",
   "outputs": [],
   "source": [
    "# 自定义评分函数\n",
    "def custom_scorer(estimator, X, y):\n",
    "    y_pred = estimator.predict(X)\n",
    "    mse = mean_squared_error(y, y_pred)\n",
    "    r2 = r2_score(y, y_pred)\n",
    "    mae = mean_absolute_error(y, y_pred)\n",
    "    rmse = np.sqrt(mse)\n",
    "    mape = np.mean(np.abs((y - y_pred) / y)) * 100\n",
    "\n",
    "    # 保存当前参数和对应的评估指标\n",
    "    global_metrics['parameters'].append(estimator.get_params())\n",
    "    global_metrics['mse_scores'].append(mse)\n",
    "    global_metrics['r2_scores'].append(r2)\n",
    "    global_metrics['mae_scores'].append(mae)\n",
    "    global_metrics['rmse_scores'].append(rmse)\n",
    "    global_metrics['mape_scores'].append(mape)\n",
    "\n",
    "    # 由于我们需要最小化 MSE，所以返回负的 MSE 作为得分\n",
    "    return -mse\n"
   ],
   "metadata": {
    "collapsed": false
   },
   "id": "896e2d7d6b6c64b2"
  },
  {
   "cell_type": "code",
   "outputs": [],
   "source": [
    "# 转换自定义评分函数为sklearn兼容的scorer\n",
    "scorer = make_scorer(custom_scorer)\n"
   ],
   "metadata": {
    "collapsed": false
   },
   "id": "c4dba4cd0a497796"
  },
  {
   "cell_type": "code",
   "outputs": [
    {
     "ename": "SyntaxError",
     "evalue": "keyword argument repeated: scoring (2578005260.py, line 16)",
     "output_type": "error",
     "traceback": [
      "\u001B[1;36m  Cell \u001B[1;32mIn[101], line 16\u001B[1;36m\u001B[0m\n\u001B[1;33m    scoring=scorer,  # 使用自定义的评分函数\u001B[0m\n\u001B[1;37m    ^\u001B[0m\n\u001B[1;31mSyntaxError\u001B[0m\u001B[1;31m:\u001B[0m keyword argument repeated: scoring\n"
     ]
    }
   ],
   "source": [
    "# 使用贝叶斯优化进行超参数搜索\n",
    "bayes_search = BayesSearchCV(\n",
    "    estimator=model,\n",
    "    search_spaces=search_space,\n",
    "    n_iter=n_iter,  # 迭代次数，可以调整  表示贝叶斯优化将会搜索 n_iter 组不同的超参数组合。每一组超参数组合将会被评估一次。\n",
    "    cv=5,  # 5 折交叉验证  对于每一个超参数组合，数据将会被分成 5 份，每次选择其中 4 份作为训练集，剩下的 1 份作为验证集，共进行 5 次训练和验证，最终得到该超参数组合的平均验证得分。\n",
    "    \n",
    "    # 结合n_iter和cv参数，BayesSearchCV将会在总共 10(n_iter) * 5 = 50 次训练和验证之后，返回最佳的超参数组合。\n",
    "    # 每组超参数组合只会被评估一次，但在这一次评估中，它会经过 5 折交叉验证得到性能评分。\n",
    "    # n_iter 次迭代对应于搜索和评估 n_iter 组不同的超参数组合，而不是每个超参数组合迭代 n_iter 次。\n",
    "    # 即，10(n_iter)种不同的超参数组合，每种组合都会进行5折交叉验证，最终得到最佳的超参数组合。\n",
    "    \n",
    "    n_jobs=-1,  # 使用所有可用的核\n",
    "    verbose=2,  # 显示详细信息\n",
    "    scoring='neg_mean_squared_error',  # 使用负均方误差作为评分\n",
    "    scoring=scorer,  # 使用自定义的评分函数\n",
    ")"
   ],
   "metadata": {
    "collapsed": false,
    "ExecuteTime": {
     "end_time": "2024-08-13T23:58:50.875722Z",
     "start_time": "2024-08-13T23:58:50.869266Z"
    }
   },
   "id": "c429d9cc0570b24a",
   "execution_count": 101
  },
  {
   "cell_type": "code",
   "outputs": [
    {
     "name": "stdout",
     "output_type": "stream",
     "text": [
      "Optimizing model 1/4\n",
      "Fitting 5 folds for each of 1 candidates, totalling 5 fits\n",
      "Fitting 5 folds for each of 1 candidates, totalling 5 fits\n",
      "Fitting 5 folds for each of 1 candidates, totalling 5 fits\n",
      "Fitting 5 folds for each of 1 candidates, totalling 5 fits\n",
      "Fitting 5 folds for each of 1 candidates, totalling 5 fits\n",
      "Fitting 5 folds for each of 1 candidates, totalling 5 fits\n",
      "Fitting 5 folds for each of 1 candidates, totalling 5 fits\n",
      "Fitting 5 folds for each of 1 candidates, totalling 5 fits\n",
      "Fitting 5 folds for each of 1 candidates, totalling 5 fits\n",
      "Fitting 5 folds for each of 1 candidates, totalling 5 fits\n",
      "Optimizing model 2/4\n",
      "Fitting 5 folds for each of 1 candidates, totalling 5 fits\n",
      "Fitting 5 folds for each of 1 candidates, totalling 5 fits\n",
      "Fitting 5 folds for each of 1 candidates, totalling 5 fits\n",
      "Fitting 5 folds for each of 1 candidates, totalling 5 fits\n",
      "Fitting 5 folds for each of 1 candidates, totalling 5 fits\n",
      "Fitting 5 folds for each of 1 candidates, totalling 5 fits\n",
      "Fitting 5 folds for each of 1 candidates, totalling 5 fits\n",
      "Fitting 5 folds for each of 1 candidates, totalling 5 fits\n",
      "Fitting 5 folds for each of 1 candidates, totalling 5 fits\n",
      "Fitting 5 folds for each of 1 candidates, totalling 5 fits\n",
      "Optimizing model 3/4\n",
      "Fitting 5 folds for each of 1 candidates, totalling 5 fits\n",
      "Fitting 5 folds for each of 1 candidates, totalling 5 fits\n",
      "Fitting 5 folds for each of 1 candidates, totalling 5 fits\n",
      "Fitting 5 folds for each of 1 candidates, totalling 5 fits\n",
      "Fitting 5 folds for each of 1 candidates, totalling 5 fits\n",
      "Fitting 5 folds for each of 1 candidates, totalling 5 fits\n",
      "Fitting 5 folds for each of 1 candidates, totalling 5 fits\n",
      "Fitting 5 folds for each of 1 candidates, totalling 5 fits\n",
      "Fitting 5 folds for each of 1 candidates, totalling 5 fits\n",
      "Fitting 5 folds for each of 1 candidates, totalling 5 fits\n"
     ]
    },
    {
     "name": "stderr",
     "output_type": "stream",
     "text": [
      "BayesSearchCV Iterations for Model 1:   0%|          | 0/10 [48:14<?, ?it/s]\n",
      "BayesSearchCV Iterations for Model 1:   0%|          | 0/10 [45:48<?, ?it/s]\n"
     ]
    },
    {
     "name": "stdout",
     "output_type": "stream",
     "text": [
      "Optimizing model 4/4\n",
      "Fitting 5 folds for each of 1 candidates, totalling 5 fits\n",
      "Fitting 5 folds for each of 1 candidates, totalling 5 fits\n",
      "Fitting 5 folds for each of 1 candidates, totalling 5 fits\n",
      "Fitting 5 folds for each of 1 candidates, totalling 5 fits\n",
      "Fitting 5 folds for each of 1 candidates, totalling 5 fits\n",
      "Fitting 5 folds for each of 1 candidates, totalling 5 fits\n",
      "Fitting 5 folds for each of 1 candidates, totalling 5 fits\n",
      "Fitting 5 folds for each of 1 candidates, totalling 5 fits\n",
      "Fitting 5 folds for each of 1 candidates, totalling 5 fits\n",
      "Fitting 5 folds for each of 1 candidates, totalling 5 fits\n"
     ]
    }
   ],
   "source": [
    "%%time\n",
    "for i in range(4):\n",
    "    print(f\"Optimizing model {i+1}/4\")\n",
    "\n",
    "    # 清空全局变量中的指标\n",
    "    global_metrics = {\n",
    "        'parameters': [],\n",
    "        'mse_scores': [],\n",
    "        'r2_scores': [],\n",
    "        'mae_scores': [],\n",
    "        'rmse_scores': [],\n",
    "        'mape_scores': []\n",
    "    }\n",
    "\n",
    "    # 开始贝叶斯优化\n",
    "    bayes_search.fit(X, Y[:, i])\n",
    "\n",
    "    # 将结果存储\n",
    "    all_results.append((global_metrics, bayes_search.best_params_))\n",
    "\n",
    "    # 获取特征重要性\n",
    "    importance_matrix[:, i] = bayes_search.best_estimator_.feature_importances_\n",
    "\n",
    "# 打印结果或进行后续处理\n"
   ],
   "metadata": {
    "collapsed": false,
    "ExecuteTime": {
     "end_time": "2024-08-13T23:47:28.421345Z",
     "start_time": "2024-08-13T23:00:09.823065Z"
    }
   },
   "id": "9dcd9825eee8e14e",
   "execution_count": 84
  },
  {
   "cell_type": "code",
   "outputs": [],
   "source": [
    "# for i in range(4):  # 针对每个Y参数执行BayesSearchCV\n",
    "#     print(f\"Optimizing model {i+1}/4\")\n",
    "# \n",
    "#     # 实例化回调函数，包含tqdm进度条\n",
    "#     store_results_callback = StoreResultsCallback(total_iterations=n_iter, X=X, Y=Y, model_idx=i)\n",
    "# \n",
    "#     # 开始贝叶斯优化，并传入回调函数\n",
    "#     bayes_search.fit(X, Y[:, i], callback=[store_results_callback])\n",
    "# \n",
    "#     # 将结果存储\n",
    "#     all_results.append((store_results_callback, bayes_search.best_params_))\n",
    "# \n",
    "#     # 获取特征重要性\n",
    "#     importance_matrix[:, i] = bayes_search.best_estimator_.feature_importances_\n"
   ],
   "metadata": {
    "collapsed": false,
    "ExecuteTime": {
     "end_time": "2024-08-13T23:47:28.425640Z",
     "start_time": "2024-08-13T23:47:28.421858Z"
    }
   },
   "id": "f8745ac112a1bf10",
   "execution_count": 85
  },
  {
   "cell_type": "code",
   "outputs": [],
   "source": [
    "# for i in range(4):  # 针对每个Y参数执行BayesSearchCV\n",
    "#     print(f\"Optimizing model {i+1}/4\")\n",
    "# \n",
    "#     # 实例化回调函数，包含tqdm进度条\n",
    "#     store_results_callback = StoreResultsCallback(total_iterations=n_iter, X=X, Y=Y, model_idx=i)\n",
    "# \n",
    "#     # 开始贝叶斯优化，并传入回调函数\n",
    "#     bayes_search.fit(X, Y[:, i], callback=[store_results_callback])\n",
    "# \n",
    "#     # 将结果存储\n",
    "#     all_results.append((store_results_callback, bayes_search.best_params_))\n",
    "# \n",
    "#     # 获取特征重要性\n",
    "#     importance_matrix[:, i] = bayes_search.best_estimator_.feature_importances_\n"
   ],
   "metadata": {
    "collapsed": false,
    "ExecuteTime": {
     "end_time": "2024-08-13T23:47:28.443771Z",
     "start_time": "2024-08-13T23:47:28.426656Z"
    }
   },
   "id": "c1daf012f86bdf81",
   "execution_count": 86
  },
  {
   "cell_type": "code",
   "outputs": [
    {
     "data": {
      "text/plain": "[({'parameters': [],\n   'mse_scores': [],\n   'r2_scores': [],\n   'mae_scores': [],\n   'rmse_scores': [],\n   'mape_scores': []},\n  OrderedDict([('bootstrap', True),\n               ('max_depth', 11),\n               ('max_features', 'log2'),\n               ('min_samples_leaf', 1),\n               ('min_samples_split', 4),\n               ('n_estimators', 245)])),\n ({'parameters': [],\n   'mse_scores': [],\n   'r2_scores': [],\n   'mae_scores': [],\n   'rmse_scores': [],\n   'mape_scores': []},\n  OrderedDict([('bootstrap', True),\n               ('max_depth', 12),\n               ('max_features', 'sqrt'),\n               ('min_samples_leaf', 3),\n               ('min_samples_split', 10),\n               ('n_estimators', 189)])),\n ({'parameters': [],\n   'mse_scores': [],\n   'r2_scores': [],\n   'mae_scores': [],\n   'rmse_scores': [],\n   'mape_scores': []},\n  OrderedDict([('bootstrap', True),\n               ('max_depth', 11),\n               ('max_features', 'log2'),\n               ('min_samples_leaf', 1),\n               ('min_samples_split', 7),\n               ('n_estimators', 110)])),\n ({'parameters': [],\n   'mse_scores': [],\n   'r2_scores': [],\n   'mae_scores': [],\n   'rmse_scores': [],\n   'mape_scores': []},\n  OrderedDict([('bootstrap', True),\n               ('max_depth', 12),\n               ('max_features', 'log2'),\n               ('min_samples_leaf', 4),\n               ('min_samples_split', 7),\n               ('n_estimators', 258)]))]"
     },
     "execution_count": 100,
     "metadata": {},
     "output_type": "execute_result"
    }
   ],
   "source": [
    "all_results"
   ],
   "metadata": {
    "collapsed": false,
    "ExecuteTime": {
     "end_time": "2024-08-13T23:56:44.433827Z",
     "start_time": "2024-08-13T23:56:44.426942Z"
    }
   },
   "id": "ade2507f843237c0",
   "execution_count": 100
  },
  {
   "cell_type": "code",
   "outputs": [
    {
     "name": "stdout",
     "output_type": "stream",
     "text": [
      "\n",
      "Model 1: Best Parameters: OrderedDict([('bootstrap', True), ('max_depth', 11), ('max_features', 'log2'), ('min_samples_leaf', 1), ('min_samples_split', 4), ('n_estimators', 245)])\n",
      "Final Evaluation Metrics for Model 1:\n"
     ]
    },
    {
     "ename": "IndexError",
     "evalue": "list index out of range",
     "output_type": "error",
     "traceback": [
      "\u001B[1;31m---------------------------------------------------------------------------\u001B[0m",
      "\u001B[1;31mIndexError\u001B[0m                                Traceback (most recent call last)",
      "Cell \u001B[1;32mIn[88], line 5\u001B[0m\n\u001B[0;32m      3\u001B[0m \u001B[38;5;28mprint\u001B[39m(\u001B[38;5;124mf\u001B[39m\u001B[38;5;124m\"\u001B[39m\u001B[38;5;130;01m\\n\u001B[39;00m\u001B[38;5;124mModel \u001B[39m\u001B[38;5;132;01m{\u001B[39;00mi\u001B[38;5;241m+\u001B[39m\u001B[38;5;241m1\u001B[39m\u001B[38;5;132;01m}\u001B[39;00m\u001B[38;5;124m: Best Parameters: \u001B[39m\u001B[38;5;132;01m{\u001B[39;00mbest_params\u001B[38;5;132;01m}\u001B[39;00m\u001B[38;5;124m\"\u001B[39m)\n\u001B[0;32m      4\u001B[0m \u001B[38;5;28mprint\u001B[39m(\u001B[38;5;124mf\u001B[39m\u001B[38;5;124m\"\u001B[39m\u001B[38;5;124mFinal Evaluation Metrics for Model \u001B[39m\u001B[38;5;132;01m{\u001B[39;00mi\u001B[38;5;241m+\u001B[39m\u001B[38;5;241m1\u001B[39m\u001B[38;5;132;01m}\u001B[39;00m\u001B[38;5;124m:\u001B[39m\u001B[38;5;124m\"\u001B[39m)\n\u001B[1;32m----> 5\u001B[0m \u001B[38;5;28mprint\u001B[39m(\u001B[38;5;124mf\u001B[39m\u001B[38;5;124m\"\u001B[39m\u001B[38;5;124m  MSE: \u001B[39m\u001B[38;5;132;01m{\u001B[39;00mresult[\u001B[38;5;124m'\u001B[39m\u001B[38;5;124mmse_scores\u001B[39m\u001B[38;5;124m'\u001B[39m][\u001B[38;5;241m-\u001B[39m\u001B[38;5;241m1\u001B[39m]\u001B[38;5;132;01m:\u001B[39;00m\u001B[38;5;124m.4f\u001B[39m\u001B[38;5;132;01m}\u001B[39;00m\u001B[38;5;124m\"\u001B[39m)\n\u001B[0;32m      6\u001B[0m \u001B[38;5;28mprint\u001B[39m(\u001B[38;5;124mf\u001B[39m\u001B[38;5;124m\"\u001B[39m\u001B[38;5;124m  R²: \u001B[39m\u001B[38;5;132;01m{\u001B[39;00mresult[\u001B[38;5;124m'\u001B[39m\u001B[38;5;124mr2_scores\u001B[39m\u001B[38;5;124m'\u001B[39m][\u001B[38;5;241m-\u001B[39m\u001B[38;5;241m1\u001B[39m]\u001B[38;5;132;01m:\u001B[39;00m\u001B[38;5;124m.4f\u001B[39m\u001B[38;5;132;01m}\u001B[39;00m\u001B[38;5;124m\"\u001B[39m)\n\u001B[0;32m      7\u001B[0m \u001B[38;5;28mprint\u001B[39m(\u001B[38;5;124mf\u001B[39m\u001B[38;5;124m\"\u001B[39m\u001B[38;5;124m  MAE: \u001B[39m\u001B[38;5;132;01m{\u001B[39;00mresult[\u001B[38;5;124m'\u001B[39m\u001B[38;5;124mmae_scores\u001B[39m\u001B[38;5;124m'\u001B[39m][\u001B[38;5;241m-\u001B[39m\u001B[38;5;241m1\u001B[39m]\u001B[38;5;132;01m:\u001B[39;00m\u001B[38;5;124m.4f\u001B[39m\u001B[38;5;132;01m}\u001B[39;00m\u001B[38;5;124m\"\u001B[39m)\n",
      "\u001B[1;31mIndexError\u001B[0m: list index out of range"
     ]
    }
   ],
   "source": [
    "# 打印最终的超参数优化和评估指标的具体值\n",
    "for i, (result, best_params) in enumerate(all_results):\n",
    "    print(f\"\\nModel {i+1}: Best Parameters: {best_params}\")\n",
    "    print(f\"Final Evaluation Metrics for Model {i+1}:\")\n",
    "    print(f\"  MSE: {result['mse_scores'][-1]:.4f}\")\n",
    "    print(f\"  R²: {result['r2_scores'][-1]:.4f}\")\n",
    "    print(f\"  MAE: {result['mae_scores'][-1]:.4f}\")\n",
    "    print(f\"  RMSE: {result['rmse_scores'][-1]:.4f}\")\n",
    "    print(f\"  MAPE: {result['mape_scores'][-1]:.4f}\")\n"
   ],
   "metadata": {
    "collapsed": false,
    "ExecuteTime": {
     "end_time": "2024-08-13T23:52:15.450036Z",
     "start_time": "2024-08-13T23:52:15.435140Z"
    }
   },
   "id": "2693b06cf91b8b9",
   "execution_count": 88
  },
  {
   "cell_type": "code",
   "outputs": [],
   "source": [
    "# # 打印最终的超参数优化和评估指标的具体值\n",
    "# for i, (result, best_params) in enumerate(all_results):\n",
    "#     print(f\"\\nModel {i+1}: Best Parameters: {best_params}\")\n",
    "#     print(f\"Final Evaluation Metrics for Model {i+1}:\")\n",
    "#     print(f\"  MSE: {result.mse_scores[-1]:.4f}\")\n",
    "#     print(f\"  R²: {result.r2_scores[-1]:.4f}\")\n",
    "#     print(f\"  MAE: {result.mae_scores[-1]:.4f}\")\n",
    "#     print(f\"  RMSE: {result.rmse_scores[-1]:.4f}\")\n",
    "#     print(f\"  MAPE: {result.mape_scores[-1]:.4f}\")"
   ],
   "metadata": {
    "collapsed": false,
    "ExecuteTime": {
     "end_time": "2024-08-13T23:52:16.885030Z",
     "start_time": "2024-08-13T23:52:16.881690Z"
    }
   },
   "id": "e06d5d3af746886a",
   "execution_count": 89
  },
  {
   "cell_type": "code",
   "outputs": [],
   "source": [
    "def plot_param_evolution(all_results, param_name, param_index):\n",
    "    plt.figure(figsize=(14, 8))\n",
    "    for i, (result, _) in enumerate(all_results):\n",
    "        param_values = [p[param_index] for p in result['parameters']]\n",
    "        plt.plot(range(len(param_values)), param_values, label=f'Model {i+1}')\n",
    "    plt.title(f'{param_name} evolution during Bayes Optimization')\n",
    "    plt.xlabel('Iteration')\n",
    "    plt.ylabel(param_name)\n",
    "    plt.legend()\n",
    "    plt.grid(True)\n",
    "    plt.show()"
   ],
   "metadata": {
    "collapsed": false,
    "ExecuteTime": {
     "end_time": "2024-08-13T23:52:17.601418Z",
     "start_time": "2024-08-13T23:52:17.597915Z"
    }
   },
   "id": "4d49c083c550e871",
   "execution_count": 90
  },
  {
   "cell_type": "code",
   "outputs": [],
   "source": [
    "# # 绘制每个参数在优化过程中的变化\n",
    "# def plot_param_evolution(all_results, param_name, param_index):\n",
    "#     plt.figure(figsize=(14, 8))\n",
    "#     for i, result in enumerate(all_results):\n",
    "#         param_values = [p[param_index] for p in result.parameters]\n",
    "#         plt.plot(range(len(param_values)), param_values, label=f'Model {i+1}')\n",
    "#     plt.title(f'{param_name} evolution during Bayes Optimization')\n",
    "#     plt.xlabel('Iteration')\n",
    "#     plt.ylabel(param_name)\n",
    "#     plt.legend()\n",
    "#     plt.grid(True)\n",
    "#     plt.show()"
   ],
   "metadata": {
    "collapsed": false,
    "ExecuteTime": {
     "end_time": "2024-08-13T23:52:18.106701Z",
     "start_time": "2024-08-13T23:52:18.103768Z"
    }
   },
   "id": "c46edfb3c965b82",
   "execution_count": 91
  },
  {
   "cell_type": "code",
   "outputs": [],
   "source": [
    "def plot_metric_evolution(all_results, metric_name, metric_key):\n",
    "    plt.figure(figsize=(14, 8))\n",
    "    for i, (result, _) in enumerate(all_results):\n",
    "        plt.plot(range(len(result[metric_key])), result[metric_key], label=f'Model {i+1}')\n",
    "    plt.title(f'{metric_name} evolution during Bayes Optimization')\n",
    "    plt.xlabel('Iteration')\n",
    "    plt.ylabel(metric_name)\n",
    "    plt.legend()\n",
    "    plt.grid(True)\n",
    "    plt.show()\n"
   ],
   "metadata": {
    "collapsed": false,
    "ExecuteTime": {
     "end_time": "2024-08-13T23:52:18.632787Z",
     "start_time": "2024-08-13T23:52:18.628576Z"
    }
   },
   "id": "5164d19a1aedf9e8",
   "execution_count": 92
  },
  {
   "cell_type": "code",
   "outputs": [],
   "source": [
    "# # 绘制评估指标在优化过程中的变化\n",
    "# def plot_metric_evolution(all_results, metric_name, metric_values):\n",
    "#     plt.figure(figsize=(14, 8))\n",
    "#     for i, result in enumerate(all_results):\n",
    "#         plt.plot(range(len(metric_values[i])), metric_values[i], label=f'Model {i+1}')\n",
    "#     plt.title(f'{metric_name} evolution during Bayes Optimization')\n",
    "#     plt.xlabel('Iteration')\n",
    "#     plt.ylabel(metric_name)\n",
    "#     plt.legend()\n",
    "#     plt.grid(True)\n",
    "#     plt.show()"
   ],
   "metadata": {
    "collapsed": false,
    "ExecuteTime": {
     "end_time": "2024-08-13T23:52:18.998925Z",
     "start_time": "2024-08-13T23:52:18.994714Z"
    }
   },
   "id": "bf446d60b78262ac",
   "execution_count": 93
  },
  {
   "cell_type": "code",
   "outputs": [
    {
     "data": {
      "text/plain": "<Figure size 1400x800 with 1 Axes>",
      "image/png": "[encoded data removed]"
     },
     "metadata": {},
     "output_type": "display_data"
    },
    {
     "data": {
      "text/plain": "<Figure size 1400x800 with 1 Axes>",
      "image/png": "[encoded data removed]"
     },
     "metadata": {},
     "output_type": "display_data"
    },
    {
     "data": {
      "text/plain": "<Figure size 1400x800 with 1 Axes>",
      "image/png": "[encoded data removed]"
     },
     "metadata": {},
     "output_type": "display_data"
    },
    {
     "data": {
      "text/plain": "<Figure size 1400x800 with 1 Axes>",
      "image/png": "[encoded data removed]"
     },
     "metadata": {},
     "output_type": "display_data"
    },
    {
     "data": {
      "text/plain": "<Figure size 1400x800 with 1 Axes>",
      "image/png": "[encoded data removed]"
     },
     "metadata": {},
     "output_type": "display_data"
    },
    {
     "data": {
      "text/plain": "<Figure size 1400x800 with 1 Axes>",
      "image/png": "[encoded data removed]"
     },
     "metadata": {},
     "output_type": "display_data"
    }
   ],
   "source": [
    "# 参数索引对应到参数名称\n",
    "param_names = ['n_estimators', 'max_depth', 'max_features', 'min_samples_split', 'min_samples_leaf', 'bootstrap']\n",
    "param_indices = [0, 1, 2, 3, 4, 5]\n",
    "\n",
    "# 绘制所有参数的变化\n",
    "for param_name, param_index in zip(param_names, param_indices):\n",
    "    plot_param_evolution(all_results, param_name, param_index)"
   ],
   "metadata": {
    "collapsed": false,
    "ExecuteTime": {
     "end_time": "2024-08-13T23:52:19.912532Z",
     "start_time": "2024-08-13T23:52:19.375290Z"
    }
   },
   "id": "a33ba1f061ac03af",
   "execution_count": 94
  },
  {
   "cell_type": "code",
   "outputs": [
    {
     "data": {
      "text/plain": "<Figure size 1400x800 with 1 Axes>",
      "image/png": "[encoded data removed]"
     },
     "metadata": {},
     "output_type": "display_data"
    },
    {
     "data": {
      "text/plain": "<Figure size 1400x800 with 1 Axes>",
      "image/png": "[encoded data removed]"
     },
     "metadata": {},
     "output_type": "display_data"
    },
    {
     "data": {
      "text/plain": "<Figure size 1400x800 with 1 Axes>",
      "image/png": "[encoded data removed]"
     },
     "metadata": {},
     "output_type": "display_data"
    },
    {
     "data": {
      "text/plain": "<Figure size 1400x800 with 1 Axes>",
      "image/png": "[encoded data removed]"
     },
     "metadata": {},
     "output_type": "display_data"
    },
    {
     "data": {
      "text/plain": "<Figure size 1400x800 with 1 Axes>",
      "image/png": "[encoded data removed]"
     },
     "metadata": {},
     "output_type": "display_data"
    }
   ],
   "source": [
    "metrics = ['MSE', 'R²', 'MAE', 'RMSE', 'MAPE']\n",
    "metric_keys = ['mse_scores', 'r2_scores', 'mae_scores', 'rmse_scores', 'mape_scores']\n",
    "\n",
    "for metric_name, metric_key in zip(metrics, metric_keys):\n",
    "    plot_metric_evolution(all_results, metric_name, metric_key)\n"
   ],
   "metadata": {
    "collapsed": false,
    "ExecuteTime": {
     "end_time": "2024-08-13T23:52:21.076196Z",
     "start_time": "2024-08-13T23:52:20.659883Z"
    }
   },
   "id": "139389b16103c1b4",
   "execution_count": 95
  },
  {
   "cell_type": "code",
   "outputs": [],
   "source": [
    "# # 绘制评估指标的变化\n",
    "# metrics = ['MSE', 'R²', 'MAE', 'RMSE', 'MAPE']\n",
    "# metric_values = [\n",
    "#     [result.mse_scores for result in all_results],\n",
    "#     [result.r2_scores for result in all_results],\n",
    "#     [result.mae_scores for result in all_results],\n",
    "#     [result.rmse_scores for result in all_results],\n",
    "#     [result.mape_scores for result in all_results],\n",
    "# ]\n",
    "# \n",
    "# for metric_name, metric_value in zip(metrics, metric_values):\n",
    "#     plot_metric_evolution(all_results, metric_name, metric_value)"
   ],
   "metadata": {
    "collapsed": false,
    "ExecuteTime": {
     "end_time": "2024-08-13T23:52:21.634685Z",
     "start_time": "2024-08-13T23:52:21.632224Z"
    }
   },
   "id": "87c4f10d5653cf4b",
   "execution_count": 96
  },
  {
   "cell_type": "code",
   "outputs": [],
   "source": [
    "importance_matrix"
   ],
   "metadata": {
    "collapsed": false
   },
   "id": "5000047b23ed6a0"
  },
  {
   "cell_type": "code",
   "outputs": [
    {
     "name": "stdout",
     "output_type": "stream",
     "text": [
      "Feature Importances:\n",
      "       Dew Point (°C)  Air Temperature (°C)  Relative Humidity (%)  \\\n",
      "建筑物高度        0.144381              0.229970               0.175312   \n",
      "树冠高度         0.154153              0.144556               0.145721   \n",
      "叶面积指数        0.143244              0.143852               0.155487   \n",
      "地形数据         0.558222              0.481621               0.523480   \n",
      "\n",
      "       Wind Speed (kn)    ?    ?  \n",
      "建筑物高度         0.121744  0.0  0.0  \n",
      "树冠高度          0.125995  0.0  0.0  \n",
      "叶面积指数         0.133863  0.0  0.0  \n",
      "地形数据          0.618398  0.0  0.0  \n"
     ]
    }
   ],
   "source": [
    "# 将特征重要性结果转化为DataFrame\n",
    "importance_df = pd.DataFrame(importance_matrix,\n",
    "                             columns=['Dew Point (°C)', 'Air Temperature (°C)', 'Relative Humidity (%)', 'Wind Speed (kn)', '?', '?'],\n",
    "                             index=['建筑物高度', '树冠高度', '叶面积指数', '地形数据'])\n",
    "\n",
    "print(\"Feature Importances:\")\n",
    "print(importance_df)"
   ],
   "metadata": {
    "collapsed": false,
    "ExecuteTime": {
     "end_time": "2024-08-13T23:56:07.523964Z",
     "start_time": "2024-08-13T23:56:07.510184Z"
    }
   },
   "id": "1e80324d5f5ec61f",
   "execution_count": 98
  },
  {
   "cell_type": "code",
   "outputs": [
    {
     "data": {
      "text/plain": "       Dew Point (°C)  Air Temperature (°C)  Relative Humidity (%)  \\\n建筑物高度        0.144381              0.229970               0.175312   \n树冠高度         0.154153              0.144556               0.145721   \n叶面积指数        0.143244              0.143852               0.155487   \n地形数据         0.558222              0.481621               0.523480   \n\n       Wind Speed (kn)    ?    ?  \n建筑物高度         0.121744  0.0  0.0  \n树冠高度          0.125995  0.0  0.0  \n叶面积指数         0.133863  0.0  0.0  \n地形数据          0.618398  0.0  0.0  ",
      "text/html": "<div>\n<style scoped>\n    .dataframe tbody tr th:only-of-type {\n        vertical-align: middle;\n    }\n\n    .dataframe tbody tr th {\n        vertical-align: top;\n    }\n\n    .dataframe thead th {\n        text-align: right;\n    }\n</style>\n<table border=\"1\" class=\"dataframe\">\n  <thead>\n    <tr style=\"text-align: right;\">\n      <th></th>\n      <th>Dew Point (°C)</th>\n      <th>Air Temperature (°C)</th>\n      <th>Relative Humidity (%)</th>\n      <th>Wind Speed (kn)</th>\n      <th>?</th>\n      <th>?</th>\n    </tr>\n  </thead>\n  <tbody>\n    <tr>\n      <th>建筑物高度</th>\n      <td>0.144381</td>\n      <td>0.229970</td>\n      <td>0.175312</td>\n      <td>0.121744</td>\n      <td>0.0</td>\n      <td>0.0</td>\n    </tr>\n    <tr>\n      <th>树冠高度</th>\n      <td>0.154153</td>\n      <td>0.144556</td>\n      <td>0.145721</td>\n      <td>0.125995</td>\n      <td>0.0</td>\n      <td>0.0</td>\n    </tr>\n    <tr>\n      <th>叶面积指数</th>\n      <td>0.143244</td>\n      <td>0.143852</td>\n      <td>0.155487</td>\n      <td>0.133863</td>\n      <td>0.0</td>\n      <td>0.0</td>\n    </tr>\n    <tr>\n      <th>地形数据</th>\n      <td>0.558222</td>\n      <td>0.481621</td>\n      <td>0.523480</td>\n      <td>0.618398</td>\n      <td>0.0</td>\n      <td>0.0</td>\n    </tr>\n  </tbody>\n</table>\n</div>"
     },
     "execution_count": 99,
     "metadata": {},
     "output_type": "execute_result"
    }
   ],
   "source": [
    "importance_df"
   ],
   "metadata": {
    "collapsed": false,
    "ExecuteTime": {
     "end_time": "2024-08-13T23:56:14.250348Z",
     "start_time": "2024-08-13T23:56:14.244056Z"
    }
   },
   "id": "a3de3bd49d4b1c5e",
   "execution_count": 99
  },
  {
   "cell_type": "code",
   "outputs": [],
   "source": [],
   "metadata": {
    "collapsed": false
   },
   "id": "6542f33bffcd7a8f"
  }
 ],
 "metadata": {
  "kernelspec": {
   "display_name": "Python 3",
   "language": "python",
   "name": "python3"
  },
  "language_info": {
   "codemirror_mode": {
    "name": "ipython",
    "version": 2
   },
   "file_extension": ".py",
   "mimetype": "text/x-python",
   "name": "python",
   "nbconvert_exporter": "python",
   "pygments_lexer": "ipython2",
   "version": "2.7.6"
  }
 },
 "nbformat": 4,
 "nbformat_minor": 5
}
