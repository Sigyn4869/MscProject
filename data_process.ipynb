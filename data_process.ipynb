{
 "cells": [
  {
   "cell_type": "code",
   "execution_count": 2,
   "id": "initial_id",
   "metadata": {
    "collapsed": true,
    "ExecuteTime": {
     "end_time": "2024-08-15T20:23:36.763638Z",
     "start_time": "2024-08-15T20:23:35.986580Z"
    }
   },
   "outputs": [],
   "source": [
    "import copy\n",
    "\n",
    "import rasterio\n",
    "import os\n",
    "\n",
    "import numpy as np\n",
    "import pandas as pd\n",
    "from scipy.sparse import csr_matrix"
   ]
  },
  {
   "cell_type": "code",
   "outputs": [],
   "source": [
    "# 自定义类，用于封装tif文件的操作\n",
    "class TifFile:\n",
    "    def __init__(self, file_path):\n",
    "        self.file_path = file_path\n",
    "        with rasterio.open(self.file_path) as src:\n",
    "            self.data = src.read(1)  # 数值矩阵\n",
    "            self.shape = self.data.shape  # 矩阵大小\n",
    "            self.transform = src.transform  # 坐标变换参数\n",
    "            self.crs = src.crs  # 坐标参考系统\n",
    "            self.bounds = src.bounds  # 边界坐标\n",
    "            self.width = src.width  # 宽度\n",
    "            self.height = src.height  # 高度\n",
    "            self.count = src.count  # 波段数\n",
    "\n",
    "\n",
    "# 文件路径字典\n",
    "file_paths = {\n",
    "    \"GLcBld_Height\": \"datasets/GLcBld_Height.tif\",\n",
    "    \"glcent_CHM\": \"datasets/glcent_CHM.tif\",\n",
    "    \"glcent_DSM\": \"datasets/glcent_DSM.tif\",\n",
    "    \"KernelD_GLcB_new\": \"datasets/KernelD_GLcB_new.tif\",\n",
    "    \"LAI\": \"datasets/LAI.tif\",\n",
    "    \"GLcBuildings\": \"datasets/GLcBuildings2_Volume.tif\",\n",
    "}\n",
    "\n",
    "# 动态创建TifFile实例并存储为全局变量\n",
    "for variable_name, file_path in file_paths.items():\n",
    "    tif_GLcBld_Height = TifFile('datasets/GLcBld_Height.tif')\n",
    "    tif_glcent_CHM = TifFile('datasets/glcent_CHM.tif')\n",
    "    tif_glcent_DSM = TifFile('datasets/glcent_DSM.tif')\n",
    "    tif_KernelD_GLcB_new = TifFile('datasets/KernelD_GLcB_new.tif')\n",
    "    tif_LAI = TifFile('datasets/LAI.tif')\n",
    "    tif_CLcBld_Volume = TifFile('datasets/GLcBuildings2_Volume.tif')\n"
   ],
   "metadata": {
    "collapsed": false,
    "ExecuteTime": {
     "end_time": "2024-08-15T20:23:38.212333Z",
     "start_time": "2024-08-15T20:23:37.680653Z"
    }
   },
   "id": "edf9766ed65d6cc",
   "execution_count": 3
  },
  {
   "cell_type": "markdown",
   "source": [
    "# 数据信息了解"
   ],
   "metadata": {
    "collapsed": false
   },
   "id": "d8f790e4df0e4c8"
  },
  {
   "cell_type": "code",
   "outputs": [
    {
     "data": {
      "text/plain": "array([[65535, 65535, 65535, ..., 65535, 65535, 65535],\n       [65535, 65535, 65535, ..., 65535, 65535, 65535],\n       [65535, 65535, 65535, ..., 65535, 65535, 65535],\n       ...,\n       [65535, 65535, 65535, ..., 65535, 65535, 65535],\n       [65535, 65535, 65535, ..., 65535, 65535, 65535],\n       [65535, 65535, 65535, ..., 65535, 65535, 65535]], dtype=uint16)"
     },
     "execution_count": 3,
     "metadata": {},
     "output_type": "execute_result"
    }
   ],
   "source": [
    "tif_GLcBld_Height.data"
   ],
   "metadata": {
    "collapsed": false,
    "ExecuteTime": {
     "end_time": "2024-08-13T22:23:16.256752Z",
     "start_time": "2024-08-13T22:23:16.251118Z"
    }
   },
   "id": "795563deb356ed38",
   "execution_count": 3
  },
  {
   "cell_type": "code",
   "outputs": [
    {
     "data": {
      "text/plain": "array([[1.79e+308, 1.79e+308, 1.79e+308, ..., 1.79e+308, 1.79e+308,\n        1.79e+308],\n       [1.79e+308, 1.79e+308, 1.79e+308, ..., 1.79e+308, 1.79e+308,\n        1.79e+308],\n       [1.79e+308, 1.79e+308, 1.79e+308, ..., 1.79e+308, 1.79e+308,\n        1.79e+308],\n       ...,\n       [1.79e+308, 1.79e+308, 1.79e+308, ..., 1.79e+308, 1.79e+308,\n        1.79e+308],\n       [1.79e+308, 1.79e+308, 1.79e+308, ..., 1.79e+308, 1.79e+308,\n        1.79e+308],\n       [1.79e+308, 1.79e+308, 1.79e+308, ..., 1.79e+308, 1.79e+308,\n        1.79e+308]])"
     },
     "execution_count": 4,
     "metadata": {},
     "output_type": "execute_result"
    }
   ],
   "source": [
    "tif_CLcBld_Volume.data"
   ],
   "metadata": {
    "collapsed": false,
    "ExecuteTime": {
     "end_time": "2024-08-15T20:23:50.496007Z",
     "start_time": "2024-08-15T20:23:50.490237Z"
    }
   },
   "id": "bca8787c2f155a3a",
   "execution_count": 4
  },
  {
   "cell_type": "code",
   "outputs": [
    {
     "name": "stdout",
     "output_type": "stream",
     "text": [
      "Value: 1.79e+308, Count: 176186\n",
      "Value: 0.0, Count: 10\n",
      "Value: 928527.484323412, Count: 1\n",
      "Value: 2392.7598229062087, Count: 1\n",
      "Value: 2318.131658438784, Count: 1\n",
      "Value: 2340.495701923216, Count: 1\n",
      "Value: 2343.575103831704, Count: 1\n",
      "Value: 2347.826367820166, Count: 1\n",
      "Value: 2353.548112046014, Count: 1\n",
      "Value: 2354.5256864662047, Count: 1\n",
      "Value: 2354.9696999449357, Count: 1\n",
      "Value: 2364.457176799977, Count: 1\n",
      "Value: 2366.0500337517083, Count: 1\n",
      "Value: 2376.561980676646, Count: 1\n",
      "Value: 2384.630338184513, Count: 1\n",
      "Value: 2395.054363017829, Count: 1\n",
      "Value: 2307.860575352961, Count: 1\n",
      "Value: 2396.169689892315, Count: 1\n",
      "Value: 2396.378400067073, Count: 1\n",
      "Value: 2399.5614518127695, Count: 1\n",
      "Value: 2404.695830837603, Count: 1\n",
      "Value: 2410.3992268842576, Count: 1\n",
      "Value: 2416.2989189446193, Count: 1\n",
      "Value: 2433.913310737055, Count: 1\n",
      "Value: 2442.0005557177624, Count: 1\n",
      "Value: 2446.626538902459, Count: 1\n",
      "Value: 2451.9278098587065, Count: 1\n",
      "Value: 2451.9818236281753, Count: 1\n",
      "Value: 2314.075716565306, Count: 1\n",
      "Value: 2307.1812573953052, Count: 1\n",
      "Value: 2458.249623816601, Count: 1\n",
      "Value: 2207.0192135087636, Count: 1\n",
      "Value: 2123.7067048335007, Count: 1\n",
      "Value: 2137.4007517472833, Count: 1\n",
      "Value: 2143.590060337153, Count: 1\n",
      "Value: 2145.5560620529077, Count: 1\n",
      "Value: 2152.5409680875055, Count: 1\n",
      "Value: 2158.5489377955455, Count: 1\n",
      "Value: 2175.7175763493105, Count: 1\n",
      "Value: 2194.350186337718, Count: 1\n",
      "Value: 2194.5020358689167, Count: 1\n",
      "Value: 2196.4941899575547, Count: 1\n",
      "Value: 2203.8676179987624, Count: 1\n",
      "Value: 2210.812774587581, Count: 1\n",
      "Value: 2302.6932537122993, Count: 1\n",
      "Value: 2242.277890292208, Count: 1\n",
      "Value: 2245.8678558264905, Count: 1\n",
      "Value: 2275.021630446487, Count: 1\n",
      "Value: 2275.7762715894346, Count: 1\n",
      "Value: 2276.478618145806, Count: 1\n",
      "Value: 2278.6485201355076, Count: 1\n",
      "Value: 2279.148002281699, Count: 1\n",
      "Value: 2279.7575735164555, Count: 1\n",
      "Value: 2290.146779556812, Count: 1\n",
      "Value: 2291.0668580220295, Count: 1\n",
      "Value: 2297.7357193020653, Count: 1\n",
      "Value: 2457.6372032636314, Count: 1\n",
      "Value: 2465.498666176857, Count: 1\n",
      "Value: 2111.0612874187173, Count: 1\n",
      "Value: 2658.5324506797374, Count: 1\n",
      "Value: 2602.431307968806, Count: 1\n",
      "Value: 2610.1938800748585, Count: 1\n",
      "Value: 2613.067263166461, Count: 1\n",
      "Value: 2615.20869521401, Count: 1\n",
      "Value: 2618.27514579797, Count: 1\n",
      "Value: 2620.8260346351653, Count: 1\n",
      "Value: 2624.4616357216346, Count: 1\n",
      "Value: 2626.5286355460794, Count: 1\n",
      "Value: 2630.4354454626878, Count: 1\n",
      "Value: 2633.427928432953, Count: 1\n",
      "Value: 2640.395219670662, Count: 1\n",
      "Value: 2669.1703824401584, Count: 1\n",
      "Value: 2596.4114095984105, Count: 1\n",
      "Value: 2669.6483843443457, Count: 1\n",
      "Value: 2669.9494485815753, Count: 1\n",
      "Value: 2671.727557823584, Count: 1\n",
      "Value: 2672.894360261869, Count: 1\n",
      "Value: 2673.379819293817, Count: 1\n",
      "Value: 2675.2872588417126, Count: 1\n",
      "Value: 2688.344616252203, Count: 1\n",
      "Value: 2698.710477754348, Count: 1\n",
      "Value: 2712.0093356699776, Count: 1\n",
      "Value: 2714.866230290109, Count: 1\n",
      "Value: 2715.200875856781, Count: 1\n",
      "Value: 2602.040725525594, Count: 1\n",
      "Value: 2590.6302576385438, Count: 1\n",
      "Value: 2469.1409841265327, Count: 1\n",
      "Value: 2518.0768168124996, Count: 1\n",
      "Value: 2472.8551798293342, Count: 1\n",
      "Value: 2475.968469378763, Count: 1\n",
      "Value: 2482.426722108942, Count: 1\n",
      "Value: 2486.96561210779, Count: 1\n",
      "Value: 2487.0166108115145, Count: 1\n",
      "Value: 2488.4958652740643, Count: 1\n",
      "Value: 2496.1167547889017, Count: 1\n",
      "Value: 2498.1275290394738, Count: 1\n",
      "Value: 2509.257778100358, Count: 1\n",
      "Value: 2513.8195692676036, Count: 1\n",
      "Value: 2517.0133079800726, Count: 1\n",
      "Value: 2525.914324356486, Count: 1\n",
      "Value: 2588.293089511186, Count: 1\n",
      "Value: 2531.7900600712496, Count: 1\n",
      "Value: 2541.0187545877084, Count: 1\n",
      "Value: 2546.452060181398, Count: 1\n",
      "Value: 2546.452060248252, Count: 1\n",
      "Value: 2553.205913031437, Count: 1\n",
      "Value: 2556.413723645439, Count: 1\n",
      "Value: 2561.1714361285854, Count: 1\n",
      "Value: 2562.634520161829, Count: 1\n",
      "Value: 2568.9916807674326, Count: 1\n",
      "Value: 2578.7116767232437, Count: 1\n",
      "Value: 2581.7844139048366, Count: 1\n",
      "Value: 2113.608540849692, Count: 1\n",
      "Value: 2099.739829691129, Count: 1\n",
      "Value: 2734.747240563338, Count: 1\n",
      "Value: 1649.2219159174092, Count: 1\n",
      "Value: 1617.2215188941252, Count: 1\n",
      "Value: 1621.342296904727, Count: 1\n",
      "Value: 1624.7669402937822, Count: 1\n",
      "Value: 1626.6875250748735, Count: 1\n",
      "Value: 1628.525980359254, Count: 1\n",
      "Value: 1628.8896981381724, Count: 1\n",
      "Value: 1635.3387758666827, Count: 1\n",
      "Value: 1636.8277623090828, Count: 1\n",
      "Value: 1638.7058591463895, Count: 1\n",
      "Value: 1642.3607536961306, Count: 1\n",
      "Value: 1642.9686823316667, Count: 1\n",
      "Value: 1672.7851368691165, Count: 1\n",
      "Value: 1613.8223733054615, Count: 1\n",
      "Value: 1673.3815301828834, Count: 1\n",
      "Value: 1677.1601607620016, Count: 1\n",
      "Value: 1687.1540180031552, Count: 1\n",
      "Value: 1690.4130187242258, Count: 1\n",
      "Value: 1691.5537750373474, Count: 1\n",
      "Value: 1692.5348101195195, Count: 1\n",
      "Value: 1707.639835017235, Count: 1\n",
      "Value: 1712.0349904161244, Count: 1\n",
      "Value: 1718.9598619404153, Count: 1\n",
      "Value: 1724.3953514870445, Count: 1\n",
      "Value: 1727.6355093864245, Count: 1\n",
      "Value: 1617.2167721623148, Count: 1\n",
      "Value: 1612.5575510722956, Count: 1\n",
      "Value: 1739.1437089482465, Count: 1\n",
      "Value: 1543.324783362458, Count: 1\n",
      "Value: 1503.0511191187463, Count: 1\n",
      "Value: 1508.0620620866707, Count: 1\n",
      "Value: 1513.0998506050807, Count: 1\n",
      "Value: 1515.4212232894188, Count: 1\n",
      "Value: 1515.5392927693986, Count: 1\n",
      "Value: 1524.4611671292805, Count: 1\n",
      "Value: 1528.105292617396, Count: 1\n",
      "Value: 1529.5338074114243, Count: 1\n",
      "Value: 1532.5148456642746, Count: 1\n",
      "Value: 1540.174487249893, Count: 1\n",
      "Value: 1542.7476763437048, Count: 1\n",
      "Value: 1546.9064127413749, Count: 1\n",
      "Value: 1609.3337496023203, Count: 1\n",
      "Value: 1569.377537049684, Count: 1\n",
      "Value: 1569.557382838064, Count: 1\n",
      "Value: 1573.9289383937894, Count: 1\n",
      "Value: 1578.9597234947416, Count: 1\n",
      "Value: 1579.2743073439678, Count: 1\n",
      "Value: 1581.68963366169, Count: 1\n",
      "Value: 1583.293794605527, Count: 1\n",
      "Value: 1584.234358173881, Count: 1\n",
      "Value: 1587.3538073111831, Count: 1\n",
      "Value: 1593.1312968046357, Count: 1\n",
      "Value: 1604.2462659309815, Count: 1\n",
      "Value: 1734.0508389223417, Count: 1\n",
      "Value: 1742.116451307142, Count: 1\n",
      "Value: 2084.133398878666, Count: 1\n",
      "Value: 1992.2147399901946, Count: 1\n",
      "Value: 1916.4250340015508, Count: 1\n",
      "Value: 1921.661074757513, Count: 1\n",
      "Value: 1937.3152342401354, Count: 1\n",
      "Value: 1937.6789220414632, Count: 1\n",
      "Value: 1942.9624769502675, Count: 1\n",
      "Value: 1949.2505863648144, Count: 1\n",
      "Value: 1956.6424525612126, Count: 1\n",
      "Value: 1959.8445641308986, Count: 1\n",
      "Value: 1967.0886800524052, Count: 1\n",
      "Value: 1986.942306230986, Count: 1\n",
      "Value: 1989.9302761717418, Count: 1\n",
      "Value: 1996.7386131598516, Count: 1\n",
      "Value: 1908.7387479835006, Count: 1\n",
      "Value: 1997.6351451734188, Count: 1\n",
      "Value: 2009.594706736994, Count: 1\n",
      "Value: 2011.0362054759428, Count: 1\n",
      "Value: 2013.949203779797, Count: 1\n",
      "Value: 2029.2418043873965, Count: 1\n",
      "Value: 2044.3875061954802, Count: 1\n",
      "Value: 2051.1826817475767, Count: 1\n",
      "Value: 2066.4797115863785, Count: 1\n",
      "Value: 2072.6826378071355, Count: 1\n",
      "Value: 2073.1199906095244, Count: 1\n",
      "Value: 2079.550453050685, Count: 1\n",
      "Value: 1911.373584849871, Count: 1\n",
      "Value: 1908.206264473201, Count: 1\n",
      "Value: 1748.9649496296495, Count: 1\n",
      "Value: 1817.2167374066057, Count: 1\n",
      "Value: 1752.2432079309253, Count: 1\n",
      "Value: 1755.8914945344698, Count: 1\n",
      "Value: 1761.1917014712974, Count: 1\n",
      "Value: 1762.4645329485757, Count: 1\n",
      "Value: 1774.384855611901, Count: 1\n",
      "Value: 1778.166810841404, Count: 1\n",
      "Value: 1797.1132070744852, Count: 1\n",
      "Value: 1808.322562745563, Count: 1\n",
      "Value: 1810.012486767323, Count: 1\n",
      "Value: 1811.6901358044545, Count: 1\n",
      "Value: 1816.2095438688953, Count: 1\n",
      "Value: 1818.1487522066734, Count: 1\n",
      "Value: 1898.917978306849, Count: 1\n",
      "Value: 1821.1035662884808, Count: 1\n",
      "Value: 1833.5694798442905, Count: 1\n",
      "Value: 1837.471297214182, Count: 1\n",
      "Value: 1840.295769527683, Count: 1\n",
      "Value: 1849.8185868462804, Count: 1\n",
      "Value: 1859.3616022051315, Count: 1\n",
      "Value: 1868.90140336753, Count: 1\n",
      "Value: 1869.0778273043416, Count: 1\n",
      "Value: 1873.4587391955315, Count: 1\n",
      "Value: 1879.5514367423077, Count: 1\n",
      "Value: 1884.5143639422417, Count: 1\n",
      "Value: 2730.99059183057, Count: 1\n",
      "Value: 2743.233562293357, Count: 1\n",
      "Value: 822498.0274167847, Count: 1\n",
      "Value: 3818.7355858719916, Count: 1\n",
      "Value: 3685.8678588648627, Count: 1\n",
      "Value: 3696.2822104758793, Count: 1\n",
      "Value: 3702.5017759523007, Count: 1\n",
      "Value: 3704.781800568332, Count: 1\n",
      "Value: 3705.2809316601165, Count: 1\n",
      "Value: 3724.1118510575016, Count: 1\n",
      "Value: 3746.8805667802562, Count: 1\n",
      "Value: 3776.6553135690347, Count: 1\n",
      "Value: 3796.4007845327455, Count: 1\n",
      "Value: 3797.486176764166, Count: 1\n",
      "Value: 3804.021815201712, Count: 1\n",
      "Value: 3831.41760218562, Count: 1\n",
      "Value: 3648.0781085636554, Count: 1\n",
      "Value: 3832.231245365465, Count: 1\n",
      "Value: 3836.4723378532417, Count: 1\n",
      "Value: 3841.149788080111, Count: 1\n",
      "Value: 3864.806216254154, Count: 1\n",
      "Value: 3868.3694245201714, Count: 1\n",
      "Value: 3873.1056996775646, Count: 1\n",
      "Value: 3899.742000884253, Count: 1\n",
      "Value: 3901.1757247272085, Count: 1\n",
      "Value: 3911.4598821484365, Count: 1\n",
      "Value: 3916.917676917054, Count: 1\n",
      "Value: 3928.07114483567, Count: 1\n",
      "Value: 3665.087571226807, Count: 1\n",
      "Value: 3647.6933535391904, Count: 1\n",
      "Value: 3944.2396195543374, Count: 1\n",
      "Value: 3520.2432640826773, Count: 1\n",
      "Value: 3440.384070644846, Count: 1\n",
      "Value: 3440.9836340970155, Count: 1\n",
      "Value: 3441.996945604114, Count: 1\n",
      "Value: 3451.252848380832, Count: 1\n",
      "Value: 3456.5944171331457, Count: 1\n",
      "Value: 3456.9666398886015, Count: 1\n",
      "Value: 3458.8042154953087, Count: 1\n",
      "Value: 3495.755456172035, Count: 1\n",
      "Value: 3512.148848378245, Count: 1\n",
      "Value: 3515.9891645476346, Count: 1\n",
      "Value: 3520.0687197671923, Count: 1\n",
      "Value: 3537.767838011865, Count: 1\n",
      "Value: 3630.568815559963, Count: 1\n",
      "Value: 3540.6368616420914, Count: 1\n",
      "Value: 3552.410359690953, Count: 1\n",
      "Value: 3561.161769697158, Count: 1\n",
      "Value: 3572.4580671975987, Count: 1\n",
      "Value: 3586.9445316443484, Count: 1\n",
      "Value: 3595.149942013771, Count: 1\n",
      "Value: 3595.3421854600874, Count: 1\n",
      "Value: 3600.6153974311164, Count: 1\n",
      "Value: 3603.2375477763285, Count: 1\n",
      "Value: 3616.866311131402, Count: 1\n",
      "Value: 3626.2856261160473, Count: 1\n",
      "Value: 3937.3881289078636, Count: 1\n",
      "Value: 3978.088432505115, Count: 1\n",
      "Value: 3431.4217358407973, Count: 1\n",
      "Value: 4407.403702665754, Count: 1\n",
      "Value: 4279.523012749293, Count: 1\n",
      "Value: 4281.726968482305, Count: 1\n",
      "Value: 4297.355605038962, Count: 1\n",
      "Value: 4305.416706753003, Count: 1\n",
      "Value: 4309.356005162834, Count: 1\n",
      "Value: 4325.927558716025, Count: 1\n",
      "Value: 4347.0980158414095, Count: 1\n",
      "Value: 4357.935029663441, Count: 1\n",
      "Value: 4369.211764280415, Count: 1\n",
      "Value: 4374.670285726763, Count: 1\n",
      "Value: 4376.756081710301, Count: 1\n",
      "Value: 4435.508028680013, Count: 1\n",
      "Value: 4272.613933775788, Count: 1\n",
      "Value: 4435.703625647539, Count: 1\n",
      "Value: 4443.314952481345, Count: 1\n",
      "Value: 4456.6967497144105, Count: 1\n",
      "Value: 4459.950618645586, Count: 1\n",
      "Value: 4466.5140377973685, Count: 1\n",
      "Value: 4469.563515255466, Count: 1\n",
      "Value: 4479.298342159127, Count: 1\n",
      "Value: 4501.397621682179, Count: 1\n",
      "Value: 4540.113428411495, Count: 1\n",
      "Value: 4543.178641287465, Count: 1\n",
      "Value: 4554.699970793631, Count: 1\n",
      "Value: 4278.744092226994, Count: 1\n",
      "Value: 4247.609569686348, Count: 1\n",
      "Value: 3987.4323101833465, Count: 1\n",
      "Value: 4149.56155882778, Count: 1\n",
      "Value: 4004.218373321124, Count: 1\n",
      "Value: 4010.629067414627, Count: 1\n",
      "Value: 4044.8657640825695, Count: 1\n",
      "Value: 4045.535360146603, Count: 1\n",
      "Value: 4049.125820976279, Count: 1\n",
      "Value: 4065.100951659051, Count: 1\n",
      "Value: 4074.835055427381, Count: 1\n",
      "Value: 4083.804288417226, Count: 1\n",
      "Value: 4102.732135701246, Count: 1\n",
      "Value: 4110.875904451964, Count: 1\n",
      "Value: 4123.83417472488, Count: 1\n",
      "Value: 4149.6243831107195, Count: 1\n",
      "Value: 4245.9608216341985, Count: 1\n",
      "Value: 4179.641404363559, Count: 1\n",
      "Value: 4181.823096052615, Count: 1\n",
      "Value: 4198.380045942312, Count: 1\n",
      "Value: 4199.88166565599, Count: 1\n",
      "Value: 4209.408841392045, Count: 1\n",
      "Value: 4211.02917375557, Count: 1\n",
      "Value: 4227.941160042996, Count: 1\n",
      "Value: 4235.634511999747, Count: 1\n",
      "Value: 4238.649055965758, Count: 1\n",
      "Value: 4241.479191641922, Count: 1\n",
      "Value: 4245.682100731295, Count: 1\n",
      "Value: 3435.0014828693966, Count: 1\n",
      "Value: 3423.16164658548, Count: 1\n",
      "Value: 2744.0477129313476, Count: 1\n",
      "Value: 2983.743040473416, Count: 1\n",
      "Value: 2900.3885547309114, Count: 1\n",
      "Value: 2909.178655792228, Count: 1\n",
      "Value: 2926.3211106878516, Count: 1\n",
      "Value: 2929.752659678099, Count: 1\n",
      "Value: 2930.847374939598, Count: 1\n",
      "Value: 2932.1210010509244, Count: 1\n",
      "Value: 2957.5126888978684, Count: 1\n",
      "Value: 2964.9437194019883, Count: 1\n",
      "Value: 2974.100201591195, Count: 1\n",
      "Value: 2976.9068535202014, Count: 1\n",
      "Value: 2983.674170068926, Count: 1\n",
      "Value: 2988.311320014741, Count: 1\n",
      "Value: 2885.9899470348596, Count: 1\n",
      "Value: 2988.50404165236, Count: 1\n",
      "Value: 2997.9223900337915, Count: 1\n",
      "Value: 3003.1816025328562, Count: 1\n",
      "Value: 3004.795977566765, Count: 1\n",
      "Value: 3009.0010625766004, Count: 1\n",
      "Value: 3016.5108554899184, Count: 1\n",
      "Value: 3016.699017574753, Count: 1\n",
      "Value: 3026.059478823787, Count: 1\n",
      "Value: 3026.1735226563965, Count: 1\n",
      "Value: 3039.4772223181085, Count: 1\n",
      "Value: 3041.225185959473, Count: 1\n",
      "Value: 2894.4087456568063, Count: 1\n",
      "Value: 2884.4696527999495, Count: 1\n",
      "Value: 3065.099001857596, Count: 1\n",
      "Value: 2803.3861561841027, Count: 1\n",
      "Value: 2744.4380029473223, Count: 1\n",
      "Value: 2745.0015325604454, Count: 1\n",
      "Value: 2753.4056645394985, Count: 1\n",
      "Value: 2762.6608330222452, Count: 1\n",
      "Value: 2764.0643848338377, Count: 1\n",
      "Value: 2778.387329936242, Count: 1\n",
      "Value: 2781.8761493159045, Count: 1\n",
      "Value: 2791.8082626373325, Count: 1\n",
      "Value: 2793.924580452667, Count: 1\n",
      "Value: 2795.986756623401, Count: 1\n",
      "Value: 2798.0670818347717, Count: 1\n",
      "Value: 2806.850615068725, Count: 1\n",
      "Value: 2877.2287468724817, Count: 1\n",
      "Value: 2811.5156174465756, Count: 1\n",
      "Value: 2812.4800002242537, Count: 1\n",
      "Value: 2826.4412387325538, Count: 1\n",
      "Value: 2826.969833253089, Count: 1\n",
      "Value: 2855.229405186321, Count: 1\n",
      "Value: 2856.0432881032216, Count: 1\n",
      "Value: 2868.2277886401466, Count: 1\n",
      "Value: 2873.150378145993, Count: 1\n",
      "Value: 2873.941496447294, Count: 1\n",
      "Value: 2876.2845584403262, Count: 1\n",
      "Value: 2876.9278730387864, Count: 1\n",
      "Value: 3044.659144643633, Count: 1\n",
      "Value: 3068.971630757299, Count: 1\n",
      "Value: 3410.630025056333, Count: 1\n",
      "Value: 3343.1441093001254, Count: 1\n",
      "Value: 3250.692539293889, Count: 1\n",
      "Value: 3256.211782016991, Count: 1\n",
      "Value: 3268.4759322809937, Count: 1\n",
      "Value: 3273.530318667139, Count: 1\n",
      "Value: 3284.2473174750307, Count: 1\n",
      "Value: 3306.4266809872893, Count: 1\n",
      "Value: 3311.984634683714, Count: 1\n",
      "Value: 3313.5572143821223, Count: 1\n",
      "Value: 3324.238293466912, Count: 1\n",
      "Value: 3324.5468043179767, Count: 1\n",
      "Value: 3339.211676067868, Count: 1\n",
      "Value: 3343.406947403737, Count: 1\n",
      "Value: 3228.5204936812424, Count: 1\n",
      "Value: 3352.387537738715, Count: 1\n",
      "Value: 3353.227327555224, Count: 1\n",
      "Value: 3363.1958964747396, Count: 1\n",
      "Value: 3370.3991087489035, Count: 1\n",
      "Value: 3377.009578433485, Count: 1\n",
      "Value: 3380.1978859425117, Count: 1\n",
      "Value: 3381.4190645264243, Count: 1\n",
      "Value: 3383.8510279119487, Count: 1\n",
      "Value: 3385.4891764433423, Count: 1\n",
      "Value: 3386.526441145766, Count: 1\n",
      "Value: 3388.039988301163, Count: 1\n",
      "Value: 3237.709638828721, Count: 1\n",
      "Value: 3216.177263545356, Count: 1\n",
      "Value: 3070.286660840134, Count: 1\n",
      "Value: 3127.5851568034373, Count: 1\n",
      "Value: 3071.3086959415145, Count: 1\n",
      "Value: 3071.485083410484, Count: 1\n",
      "Value: 3072.2997620254127, Count: 1\n",
      "Value: 3086.8803987766273, Count: 1\n",
      "Value: 3089.412202237149, Count: 1\n",
      "Value: 3102.7107518781236, Count: 1\n",
      "Value: 3102.824826558672, Count: 1\n",
      "Value: 3105.0623414977554, Count: 1\n",
      "Value: 3107.996014345926, Count: 1\n",
      "Value: 3120.37020096582, Count: 1\n",
      "Value: 3127.0679875642772, Count: 1\n",
      "Value: 3142.371527616152, Count: 1\n",
      "Value: 3211.304105034579, Count: 1\n",
      "Value: 3146.5935105439466, Count: 1\n",
      "Value: 3158.5372982315826, Count: 1\n",
      "Value: 3164.331497552771, Count: 1\n",
      "Value: 3172.327113267879, Count: 1\n",
      "Value: 3174.9796590393626, Count: 1\n",
      "Value: 3181.4420730723455, Count: 1\n",
      "Value: 3189.136691643836, Count: 1\n",
      "Value: 3195.5230317754567, Count: 1\n",
      "Value: 3201.8046886784646, Count: 1\n",
      "Value: 3204.3532532631275, Count: 1\n",
      "Value: 3206.5042704257694, Count: 1\n",
      "Value: 1495.7627135680932, Count: 1\n",
      "Value: 1490.522594218797, Count: 1\n",
      "Value: 1488.8469003677703, Count: 1\n",
      "Value: 465.8108832932622, Count: 1\n",
      "Value: 449.3913883613395, Count: 1\n",
      "Value: 452.57181378339646, Count: 1\n",
      "Value: 453.4261357167851, Count: 1\n",
      "Value: 458.2247098827221, Count: 1\n",
      "Value: 458.305850041787, Count: 1\n",
      "Value: 460.3521538446329, Count: 1\n",
      "Value: 460.67822392985533, Count: 1\n",
      "Value: 463.17388600706784, Count: 1\n",
      "Value: 463.17723532167355, Count: 1\n",
      "Value: 464.2602115382311, Count: 1\n",
      "Value: 464.60317384869614, Count: 1\n",
      "Value: 465.8325367183006, Count: 1\n",
      "Value: 444.9030324429227, Count: 1\n",
      "Value: 467.3088913898901, Count: 1\n",
      "Value: 467.48138133764206, Count: 1\n",
      "Value: 469.2691088923196, Count: 1\n",
      "Value: 471.22613238041566, Count: 1\n",
      "Value: 472.62130115230497, Count: 1\n",
      "Value: 473.6550753081611, Count: 1\n",
      "Value: 474.59979791662727, Count: 1\n",
      "Value: 476.64252474844153, Count: 1\n",
      "Value: 477.1011799296762, Count: 1\n",
      "Value: 480.08726423584733, Count: 1\n",
      "Value: 482.06010018360007, Count: 1\n",
      "Value: 445.58191076564543, Count: 1\n",
      "Value: 444.89441812432307, Count: 1\n",
      "Value: 486.6275328479615, Count: 1\n",
      "Value: 418.474989041714, Count: 1\n",
      "Value: 388.26160531674077, Count: 1\n",
      "Value: 390.4153576191181, Count: 1\n",
      "Value: 395.3227300053257, Count: 1\n",
      "Value: 399.39830630044855, Count: 1\n",
      "Value: 399.79219631043844, Count: 1\n",
      "Value: 400.9267875027555, Count: 1\n",
      "Value: 403.22575505513794, Count: 1\n",
      "Value: 404.6706370898461, Count: 1\n",
      "Value: 407.017766427939, Count: 1\n",
      "Value: 410.47068072399804, Count: 1\n",
      "Value: 410.9671918226293, Count: 1\n",
      "Value: 419.2972867918658, Count: 1\n",
      "Value: 444.36304974269683, Count: 1\n",
      "Value: 421.27199819830946, Count: 1\n",
      "Value: 422.0591846222021, Count: 1\n",
      "Value: 423.77252086472487, Count: 1\n",
      "Value: 426.3866088102457, Count: 1\n",
      "Value: 432.8425361782843, Count: 1\n",
      "Value: 437.88179042810435, Count: 1\n",
      "Value: 438.42458551943037, Count: 1\n",
      "Value: 438.7502157722286, Count: 1\n",
      "Value: 441.7955912823719, Count: 1\n",
      "Value: 442.60609136903633, Count: 1\n",
      "Value: 443.67503594885375, Count: 1\n",
      "Value: 484.24454999050107, Count: 1\n",
      "Value: 486.8932099485835, Count: 1\n",
      "Value: 386.65112797314293, Count: 1\n",
      "Value: 538.1143422069132, Count: 1\n",
      "Value: 537.909180438801, Count: 1\n",
      "Value: 537.9096834519394, Count: 1\n",
      "Value: 537.943211683211, Count: 1\n",
      "Value: 537.9444883908409, Count: 1\n",
      "Value: 537.9626964310444, Count: 1\n",
      "Value: 537.983140126064, Count: 1\n",
      "Value: 537.9907099534013, Count: 1\n",
      "Value: 537.9912363654141, Count: 1\n",
      "Value: 537.9916124204206, Count: 1\n",
      "Value: 538.0129691187201, Count: 1\n",
      "Value: 538.1030889112161, Count: 1\n",
      "Value: 538.2206675349915, Count: 1\n",
      "Value: 536.1185803823416, Count: 1\n",
      "Value: 539.8525906538395, Count: 1\n",
      "Value: 542.2059920101361, Count: 1\n",
      "Value: 542.2108371482803, Count: 1\n",
      "Value: 545.0757578032806, Count: 1\n",
      "Value: 545.3022458266389, Count: 1\n",
      "Value: 553.648042009638, Count: 1\n",
      "Value: 557.4006683231438, Count: 1\n",
      "Value: 557.5695692379242, Count: 1\n",
      "Value: 559.2313747811289, Count: 1\n",
      "Value: 560.4876068728582, Count: 1\n",
      "Value: 570.4845507152987, Count: 1\n",
      "Value: 537.7631746395596, Count: 1\n",
      "Value: 533.7849975894675, Count: 1\n",
      "Value: 487.4753093590507, Count: 1\n",
      "Value: 503.66723910441664, Count: 1\n",
      "Value: 493.1706623150985, Count: 1\n",
      "Value: 493.1706624906241, Count: 1\n",
      "Value: 495.9108186193259, Count: 1\n",
      "Value: 495.91431707614953, Count: 1\n",
      "Value: 497.8103999725091, Count: 1\n",
      "Value: 498.30931701139673, Count: 1\n",
      "Value: 499.60426696279774, Count: 1\n",
      "Value: 499.93848415007545, Count: 1\n",
      "Value: 500.20857854281627, Count: 1\n",
      "Value: 501.191746191944, Count: 1\n",
      "Value: 501.2647299842098, Count: 1\n",
      "Value: 503.7244863818757, Count: 1\n",
      "Value: 525.1225624581668, Count: 1\n",
      "Value: 504.25698228104295, Count: 1\n",
      "Value: 506.5895399545468, Count: 1\n",
      "Value: 507.7680056381901, Count: 1\n",
      "Value: 508.49439713197376, Count: 1\n",
      "Value: 509.3238019427208, Count: 1\n",
      "Value: 510.45816004045696, Count: 1\n",
      "Value: 515.7372944522841, Count: 1\n",
      "Value: 517.8371834799743, Count: 1\n",
      "Value: 518.5436422771746, Count: 1\n",
      "Value: 523.4300939646527, Count: 1\n",
      "Value: 524.1855992061804, Count: 1\n",
      "Value: 387.42212233803053, Count: 1\n",
      "Value: 386.5844646299607, Count: 1\n",
      "Value: 1482.5338718667367, Count: 1\n",
      "Value: 86.34829895577738, Count: 1\n",
      "Value: 79.29939391417048, Count: 1\n",
      "Value: 79.4790179485281, Count: 1\n",
      "Value: 81.74099999073519, Count: 1\n",
      "Value: 82.63440001493264, Count: 1\n",
      "Value: 82.78984297174975, Count: 1\n",
      "Value: 83.8476485354424, Count: 1\n",
      "Value: 84.39759587624019, Count: 1\n",
      "Value: 84.61739999434668, Count: 1\n",
      "Value: 85.06080001630895, Count: 1\n",
      "Value: 85.35120000855179, Count: 1\n",
      "Value: 86.26574916339194, Count: 1\n",
      "Value: 86.4172350787663, Count: 1\n",
      "Value: 79.01317302959953, Count: 1\n",
      "Value: 87.44672759638655, Count: 1\n",
      "Value: 89.65836723808263, Count: 1\n",
      "Value: 94.08550564226564, Count: 1\n",
      "Value: 94.2416340620063, Count: 1\n",
      "Value: 94.43736330617472, Count: 1\n",
      "Value: 94.79213575533086, Count: 1\n",
      "Value: 95.25382925327622, Count: 1\n",
      "Value: 96.49656157030536, Count: 1\n",
      "Value: 101.86710959664248, Count: 1\n",
      "Value: 102.40709999817386, Count: 1\n",
      "Value: 104.18869929924858, Count: 1\n",
      "Value: 79.2651000170108, Count: 1\n",
      "Value: 78.82608066189952, Count: 1\n",
      "Value: 109.7340000138469, Count: 1\n",
      "Value: 64.12814999306984, Count: 1\n",
      "Value: 36.858670168749484, Count: 1\n",
      "Value: 37.47322150744346, Count: 1\n",
      "Value: 45.82326109707968, Count: 1\n",
      "Value: 51.720176517856615, Count: 1\n",
      "Value: 52.817471230755075, Count: 1\n",
      "Value: 54.0609831061139, Count: 1\n",
      "Value: 57.89043642360174, Count: 1\n",
      "Value: 58.20622958725838, Count: 1\n",
      "Value: 61.45944957219582, Count: 1\n",
      "Value: 61.862604547282416, Count: 1\n",
      "Value: 61.93199320761382, Count: 1\n",
      "Value: 65.43665401420967, Count: 1\n",
      "Value: 78.42765586049859, Count: 1\n",
      "Value: 66.36000000312924, Count: 1\n",
      "Value: 67.84349996789453, Count: 1\n",
      "Value: 69.67056997128127, Count: 1\n",
      "Value: 71.10900000186078, Count: 1\n",
      "Value: 71.91842421134072, Count: 1\n",
      "Value: 71.96792767701318, Count: 1\n",
      "Value: 72.99677910195749, Count: 1\n",
      "Value: 76.28520000479668, Count: 1\n",
      "Value: 76.98420000875295, Count: 1\n",
      "Value: 77.78608124740776, Count: 1\n",
      "Value: 78.33072491176253, Count: 1\n",
      "Value: 108.9851147770806, Count: 1\n",
      "Value: 113.52000133226828, Count: 1\n",
      "Value: 385.4649532599779, Count: 1\n",
      "Value: 335.6645340060761, Count: 1\n",
      "Value: 307.0055239540425, Count: 1\n",
      "Value: 311.96629736881005, Count: 1\n",
      "Value: 316.1114973013661, Count: 1\n",
      "Value: 316.4012438589516, Count: 1\n",
      "Value: 318.71898434406455, Count: 1\n",
      "Value: 319.5096985571251, Count: 1\n",
      "Value: 324.209188077358, Count: 1\n",
      "Value: 326.69560810511354, Count: 1\n",
      "Value: 329.6365475716522, Count: 1\n",
      "Value: 329.7313917811737, Count: 1\n",
      "Value: 335.66416597655314, Count: 1\n",
      "Value: 336.98188741338555, Count: 1\n",
      "Value: 304.9367744821609, Count: 1\n",
      "Value: 344.1623703491672, Count: 1\n",
      "Value: 344.4466685355205, Count: 1\n",
      "Value: 352.66393305864835, Count: 1\n",
      "Value: 357.7520285246276, Count: 1\n",
      "Value: 361.1590778243665, Count: 1\n",
      "Value: 368.4030126108596, Count: 1\n",
      "Value: 368.7851649313726, Count: 1\n",
      "Value: 369.6569385320819, Count: 1\n",
      "Value: 371.0180703174879, Count: 1\n",
      "Value: 372.89870766312396, Count: 1\n",
      "Value: 381.07272134289843, Count: 1\n",
      "Value: 305.6204999761451, Count: 1\n",
      "Value: 294.7230784191412, Count: 1\n",
      "Value: 115.56464342286135, Count: 1\n",
      "Value: 180.81282830431374, Count: 1\n",
      "Value: 116.13383050734161, Count: 1\n",
      "Value: 119.49618152104259, Count: 1\n",
      "Value: 122.42475001892635, Count: 1\n",
      "Value: 123.42672061370699, Count: 1\n",
      "Value: 125.9644296529828, Count: 1\n",
      "Value: 126.70065000354722, Count: 1\n",
      "Value: 127.23494999405108, Count: 1\n",
      "Value: 130.26689998963326, Count: 1\n",
      "Value: 131.78943074837548, Count: 1\n",
      "Value: 140.43025476631985, Count: 1\n",
      "Value: 165.7330888046787, Count: 1\n",
      "Value: 183.44342996379982, Count: 1\n",
      "Value: 292.3317000183083, Count: 1\n",
      "Value: 191.21344465493263, Count: 1\n",
      "Value: 191.95028335605346, Count: 1\n",
      "Value: 196.65160238563934, Count: 1\n",
      "Value: 204.63591025498206, Count: 1\n",
      "Value: 233.04683550450568, Count: 1\n",
      "Value: 236.37813639924153, Count: 1\n",
      "Value: 242.8049226783391, Count: 1\n",
      "Value: 254.15961858032153, Count: 1\n",
      "Value: 261.66791726112257, Count: 1\n",
      "Value: 269.732550049465, Count: 1\n",
      "Value: 285.0287947026762, Count: 1\n",
      "Value: 570.6070078382149, Count: 1\n",
      "Value: 572.3469391165474, Count: 1\n",
      "Value: 578.5104212990225, Count: 1\n",
      "Value: 1128.4783655445947, Count: 1\n",
      "Value: 1101.8805568646644, Count: 1\n",
      "Value: 1102.8083109656116, Count: 1\n",
      "Value: 1102.875736576809, Count: 1\n",
      "Value: 1107.9776710914095, Count: 1\n",
      "Value: 1110.124036214133, Count: 1\n",
      "Value: 1111.83863382267, Count: 1\n",
      "Value: 1116.0299628768332, Count: 1\n",
      "Value: 1117.9382305074669, Count: 1\n",
      "Value: 1124.5281724634217, Count: 1\n",
      "Value: 1126.3953271328567, Count: 1\n",
      "Value: 1127.4793003329905, Count: 1\n",
      "Value: 1135.494145694984, Count: 1\n",
      "Value: 1096.336410846903, Count: 1\n",
      "Value: 1145.7175666533524, Count: 1\n",
      "Value: 1147.696155149704, Count: 1\n",
      "Value: 1151.3384732843551, Count: 1\n",
      "Value: 1161.314428071997, Count: 1\n",
      "Value: 1162.5611967672507, Count: 1\n",
      "Value: 1166.3250799377902, Count: 1\n",
      "Value: 1166.4660454075558, Count: 1\n",
      "Value: 1167.764175239412, Count: 1\n",
      "Value: 1174.4851952227586, Count: 1\n",
      "Value: 1182.8905944038324, Count: 1\n",
      "Value: 1184.6798600602049, Count: 1\n",
      "Value: 1099.9337360225013, Count: 1\n",
      "Value: 1083.4910932475939, Count: 1\n",
      "Value: 1194.3751776002048, Count: 1\n",
      "Value: 1026.2080689532465, Count: 1\n",
      "Value: 980.0981671577252, Count: 1\n",
      "Value: 986.163612965525, Count: 1\n",
      "Value: 990.0609685486625, Count: 1\n",
      "Value: 993.5327901631528, Count: 1\n",
      "Value: 995.6169123873188, Count: 1\n",
      "Value: 1009.3714532845456, Count: 1\n",
      "Value: 1010.4465285043046, Count: 1\n",
      "Value: 1019.3265601262937, Count: 1\n",
      "Value: 1021.7140862256907, Count: 1\n",
      "Value: 1023.7407927844739, Count: 1\n",
      "Value: 1024.854357655919, Count: 1\n",
      "Value: 1027.9522568715631, Count: 1\n",
      "Value: 1081.0379901207762, Count: 1\n",
      "Value: 1031.8438216983511, Count: 1\n",
      "Value: 1034.3078111601028, Count: 1\n",
      "Value: 1035.898462945478, Count: 1\n",
      "Value: 1037.6868988340068, Count: 1\n",
      "Value: 1046.7886847537811, Count: 1\n",
      "Value: 1052.2580306772923, Count: 1\n",
      "Value: 1055.634224693548, Count: 1\n",
      "Value: 1056.666595215414, Count: 1\n",
      "Value: 1057.4383600279832, Count: 1\n",
      "Value: 1057.5755703885688, Count: 1\n",
      "Value: 1071.3674668632655, Count: 1\n",
      "Value: 1190.8801151596895, Count: 1\n",
      "Value: 1198.7285490365632, Count: 1\n",
      "Value: 584.8566332586347, Count: 1\n",
      "Value: 1399.1275831801074, Count: 1\n",
      "Value: 1340.4824126424421, Count: 1\n",
      "Value: 1342.1043878644848, Count: 1\n",
      "Value: 1354.0122918810605, Count: 1\n",
      "Value: 1357.592593557785, Count: 1\n",
      "Value: 1357.832392788626, Count: 1\n",
      "Value: 1357.8439695593227, Count: 1\n",
      "Value: 1364.7126676252951, Count: 1\n",
      "Value: 1366.2166872147159, Count: 1\n",
      "Value: 1368.1475786476078, Count: 1\n",
      "Value: 1388.0857717898173, Count: 1\n",
      "Value: 1395.4229846764188, Count: 1\n",
      "Value: 1400.211993713675, Count: 1\n",
      "Value: 1334.9923621203832, Count: 1\n",
      "Value: 1400.6530104737656, Count: 1\n",
      "Value: 1404.1495456404612, Count: 1\n",
      "Value: 1406.8759245610106, Count: 1\n",
      "Value: 1424.853085470911, Count: 1\n",
      "Value: 1429.1334112582663, Count: 1\n",
      "Value: 1430.4284470560872, Count: 1\n",
      "Value: 1431.0471738142887, Count: 1\n",
      "Value: 1458.7018474094466, Count: 1\n",
      "Value: 1459.1347248693178, Count: 1\n",
      "Value: 1467.9739761078783, Count: 1\n",
      "Value: 1475.8290882956728, Count: 1\n",
      "Value: 1339.7484382858802, Count: 1\n",
      "Value: 1325.2512195144593, Count: 1\n",
      "Value: 1214.992688515945, Count: 1\n",
      "Value: 1274.8382200311148, Count: 1\n",
      "Value: 1216.0307114339298, Count: 1\n",
      "Value: 1222.8085502129381, Count: 1\n",
      "Value: 1241.771484516531, Count: 1\n",
      "Value: 1243.1115057604218, Count: 1\n",
      "Value: 1243.581093038253, Count: 1\n",
      "Value: 1244.7870122880008, Count: 1\n",
      "Value: 1247.0928309463618, Count: 1\n",
      "Value: 1252.7612960721065, Count: 1\n",
      "Value: 1263.2732679604576, Count: 1\n",
      "Value: 1265.4858599405043, Count: 1\n",
      "Value: 1269.7004085567182, Count: 1\n",
      "Value: 1275.6532743279643, Count: 1\n",
      "Value: 1325.0846987115174, Count: 1\n",
      "Value: 1275.7199201172562, Count: 1\n",
      "Value: 1276.158561535944, Count: 1\n",
      "Value: 1280.8154830838612, Count: 1\n",
      "Value: 1289.4339714502526, Count: 1\n",
      "Value: 1294.6854609490383, Count: 1\n",
      "Value: 1296.0251978660076, Count: 1\n",
      "Value: 1306.0221692485468, Count: 1\n",
      "Value: 1312.9965717593648, Count: 1\n",
      "Value: 1313.2960814764929, Count: 1\n",
      "Value: 1313.3827710847327, Count: 1\n",
      "Value: 1315.3592082012958, Count: 1\n",
      "Value: 975.7852387738535, Count: 1\n",
      "Value: 974.6764719725204, Count: 1\n",
      "Value: 972.5069087425161, Count: 1\n",
      "Value: 697.5963485804613, Count: 1\n",
      "Value: 646.3418092681773, Count: 1\n",
      "Value: 655.3912396915438, Count: 1\n",
      "Value: 657.8287658805847, Count: 1\n",
      "Value: 660.1003756773451, Count: 1\n",
      "Value: 662.1102247557601, Count: 1\n",
      "Value: 676.9181085501243, Count: 1\n",
      "Value: 678.7939533608348, Count: 1\n",
      "Value: 682.1016495738432, Count: 1\n",
      "Value: 682.6283569621194, Count: 1\n",
      "Value: 685.2112492903112, Count: 1\n",
      "Value: 693.5723831391683, Count: 1\n",
      "Value: 705.6046966977436, Count: 1\n",
      "Value: 640.2246749770318, Count: 1\n",
      "Value: 710.6598680623906, Count: 1\n",
      "Value: 711.7743926311053, Count: 1\n",
      "Value: 731.7596100352912, Count: 1\n",
      "Value: 732.246361842992, Count: 1\n",
      "Value: 733.211182175529, Count: 1\n",
      "Value: 735.0564870940731, Count: 1\n",
      "Value: 735.9617946865378, Count: 1\n",
      "Value: 736.2350638458066, Count: 1\n",
      "Value: 738.3415258105127, Count: 1\n",
      "Value: 744.9366629197727, Count: 1\n",
      "Value: 747.4025953295048, Count: 1\n",
      "Value: 642.6993780208425, Count: 1\n",
      "Value: 638.0992823197018, Count: 1\n",
      "Value: 964.6704036990229, Count: 1\n",
      "Value: 598.4145504738196, Count: 1\n",
      "Value: 584.9251048427457, Count: 1\n",
      "Value: 586.5887385083072, Count: 1\n",
      "Value: 586.7352817361444, Count: 1\n",
      "Value: 589.115351862142, Count: 1\n",
      "Value: 589.6403000303943, Count: 1\n",
      "Value: 591.194180114581, Count: 1\n",
      "Value: 591.7551993431141, Count: 1\n",
      "Value: 591.9935929961852, Count: 1\n",
      "Value: 591.9947209575384, Count: 1\n",
      "Value: 594.0885335863525, Count: 1\n",
      "Value: 595.5762599943995, Count: 1\n",
      "Value: 601.4281091761287, Count: 1\n",
      "Value: 636.5043792024869, Count: 1\n",
      "Value: 607.7482350180046, Count: 1\n",
      "Value: 614.0467259513454, Count: 1\n",
      "Value: 616.0918125936779, Count: 1\n",
      "Value: 616.639955282674, Count: 1\n",
      "Value: 619.1047105972908, Count: 1\n",
      "Value: 620.4652799627038, Count: 1\n",
      "Value: 628.2528904883237, Count: 1\n",
      "Value: 628.7091546525236, Count: 1\n",
      "Value: 635.3409587934848, Count: 1\n",
      "Value: 635.474187977304, Count: 1\n",
      "Value: 635.6796220691036, Count: 1\n",
      "Value: 755.1713665242455, Count: 1\n",
      "Value: 771.8976964046908, Count: 1\n",
      "Value: 772.1042100103143, Count: 1\n",
      "Value: 927.244720022998, Count: 1\n",
      "Value: 888.6830169096501, Count: 1\n",
      "Value: 888.8987088996183, Count: 1\n",
      "Value: 892.2334791170732, Count: 1\n",
      "Value: 893.392459856292, Count: 1\n",
      "Value: 893.470086266491, Count: 1\n",
      "Value: 894.1808336851536, Count: 1\n",
      "Value: 898.9236763564425, Count: 1\n",
      "Value: 903.8069969696617, Count: 1\n",
      "Value: 911.4624898263265, Count: 1\n",
      "Value: 916.9464300613403, Count: 1\n",
      "Value: 921.2690387856918, Count: 1\n",
      "Value: 932.8295819498778, Count: 1\n",
      "Value: 777.0465975280143, Count: 1\n",
      "Value: 933.0703269591546, Count: 1\n",
      "Value: 935.1279339205612, Count: 1\n",
      "Value: 936.9868507549338, Count: 1\n",
      "Value: 939.7376309752564, Count: 1\n",
      "Value: 940.6074050757611, Count: 1\n",
      "Value: 943.5399931838197, Count: 1\n",
      "Value: 953.5187703616059, Count: 1\n",
      "Value: 954.6751885634184, Count: 1\n",
      "Value: 961.2846381538595, Count: 1\n",
      "Value: 962.8292731024924, Count: 1\n",
      "Value: 964.5373832494722, Count: 1\n",
      "Value: 884.8749580211986, Count: 1\n",
      "Value: 881.1009900052163, Count: 1\n",
      "Value: 880.0658330589935, Count: 1\n",
      "Value: 877.7143072116781, Count: 1\n",
      "Value: 777.8608525138629, Count: 1\n",
      "Value: 778.3568984802176, Count: 1\n",
      "Value: 779.7908967242433, Count: 1\n",
      "Value: 779.9813853265829, Count: 1\n",
      "Value: 781.0408000186652, Count: 1\n",
      "Value: 784.9360997217126, Count: 1\n",
      "Value: 791.4432315859925, Count: 1\n",
      "Value: 798.6668408532407, Count: 1\n",
      "Value: 807.9903327240885, Count: 1\n",
      "Value: 810.8206356302368, Count: 1\n",
      "Value: 820.2746067932012, Count: 1\n",
      "Value: 820.5125799374506, Count: 1\n",
      "Value: 820.8213662466866, Count: 1\n",
      "Value: 829.1357001177153, Count: 1\n",
      "Value: 836.7703284022946, Count: 1\n",
      "Value: 843.6537590167306, Count: 1\n",
      "Value: 849.1530087784298, Count: 1\n",
      "Value: 855.1266896511945, Count: 1\n",
      "Value: 862.2486942864151, Count: 1\n",
      "Value: 862.3758639251926, Count: 1\n",
      "Value: 863.9192065016788, Count: 1\n",
      "Value: 869.5799895109741, Count: 1\n",
      "Value: 875.799465085942, Count: 1\n",
      "Value: 4560.714974155099, Count: 1\n",
      "Value: 4566.739394927775, Count: 1\n",
      "Value: 1470306.4419853745, Count: 1\n",
      "Value: 21505.93717319807, Count: 1\n",
      "Value: 20834.07891630043, Count: 1\n",
      "Value: 20870.008596167507, Count: 1\n",
      "Value: 20888.078986994355, Count: 1\n",
      "Value: 20949.8856078737, Count: 1\n",
      "Value: 20957.863381691437, Count: 1\n",
      "Value: 20959.710487573855, Count: 1\n",
      "Value: 20980.494961500244, Count: 1\n",
      "Value: 21220.99002800225, Count: 1\n",
      "Value: 21294.896938473797, Count: 1\n",
      "Value: 21409.304214484226, Count: 1\n",
      "Value: 21455.944116499417, Count: 1\n",
      "Value: 21560.786819358076, Count: 1\n",
      "Value: 20748.925704828256, Count: 1\n",
      "Value: 21582.655986085036, Count: 1\n",
      "Value: 21590.723921290413, Count: 1\n",
      "Value: 21645.36278069678, Count: 1\n",
      "Value: 21736.228613418094, Count: 1\n",
      "Value: 21788.732800318277, Count: 1\n",
      "Value: 21801.06979487964, Count: 1\n",
      "Value: 21904.19765821093, Count: 1\n",
      "Value: 21944.251331290725, Count: 1\n",
      "Value: 21944.394946559423, Count: 1\n",
      "Value: 22072.187627698793, Count: 1\n",
      "Value: 22082.296813224828, Count: 1\n",
      "Value: 20771.182048484403, Count: 1\n",
      "Value: 20728.859725148825, Count: 1\n",
      "Value: 22256.650032932317, Count: 1\n",
      "Value: 19774.033809171255, Count: 1\n",
      "Value: 19112.82562875702, Count: 1\n",
      "Value: 19135.51071794775, Count: 1\n",
      "Value: 19136.18989081801, Count: 1\n",
      "Value: 19196.284022865737, Count: 1\n",
      "Value: 19317.145192388904, Count: 1\n",
      "Value: 19346.65441859565, Count: 1\n",
      "Value: 19455.01165543122, Count: 1\n",
      "Value: 19577.693274383884, Count: 1\n",
      "Value: 19631.692521887562, Count: 1\n",
      "Value: 19714.85374079082, Count: 1\n",
      "Value: 19756.78872289027, Count: 1\n",
      "Value: 20043.98961380004, Count: 1\n",
      "Value: 20726.560990172864, Count: 1\n",
      "Value: 20133.538684961783, Count: 1\n",
      "Value: 20205.30611877717, Count: 1\n",
      "Value: 20317.830842691576, Count: 1\n",
      "Value: 20398.631832189745, Count: 1\n",
      "Value: 20408.928201305258, Count: 1\n",
      "Value: 20473.487101721992, Count: 1\n",
      "Value: 20527.19530993718, Count: 1\n",
      "Value: 20574.813873314357, Count: 1\n",
      "Value: 20626.42066660066, Count: 1\n",
      "Value: 20648.78687307781, Count: 1\n",
      "Value: 20658.463103521768, Count: 1\n",
      "Value: 22170.47134176098, Count: 1\n",
      "Value: 22346.523040518874, Count: 1\n",
      "Value: 19066.305699104407, Count: 1\n",
      "Value: 26609.357194415385, Count: 1\n",
      "Value: 25645.790056168822, Count: 1\n",
      "Value: 25740.67487908871, Count: 1\n",
      "Value: 25747.0949273016, Count: 1\n",
      "Value: 25792.510130654944, Count: 1\n",
      "Value: 25863.166296201085, Count: 1\n",
      "Value: 26215.94241212881, Count: 1\n",
      "Value: 26326.13807320108, Count: 1\n",
      "Value: 26350.045532611388, Count: 1\n",
      "Value: 26512.266777764995, Count: 1\n",
      "Value: 26533.273133790794, Count: 1\n",
      "Value: 26537.08103362958, Count: 1\n",
      "Value: 27335.09080064998, Count: 1\n",
      "Value: 25564.330574797637, Count: 1\n",
      "Value: 27347.12702933041, Count: 1\n",
      "Value: 27489.63509219703, Count: 1\n",
      "Value: 28007.05776968485, Count: 1\n",
      "Value: 28187.27380913491, Count: 1\n",
      "Value: 28235.350034284562, Count: 1\n",
      "Value: 28330.07272186637, Count: 1\n",
      "Value: 28540.00017196519, Count: 1\n",
      "Value: 28626.62933330542, Count: 1\n",
      "Value: 28750.220430163183, Count: 1\n",
      "Value: 28812.52688348747, Count: 1\n",
      "Value: 28816.19263070704, Count: 1\n",
      "Value: 25640.9781359937, Count: 1\n",
      "Value: 25553.213469975897, Count: 1\n",
      "Value: 22347.226297934092, Count: 1\n",
      "Value: 23609.997344263636, Count: 1\n",
      "Value: 22531.159216673117, Count: 1\n",
      "Value: 22616.180405284413, Count: 1\n",
      "Value: 22633.680206584715, Count: 1\n",
      "Value: 22956.035832880832, Count: 1\n",
      "Value: 22979.24600929806, Count: 1\n",
      "Value: 23073.704903391448, Count: 1\n",
      "Value: 23233.687736126685, Count: 1\n",
      "Value: 23245.48312272463, Count: 1\n",
      "Value: 23250.637917467135, Count: 1\n",
      "Value: 23579.55509547343, Count: 1\n",
      "Value: 23592.47737338059, Count: 1\n",
      "Value: 23648.653338959415, Count: 1\n",
      "Value: 24728.718918398357, Count: 1\n",
      "Value: 23672.65383747084, Count: 1\n",
      "Value: 23923.63948870403, Count: 1\n",
      "Value: 24021.47643317919, Count: 1\n",
      "Value: 24156.048923912487, Count: 1\n",
      "Value: 24172.69128142146, Count: 1\n",
      "Value: 24341.51109338709, Count: 1\n",
      "Value: 24343.128854830284, Count: 1\n",
      "Value: 24416.5537782112, Count: 1\n",
      "Value: 24611.73328323127, Count: 1\n",
      "Value: 24664.133216636623, Count: 1\n",
      "Value: 24684.217274993633, Count: 1\n",
      "Value: 19074.169655567846, Count: 1\n",
      "Value: 19058.031764983483, Count: 1\n",
      "Value: 12994.604817534608, Count: 1\n",
      "Value: 15039.258494435528, Count: 1\n",
      "Value: 14377.971454545768, Count: 1\n",
      "Value: 14415.620437204265, Count: 1\n",
      "Value: 14459.77420751324, Count: 1\n",
      "Value: 14558.578143300949, Count: 1\n",
      "Value: 14590.913928899092, Count: 1\n",
      "Value: 14613.306832668231, Count: 1\n",
      "Value: 14638.546155572438, Count: 1\n",
      "Value: 14650.707266253296, Count: 1\n",
      "Value: 14663.931692030048, Count: 1\n",
      "Value: 14707.808760900798, Count: 1\n",
      "Value: 14718.89678534313, Count: 1\n",
      "Value: 15059.82453056734, Count: 1\n",
      "Value: 14299.26479090258, Count: 1\n",
      "Value: 15123.366201485129, Count: 1\n",
      "Value: 15246.733432631516, Count: 1\n",
      "Value: 15252.2507085317, Count: 1\n",
      "Value: 15311.10223248711, Count: 1\n",
      "Value: 15332.940628926679, Count: 1\n",
      "Value: 15341.51891976736, Count: 1\n",
      "Value: 15378.565202525997, Count: 1\n",
      "Value: 15447.660743748009, Count: 1\n",
      "Value: 15456.399105949524, Count: 1\n",
      "Value: 15492.507794461282, Count: 1\n",
      "Value: 15527.138041114307, Count: 1\n",
      "Value: 14373.868744079618, Count: 1\n",
      "Value: 14293.76052549875, Count: 1\n",
      "Value: 15706.107473721257, Count: 1\n",
      "Value: 13674.25975849079, Count: 1\n",
      "Value: 13087.898524682967, Count: 1\n",
      "Value: 13089.772847080005, Count: 1\n",
      "Value: 13191.259933736732, Count: 1\n",
      "Value: 13255.39190243384, Count: 1\n",
      "Value: 13334.341375824211, Count: 1\n",
      "Value: 13334.34574948652, Count: 1\n",
      "Value: 13362.135002678595, Count: 1\n",
      "Value: 13449.822818855506, Count: 1\n",
      "Value: 13476.761950350596, Count: 1\n",
      "Value: 13537.999215408, Count: 1\n",
      "Value: 13554.848239486688, Count: 1\n",
      "Value: 13731.075041081616, Count: 1\n",
      "Value: 14268.03104739541, Count: 1\n",
      "Value: 13840.652624967932, Count: 1\n",
      "Value: 13847.239313846421, Count: 1\n",
      "Value: 13951.241910991568, Count: 1\n",
      "Value: 14061.04203224464, Count: 1\n",
      "Value: 14074.440921898857, Count: 1\n",
      "Value: 14116.848258670629, Count: 1\n",
      "Value: 14126.199556983938, Count: 1\n",
      "Value: 14153.438214664457, Count: 1\n",
      "Value: 14186.830245767465, Count: 1\n",
      "Value: 14203.841553837672, Count: 1\n",
      "Value: 14237.976274587558, Count: 1\n",
      "Value: 15666.51128558693, Count: 1\n",
      "Value: 15810.019644439866, Count: 1\n",
      "Value: 18935.29713023287, Count: 1\n",
      "Value: 18405.566105449234, Count: 1\n",
      "Value: 17612.87318843396, Count: 1\n",
      "Value: 17750.440478355973, Count: 1\n",
      "Value: 17764.701431477577, Count: 1\n",
      "Value: 17906.28370633663, Count: 1\n",
      "Value: 18070.213773796844, Count: 1\n",
      "Value: 18116.294646823815, Count: 1\n",
      "Value: 18156.680633180345, Count: 1\n",
      "Value: 18174.67016034849, Count: 1\n",
      "Value: 18275.975183884184, Count: 1\n",
      "Value: 18333.860456684106, Count: 1\n",
      "Value: 18343.736385383072, Count: 1\n",
      "Value: 18471.823164702004, Count: 1\n",
      "Value: 17433.685728314114, Count: 1\n",
      "Value: 18475.473444619773, Count: 1\n",
      "Value: 18535.64837937097, Count: 1\n",
      "Value: 18591.755333879235, Count: 1\n",
      "Value: 18630.40689228051, Count: 1\n",
      "Value: 18630.594946075693, Count: 1\n",
      "Value: 18638.24656444465, Count: 1\n",
      "Value: 18740.083876775723, Count: 1\n",
      "Value: 18777.127733430676, Count: 1\n",
      "Value: 18779.81241098191, Count: 1\n",
      "Value: 18814.78409628712, Count: 1\n",
      "Value: 18818.779649973345, Count: 1\n",
      "Value: 17482.157506397823, Count: 1\n",
      "Value: 17416.418383651468, Count: 1\n",
      "Value: 15852.286196188077, Count: 1\n",
      "Value: 16624.039252300223, Count: 1\n",
      "Value: 15893.388969723786, Count: 1\n",
      "Value: 15933.963546109213, Count: 1\n",
      "Value: 15977.232953514125, Count: 1\n",
      "Value: 16123.122958135124, Count: 1\n",
      "Value: 16133.178778973519, Count: 1\n",
      "Value: 16135.236018141268, Count: 1\n",
      "Value: 16243.729523122032, Count: 1\n",
      "Value: 16385.112300221816, Count: 1\n",
      "Value: 16455.972044854556, Count: 1\n",
      "Value: 16490.95130376906, Count: 1\n",
      "Value: 16563.62925894528, Count: 1\n",
      "Value: 16631.641113166883, Count: 1\n",
      "Value: 17245.483370941347, Count: 1\n",
      "Value: 16670.44842427457, Count: 1\n",
      "Value: 16670.530675264137, Count: 1\n",
      "Value: 16695.81465219578, Count: 1\n",
      "Value: 16696.668222292577, Count: 1\n",
      "Value: 16728.95927506992, Count: 1\n",
      "Value: 16768.26174855458, Count: 1\n",
      "Value: 16805.924196917626, Count: 1\n",
      "Value: 16902.71556737464, Count: 1\n",
      "Value: 16936.973280817823, Count: 1\n",
      "Value: 17139.8455828847, Count: 1\n",
      "Value: 17234.063604535386, Count: 1\n",
      "Value: 28843.91761274632, Count: 1\n",
      "Value: 29031.631582810587, Count: 1\n",
      "Value: 29050.568066877822, Count: 1\n",
      "Value: 72825.15879925477, Count: 1\n",
      "Value: 64640.75553570005, Count: 1\n",
      "Value: 67271.91831373842, Count: 1\n",
      "Value: 67743.03070895564, Count: 1\n",
      "Value: 67903.40322460666, Count: 1\n",
      "Value: 67983.61448666932, Count: 1\n",
      "Value: 68707.24408901339, Count: 1\n",
      "Value: 69550.32751353635, Count: 1\n",
      "Value: 70591.80812017038, Count: 1\n",
      "Value: 70606.74775773886, Count: 1\n",
      "Value: 70631.59017983857, Count: 1\n",
      "Value: 71500.88456960824, Count: 1\n",
      "Value: 73184.8523064788, Count: 1\n",
      "Value: 63155.50841514387, Count: 1\n",
      "Value: 73745.71313834394, Count: 1\n",
      "Value: 73760.46777688595, Count: 1\n",
      "Value: 73820.55541863035, Count: 1\n",
      "Value: 73907.90922142717, Count: 1\n",
      "Value: 74400.21700214365, Count: 1\n",
      "Value: 75026.30262485215, Count: 1\n",
      "Value: 75835.61991078194, Count: 1\n",
      "Value: 76662.33148094316, Count: 1\n",
      "Value: 78074.38564459997, Count: 1\n",
      "Value: 78171.74413207355, Count: 1\n",
      "Value: 81791.39810883907, Count: 1\n",
      "Value: 64383.827450188044, Count: 1\n",
      "Value: 62224.96273364955, Count: 1\n",
      "Value: 84828.35964803853, Count: 1\n",
      "Value: 56315.51638518813, Count: 1\n",
      "Value: 51367.64688006977, Count: 1\n",
      "Value: 51486.2158742936, Count: 1\n",
      "Value: 51856.13007429475, Count: 1\n",
      "Value: 52164.892893206, Count: 1\n",
      "Value: 53317.47640406632, Count: 1\n",
      "Value: 53393.90446019672, Count: 1\n",
      "Value: 53768.6495962398, Count: 1\n",
      "Value: 54393.11247340281, Count: 1\n",
      "Value: 54542.551711082044, Count: 1\n",
      "Value: 54880.94849568186, Count: 1\n",
      "Value: 55856.31356763804, Count: 1\n",
      "Value: 56508.95668504763, Count: 1\n",
      "Value: 61300.49787311339, Count: 1\n",
      "Value: 56717.94782903158, Count: 1\n",
      "Value: 57178.18906320206, Count: 1\n",
      "Value: 57657.46790484666, Count: 1\n",
      "Value: 58093.10025173611, Count: 1\n",
      "Value: 58182.191771400234, Count: 1\n",
      "Value: 58406.25936247222, Count: 1\n",
      "Value: 59866.89087087851, Count: 1\n",
      "Value: 59885.918227355796, Count: 1\n",
      "Value: 60167.09686956087, Count: 1\n",
      "Value: 60184.041065538884, Count: 1\n",
      "Value: 61092.286651933384, Count: 1\n",
      "Value: 83018.91124785697, Count: 1\n",
      "Value: 84846.03335051333, Count: 1\n",
      "Value: 29123.857356002765, Count: 1\n",
      "Value: 167713.92290499844, Count: 1\n",
      "Value: 118139.5381882762, Count: 1\n",
      "Value: 118633.94475522182, Count: 1\n",
      "Value: 121031.23358514444, Count: 1\n",
      "Value: 130321.64945956439, Count: 1\n",
      "Value: 131004.34971821435, Count: 1\n",
      "Value: 131350.5805803292, Count: 1\n",
      "Value: 131573.44773744143, Count: 1\n",
      "Value: 143134.2704019013, Count: 1\n",
      "Value: 145120.15221683827, Count: 1\n",
      "Value: 153033.25411087964, Count: 1\n",
      "Value: 154118.83669005963, Count: 1\n",
      "Value: 169231.57752936467, Count: 1\n",
      "Value: 114814.45352759525, Count: 1\n",
      "Value: 188245.74152628906, Count: 1\n",
      "Value: 189720.60802726957, Count: 1\n",
      "Value: 207110.453756138, Count: 1\n",
      "Value: 217706.8127036356, Count: 1\n",
      "Value: 238312.04999352043, Count: 1\n",
      "Value: 246765.75893422397, Count: 1\n",
      "Value: 275586.26209237514, Count: 1\n",
      "Value: 305714.4602653049, Count: 1\n",
      "Value: 442546.7510330512, Count: 1\n",
      "Value: 745680.7228706899, Count: 1\n",
      "Value: 788971.9812543326, Count: 1\n",
      "Value: 115220.9645926169, Count: 1\n",
      "Value: 113358.1580078841, Count: 1\n",
      "Value: 84942.21896261741, Count: 1\n",
      "Value: 97672.70458753622, Count: 1\n",
      "Value: 85814.36224662792, Count: 1\n",
      "Value: 86333.16743003245, Count: 1\n",
      "Value: 86740.7678551731, Count: 1\n",
      "Value: 86741.85303346008, Count: 1\n",
      "Value: 89895.99780249117, Count: 1\n",
      "Value: 91611.46641331266, Count: 1\n",
      "Value: 94679.11975891504, Count: 1\n",
      "Value: 95040.65623085682, Count: 1\n",
      "Value: 95948.17356644374, Count: 1\n",
      "Value: 96354.91624210031, Count: 1\n",
      "Value: 97258.24025266242, Count: 1\n",
      "Value: 97972.05909716433, Count: 1\n",
      "Value: 111552.35809405673, Count: 1\n",
      "Value: 98281.53957242152, Count: 1\n",
      "Value: 98337.34041797288, Count: 1\n",
      "Value: 99628.26747175591, Count: 1\n",
      "Value: 100840.34991787915, Count: 1\n",
      "Value: 100889.96322373048, Count: 1\n",
      "Value: 102918.69186847145, Count: 1\n",
      "Value: 104191.32767899249, Count: 1\n",
      "Value: 105559.26627261254, Count: 1\n",
      "Value: 106008.23127477497, Count: 1\n",
      "Value: 108617.75803778842, Count: 1\n",
      "Value: 111328.56802306138, Count: 1\n",
      "Value: 51286.688584042764, Count: 1\n",
      "Value: 51090.497372018144, Count: 1\n",
      "Value: 50623.31331733358, Count: 1\n",
      "Value: 34827.58006513801, Count: 1\n",
      "Value: 33468.96831207018, Count: 1\n",
      "Value: 33672.29554655182, Count: 1\n",
      "Value: 33735.3015933623, Count: 1\n",
      "Value: 33941.44883866265, Count: 1\n",
      "Value: 33962.589571480356, Count: 1\n",
      "Value: 34095.34826753318, Count: 1\n",
      "Value: 34448.60462573888, Count: 1\n",
      "Value: 34493.4102599437, Count: 1\n",
      "Value: 34612.48645985633, Count: 1\n",
      "Value: 34648.44962588978, Count: 1\n",
      "Value: 34706.84817374371, Count: 1\n",
      "Value: 35146.598523362954, Count: 1\n",
      "Value: 33152.20459114437, Count: 1\n",
      "Value: 35505.81640364091, Count: 1\n",
      "Value: 35673.17268442145, Count: 1\n",
      "Value: 35767.682918060455, Count: 1\n",
      "Value: 35876.206839364124, Count: 1\n",
      "Value: 36124.86642016658, Count: 1\n",
      "Value: 36213.10217000043, Count: 1\n",
      "Value: 36272.01576436804, Count: 1\n",
      "Value: 36595.29228336122, Count: 1\n",
      "Value: 36698.72879193914, Count: 1\n",
      "Value: 36783.08377590432, Count: 1\n",
      "Value: 37050.684632347606, Count: 1\n",
      "Value: 33422.06169143803, Count: 1\n",
      "Value: 33146.23029391279, Count: 1\n",
      "Value: 50259.755227245056, Count: 1\n",
      "Value: 31245.640591837953, Count: 1\n",
      "Value: 29135.12586490449, Count: 1\n",
      "Value: 29226.017889629893, Count: 1\n",
      "Value: 29662.456031851758, Count: 1\n",
      "Value: 29680.315084192025, Count: 1\n",
      "Value: 30011.523443904047, Count: 1\n",
      "Value: 30021.547357061456, Count: 1\n",
      "Value: 30264.307836842338, Count: 1\n",
      "Value: 30291.467874701357, Count: 1\n",
      "Value: 30650.861642085547, Count: 1\n",
      "Value: 30660.141599779312, Count: 1\n",
      "Value: 31031.507339268563, Count: 1\n",
      "Value: 31395.36437399131, Count: 1\n",
      "Value: 32923.059840582835, Count: 1\n",
      "Value: 31530.829988944035, Count: 1\n",
      "Value: 31564.21439060752, Count: 1\n",
      "Value: 32014.06613233406, Count: 1\n",
      "Value: 32025.067485519456, Count: 1\n",
      "Value: 32073.58708048405, Count: 1\n",
      "Value: 32178.65843139053, Count: 1\n",
      "Value: 32409.442772044564, Count: 1\n",
      "Value: 32594.316680417032, Count: 1\n",
      "Value: 32661.240799012827, Count: 1\n",
      "Value: 32717.933325134778, Count: 1\n",
      "Value: 32862.54632198603, Count: 1\n",
      "Value: 37230.97988875583, Count: 1\n",
      "Value: 37509.12164385652, Count: 1\n",
      "Value: 37820.937047935135, Count: 1\n",
      "Value: 47179.054551074914, Count: 1\n",
      "Value: 45143.98974887691, Count: 1\n",
      "Value: 45174.54664984584, Count: 1\n",
      "Value: 45212.71156475084, Count: 1\n",
      "Value: 45250.646284240116, Count: 1\n",
      "Value: 45268.21469266381, Count: 1\n",
      "Value: 45401.53976746376, Count: 1\n",
      "Value: 45494.15761149074, Count: 1\n",
      "Value: 45969.11329881509, Count: 1\n",
      "Value: 46807.43662144429, Count: 1\n",
      "Value: 46839.221905609804, Count: 1\n",
      "Value: 47006.63340609095, Count: 1\n",
      "Value: 47355.909608212925, Count: 1\n",
      "Value: 37878.366998189165, Count: 1\n",
      "Value: 47401.41357296765, Count: 1\n",
      "Value: 47450.02266797381, Count: 1\n",
      "Value: 47516.664450765296, Count: 1\n",
      "Value: 47685.3987679172, Count: 1\n",
      "Value: 48060.283490441594, Count: 1\n",
      "Value: 48503.57612561033, Count: 1\n",
      "Value: 48733.703247748614, Count: 1\n",
      "Value: 49761.30741904155, Count: 1\n",
      "Value: 49963.59059012201, Count: 1\n",
      "Value: 49994.11492872172, Count: 1\n",
      "Value: 50035.61146758475, Count: 1\n",
      "Value: 44970.30337246096, Count: 1\n",
      "Value: 44776.77190290964, Count: 1\n",
      "Value: 44456.999058391804, Count: 1\n",
      "Value: 43979.01304592595, Count: 1\n",
      "Value: 37980.3885362425, Count: 1\n",
      "Value: 38008.51107712309, Count: 1\n",
      "Value: 38209.6139809312, Count: 1\n",
      "Value: 38281.83762232768, Count: 1\n",
      "Value: 38343.05079795931, Count: 1\n",
      "Value: 38625.91026820024, Count: 1\n",
      "Value: 38876.50775820927, Count: 1\n",
      "Value: 38937.08676339334, Count: 1\n",
      "Value: 38973.53527220745, Count: 1\n",
      "Value: 39486.838719705695, Count: 1\n",
      "Value: 39656.331457872795, Count: 1\n",
      "Value: 39692.75778159156, Count: 1\n",
      "Value: 39703.167726362786, Count: 1\n",
      "Value: 39783.67547331339, Count: 1\n",
      "Value: 40519.10381224, Count: 1\n",
      "Value: 40530.74074575545, Count: 1\n",
      "Value: 40565.13983921398, Count: 1\n",
      "Value: 41391.67399691037, Count: 1\n",
      "Value: 41392.815097911654, Count: 1\n",
      "Value: 42178.36187933203, Count: 1\n",
      "Value: 42325.63513354285, Count: 1\n",
      "Value: 42522.59565930244, Count: 1\n",
      "Value: 42592.85539626595, Count: 1\n",
      "Value: 13015.564707311272, Count: 1\n",
      "Value: 12992.535131421197, Count: 1\n",
      "Value: 4570.775904510098, Count: 1\n",
      "Value: 6619.63606348575, Count: 1\n",
      "Value: 6439.893442009557, Count: 1\n",
      "Value: 6457.667174313079, Count: 1\n",
      "Value: 6485.264278321231, Count: 1\n",
      "Value: 6492.820608518155, Count: 1\n",
      "Value: 6494.473019258035, Count: 1\n",
      "Value: 6504.695192541391, Count: 1\n",
      "Value: 6528.124434687632, Count: 1\n",
      "Value: 6534.292075155896, Count: 1\n",
      "Value: 6538.531742596812, Count: 1\n",
      "Value: 6551.876987865647, Count: 1\n",
      "Value: 6587.31610934156, Count: 1\n",
      "Value: 6639.899870173814, Count: 1\n",
      "Value: 6426.758485257842, Count: 1\n",
      "Value: 6664.209411117976, Count: 1\n",
      "Value: 6668.4185426743325, Count: 1\n",
      "Value: 6690.121877264657, Count: 1\n",
      "Value: 6717.59593467152, Count: 1\n",
      "Value: 6756.3765305025045, Count: 1\n",
      "Value: 6761.325363021163, Count: 1\n",
      "Value: 6809.251050414364, Count: 1\n",
      "Value: 6822.305793689182, Count: 1\n",
      "Value: 6829.554961180511, Count: 1\n",
      "Value: 6833.202677373567, Count: 1\n",
      "Value: 6842.477020661925, Count: 1\n",
      "Value: 6438.015309672173, Count: 1\n",
      "Value: 6423.915596627966, Count: 1\n",
      "Value: 6856.32862150945, Count: 1\n",
      "Value: 6206.7880762457435, Count: 1\n",
      "Value: 5935.772035701551, Count: 1\n",
      "Value: 5937.279928490371, Count: 1\n",
      "Value: 5941.065931131996, Count: 1\n",
      "Value: 6041.71821767329, Count: 1\n",
      "Value: 6057.3235677134935, Count: 1\n",
      "Value: 6067.859220368747, Count: 1\n",
      "Value: 6071.548750930806, Count: 1\n",
      "Value: 6079.906248129031, Count: 1\n",
      "Value: 6107.510388095944, Count: 1\n",
      "Value: 6171.211893091012, Count: 1\n",
      "Value: 6190.794487378035, Count: 1\n",
      "Value: 6214.170219086624, Count: 1\n",
      "Value: 6415.490252305733, Count: 1\n",
      "Value: 6229.792315341825, Count: 1\n",
      "Value: 6230.1112788114715, Count: 1\n",
      "Value: 6285.181446010695, Count: 1\n",
      "Value: 6286.260834739758, Count: 1\n",
      "Value: 6301.496574383101, Count: 1\n",
      "Value: 6305.573659024346, Count: 1\n",
      "Value: 6306.106023360869, Count: 1\n",
      "Value: 6324.71597024738, Count: 1\n",
      "Value: 6355.706666795262, Count: 1\n",
      "Value: 6382.742435459662, Count: 1\n",
      "Value: 6391.9561989581425, Count: 1\n",
      "Value: 6855.28560204366, Count: 1\n",
      "Value: 6856.645001747346, Count: 1\n",
      "Value: 5924.022327496611, Count: 1\n",
      "Value: 7668.19509253538, Count: 1\n",
      "Value: 7394.852622672054, Count: 1\n",
      "Value: 7395.755580619916, Count: 1\n",
      "Value: 7399.148562070985, Count: 1\n",
      "Value: 7413.832152438295, Count: 1\n",
      "Value: 7426.971360441273, Count: 1\n",
      "Value: 7525.288413780647, Count: 1\n",
      "Value: 7527.414086614385, Count: 1\n",
      "Value: 7549.457872583802, Count: 1\n",
      "Value: 7595.150912170378, Count: 1\n",
      "Value: 7636.047187914196, Count: 1\n",
      "Value: 7645.671028946521, Count: 1\n",
      "Value: 7683.475990267248, Count: 1\n",
      "Value: 7336.891736477736, Count: 1\n",
      "Value: 7698.128842402305, Count: 1\n",
      "Value: 7698.692511649454, Count: 1\n",
      "Value: 7702.321052416937, Count: 1\n",
      "Value: 7708.386513905445, Count: 1\n",
      "Value: 7736.847582458821, Count: 1\n",
      "Value: 7737.765024466585, Count: 1\n",
      "Value: 7798.171422408566, Count: 1\n",
      "Value: 7798.341969835762, Count: 1\n",
      "Value: 7808.284158674151, Count: 1\n",
      "Value: 7826.072922996072, Count: 1\n",
      "Value: 7827.631978129773, Count: 1\n",
      "Value: 7378.36008637759, Count: 1\n",
      "Value: 7322.315718879522, Count: 1\n",
      "Value: 6895.132567353503, Count: 1\n",
      "Value: 7106.321188403954, Count: 1\n",
      "Value: 6910.180593300219, Count: 1\n",
      "Value: 6920.56028731499, Count: 1\n",
      "Value: 6964.453966004589, Count: 1\n",
      "Value: 7008.8539590663095, Count: 1\n",
      "Value: 7009.170541976165, Count: 1\n",
      "Value: 7027.675475410465, Count: 1\n",
      "Value: 7081.230265532441, Count: 1\n",
      "Value: 7089.455518405077, Count: 1\n",
      "Value: 7102.881208277672, Count: 1\n",
      "Value: 7104.264848581973, Count: 1\n",
      "Value: 7106.252171095862, Count: 1\n",
      "Value: 7110.382552029661, Count: 1\n",
      "Value: 7301.6098707482015, Count: 1\n",
      "Value: 7116.959109553615, Count: 1\n",
      "Value: 7125.801273231455, Count: 1\n",
      "Value: 7141.626522903737, Count: 1\n",
      "Value: 7148.002040768133, Count: 1\n",
      "Value: 7177.581284649003, Count: 1\n",
      "Value: 7204.3784382677095, Count: 1\n",
      "Value: 7206.1963277903515, Count: 1\n",
      "Value: 7220.033938086974, Count: 1\n",
      "Value: 7220.976723392403, Count: 1\n",
      "Value: 7261.443777597552, Count: 1\n",
      "Value: 7291.191295870559, Count: 1\n",
      "Value: 5933.396876165884, Count: 1\n",
      "Value: 5901.201678005362, Count: 1\n",
      "Value: 12911.439671414042, Count: 1\n",
      "Value: 5056.147553749568, Count: 1\n",
      "Value: 4957.25237718306, Count: 1\n",
      "Value: 4961.878278731412, Count: 1\n",
      "Value: 4962.499689848074, Count: 1\n",
      "Value: 4963.255551890969, Count: 1\n",
      "Value: 4964.539383924107, Count: 1\n",
      "Value: 4972.573876368475, Count: 1\n",
      "Value: 4974.708857857817, Count: 1\n",
      "Value: 4989.608798342906, Count: 1\n",
      "Value: 4997.225135929577, Count: 1\n",
      "Value: 5001.5643033194, Count: 1\n",
      "Value: 5022.43555073965, Count: 1\n",
      "Value: 5079.118737894776, Count: 1\n",
      "Value: 4949.379373885086, Count: 1\n",
      "Value: 5098.34768878726, Count: 1\n",
      "Value: 5112.836317691219, Count: 1\n",
      "Value: 5113.89952195398, Count: 1\n",
      "Value: 5150.0739634724605, Count: 1\n",
      "Value: 5172.8811981598865, Count: 1\n",
      "Value: 5218.077627909189, Count: 1\n",
      "Value: 5242.557311125758, Count: 1\n",
      "Value: 5252.433732389581, Count: 1\n",
      "Value: 5257.25859945889, Count: 1\n",
      "Value: 5274.0353638211645, Count: 1\n",
      "Value: 5275.93970000761, Count: 1\n",
      "Value: 4952.00163785282, Count: 1\n",
      "Value: 4934.17640990282, Count: 1\n",
      "Value: 5303.600728911474, Count: 1\n",
      "Value: 4790.090263666289, Count: 1\n",
      "Value: 4649.845781255812, Count: 1\n",
      "Value: 4662.410958600525, Count: 1\n",
      "Value: 4673.801257647979, Count: 1\n",
      "Value: 4680.961153051741, Count: 1\n",
      "Value: 4721.847922651786, Count: 1\n",
      "Value: 4731.076943103051, Count: 1\n",
      "Value: 4735.445672731857, Count: 1\n",
      "Value: 4736.710710170525, Count: 1\n",
      "Value: 4755.41998654905, Count: 1\n",
      "Value: 4764.613882056219, Count: 1\n",
      "Value: 4785.690639370405, Count: 1\n",
      "Value: 4796.315015364929, Count: 1\n",
      "Value: 4921.7077887037085, Count: 1\n",
      "Value: 4817.244373417261, Count: 1\n",
      "Value: 4817.273529725555, Count: 1\n",
      "Value: 4831.0634976283945, Count: 1\n",
      "Value: 4833.8064541154245, Count: 1\n",
      "Value: 4850.870800500885, Count: 1\n",
      "Value: 4875.6958767187225, Count: 1\n",
      "Value: 4885.066635023482, Count: 1\n",
      "Value: 4893.297221731479, Count: 1\n",
      "Value: 4893.424799547998, Count: 1\n",
      "Value: 4899.88536182306, Count: 1\n",
      "Value: 4905.763467153143, Count: 1\n",
      "Value: 5294.996290422354, Count: 1\n",
      "Value: 5305.362895546492, Count: 1\n",
      "Value: 5900.933901592251, Count: 1\n",
      "Value: 5707.910723298327, Count: 1\n",
      "Value: 5580.273182030414, Count: 1\n",
      "Value: 5583.8181923391885, Count: 1\n",
      "Value: 5591.756093223152, Count: 1\n",
      "Value: 5610.906852688604, Count: 1\n",
      "Value: 5612.137103281099, Count: 1\n",
      "Value: 5613.8682434203365, Count: 1\n",
      "Value: 5628.251002731006, Count: 1\n",
      "Value: 5643.770220583174, Count: 1\n",
      "Value: 5645.555731342252, Count: 1\n",
      "Value: 5695.805611778605, Count: 1\n",
      "Value: 5702.647065038004, Count: 1\n",
      "Value: 5727.9737333749, Count: 1\n",
      "Value: 5537.652432438703, Count: 1\n",
      "Value: 5739.143961309678, Count: 1\n",
      "Value: 5740.265778110388, Count: 1\n",
      "Value: 5746.903109473455, Count: 1\n",
      "Value: 5783.196799336255, Count: 1\n",
      "Value: 5786.355471808266, Count: 1\n",
      "Value: 5803.560911732121, Count: 1\n",
      "Value: 5822.173738364197, Count: 1\n",
      "Value: 5844.551764578297, Count: 1\n",
      "Value: 5851.493738990598, Count: 1\n",
      "Value: 5881.583278619747, Count: 1\n",
      "Value: 5888.942845026208, Count: 1\n",
      "Value: 5539.85812560775, Count: 1\n",
      "Value: 5521.066436523964, Count: 1\n",
      "Value: 5368.259308953855, Count: 1\n",
      "Value: 5441.141966005674, Count: 1\n",
      "Value: 5371.505078384372, Count: 1\n",
      "Value: 5379.606637305405, Count: 1\n",
      "Value: 5392.065226690541, Count: 1\n",
      "Value: 5393.3196900686435, Count: 1\n",
      "Value: 5399.753718074808, Count: 1\n",
      "Value: 5400.763149583136, Count: 1\n",
      "Value: 5406.888312231207, Count: 1\n",
      "Value: 5409.6988228043765, Count: 1\n",
      "Value: 5412.639030538302, Count: 1\n",
      "Value: 5421.40717810527, Count: 1\n",
      "Value: 5421.430699831426, Count: 1\n",
      "Value: 5442.956712429367, Count: 1\n",
      "Value: 5506.589761218372, Count: 1\n",
      "Value: 5444.819102964614, Count: 1\n",
      "Value: 5446.772850992755, Count: 1\n",
      "Value: 5452.247392559908, Count: 1\n",
      "Value: 5463.675294670649, Count: 1\n",
      "Value: 5464.82325176963, Count: 1\n",
      "Value: 5469.240831635448, Count: 1\n",
      "Value: 5483.315076555076, Count: 1\n",
      "Value: 5491.177819477903, Count: 1\n",
      "Value: 5496.590797539351, Count: 1\n",
      "Value: 5498.021568554617, Count: 1\n",
      "Value: 5500.52172928135, Count: 1\n",
      "Value: 7828.704984845882, Count: 1\n",
      "Value: 7834.903548012235, Count: 1\n",
      "Value: 7877.59192939799, Count: 1\n",
      "Value: 10710.387892130879, Count: 1\n",
      "Value: 10403.946141833632, Count: 1\n",
      "Value: 10440.49683701059, Count: 1\n",
      "Value: 10449.58062006652, Count: 1\n",
      "Value: 10464.934248841573, Count: 1\n",
      "Value: 10465.812756041283, Count: 1\n",
      "Value: 10488.068660875108, Count: 1\n",
      "Value: 10495.65184765669, Count: 1\n",
      "Value: 10521.903624592469, Count: 1\n",
      "Value: 10553.153134237975, Count: 1\n",
      "Value: 10616.736511399704, Count: 1\n",
      "Value: 10682.148488149076, Count: 1\n",
      "Value: 10716.956797269782, Count: 1\n",
      "Value: 10335.73771335981, Count: 1\n",
      "Value: 10730.353893945665, Count: 1\n",
      "Value: 10761.983992116639, Count: 1\n",
      "Value: 10794.674906144986, Count: 1\n",
      "Value: 10814.129494380139, Count: 1\n",
      "Value: 10863.283325614797, Count: 1\n",
      "Value: 10885.91730129316, Count: 1\n",
      "Value: 10982.49445693595, Count: 1\n",
      "Value: 10993.460420872529, Count: 1\n",
      "Value: 10999.29342964697, Count: 1\n",
      "Value: 11008.9049964011, Count: 1\n",
      "Value: 11017.967223335483, Count: 1\n",
      "Value: 10394.40901871197, Count: 1\n",
      "Value: 10329.884783958629, Count: 1\n",
      "Value: 11148.010618789032, Count: 1\n",
      "Value: 10094.857789119826, Count: 1\n",
      "Value: 9941.139323486164, Count: 1\n",
      "Value: 9948.91053833214, Count: 1\n",
      "Value: 9952.003910953816, Count: 1\n",
      "Value: 9993.056395286685, Count: 1\n",
      "Value: 9999.670750655241, Count: 1\n",
      "Value: 10017.458893965288, Count: 1\n",
      "Value: 10022.277664188228, Count: 1\n",
      "Value: 10032.889023784368, Count: 1\n",
      "Value: 10056.529381486731, Count: 1\n",
      "Value: 10070.90760679269, Count: 1\n",
      "Value: 10072.551303838378, Count: 1\n",
      "Value: 10101.108803888168, Count: 1\n",
      "Value: 10266.626241795182, Count: 1\n",
      "Value: 10119.771133148877, Count: 1\n",
      "Value: 10125.338398069189, Count: 1\n",
      "Value: 10131.286748298307, Count: 1\n",
      "Value: 10132.403298517293, Count: 1\n",
      "Value: 10136.99821279373, Count: 1\n",
      "Value: 10148.24286782882, Count: 1\n",
      "Value: 10149.839396971984, Count: 1\n",
      "Value: 10233.593476208882, Count: 1\n",
      "Value: 10235.94888878259, Count: 1\n",
      "Value: 10247.04555611617, Count: 1\n",
      "Value: 10247.23661938198, Count: 1\n",
      "Value: 11072.302720942875, Count: 1\n",
      "Value: 11208.506226562882, Count: 1\n",
      "Value: 7912.254746991337, Count: 1\n",
      "Value: 12532.464334309385, Count: 1\n",
      "Value: 12166.372353064597, Count: 1\n",
      "Value: 12181.10580160157, Count: 1\n",
      "Value: 12183.87026071217, Count: 1\n",
      "Value: 12186.06309342958, Count: 1\n",
      "Value: 12195.163489479035, Count: 1\n",
      "Value: 12248.943120810822, Count: 1\n",
      "Value: 12304.204383632705, Count: 1\n",
      "Value: 12314.48672037361, Count: 1\n",
      "Value: 12349.827478162855, Count: 1\n",
      "Value: 12388.902447573031, Count: 1\n",
      "Value: 12479.673579426306, Count: 1\n",
      "Value: 12533.347604617698, Count: 1\n",
      "Value: 12156.559568747456, Count: 1\n",
      "Value: 12566.212801514153, Count: 1\n",
      "Value: 12576.875461457894, Count: 1\n",
      "Value: 12688.009755799787, Count: 1\n",
      "Value: 12699.02024589321, Count: 1\n",
      "Value: 12766.77293957253, Count: 1\n",
      "Value: 12770.078928077592, Count: 1\n",
      "Value: 12790.750634286878, Count: 1\n",
      "Value: 12867.998180528632, Count: 1\n",
      "Value: 12877.167808435384, Count: 1\n",
      "Value: 12884.475065933613, Count: 1\n",
      "Value: 12894.370576842382, Count: 1\n",
      "Value: 12164.4649438389, Count: 1\n",
      "Value: 12150.548209452943, Count: 1\n",
      "Value: 11220.289553147795, Count: 1\n",
      "Value: 11653.399848826022, Count: 1\n",
      "Value: 11256.924161943125, Count: 1\n",
      "Value: 11299.401328660122, Count: 1\n",
      "Value: 11319.347748821332, Count: 1\n",
      "Value: 11383.712458057364, Count: 1\n",
      "Value: 11406.700192384922, Count: 1\n",
      "Value: 11407.960602513827, Count: 1\n",
      "Value: 11420.761960685508, Count: 1\n",
      "Value: 11429.308671137109, Count: 1\n",
      "Value: 11615.858600020729, Count: 1\n",
      "Value: 11629.320576193813, Count: 1\n",
      "Value: 11640.44590174257, Count: 1\n",
      "Value: 11673.122318052452, Count: 1\n",
      "Value: 12113.13315461058, Count: 1\n",
      "Value: 11740.499476202642, Count: 1\n",
      "Value: 11793.377698991144, Count: 1\n",
      "Value: 11808.773999076282, Count: 1\n",
      "Value: 11818.60228962718, Count: 1\n",
      "Value: 11832.55058015092, Count: 1\n",
      "Value: 11970.227287225505, Count: 1\n",
      "Value: 11991.232692303442, Count: 1\n",
      "Value: 11999.532028321431, Count: 1\n",
      "Value: 12013.86587012954, Count: 1\n",
      "Value: 12075.406171129627, Count: 1\n",
      "Value: 12109.63942363312, Count: 1\n",
      "Value: 9894.595851686052, Count: 1\n",
      "Value: 9875.801484471762, Count: 1\n",
      "Value: 9872.389372370171, Count: 1\n",
      "Value: 8705.456418090347, Count: 1\n",
      "Value: 8446.026831273184, Count: 1\n",
      "Value: 8447.973294336469, Count: 1\n",
      "Value: 8486.12704571821, Count: 1\n",
      "Value: 8494.18510449381, Count: 1\n",
      "Value: 8521.843964521095, Count: 1\n",
      "Value: 8536.343906269152, Count: 1\n",
      "Value: 8561.592571552503, Count: 1\n",
      "Value: 8600.396825496713, Count: 1\n",
      "Value: 8619.847063969597, Count: 1\n",
      "Value: 8637.263488068216, Count: 1\n",
      "Value: 8682.37628341819, Count: 1\n",
      "Value: 8715.621488590163, Count: 1\n",
      "Value: 8407.162144461436, Count: 1\n",
      "Value: 8722.143490602693, Count: 1\n",
      "Value: 8723.987271769764, Count: 1\n",
      "Value: 8737.262338733191, Count: 1\n",
      "Value: 8754.41315802424, Count: 1\n",
      "Value: 8767.70621412892, Count: 1\n",
      "Value: 8772.363824469752, Count: 1\n",
      "Value: 8774.233349037911, Count: 1\n",
      "Value: 8817.286253059821, Count: 1\n",
      "Value: 8825.669605991909, Count: 1\n",
      "Value: 8857.722608443815, Count: 1\n",
      "Value: 8873.65944643811, Count: 1\n",
      "Value: 8436.171397508451, Count: 1\n",
      "Value: 8400.682603258763, Count: 1\n",
      "Value: 9818.947570139633, Count: 1\n",
      "Value: 8191.751949926625, Count: 1\n",
      "Value: 7928.1566002303, Count: 1\n",
      "Value: 7975.043243301967, Count: 1\n",
      "Value: 7975.329202141923, Count: 1\n",
      "Value: 8025.878260863969, Count: 1\n",
      "Value: 8030.218056763045, Count: 1\n",
      "Value: 8052.628642637098, Count: 1\n",
      "Value: 8065.615460721067, Count: 1\n",
      "Value: 8111.321756323469, Count: 1\n",
      "Value: 8125.24415537808, Count: 1\n",
      "Value: 8143.498430084192, Count: 1\n",
      "Value: 8157.751223406318, Count: 1\n",
      "Value: 8198.656888155076, Count: 1\n",
      "Value: 8382.54962677216, Count: 1\n",
      "Value: 8214.592860237448, Count: 1\n",
      "Value: 8215.421958410643, Count: 1\n",
      "Value: 8219.868633877028, Count: 1\n",
      "Value: 8233.661199782326, Count: 1\n",
      "Value: 8301.532631723852, Count: 1\n",
      "Value: 8334.799203770226, Count: 1\n",
      "Value: 8337.065819088382, Count: 1\n",
      "Value: 8340.572090970983, Count: 1\n",
      "Value: 8349.819361224125, Count: 1\n",
      "Value: 8362.984505741077, Count: 1\n",
      "Value: 8379.334004651304, Count: 1\n",
      "Value: 8905.3373364559, Count: 1\n",
      "Value: 8912.796413182012, Count: 1\n",
      "Value: 8976.42815948956, Count: 1\n",
      "Value: 9564.091775853532, Count: 1\n",
      "Value: 9405.984581669925, Count: 1\n",
      "Value: 9423.860281188483, Count: 1\n",
      "Value: 9434.961951318113, Count: 1\n",
      "Value: 9465.666563228462, Count: 1\n",
      "Value: 9467.865346196771, Count: 1\n",
      "Value: 9480.138882029329, Count: 1\n",
      "Value: 9503.86075908672, Count: 1\n",
      "Value: 9516.779588437059, Count: 1\n",
      "Value: 9520.710935489273, Count: 1\n",
      "Value: 9529.197799084843, Count: 1\n",
      "Value: 9559.341346291678, Count: 1\n",
      "Value: 9596.140452984575, Count: 1\n",
      "Value: 8982.044567524763, Count: 1\n",
      "Value: 9607.836166020876, Count: 1\n",
      "Value: 9611.651327062977, Count: 1\n",
      "Value: 9612.873138208732, Count: 1\n",
      "Value: 9640.903466586447, Count: 1\n",
      "Value: 9679.22657839925, Count: 1\n",
      "Value: 9707.561128599238, Count: 1\n",
      "Value: 9717.553668266411, Count: 1\n",
      "Value: 9718.065985607824, Count: 1\n",
      "Value: 9748.23101117447, Count: 1\n",
      "Value: 9751.247603715743, Count: 1\n",
      "Value: 9812.010882840848, Count: 1\n",
      "Value: 9398.585421593783, Count: 1\n",
      "Value: 9397.766328207803, Count: 1\n",
      "Value: 9367.224371484534, Count: 1\n",
      "Value: 9355.28003559517, Count: 1\n",
      "Value: 9035.078704601354, Count: 1\n",
      "Value: 9074.699835013616, Count: 1\n",
      "Value: 9098.059784629259, Count: 1\n",
      "Value: 9103.671733977368, Count: 1\n",
      "Value: 9116.64850428861, Count: 1\n",
      "Value: 9167.680107172251, Count: 1\n",
      "Value: 9185.305896724829, Count: 1\n",
      "Value: 9187.713563501738, Count: 1\n",
      "Value: 9204.820663408445, Count: 1\n",
      "Value: 9205.913760104619, Count: 1\n",
      "Value: 9217.404966460672, Count: 1\n",
      "Value: 9238.299111366132, Count: 1\n",
      "Value: 9254.464401596275, Count: 1\n",
      "Value: 9254.702118594105, Count: 1\n",
      "Value: 9256.809850359645, Count: 1\n",
      "Value: 9261.992157412913, Count: 1\n",
      "Value: 9273.391727892842, Count: 1\n",
      "Value: 9273.570036599103, Count: 1\n",
      "Value: 9286.68487585323, Count: 1\n",
      "Value: 9293.013997972581, Count: 1\n",
      "Value: 9323.072893382181, Count: 1\n",
      "Value: 9326.828280451797, Count: 1\n",
      "Value: 9348.498887992479, Count: 1\n",
      "Value: 4567.383708475622, Count: 1\n"
     ]
    }
   ],
   "source": [
    "\n",
    "# 计算每个唯一值的数量\n",
    "unique_values, counts = np.unique(tif_CLcBld_Volume.data, return_counts=True)\n",
    "\n",
    "# 根据计数进行排序，倒序排列\n",
    "sorted_indices = np.argsort(counts)[::-1]\n",
    "\n",
    "# 使用排序后的索引重新排序唯一值和计数\n",
    "sorted_unique_values = unique_values[sorted_indices]\n",
    "sorted_counts = counts[sorted_indices]\n",
    "\n",
    "# 打印倒序的结果\n",
    "for value, count in zip(sorted_unique_values, sorted_counts):\n",
    "    print(f\"Value: {value}, Count: {count}\")"
   ],
   "metadata": {
    "collapsed": false,
    "ExecuteTime": {
     "end_time": "2024-08-15T20:24:32.561765Z",
     "start_time": "2024-08-15T20:24:32.547275Z"
    }
   },
   "id": "c0307a646bd1d6e",
   "execution_count": 5
  },
  {
   "cell_type": "code",
   "outputs": [
    {
     "name": "stdout",
     "output_type": "stream",
     "text": [
      "Value: 65535, Count: 139282\n",
      "Value: 109, Count: 1798\n",
      "Value: 249, Count: 1338\n",
      "Value: 294, Count: 1312\n",
      "Value: 3, Count: 1113\n",
      "Value: 205, Count: 822\n",
      "Value: 342, Count: 698\n",
      "Value: 96, Count: 584\n",
      "Value: 340, Count: 552\n",
      "Value: 154, Count: 534\n",
      "Value: 315, Count: 528\n",
      "Value: 195, Count: 510\n",
      "Value: 232, Count: 497\n",
      "Value: 299, Count: 482\n",
      "Value: 268, Count: 479\n",
      "Value: 233, Count: 473\n",
      "Value: 170, Count: 437\n",
      "Value: 104, Count: 433\n",
      "Value: 110, Count: 421\n",
      "Value: 215, Count: 394\n",
      "Value: 280, Count: 380\n",
      "Value: 75, Count: 376\n",
      "Value: 269, Count: 374\n",
      "Value: 175, Count: 374\n",
      "Value: 210, Count: 370\n",
      "Value: 243, Count: 357\n",
      "Value: 67, Count: 346\n",
      "Value: 40, Count: 345\n",
      "Value: 140, Count: 343\n",
      "Value: 30, Count: 340\n",
      "Value: 333, Count: 339\n",
      "Value: 157, Count: 335\n",
      "Value: 98, Count: 335\n",
      "Value: 139, Count: 331\n",
      "Value: 270, Count: 321\n",
      "Value: 242, Count: 321\n",
      "Value: 145, Count: 319\n",
      "Value: 106, Count: 319\n",
      "Value: 39, Count: 317\n",
      "Value: 63, Count: 315\n",
      "Value: 180, Count: 313\n",
      "Value: 16, Count: 308\n",
      "Value: 244, Count: 305\n",
      "Value: 21, Count: 300\n",
      "Value: 197, Count: 296\n",
      "Value: 56, Count: 295\n",
      "Value: 206, Count: 287\n",
      "Value: 15, Count: 287\n",
      "Value: 24, Count: 270\n",
      "Value: 99, Count: 270\n",
      "Value: 80, Count: 267\n",
      "Value: 255, Count: 267\n",
      "Value: 84, Count: 263\n",
      "Value: 179, Count: 262\n",
      "Value: 62, Count: 262\n",
      "Value: 146, Count: 260\n",
      "Value: 59, Count: 260\n",
      "Value: 220, Count: 257\n",
      "Value: 199, Count: 256\n",
      "Value: 49, Count: 255\n",
      "Value: 122, Count: 253\n",
      "Value: 138, Count: 250\n",
      "Value: 12, Count: 242\n",
      "Value: 191, Count: 241\n",
      "Value: 169, Count: 239\n",
      "Value: 50, Count: 239\n",
      "Value: 229, Count: 237\n",
      "Value: 7, Count: 236\n",
      "Value: 128, Count: 233\n",
      "Value: 273, Count: 231\n",
      "Value: 64, Count: 230\n",
      "Value: 129, Count: 229\n",
      "Value: 187, Count: 227\n",
      "Value: 72, Count: 222\n",
      "Value: 238, Count: 222\n",
      "Value: 298, Count: 218\n",
      "Value: 92, Count: 214\n",
      "Value: 178, Count: 213\n",
      "Value: 261, Count: 213\n",
      "Value: 121, Count: 212\n",
      "Value: 202, Count: 210\n",
      "Value: 53, Count: 210\n",
      "Value: 58, Count: 209\n",
      "Value: 136, Count: 207\n",
      "Value: 216, Count: 205\n",
      "Value: 41, Count: 203\n",
      "Value: 183, Count: 202\n",
      "Value: 19, Count: 202\n",
      "Value: 168, Count: 199\n",
      "Value: 6, Count: 193\n",
      "Value: 213, Count: 191\n",
      "Value: 171, Count: 187\n",
      "Value: 224, Count: 185\n",
      "Value: 310, Count: 182\n",
      "Value: 274, Count: 180\n",
      "Value: 173, Count: 175\n",
      "Value: 185, Count: 175\n",
      "Value: 287, Count: 172\n",
      "Value: 152, Count: 171\n",
      "Value: 241, Count: 169\n",
      "Value: 161, Count: 168\n",
      "Value: 116, Count: 163\n",
      "Value: 31, Count: 162\n",
      "Value: 141, Count: 162\n",
      "Value: 222, Count: 161\n",
      "Value: 93, Count: 160\n",
      "Value: 207, Count: 160\n",
      "Value: 188, Count: 159\n",
      "Value: 18, Count: 159\n",
      "Value: 142, Count: 158\n",
      "Value: 292, Count: 155\n",
      "Value: 79, Count: 155\n",
      "Value: 55, Count: 151\n",
      "Value: 120, Count: 150\n",
      "Value: 107, Count: 150\n",
      "Value: 130, Count: 149\n",
      "Value: 51, Count: 147\n",
      "Value: 103, Count: 147\n",
      "Value: 38, Count: 146\n",
      "Value: 167, Count: 145\n",
      "Value: 219, Count: 143\n",
      "Value: 54, Count: 142\n",
      "Value: 226, Count: 141\n",
      "Value: 42, Count: 140\n",
      "Value: 125, Count: 139\n",
      "Value: 176, Count: 138\n",
      "Value: 231, Count: 137\n",
      "Value: 289, Count: 137\n",
      "Value: 76, Count: 137\n",
      "Value: 194, Count: 136\n",
      "Value: 61, Count: 133\n",
      "Value: 200, Count: 133\n",
      "Value: 259, Count: 132\n",
      "Value: 225, Count: 130\n",
      "Value: 33, Count: 128\n",
      "Value: 97, Count: 127\n",
      "Value: 144, Count: 127\n",
      "Value: 193, Count: 126\n",
      "Value: 43, Count: 126\n",
      "Value: 65, Count: 126\n",
      "Value: 172, Count: 124\n",
      "Value: 245, Count: 124\n",
      "Value: 13, Count: 123\n",
      "Value: 250, Count: 122\n",
      "Value: 132, Count: 122\n",
      "Value: 36, Count: 121\n",
      "Value: 88, Count: 121\n",
      "Value: 35, Count: 120\n",
      "Value: 284, Count: 120\n",
      "Value: 237, Count: 120\n",
      "Value: 235, Count: 119\n",
      "Value: 57, Count: 119\n",
      "Value: 326, Count: 119\n",
      "Value: 86, Count: 119\n",
      "Value: 23, Count: 117\n",
      "Value: 301, Count: 117\n",
      "Value: 204, Count: 111\n",
      "Value: 11, Count: 108\n",
      "Value: 162, Count: 107\n",
      "Value: 263, Count: 107\n",
      "Value: 45, Count: 106\n",
      "Value: 163, Count: 106\n",
      "Value: 208, Count: 106\n",
      "Value: 115, Count: 105\n",
      "Value: 137, Count: 104\n",
      "Value: 131, Count: 104\n",
      "Value: 248, Count: 104\n",
      "Value: 174, Count: 104\n",
      "Value: 20, Count: 104\n",
      "Value: 227, Count: 103\n",
      "Value: 331, Count: 101\n",
      "Value: 114, Count: 101\n",
      "Value: 165, Count: 99\n",
      "Value: 239, Count: 99\n",
      "Value: 266, Count: 99\n",
      "Value: 81, Count: 98\n",
      "Value: 321, Count: 98\n",
      "Value: 25, Count: 97\n",
      "Value: 112, Count: 97\n",
      "Value: 166, Count: 97\n",
      "Value: 322, Count: 97\n",
      "Value: 155, Count: 95\n",
      "Value: 279, Count: 95\n",
      "Value: 1, Count: 95\n",
      "Value: 267, Count: 94\n",
      "Value: 28, Count: 94\n",
      "Value: 283, Count: 94\n",
      "Value: 303, Count: 93\n",
      "Value: 8, Count: 93\n",
      "Value: 184, Count: 92\n",
      "Value: 228, Count: 92\n",
      "Value: 214, Count: 92\n",
      "Value: 281, Count: 91\n",
      "Value: 256, Count: 91\n",
      "Value: 22, Count: 89\n",
      "Value: 181, Count: 89\n",
      "Value: 295, Count: 88\n",
      "Value: 236, Count: 87\n",
      "Value: 311, Count: 87\n",
      "Value: 60, Count: 87\n",
      "Value: 111, Count: 86\n",
      "Value: 156, Count: 86\n",
      "Value: 4, Count: 84\n",
      "Value: 201, Count: 84\n",
      "Value: 296, Count: 84\n",
      "Value: 29, Count: 84\n",
      "Value: 164, Count: 83\n",
      "Value: 253, Count: 83\n",
      "Value: 285, Count: 81\n",
      "Value: 52, Count: 80\n",
      "Value: 149, Count: 80\n",
      "Value: 85, Count: 80\n",
      "Value: 126, Count: 80\n",
      "Value: 293, Count: 79\n",
      "Value: 95, Count: 78\n",
      "Value: 212, Count: 77\n",
      "Value: 198, Count: 77\n",
      "Value: 47, Count: 75\n",
      "Value: 277, Count: 75\n",
      "Value: 74, Count: 74\n",
      "Value: 73, Count: 74\n",
      "Value: 318, Count: 73\n",
      "Value: 304, Count: 73\n",
      "Value: 158, Count: 73\n",
      "Value: 217, Count: 72\n",
      "Value: 9, Count: 72\n",
      "Value: 196, Count: 71\n",
      "Value: 70, Count: 71\n",
      "Value: 94, Count: 71\n",
      "Value: 10, Count: 70\n",
      "Value: 252, Count: 69\n",
      "Value: 329, Count: 69\n",
      "Value: 192, Count: 69\n",
      "Value: 189, Count: 68\n",
      "Value: 77, Count: 67\n",
      "Value: 32, Count: 67\n",
      "Value: 34, Count: 66\n",
      "Value: 48, Count: 64\n",
      "Value: 159, Count: 63\n",
      "Value: 297, Count: 63\n",
      "Value: 258, Count: 63\n",
      "Value: 69, Count: 62\n",
      "Value: 87, Count: 62\n",
      "Value: 150, Count: 62\n",
      "Value: 305, Count: 60\n",
      "Value: 282, Count: 59\n",
      "Value: 37, Count: 58\n",
      "Value: 338, Count: 58\n",
      "Value: 306, Count: 58\n",
      "Value: 275, Count: 57\n",
      "Value: 108, Count: 57\n",
      "Value: 316, Count: 57\n",
      "Value: 5, Count: 55\n",
      "Value: 133, Count: 54\n",
      "Value: 101, Count: 54\n",
      "Value: 26, Count: 54\n",
      "Value: 89, Count: 53\n",
      "Value: 68, Count: 53\n",
      "Value: 337, Count: 53\n",
      "Value: 186, Count: 53\n",
      "Value: 327, Count: 51\n",
      "Value: 153, Count: 50\n",
      "Value: 209, Count: 49\n",
      "Value: 221, Count: 47\n",
      "Value: 14, Count: 47\n",
      "Value: 240, Count: 46\n",
      "Value: 143, Count: 45\n",
      "Value: 309, Count: 45\n",
      "Value: 160, Count: 45\n",
      "Value: 82, Count: 44\n",
      "Value: 302, Count: 44\n",
      "Value: 203, Count: 43\n",
      "Value: 336, Count: 42\n",
      "Value: 264, Count: 42\n",
      "Value: 319, Count: 42\n",
      "Value: 17, Count: 41\n",
      "Value: 230, Count: 40\n",
      "Value: 2, Count: 40\n",
      "Value: 177, Count: 35\n",
      "Value: 135, Count: 35\n",
      "Value: 91, Count: 34\n",
      "Value: 100, Count: 33\n",
      "Value: 278, Count: 33\n",
      "Value: 288, Count: 32\n",
      "Value: 147, Count: 32\n",
      "Value: 71, Count: 29\n",
      "Value: 325, Count: 29\n",
      "Value: 246, Count: 29\n",
      "Value: 223, Count: 29\n",
      "Value: 46, Count: 27\n",
      "Value: 190, Count: 27\n",
      "Value: 83, Count: 26\n",
      "Value: 127, Count: 26\n",
      "Value: 290, Count: 25\n",
      "Value: 27, Count: 25\n",
      "Value: 320, Count: 24\n",
      "Value: 314, Count: 24\n",
      "Value: 286, Count: 23\n",
      "Value: 134, Count: 23\n",
      "Value: 257, Count: 22\n",
      "Value: 234, Count: 22\n",
      "Value: 328, Count: 22\n",
      "Value: 148, Count: 22\n",
      "Value: 211, Count: 22\n",
      "Value: 276, Count: 21\n",
      "Value: 218, Count: 20\n",
      "Value: 247, Count: 18\n",
      "Value: 254, Count: 18\n",
      "Value: 262, Count: 17\n",
      "Value: 251, Count: 17\n",
      "Value: 123, Count: 17\n",
      "Value: 312, Count: 16\n",
      "Value: 90, Count: 15\n",
      "Value: 341, Count: 15\n",
      "Value: 332, Count: 15\n",
      "Value: 343, Count: 14\n",
      "Value: 308, Count: 14\n",
      "Value: 271, Count: 13\n",
      "Value: 66, Count: 12\n",
      "Value: 307, Count: 12\n",
      "Value: 117, Count: 12\n",
      "Value: 44, Count: 11\n",
      "Value: 313, Count: 11\n",
      "Value: 272, Count: 10\n",
      "Value: 119, Count: 10\n",
      "Value: 335, Count: 8\n",
      "Value: 265, Count: 7\n",
      "Value: 323, Count: 7\n",
      "Value: 317, Count: 7\n",
      "Value: 78, Count: 5\n",
      "Value: 124, Count: 5\n",
      "Value: 105, Count: 5\n",
      "Value: 330, Count: 4\n",
      "Value: 324, Count: 4\n",
      "Value: 151, Count: 3\n",
      "Value: 260, Count: 3\n",
      "Value: 334, Count: 2\n",
      "Value: 182, Count: 2\n",
      "Value: 118, Count: 2\n",
      "Value: 113, Count: 2\n",
      "Value: 291, Count: 2\n",
      "Value: 300, Count: 2\n",
      "Value: 102, Count: 2\n",
      "Value: 339, Count: 1\n"
     ]
    }
   ],
   "source": [
    "\n",
    "# 计算每个唯一值的数量\n",
    "unique_values, counts = np.unique(tif_GLcBld_Height.data, return_counts=True)\n",
    "\n",
    "# 根据计数进行排序，倒序排列\n",
    "sorted_indices = np.argsort(counts)[::-1]\n",
    "\n",
    "# 使用排序后的索引重新排序唯一值和计数\n",
    "sorted_unique_values = unique_values[sorted_indices]\n",
    "sorted_counts = counts[sorted_indices]\n",
    "\n",
    "# 打印倒序的结果\n",
    "for value, count in zip(sorted_unique_values, sorted_counts):\n",
    "    print(f\"Value: {value}, Count: {count}\")"
   ],
   "metadata": {
    "collapsed": false,
    "ExecuteTime": {
     "end_time": "2024-08-13T22:23:16.267762Z",
     "start_time": "2024-08-13T22:23:16.256752Z"
    }
   },
   "id": "208a87ecf2cffeb7",
   "execution_count": 4
  },
  {
   "cell_type": "code",
   "outputs": [
    {
     "name": "stdout",
     "output_type": "stream",
     "text": [
      "\n",
      "Basic Statistics:\n",
      "Mean: 47696.188133956304\n",
      "Standard Deviation: 29118.9257780749\n",
      "Min: 1\n",
      "Max: 65535\n"
     ]
    }
   ],
   "source": [
    "# 计算基本统计数据（此部分与前面代码相同）\n",
    "mean_value = np.mean(tif_GLcBld_Height.data)\n",
    "std_dev = np.std(tif_GLcBld_Height.data)\n",
    "min_value = np.min(tif_GLcBld_Height.data)\n",
    "max_value = np.max(tif_GLcBld_Height.data)\n",
    "\n",
    "print(\"\\nBasic Statistics:\")\n",
    "print(f\"Mean: {mean_value}\")\n",
    "print(f\"Standard Deviation: {std_dev}\")\n",
    "print(f\"Min: {min_value}\")\n",
    "print(f\"Max: {max_value}\")"
   ],
   "metadata": {
    "collapsed": false,
    "ExecuteTime": {
     "end_time": "2024-08-13T22:23:16.272807Z",
     "start_time": "2024-08-13T22:23:16.268770Z"
    }
   },
   "id": "ed21c3778d030ccb",
   "execution_count": 5
  },
  {
   "cell_type": "code",
   "outputs": [
    {
     "data": {
      "text/plain": "Affine(5.0, 0.0, 257976.73599999957,\n       0.0, -5.0, 666174.3099000007)"
     },
     "execution_count": 7,
     "metadata": {},
     "output_type": "execute_result"
    }
   ],
   "source": [
    "tif_GLcBld_Height.transform"
   ],
   "metadata": {
    "collapsed": false,
    "ExecuteTime": {
     "end_time": "2024-08-15T20:26:56.432804Z",
     "start_time": "2024-08-15T20:26:56.427785Z"
    }
   },
   "id": "b05e55f56efbc7d7",
   "execution_count": 7
  },
  {
   "cell_type": "code",
   "outputs": [
    {
     "data": {
      "text/plain": "Affine(5.0, 0.0, 257985.0418999996,\n       0.0, -5.0, 666100.7359999996)"
     },
     "execution_count": 8,
     "metadata": {},
     "output_type": "execute_result"
    }
   ],
   "source": [
    "tif_CLcBld_Volume.transform"
   ],
   "metadata": {
    "collapsed": false,
    "ExecuteTime": {
     "end_time": "2024-08-15T20:27:01.980379Z",
     "start_time": "2024-08-15T20:27:01.976908Z"
    }
   },
   "id": "f740614f350b3efc",
   "execution_count": 8
  },
  {
   "cell_type": "code",
   "outputs": [
    {
     "data": {
      "text/plain": "CRS.from_epsg(27700)"
     },
     "execution_count": 7,
     "metadata": {},
     "output_type": "execute_result"
    }
   ],
   "source": [
    "tif_GLcBld_Height.crs"
   ],
   "metadata": {
    "collapsed": false,
    "ExecuteTime": {
     "end_time": "2024-08-13T22:23:16.285829Z",
     "start_time": "2024-08-13T22:23:16.279763Z"
    }
   },
   "id": "13bc476d512cf1bf",
   "execution_count": 7
  },
  {
   "cell_type": "code",
   "outputs": [
    {
     "data": {
      "text/plain": "BoundingBox(left=257976.73599999957, bottom=663899.3099000007, right=260081.73599999957, top=666174.3099000007)"
     },
     "execution_count": 8,
     "metadata": {},
     "output_type": "execute_result"
    }
   ],
   "source": [
    "tif_GLcBld_Height.bounds"
   ],
   "metadata": {
    "collapsed": false,
    "ExecuteTime": {
     "end_time": "2024-08-13T22:23:16.292548Z",
     "start_time": "2024-08-13T22:23:16.285829Z"
    }
   },
   "id": "4de45f42e55c7ed3",
   "execution_count": 8
  },
  {
   "cell_type": "code",
   "outputs": [
    {
     "data": {
      "text/plain": "BoundingBox(left=257985.0418999996, bottom=663940.7359999996, right=260045.0418999996, top=666100.7359999996)"
     },
     "execution_count": 9,
     "metadata": {},
     "output_type": "execute_result"
    }
   ],
   "source": [
    "tif_CLcBld_Volume.bounds"
   ],
   "metadata": {
    "collapsed": false,
    "ExecuteTime": {
     "end_time": "2024-08-15T20:27:18.060510Z",
     "start_time": "2024-08-15T20:27:18.056825Z"
    }
   },
   "id": "34780560e0b6bd71",
   "execution_count": 9
  },
  {
   "cell_type": "code",
   "outputs": [
    {
     "data": {
      "text/plain": "421"
     },
     "execution_count": 9,
     "metadata": {},
     "output_type": "execute_result"
    }
   ],
   "source": [
    "tif_GLcBld_Height.width"
   ],
   "metadata": {
    "collapsed": false,
    "ExecuteTime": {
     "end_time": "2024-08-13T22:23:16.299392Z",
     "start_time": "2024-08-13T22:23:16.292548Z"
    }
   },
   "id": "357826e187fa62d3",
   "execution_count": 9
  },
  {
   "cell_type": "code",
   "outputs": [
    {
     "data": {
      "text/plain": "412"
     },
     "execution_count": 10,
     "metadata": {},
     "output_type": "execute_result"
    }
   ],
   "source": [
    "tif_CLcBld_Volume.width"
   ],
   "metadata": {
    "collapsed": false,
    "ExecuteTime": {
     "end_time": "2024-08-15T20:27:36.032009Z",
     "start_time": "2024-08-15T20:27:36.028339Z"
    }
   },
   "id": "ba729e6c69d297d5",
   "execution_count": 10
  },
  {
   "cell_type": "code",
   "outputs": [
    {
     "data": {
      "text/plain": "455"
     },
     "execution_count": 10,
     "metadata": {},
     "output_type": "execute_result"
    }
   ],
   "source": [
    "tif_GLcBld_Height.height"
   ],
   "metadata": {
    "collapsed": false,
    "ExecuteTime": {
     "end_time": "2024-08-13T22:23:16.307795Z",
     "start_time": "2024-08-13T22:23:16.299392Z"
    }
   },
   "id": "77262a9fa4435741",
   "execution_count": 10
  },
  {
   "cell_type": "code",
   "outputs": [
    {
     "data": {
      "text/plain": "432"
     },
     "execution_count": 11,
     "metadata": {},
     "output_type": "execute_result"
    }
   ],
   "source": [
    "tif_CLcBld_Volume.height"
   ],
   "metadata": {
    "collapsed": false,
    "ExecuteTime": {
     "end_time": "2024-08-15T20:27:40.143490Z",
     "start_time": "2024-08-15T20:27:40.139311Z"
    }
   },
   "id": "237512f69d4229d5",
   "execution_count": 11
  },
  {
   "cell_type": "code",
   "outputs": [
    {
     "data": {
      "text/plain": "1"
     },
     "execution_count": 11,
     "metadata": {},
     "output_type": "execute_result"
    }
   ],
   "source": [
    "tif_GLcBld_Height.count"
   ],
   "metadata": {
    "collapsed": false,
    "ExecuteTime": {
     "end_time": "2024-08-13T22:23:16.314364Z",
     "start_time": "2024-08-13T22:23:16.308799Z"
    }
   },
   "id": "cac99d91b0171459",
   "execution_count": 11
  },
  {
   "cell_type": "code",
   "outputs": [
    {
     "data": {
      "text/plain": "1"
     },
     "execution_count": 12,
     "metadata": {},
     "output_type": "execute_result"
    }
   ],
   "source": [
    "tif_CLcBld_Volume.count"
   ],
   "metadata": {
    "collapsed": false,
    "ExecuteTime": {
     "end_time": "2024-08-15T20:27:49.986095Z",
     "start_time": "2024-08-15T20:27:49.981368Z"
    }
   },
   "id": "b20f11714a507346",
   "execution_count": 12
  },
  {
   "cell_type": "code",
   "outputs": [
    {
     "data": {
      "text/plain": "array([[28.882736  , 28.408676  , 27.841417  , ..., 15.216122  ,\n        14.058662  ,  0.08586502],\n       [31.331669  , 30.637243  , 31.719954  , ..., 13.888069  ,\n        12.631687  ,  0.07413864],\n       [31.908613  , 31.804506  , 32.027122  , ..., 10.486404  ,\n         9.954441  ,  0.0562439 ],\n       ...,\n       [ 6.266613  ,  6.3237047 ,  1.4739332 , ..., 17.83626   ,\n        18.70651   , 17.208393  ],\n       [ 4.7787457 ,  1.4792271 ,  0.1911993 , ..., 12.996392  ,\n        14.958178  , 18.35652   ],\n       [ 0.25867653,  0.15101147,  0.16328621, ...,  0.0835458 ,\n         0.13466549, 12.975633  ]], dtype=float32)"
     },
     "execution_count": 12,
     "metadata": {},
     "output_type": "execute_result"
    }
   ],
   "source": [
    "tif_glcent_CHM.data"
   ],
   "metadata": {
    "collapsed": false,
    "ExecuteTime": {
     "end_time": "2024-08-13T22:23:16.321864Z",
     "start_time": "2024-08-13T22:23:16.314364Z"
    }
   },
   "id": "b3c97b4a45e6ee77",
   "execution_count": 12
  },
  {
   "cell_type": "code",
   "outputs": [],
   "source": [
    "tif_list = [tif_GLcBld_Height, tif_glcent_CHM, tif_glcent_DSM, tif_KernelD_GLcB_new, tif_LAI]\n",
    "\n",
    "# 创建一个空的列表，用于存储每个tif文件的属性\n",
    "data = []\n",
    "\n",
    "# 遍历每个TifFile对象，提取属性并存储到data列表中\n",
    "data = [\n",
    "    {\n",
    "        \"Name\": tif.file_path.split('/')[-1],  # 提取文件名\n",
    "        \"Data\": tif.data,\n",
    "        \"Data.shape\": tif.shape,\n",
    "        \"Transform\": tif.transform,\n",
    "        \"CRS\": tif.crs,\n",
    "        \"Bounds\": tif.bounds,\n",
    "        \"Width\": tif.width,\n",
    "        \"Height\": tif.height,\n",
    "        \"Band Count\": tif.count\n",
    "    }\n",
    "    for tif in tif_list\n",
    "]\n",
    "\n",
    "# 将列表转换为DataFrame\n",
    "df = pd.DataFrame(data)\n"
   ],
   "metadata": {
    "collapsed": false,
    "ExecuteTime": {
     "end_time": "2024-08-13T22:23:16.328928Z",
     "start_time": "2024-08-13T22:23:16.321864Z"
    }
   },
   "id": "8f24c7abf9c484a7",
   "execution_count": 13
  },
  {
   "cell_type": "code",
   "outputs": [
    {
     "data": {
      "text/plain": "                   Name                                               Data  \\\n0     GLcBld_Height.tif  [[65535, 65535, 65535, 65535, 65535, 65535, 65...   \n1        glcent_CHM.tif  [[28.882736, 28.408676, 27.841417, 2.758522, 0...   \n2        glcent_DSM.tif  [[55.24, 54.737, 54.116, 28.998, 26.305, 36.85...   \n3  KernelD_GLcB_new.tif  [[244.3018, 275.4633, 306.76352, 337.6687, 367...   \n4               LAI.tif  [[11.7030945, 11.513471, 11.286567, 1.2534088,...   \n\n   Data.shape                                          Transform     CRS  \\\n0  (455, 421)  (5.0, 0.0, 257976.73599999957, 0.0, -5.0, 6661...  (init)   \n1  (400, 400)  (5.0, 0.0, 258000.0, 0.0, -5.0, 666000.0, 0.0,...  (init)   \n2  (400, 400)  (5.0, 0.0, 258000.0, 0.0, -5.0, 666000.0, 0.0,...  (init)   \n3  (245, 244)  (8.21323320000243, 0.0, 257999.8617497996, 0.0...  (init)   \n4  (400, 400)  (5.0, 0.0, 258000.0, 0.0, -5.0, 666000.0, 0.0,...  (init)   \n\n                                              Bounds  Width  Height  \\\n0  (257976.73599999957, 663899.3099000007, 260081...    421     455   \n1           (258000.0, 664000.0, 260000.0, 666000.0)    400     400   \n2           (258000.0, 664000.0, 260000.0, 666000.0)    400     400   \n3  (257999.8617497996, 663991.944182601, 260003.8...    244     245   \n4           (258000.0, 664000.0, 260000.0, 666000.0)    400     400   \n\n   Band Count  \n0           1  \n1           1  \n2           1  \n3           1  \n4           1  ",
      "text/html": "<div>\n<style scoped>\n    .dataframe tbody tr th:only-of-type {\n        vertical-align: middle;\n    }\n\n    .dataframe tbody tr th {\n        vertical-align: top;\n    }\n\n    .dataframe thead th {\n        text-align: right;\n    }\n</style>\n<table border=\"1\" class=\"dataframe\">\n  <thead>\n    <tr style=\"text-align: right;\">\n      <th></th>\n      <th>Name</th>\n      <th>Data</th>\n      <th>Data.shape</th>\n      <th>Transform</th>\n      <th>CRS</th>\n      <th>Bounds</th>\n      <th>Width</th>\n      <th>Height</th>\n      <th>Band Count</th>\n    </tr>\n  </thead>\n  <tbody>\n    <tr>\n      <th>0</th>\n      <td>GLcBld_Height.tif</td>\n      <td>[[65535, 65535, 65535, 65535, 65535, 65535, 65...</td>\n      <td>(455, 421)</td>\n      <td>(5.0, 0.0, 257976.73599999957, 0.0, -5.0, 6661...</td>\n      <td>(init)</td>\n      <td>(257976.73599999957, 663899.3099000007, 260081...</td>\n      <td>421</td>\n      <td>455</td>\n      <td>1</td>\n    </tr>\n    <tr>\n      <th>1</th>\n      <td>glcent_CHM.tif</td>\n      <td>[[28.882736, 28.408676, 27.841417, 2.758522, 0...</td>\n      <td>(400, 400)</td>\n      <td>(5.0, 0.0, 258000.0, 0.0, -5.0, 666000.0, 0.0,...</td>\n      <td>(init)</td>\n      <td>(258000.0, 664000.0, 260000.0, 666000.0)</td>\n      <td>400</td>\n      <td>400</td>\n      <td>1</td>\n    </tr>\n    <tr>\n      <th>2</th>\n      <td>glcent_DSM.tif</td>\n      <td>[[55.24, 54.737, 54.116, 28.998, 26.305, 36.85...</td>\n      <td>(400, 400)</td>\n      <td>(5.0, 0.0, 258000.0, 0.0, -5.0, 666000.0, 0.0,...</td>\n      <td>(init)</td>\n      <td>(258000.0, 664000.0, 260000.0, 666000.0)</td>\n      <td>400</td>\n      <td>400</td>\n      <td>1</td>\n    </tr>\n    <tr>\n      <th>3</th>\n      <td>KernelD_GLcB_new.tif</td>\n      <td>[[244.3018, 275.4633, 306.76352, 337.6687, 367...</td>\n      <td>(245, 244)</td>\n      <td>(8.21323320000243, 0.0, 257999.8617497996, 0.0...</td>\n      <td>(init)</td>\n      <td>(257999.8617497996, 663991.944182601, 260003.8...</td>\n      <td>244</td>\n      <td>245</td>\n      <td>1</td>\n    </tr>\n    <tr>\n      <th>4</th>\n      <td>LAI.tif</td>\n      <td>[[11.7030945, 11.513471, 11.286567, 1.2534088,...</td>\n      <td>(400, 400)</td>\n      <td>(5.0, 0.0, 258000.0, 0.0, -5.0, 666000.0, 0.0,...</td>\n      <td>(init)</td>\n      <td>(258000.0, 664000.0, 260000.0, 666000.0)</td>\n      <td>400</td>\n      <td>400</td>\n      <td>1</td>\n    </tr>\n  </tbody>\n</table>\n</div>"
     },
     "execution_count": 14,
     "metadata": {},
     "output_type": "execute_result"
    }
   ],
   "source": [
    "df"
   ],
   "metadata": {
    "collapsed": false,
    "ExecuteTime": {
     "end_time": "2024-08-13T22:23:16.515100Z",
     "start_time": "2024-08-13T22:23:16.329937Z"
    }
   },
   "id": "bd2f1b00f1a9b856",
   "execution_count": 14
  },
  {
   "cell_type": "code",
   "outputs": [],
   "source": [
    "A = tif_glcent_CHM\n",
    "B = tif_GLcBld_Height\n",
    "C = tif_CLcBld_Volume\n",
    "transform_A = A.transform\n",
    "transform_B = B.transform\n",
    "transform_C = C.transform\n",
    "width_A = A.width\n",
    "height_A = A.height\n",
    "width_B = B.width\n",
    "height_B = B.height\n",
    "width_C = C.width\n",
    "height_C = C.height"
   ],
   "metadata": {
    "collapsed": false,
    "ExecuteTime": {
     "end_time": "2024-08-15T21:47:18.605429Z",
     "start_time": "2024-08-15T21:47:18.601525Z"
    }
   },
   "id": "abe369e4ebcda48b",
   "execution_count": 23
  },
  {
   "cell_type": "code",
   "outputs": [
    {
     "data": {
      "text/plain": "Affine(5.0, 0.0, 258000.0,\n       0.0, -5.0, 666000.0)"
     },
     "execution_count": 24,
     "metadata": {},
     "output_type": "execute_result"
    }
   ],
   "source": [
    "transform_A"
   ],
   "metadata": {
    "collapsed": false,
    "ExecuteTime": {
     "end_time": "2024-08-15T21:47:19.486464Z",
     "start_time": "2024-08-15T21:47:19.481868Z"
    }
   },
   "id": "4a7d1a05c138d503",
   "execution_count": 24
  },
  {
   "cell_type": "code",
   "outputs": [
    {
     "data": {
      "text/plain": "Affine(5.0, 0.0, 257976.73599999957,\n       0.0, -5.0, 666174.3099000007)"
     },
     "execution_count": 25,
     "metadata": {},
     "output_type": "execute_result"
    }
   ],
   "source": [
    "transform_B"
   ],
   "metadata": {
    "collapsed": false,
    "ExecuteTime": {
     "end_time": "2024-08-15T21:47:20.439398Z",
     "start_time": "2024-08-15T21:47:20.434864Z"
    }
   },
   "id": "9dfbbb4093711d5a",
   "execution_count": 25
  },
  {
   "cell_type": "code",
   "outputs": [
    {
     "data": {
      "text/plain": "Affine(5.0, 0.0, 257985.0418999996,\n       0.0, -5.0, 666100.7359999996)"
     },
     "execution_count": 26,
     "metadata": {},
     "output_type": "execute_result"
    }
   ],
   "source": [
    "transform_C"
   ],
   "metadata": {
    "collapsed": false,
    "ExecuteTime": {
     "end_time": "2024-08-15T21:47:26.112586Z",
     "start_time": "2024-08-15T21:47:26.109136Z"
    }
   },
   "id": "dab6d3d52cf73a2d",
   "execution_count": 26
  },
  {
   "cell_type": "code",
   "outputs": [
    {
     "data": {
      "text/plain": "400"
     },
     "execution_count": 22,
     "metadata": {},
     "output_type": "execute_result"
    }
   ],
   "source": [
    "width_A"
   ],
   "metadata": {
    "collapsed": false,
    "ExecuteTime": {
     "end_time": "2024-08-15T20:29:12.112442Z",
     "start_time": "2024-08-15T20:29:12.109180Z"
    }
   },
   "id": "962cceb9d3ef47b2",
   "execution_count": 22
  },
  {
   "cell_type": "markdown",
   "source": [
    "边界计算：\n",
    "已知信息\n",
    "A 的仿射变换: Affine(5.0, 0.0, 258000.0, 0.0, -5.0, 666000.0)\n",
    "B 的仿射变换: Affine(5.0, 0.0, 257976.73599999997, 0.0, -5.0, 666174.3099999997)\n",
    "\n",
    "A 的大小: width_A = 400，height_A = 400\n",
    "B 的大小: width_B = 421，height_B = 455\n",
    "\n",
    "计算边界（Bounding Box）\n",
    "我们需要计算两个图像的空间范围（Bounding Box），即确定它们的左上角和右下角的地理坐标。\n",
    "\n",
    "1. A 的边界\n",
    "左上角（xmin_A, ymax_A）:\n",
    "xmin_A = 258000.0\n",
    "ymax_A = 666000.0\n",
    "右下角（xmax_A, ymin_A）:\n",
    "xmax_A = 258000.0 + 400 * 5.0 = 260000.0\n",
    "ymin_A = 666000.0 + 400 * -5.0 = 664000.0\n",
    "因此，A 的边界是：\n",
    "\n",
    "(xmin_A, ymin_A, xmax_A, ymax_A) = (258000.0, 664000.0, 260000.0, 666000.0)\n",
    "2. B 的边界\n",
    "左上角（xmin_B, ymax_B）:\n",
    "xmin_B = 257976.736\n",
    "ymax_B = 666174.31\n",
    "右下角（xmax_B, ymin_B）:\n",
    "xmax_B = 257976.736 + 421 * 5.0 = 260081.736\n",
    "ymin_B = 666174.31 + 455 * -5.0 = 663899.81\n",
    "因此，B 的边界是：\n",
    "\n",
    "(xmin_B, ymin_B, xmax_B, ymax_B) = (257976.736, 663899.81, 260081.736, 666174.31)\n",
    "\n",
    "B完全覆盖A"
   ],
   "metadata": {
    "collapsed": false
   },
   "id": "4a379fd81a72d32c"
  },
  {
   "cell_type": "markdown",
   "source": [
    "C也完全覆盖A"
   ],
   "metadata": {
    "collapsed": false
   },
   "id": "90331fcd909ad0a8"
  },
  {
   "cell_type": "code",
   "outputs": [
    {
     "name": "stdout",
     "output_type": "stream",
     "text": [
      "裁剪范围在原始 C 图像中的列偏移: 2.9916200000734534, 行偏移: 20.147199999919394\n",
      "裁剪范围的宽度: 400.0 像素，高度: 400.0 像素\n",
      "裁剪范围结束的列号: 402.99162000007345, 行号: 420.1471999999194\n"
     ]
    }
   ],
   "source": [
    "import rasterio\n",
    "from rasterio.windows import from_bounds\n",
    "\n",
    "# 读取 C 的文件\n",
    "with rasterio.open('datasets/GLcBuildings2_Volume.tif') as src_C:\n",
    "    # A 的边界\n",
    "    xmin_A, ymin_A, xmax_A, ymax_A = 258000.0, 664000.0, 260000.0, 666000.0\n",
    "\n",
    "    # 计算 C 中与 A 重叠的窗口\n",
    "    window = from_bounds(xmin_A, ymin_A, xmax_A, ymax_A, transform=src_C.transform)\n",
    "\n",
    "    # 获取窗口的行列偏移和大小\n",
    "    col_off, row_off = window.col_off, window.row_off\n",
    "    width, height = window.width, window.height\n",
    "\n",
    "    # 打印裁剪范围相对于原始 C 图像的行列范围\n",
    "    print(f\"裁剪范围在原始 C 图像中的列偏移: {col_off}, 行偏移: {row_off}\")\n",
    "    print(f\"裁剪范围的宽度: {width} 像素，高度: {height} 像素\")\n",
    "    print(f\"裁剪范围结束的列号: {col_off + width}, 行号: {row_off + height}\")\n",
    "\n",
    "    # 读取窗口内的 C 的数据\n",
    "    C_overlap_data = src_C.read(window=window)\n",
    "\n",
    "    # 生成裁剪后的 C 数据\n",
    "    profile = src_C.profile\n",
    "    profile.update({\n",
    "        \"height\": window.height,\n",
    "        \"width\": window.width,\n",
    "        \"transform\": rasterio.windows.transform(window, src_C.transform)\n",
    "    })\n"
   ],
   "metadata": {
    "collapsed": false,
    "ExecuteTime": {
     "end_time": "2024-08-16T01:59:28.928251Z",
     "start_time": "2024-08-16T01:59:28.906879Z"
    }
   },
   "id": "5418c42292702c4a",
   "execution_count": 30
  },
  {
   "cell_type": "code",
   "outputs": [
    {
     "data": {
      "text/plain": "array([[[  181, 65535, 65535, ..., 65535, 65535, 65535],\n        [  181,   181,   181, ..., 65535, 65535, 65535],\n        [  181,   181,   181, ..., 65535, 65535, 65535],\n        ...,\n        [65535, 65535, 65535, ..., 65535, 65535, 65535],\n        [65535, 65535, 65535, ..., 65535, 65535, 65535],\n        [65535, 65535, 65535, ..., 65535, 65535, 65535]]], dtype=uint16)"
     },
     "execution_count": 20,
     "metadata": {},
     "output_type": "execute_result"
    }
   ],
   "source": [
    "C_overlap_data"
   ],
   "metadata": {
    "collapsed": false,
    "ExecuteTime": {
     "end_time": "2024-08-13T22:23:16.618019Z",
     "start_time": "2024-08-13T22:23:16.613184Z"
    }
   },
   "id": "1e3e2d260d1de1f9",
   "execution_count": 20
  },
  {
   "cell_type": "code",
   "outputs": [],
   "source": [
    "CHM_tif = copy.deepcopy(tif_glcent_CHM)\n",
    "DSM_tif = copy.deepcopy(tif_glcent_DSM)\n",
    "LAI_tif = copy.deepcopy(tif_LAI)\n",
    "BH_tif = copy.deepcopy(tif_glcent_CHM)\n",
    "BV_tif = copy.deepcopy(tif_CLcBld_Volume)"
   ],
   "metadata": {
    "collapsed": false,
    "ExecuteTime": {
     "end_time": "2024-08-16T02:00:21.285239Z",
     "start_time": "2024-08-16T02:00:21.280361Z"
    }
   },
   "id": "16a155835ca15ab4",
   "execution_count": 32
  },
  {
   "cell_type": "code",
   "outputs": [
    {
     "data": {
      "text/plain": "<__main__.TifFile at 0x219ec78bc10>"
     },
     "execution_count": 33,
     "metadata": {},
     "output_type": "execute_result"
    }
   ],
   "source": [
    "BH_tif"
   ],
   "metadata": {
    "collapsed": false,
    "ExecuteTime": {
     "end_time": "2024-08-16T02:00:22.731200Z",
     "start_time": "2024-08-16T02:00:22.727185Z"
    }
   },
   "id": "7181113170b0b485",
   "execution_count": 33
  },
  {
   "cell_type": "code",
   "outputs": [
    {
     "data": {
      "text/plain": "array([[28.882736  , 28.408676  , 27.841417  , ..., 15.216122  ,\n        14.058662  ,  0.08586502],\n       [31.331669  , 30.637243  , 31.719954  , ..., 13.888069  ,\n        12.631687  ,  0.07413864],\n       [31.908613  , 31.804506  , 32.027122  , ..., 10.486404  ,\n         9.954441  ,  0.0562439 ],\n       ...,\n       [ 6.266613  ,  6.3237047 ,  1.4739332 , ..., 17.83626   ,\n        18.70651   , 17.208393  ],\n       [ 4.7787457 ,  1.4792271 ,  0.1911993 , ..., 12.996392  ,\n        14.958178  , 18.35652   ],\n       [ 0.25867653,  0.15101147,  0.16328621, ...,  0.0835458 ,\n         0.13466549, 12.975633  ]], dtype=float32)"
     },
     "execution_count": 24,
     "metadata": {},
     "output_type": "execute_result"
    }
   ],
   "source": [
    "BH_tif.data"
   ],
   "metadata": {
    "collapsed": false,
    "ExecuteTime": {
     "end_time": "2024-08-13T22:23:16.947587Z",
     "start_time": "2024-08-13T22:23:16.943951Z"
    }
   },
   "id": "3c89343d7e17f4b0",
   "execution_count": 24
  },
  {
   "cell_type": "code",
   "outputs": [
    {
     "data": {
      "text/plain": "(1, 400, 400)"
     },
     "execution_count": 25,
     "metadata": {},
     "output_type": "execute_result"
    }
   ],
   "source": [
    "B_overlap_data.shape"
   ],
   "metadata": {
    "collapsed": false,
    "ExecuteTime": {
     "end_time": "2024-08-13T22:23:17.003272Z",
     "start_time": "2024-08-13T22:23:16.999744Z"
    }
   },
   "id": "db49f42b7a4a9914",
   "execution_count": 25
  },
  {
   "cell_type": "code",
   "outputs": [],
   "source": [
    "\n",
    "BH_tif.data = C\n",
    "BH_tif.shape = C.shape"
   ],
   "metadata": {
    "collapsed": false,
    "ExecuteTime": {
     "end_time": "2024-08-13T22:23:17.016197Z",
     "start_time": "2024-08-13T22:23:17.012993Z"
    }
   },
   "id": "7ebff9e235d99ff1",
   "execution_count": 26
  },
  {
   "cell_type": "code",
   "outputs": [
    {
     "data": {
      "text/plain": "array([[  181, 65535, 65535, ..., 65535, 65535, 65535],\n       [  181,   181,   181, ..., 65535, 65535, 65535],\n       [  181,   181,   181, ..., 65535, 65535, 65535],\n       ...,\n       [65535, 65535, 65535, ..., 65535, 65535, 65535],\n       [65535, 65535, 65535, ..., 65535, 65535, 65535],\n       [65535, 65535, 65535, ..., 65535, 65535, 65535]], dtype=uint16)"
     },
     "execution_count": 27,
     "metadata": {},
     "output_type": "execute_result"
    }
   ],
   "source": [
    "BH_tif.data"
   ],
   "metadata": {
    "collapsed": false,
    "ExecuteTime": {
     "end_time": "2024-08-13T22:23:17.048589Z",
     "start_time": "2024-08-13T22:23:17.044313Z"
    }
   },
   "id": "c3a5f7b60bbf6545",
   "execution_count": 27
  },
  {
   "cell_type": "code",
   "outputs": [],
   "source": [
    "list_tif = [\n",
    "    BH_tif,  # 建筑物高度\n",
    "    CHM_tif,  # 树冠高度\n",
    "    LAI_tif,  # 叶面积指数\n",
    "    DSM_tif  # 地形数据   \n",
    "]\n",
    "\n",
    "data1 = []\n",
    "\n",
    "# 遍历每个TifFile对象，提取属性并存储到data列表中\n",
    "data1 = [\n",
    "    {\n",
    "        \"Name\": tif.file_path.split('/')[-1],  # 提取文件名\n",
    "        \"Data\": tif.data,\n",
    "        \"Data.shape\": tif.shape,\n",
    "        \"Transform\": tif.transform,\n",
    "        \"CRS\": tif.crs,\n",
    "        \"Bounds\": tif.bounds,\n",
    "        \"Width\": tif.width,\n",
    "        \"Height\": tif.height,\n",
    "        \"Band Count\": tif.count\n",
    "    }\n",
    "    for tif in list_tif\n",
    "]"
   ],
   "metadata": {
    "collapsed": false,
    "ExecuteTime": {
     "end_time": "2024-08-13T22:23:17.080424Z",
     "start_time": "2024-08-13T22:23:17.076911Z"
    }
   },
   "id": "bea5c79ba5d4b50d",
   "execution_count": 28
  },
  {
   "cell_type": "code",
   "outputs": [],
   "source": [
    "\n",
    "df = pd.DataFrame(data1)"
   ],
   "metadata": {
    "collapsed": false,
    "ExecuteTime": {
     "end_time": "2024-08-13T22:23:17.121880Z",
     "start_time": "2024-08-13T22:23:17.119273Z"
    }
   },
   "id": "639322df5102ce6b",
   "execution_count": 29
  },
  {
   "cell_type": "code",
   "outputs": [
    {
     "data": {
      "text/plain": "             Name                                               Data  \\\n0  glcent_CHM.tif  [[181, 65535, 65535, 65535, 65535, 65535, 6553...   \n1  glcent_CHM.tif  [[28.882736, 28.408676, 27.841417, 2.758522, 0...   \n2         LAI.tif  [[11.7030945, 11.513471, 11.286567, 1.2534088,...   \n3  glcent_DSM.tif  [[55.24, 54.737, 54.116, 28.998, 26.305, 36.85...   \n\n   Data.shape                                          Transform     CRS  \\\n0  (400, 400)  (5.0, 0.0, 258000.0, 0.0, -5.0, 666000.0, 0.0,...  (init)   \n1  (400, 400)  (5.0, 0.0, 258000.0, 0.0, -5.0, 666000.0, 0.0,...  (init)   \n2  (400, 400)  (5.0, 0.0, 258000.0, 0.0, -5.0, 666000.0, 0.0,...  (init)   \n3  (400, 400)  (5.0, 0.0, 258000.0, 0.0, -5.0, 666000.0, 0.0,...  (init)   \n\n                                     Bounds  Width  Height  Band Count  \n0  (258000.0, 664000.0, 260000.0, 666000.0)    400     400           1  \n1  (258000.0, 664000.0, 260000.0, 666000.0)    400     400           1  \n2  (258000.0, 664000.0, 260000.0, 666000.0)    400     400           1  \n3  (258000.0, 664000.0, 260000.0, 666000.0)    400     400           1  ",
      "text/html": "<div>\n<style scoped>\n    .dataframe tbody tr th:only-of-type {\n        vertical-align: middle;\n    }\n\n    .dataframe tbody tr th {\n        vertical-align: top;\n    }\n\n    .dataframe thead th {\n        text-align: right;\n    }\n</style>\n<table border=\"1\" class=\"dataframe\">\n  <thead>\n    <tr style=\"text-align: right;\">\n      <th></th>\n      <th>Name</th>\n      <th>Data</th>\n      <th>Data.shape</th>\n      <th>Transform</th>\n      <th>CRS</th>\n      <th>Bounds</th>\n      <th>Width</th>\n      <th>Height</th>\n      <th>Band Count</th>\n    </tr>\n  </thead>\n  <tbody>\n    <tr>\n      <th>0</th>\n      <td>glcent_CHM.tif</td>\n      <td>[[181, 65535, 65535, 65535, 65535, 65535, 6553...</td>\n      <td>(400, 400)</td>\n      <td>(5.0, 0.0, 258000.0, 0.0, -5.0, 666000.0, 0.0,...</td>\n      <td>(init)</td>\n      <td>(258000.0, 664000.0, 260000.0, 666000.0)</td>\n      <td>400</td>\n      <td>400</td>\n      <td>1</td>\n    </tr>\n    <tr>\n      <th>1</th>\n      <td>glcent_CHM.tif</td>\n      <td>[[28.882736, 28.408676, 27.841417, 2.758522, 0...</td>\n      <td>(400, 400)</td>\n      <td>(5.0, 0.0, 258000.0, 0.0, -5.0, 666000.0, 0.0,...</td>\n      <td>(init)</td>\n      <td>(258000.0, 664000.0, 260000.0, 666000.0)</td>\n      <td>400</td>\n      <td>400</td>\n      <td>1</td>\n    </tr>\n    <tr>\n      <th>2</th>\n      <td>LAI.tif</td>\n      <td>[[11.7030945, 11.513471, 11.286567, 1.2534088,...</td>\n      <td>(400, 400)</td>\n      <td>(5.0, 0.0, 258000.0, 0.0, -5.0, 666000.0, 0.0,...</td>\n      <td>(init)</td>\n      <td>(258000.0, 664000.0, 260000.0, 666000.0)</td>\n      <td>400</td>\n      <td>400</td>\n      <td>1</td>\n    </tr>\n    <tr>\n      <th>3</th>\n      <td>glcent_DSM.tif</td>\n      <td>[[55.24, 54.737, 54.116, 28.998, 26.305, 36.85...</td>\n      <td>(400, 400)</td>\n      <td>(5.0, 0.0, 258000.0, 0.0, -5.0, 666000.0, 0.0,...</td>\n      <td>(init)</td>\n      <td>(258000.0, 664000.0, 260000.0, 666000.0)</td>\n      <td>400</td>\n      <td>400</td>\n      <td>1</td>\n    </tr>\n  </tbody>\n</table>\n</div>"
     },
     "execution_count": 30,
     "metadata": {},
     "output_type": "execute_result"
    }
   ],
   "source": [
    "df"
   ],
   "metadata": {
    "collapsed": false,
    "ExecuteTime": {
     "end_time": "2024-08-13T22:23:17.287605Z",
     "start_time": "2024-08-13T22:23:17.141235Z"
    }
   },
   "id": "e4f23a5023266bbf",
   "execution_count": 30
  },
  {
   "cell_type": "code",
   "outputs": [],
   "source": [
    "list_tifs = [BH_tif.data, CHM_tif.data, LAI_tif.data, DSM_tif.data]"
   ],
   "metadata": {
    "collapsed": false,
    "ExecuteTime": {
     "end_time": "2024-08-13T22:23:17.291382Z",
     "start_time": "2024-08-13T22:23:17.288614Z"
    }
   },
   "id": "e104d14a89f8eea6",
   "execution_count": 31
  },
  {
   "cell_type": "code",
   "outputs": [
    {
     "data": {
      "text/plain": "[array([[  181, 65535, 65535, ..., 65535, 65535, 65535],\n        [  181,   181,   181, ..., 65535, 65535, 65535],\n        [  181,   181,   181, ..., 65535, 65535, 65535],\n        ...,\n        [65535, 65535, 65535, ..., 65535, 65535, 65535],\n        [65535, 65535, 65535, ..., 65535, 65535, 65535],\n        [65535, 65535, 65535, ..., 65535, 65535, 65535]], dtype=uint16),\n array([[28.882736  , 28.408676  , 27.841417  , ..., 15.216122  ,\n         14.058662  ,  0.08586502],\n        [31.331669  , 30.637243  , 31.719954  , ..., 13.888069  ,\n         12.631687  ,  0.07413864],\n        [31.908613  , 31.804506  , 32.027122  , ..., 10.486404  ,\n          9.954441  ,  0.0562439 ],\n        ...,\n        [ 6.266613  ,  6.3237047 ,  1.4739332 , ..., 17.83626   ,\n         18.70651   , 17.208393  ],\n        [ 4.7787457 ,  1.4792271 ,  0.1911993 , ..., 12.996392  ,\n         14.958178  , 18.35652   ],\n        [ 0.25867653,  0.15101147,  0.16328621, ...,  0.0835458 ,\n          0.13466549, 12.975633  ]], dtype=float32),\n array([[11.7030945 , 11.513471  , 11.286567  , ...,  6.236449  ,\n          5.773465  ,  0.18434602],\n        [12.682668  , 12.404897  , 12.837981  , ...,  5.705228  ,\n          5.202675  ,  0.17965546],\n        [12.913445  , 12.871802  , 12.960849  , ...,  4.344562  ,\n          4.1317763 ,  0.17249757],\n        ...,\n        [ 2.6566453 ,  2.679482  ,  0.73957336, ...,  7.284504  ,\n          7.6326046 ,  7.0333576 ],\n        [ 2.0614984 ,  0.7416909 ,  0.22647974, ...,  5.348557  ,\n          6.133271  ,  7.492608  ],\n        [ 0.25347063,  0.21040459,  0.2153145 , ...,  0.18341833,\n          0.2038662 ,  5.3402534 ]], dtype=float32),\n array([[55.24 , 54.737, 54.116, ..., 58.844, 57.252, 43.179],\n        [57.543, 56.951, 58.069, ..., 57.408, 55.8  , 43.125],\n        [57.914, 57.915, 58.18 , ..., 53.714, 53.067, 43.102],\n        ...,\n        [19.027, 19.032, 15.773, ..., 19.636, 20.578, 20.239],\n        [19.003, 15.733, 14.537, ..., 14.83 , 16.715, 20.174],\n        [14.48 , 14.572, 14.617, ...,  1.903,  1.944, 14.771]],\n       dtype=float32)]"
     },
     "execution_count": 32,
     "metadata": {},
     "output_type": "execute_result"
    }
   ],
   "source": [
    "list_tifs"
   ],
   "metadata": {
    "collapsed": false,
    "ExecuteTime": {
     "end_time": "2024-08-13T22:23:17.301425Z",
     "start_time": "2024-08-13T22:23:17.292390Z"
    }
   },
   "id": "a1fe650839f0826f",
   "execution_count": 32
  },
  {
   "cell_type": "markdown",
   "source": [
    "## 天气数据"
   ],
   "metadata": {
    "collapsed": false
   },
   "id": "8e11383b0b6f6578"
  },
  {
   "cell_type": "code",
   "outputs": [
    {
     "data": {
      "text/plain": "             day  tempMin  tempMax                                  summary  \\\n0     2015-01-01     7.53    12.23       Possible light rain until evening.   \n1     2015-01-02     3.58     7.15  Possible light rain throughout the day.   \n2     2015-01-03    -0.61     6.54                Clear throughout the day.   \n3     2015-01-04    -0.63     7.59        Mostly cloudy throughout the day.   \n4     2015-01-05     6.51    10.43             Overcast throughout the day.   \n...          ...      ...      ...                                      ...   \n1790  2019-11-26     8.55    10.57        Mostly cloudy throughout the day.   \n1791  2019-11-27     5.79     9.40        Mostly cloudy throughout the day.   \n1792  2019-11-28     2.30     6.67        Mostly cloudy throughout the day.   \n1793  2019-11-29     1.08     6.14        Mostly cloudy throughout the day.   \n1794  2019-11-30     0.42     5.69        Mostly cloudy throughout the day.   \n\n                   desc  cloudCover  humidity  windSpeed  visibility  \n0                  rain        0.80      0.89      14.69        4.43  \n1                  rain        0.62      0.79      15.04        5.64  \n2                  rain        0.31      0.84       4.48        6.20  \n3     partly-cloudy-day        0.78      0.85       4.35        6.22  \n4     partly-cloudy-day        0.85      0.91       6.20        5.91  \n...                 ...         ...       ...        ...         ...  \n1790               rain        0.96      0.85       6.80       10.00  \n1791               rain        0.87      0.85       6.82        9.03  \n1792  partly-cloudy-day        0.40      0.79       5.15       10.00  \n1793          clear-day        0.18      0.76       4.85        9.11  \n1794  partly-cloudy-day        0.55      0.72       4.79       10.00  \n\n[1795 rows x 9 columns]",
      "text/html": "<div>\n<style scoped>\n    .dataframe tbody tr th:only-of-type {\n        vertical-align: middle;\n    }\n\n    .dataframe tbody tr th {\n        vertical-align: top;\n    }\n\n    .dataframe thead th {\n        text-align: right;\n    }\n</style>\n<table border=\"1\" class=\"dataframe\">\n  <thead>\n    <tr style=\"text-align: right;\">\n      <th></th>\n      <th>day</th>\n      <th>tempMin</th>\n      <th>tempMax</th>\n      <th>summary</th>\n      <th>desc</th>\n      <th>cloudCover</th>\n      <th>humidity</th>\n      <th>windSpeed</th>\n      <th>visibility</th>\n    </tr>\n  </thead>\n  <tbody>\n    <tr>\n      <th>0</th>\n      <td>2015-01-01</td>\n      <td>7.53</td>\n      <td>12.23</td>\n      <td>Possible light rain until evening.</td>\n      <td>rain</td>\n      <td>0.80</td>\n      <td>0.89</td>\n      <td>14.69</td>\n      <td>4.43</td>\n    </tr>\n    <tr>\n      <th>1</th>\n      <td>2015-01-02</td>\n      <td>3.58</td>\n      <td>7.15</td>\n      <td>Possible light rain throughout the day.</td>\n      <td>rain</td>\n      <td>0.62</td>\n      <td>0.79</td>\n      <td>15.04</td>\n      <td>5.64</td>\n    </tr>\n    <tr>\n      <th>2</th>\n      <td>2015-01-03</td>\n      <td>-0.61</td>\n      <td>6.54</td>\n      <td>Clear throughout the day.</td>\n      <td>rain</td>\n      <td>0.31</td>\n      <td>0.84</td>\n      <td>4.48</td>\n      <td>6.20</td>\n    </tr>\n    <tr>\n      <th>3</th>\n      <td>2015-01-04</td>\n      <td>-0.63</td>\n      <td>7.59</td>\n      <td>Mostly cloudy throughout the day.</td>\n      <td>partly-cloudy-day</td>\n      <td>0.78</td>\n      <td>0.85</td>\n      <td>4.35</td>\n      <td>6.22</td>\n    </tr>\n    <tr>\n      <th>4</th>\n      <td>2015-01-05</td>\n      <td>6.51</td>\n      <td>10.43</td>\n      <td>Overcast throughout the day.</td>\n      <td>partly-cloudy-day</td>\n      <td>0.85</td>\n      <td>0.91</td>\n      <td>6.20</td>\n      <td>5.91</td>\n    </tr>\n    <tr>\n      <th>...</th>\n      <td>...</td>\n      <td>...</td>\n      <td>...</td>\n      <td>...</td>\n      <td>...</td>\n      <td>...</td>\n      <td>...</td>\n      <td>...</td>\n      <td>...</td>\n    </tr>\n    <tr>\n      <th>1790</th>\n      <td>2019-11-26</td>\n      <td>8.55</td>\n      <td>10.57</td>\n      <td>Mostly cloudy throughout the day.</td>\n      <td>rain</td>\n      <td>0.96</td>\n      <td>0.85</td>\n      <td>6.80</td>\n      <td>10.00</td>\n    </tr>\n    <tr>\n      <th>1791</th>\n      <td>2019-11-27</td>\n      <td>5.79</td>\n      <td>9.40</td>\n      <td>Mostly cloudy throughout the day.</td>\n      <td>rain</td>\n      <td>0.87</td>\n      <td>0.85</td>\n      <td>6.82</td>\n      <td>9.03</td>\n    </tr>\n    <tr>\n      <th>1792</th>\n      <td>2019-11-28</td>\n      <td>2.30</td>\n      <td>6.67</td>\n      <td>Mostly cloudy throughout the day.</td>\n      <td>partly-cloudy-day</td>\n      <td>0.40</td>\n      <td>0.79</td>\n      <td>5.15</td>\n      <td>10.00</td>\n    </tr>\n    <tr>\n      <th>1793</th>\n      <td>2019-11-29</td>\n      <td>1.08</td>\n      <td>6.14</td>\n      <td>Mostly cloudy throughout the day.</td>\n      <td>clear-day</td>\n      <td>0.18</td>\n      <td>0.76</td>\n      <td>4.85</td>\n      <td>9.11</td>\n    </tr>\n    <tr>\n      <th>1794</th>\n      <td>2019-11-30</td>\n      <td>0.42</td>\n      <td>5.69</td>\n      <td>Mostly cloudy throughout the day.</td>\n      <td>partly-cloudy-day</td>\n      <td>0.55</td>\n      <td>0.72</td>\n      <td>4.79</td>\n      <td>10.00</td>\n    </tr>\n  </tbody>\n</table>\n<p>1795 rows × 9 columns</p>\n</div>"
     },
     "execution_count": 33,
     "metadata": {},
     "output_type": "execute_result"
    }
   ],
   "source": [
    "import pandas as pd\n",
    "\n",
    "clean_weather_data = pd.read_csv('datasets/clean_weather_data.csv')\n",
    "clean_weather_data"
   ],
   "metadata": {
    "collapsed": false,
    "ExecuteTime": {
     "end_time": "2024-08-13T22:23:17.320668Z",
     "start_time": "2024-08-13T22:23:17.301425Z"
    }
   },
   "id": "7cb42bc8798ce388",
   "execution_count": 33
  },
  {
   "cell_type": "code",
   "outputs": [],
   "source": [
    "clean_weather_data_onehot = pd.get_dummies(clean_weather_data, columns=['summary', 'desc'])"
   ],
   "metadata": {
    "collapsed": false,
    "ExecuteTime": {
     "end_time": "2024-08-13T22:23:17.327322Z",
     "start_time": "2024-08-13T22:23:17.321676Z"
    }
   },
   "id": "63ab5eca9af853e1",
   "execution_count": 34
  },
  {
   "cell_type": "code",
   "outputs": [
    {
     "data": {
      "text/plain": "             day  tempMin  tempMax  cloudCover  humidity  windSpeed  \\\n0     2015-01-01     7.53    12.23        0.80      0.89      14.69   \n1     2015-01-02     3.58     7.15        0.62      0.79      15.04   \n2     2015-01-03    -0.61     6.54        0.31      0.84       4.48   \n3     2015-01-04    -0.63     7.59        0.78      0.85       4.35   \n4     2015-01-05     6.51    10.43        0.85      0.91       6.20   \n...          ...      ...      ...         ...       ...        ...   \n1790  2019-11-26     8.55    10.57        0.96      0.85       6.80   \n1791  2019-11-27     5.79     9.40        0.87      0.85       6.82   \n1792  2019-11-28     2.30     6.67        0.40      0.79       5.15   \n1793  2019-11-29     1.08     6.14        0.18      0.76       4.85   \n1794  2019-11-30     0.42     5.69        0.55      0.72       4.79   \n\n      visibility  summary_Clear throughout the day.  \\\n0           4.43                              False   \n1           5.64                              False   \n2           6.20                               True   \n3           6.22                              False   \n4           5.91                              False   \n...          ...                                ...   \n1790       10.00                              False   \n1791        9.03                              False   \n1792       10.00                              False   \n1793        9.11                              False   \n1794       10.00                              False   \n\n      summary_Dangerously windy in the morning and afternoon.  \\\n0                                                 False         \n1                                                 False         \n2                                                 False         \n3                                                 False         \n4                                                 False         \n...                                                 ...         \n1790                                              False         \n1791                                              False         \n1792                                              False         \n1793                                              False         \n1794                                              False         \n\n      summary_Dangerously windy in the morning.  ...  \\\n0                                         False  ...   \n1                                         False  ...   \n2                                         False  ...   \n3                                         False  ...   \n4                                         False  ...   \n...                                         ...  ...   \n1790                                      False  ...   \n1791                                      False  ...   \n1792                                      False  ...   \n1793                                      False  ...   \n1794                                      False  ...   \n\n      summary_Windy in the evening.  \\\n0                             False   \n1                             False   \n2                             False   \n3                             False   \n4                             False   \n...                             ...   \n1790                          False   \n1791                          False   \n1792                          False   \n1793                          False   \n1794                          False   \n\n      summary_Windy in the morning and afternoon.  \\\n0                                           False   \n1                                           False   \n2                                           False   \n3                                           False   \n4                                           False   \n...                                           ...   \n1790                                        False   \n1791                                        False   \n1792                                        False   \n1793                                        False   \n1794                                        False   \n\n      summary_Windy in the morning.  summary_Windy overnight.  \\\n0                             False                     False   \n1                             False                     False   \n2                             False                     False   \n3                             False                     False   \n4                             False                     False   \n...                             ...                       ...   \n1790                          False                     False   \n1791                          False                     False   \n1792                          False                     False   \n1793                          False                     False   \n1794                          False                     False   \n\n      summary_Windy starting in the afternoon.  desc_clear-day  desc_cloudy  \\\n0                                        False           False        False   \n1                                        False           False        False   \n2                                        False           False        False   \n3                                        False           False        False   \n4                                        False           False        False   \n...                                        ...             ...          ...   \n1790                                     False           False        False   \n1791                                     False           False        False   \n1792                                     False           False        False   \n1793                                     False            True        False   \n1794                                     False           False        False   \n\n      desc_fog  desc_partly-cloudy-day  desc_rain  \n0        False                   False       True  \n1        False                   False       True  \n2        False                   False       True  \n3        False                    True      False  \n4        False                    True      False  \n...        ...                     ...        ...  \n1790     False                   False       True  \n1791     False                   False       True  \n1792     False                    True      False  \n1793     False                   False      False  \n1794     False                    True      False  \n\n[1795 rows x 99 columns]",
      "text/html": "<div>\n<style scoped>\n    .dataframe tbody tr th:only-of-type {\n        vertical-align: middle;\n    }\n\n    .dataframe tbody tr th {\n        vertical-align: top;\n    }\n\n    .dataframe thead th {\n        text-align: right;\n    }\n</style>\n<table border=\"1\" class=\"dataframe\">\n  <thead>\n    <tr style=\"text-align: right;\">\n      <th></th>\n      <th>day</th>\n      <th>tempMin</th>\n      <th>tempMax</th>\n      <th>cloudCover</th>\n      <th>humidity</th>\n      <th>windSpeed</th>\n      <th>visibility</th>\n      <th>summary_Clear throughout the day.</th>\n      <th>summary_Dangerously windy in the morning and afternoon.</th>\n      <th>summary_Dangerously windy in the morning.</th>\n      <th>...</th>\n      <th>summary_Windy in the evening.</th>\n      <th>summary_Windy in the morning and afternoon.</th>\n      <th>summary_Windy in the morning.</th>\n      <th>summary_Windy overnight.</th>\n      <th>summary_Windy starting in the afternoon.</th>\n      <th>desc_clear-day</th>\n      <th>desc_cloudy</th>\n      <th>desc_fog</th>\n      <th>desc_partly-cloudy-day</th>\n      <th>desc_rain</th>\n    </tr>\n  </thead>\n  <tbody>\n    <tr>\n      <th>0</th>\n      <td>2015-01-01</td>\n      <td>7.53</td>\n      <td>12.23</td>\n      <td>0.80</td>\n      <td>0.89</td>\n      <td>14.69</td>\n      <td>4.43</td>\n      <td>False</td>\n      <td>False</td>\n      <td>False</td>\n      <td>...</td>\n      <td>False</td>\n      <td>False</td>\n      <td>False</td>\n      <td>False</td>\n      <td>False</td>\n      <td>False</td>\n      <td>False</td>\n      <td>False</td>\n      <td>False</td>\n      <td>True</td>\n    </tr>\n    <tr>\n      <th>1</th>\n      <td>2015-01-02</td>\n      <td>3.58</td>\n      <td>7.15</td>\n      <td>0.62</td>\n      <td>0.79</td>\n      <td>15.04</td>\n      <td>5.64</td>\n      <td>False</td>\n      <td>False</td>\n      <td>False</td>\n      <td>...</td>\n      <td>False</td>\n      <td>False</td>\n      <td>False</td>\n      <td>False</td>\n      <td>False</td>\n      <td>False</td>\n      <td>False</td>\n      <td>False</td>\n      <td>False</td>\n      <td>True</td>\n    </tr>\n    <tr>\n      <th>2</th>\n      <td>2015-01-03</td>\n      <td>-0.61</td>\n      <td>6.54</td>\n      <td>0.31</td>\n      <td>0.84</td>\n      <td>4.48</td>\n      <td>6.20</td>\n      <td>True</td>\n      <td>False</td>\n      <td>False</td>\n      <td>...</td>\n      <td>False</td>\n      <td>False</td>\n      <td>False</td>\n      <td>False</td>\n      <td>False</td>\n      <td>False</td>\n      <td>False</td>\n      <td>False</td>\n      <td>False</td>\n      <td>True</td>\n    </tr>\n    <tr>\n      <th>3</th>\n      <td>2015-01-04</td>\n      <td>-0.63</td>\n      <td>7.59</td>\n      <td>0.78</td>\n      <td>0.85</td>\n      <td>4.35</td>\n      <td>6.22</td>\n      <td>False</td>\n      <td>False</td>\n      <td>False</td>\n      <td>...</td>\n      <td>False</td>\n      <td>False</td>\n      <td>False</td>\n      <td>False</td>\n      <td>False</td>\n      <td>False</td>\n      <td>False</td>\n      <td>False</td>\n      <td>True</td>\n      <td>False</td>\n    </tr>\n    <tr>\n      <th>4</th>\n      <td>2015-01-05</td>\n      <td>6.51</td>\n      <td>10.43</td>\n      <td>0.85</td>\n      <td>0.91</td>\n      <td>6.20</td>\n      <td>5.91</td>\n      <td>False</td>\n      <td>False</td>\n      <td>False</td>\n      <td>...</td>\n      <td>False</td>\n      <td>False</td>\n      <td>False</td>\n      <td>False</td>\n      <td>False</td>\n      <td>False</td>\n      <td>False</td>\n      <td>False</td>\n      <td>True</td>\n      <td>False</td>\n    </tr>\n    <tr>\n      <th>...</th>\n      <td>...</td>\n      <td>...</td>\n      <td>...</td>\n      <td>...</td>\n      <td>...</td>\n      <td>...</td>\n      <td>...</td>\n      <td>...</td>\n      <td>...</td>\n      <td>...</td>\n      <td>...</td>\n      <td>...</td>\n      <td>...</td>\n      <td>...</td>\n      <td>...</td>\n      <td>...</td>\n      <td>...</td>\n      <td>...</td>\n      <td>...</td>\n      <td>...</td>\n      <td>...</td>\n    </tr>\n    <tr>\n      <th>1790</th>\n      <td>2019-11-26</td>\n      <td>8.55</td>\n      <td>10.57</td>\n      <td>0.96</td>\n      <td>0.85</td>\n      <td>6.80</td>\n      <td>10.00</td>\n      <td>False</td>\n      <td>False</td>\n      <td>False</td>\n      <td>...</td>\n      <td>False</td>\n      <td>False</td>\n      <td>False</td>\n      <td>False</td>\n      <td>False</td>\n      <td>False</td>\n      <td>False</td>\n      <td>False</td>\n      <td>False</td>\n      <td>True</td>\n    </tr>\n    <tr>\n      <th>1791</th>\n      <td>2019-11-27</td>\n      <td>5.79</td>\n      <td>9.40</td>\n      <td>0.87</td>\n      <td>0.85</td>\n      <td>6.82</td>\n      <td>9.03</td>\n      <td>False</td>\n      <td>False</td>\n      <td>False</td>\n      <td>...</td>\n      <td>False</td>\n      <td>False</td>\n      <td>False</td>\n      <td>False</td>\n      <td>False</td>\n      <td>False</td>\n      <td>False</td>\n      <td>False</td>\n      <td>False</td>\n      <td>True</td>\n    </tr>\n    <tr>\n      <th>1792</th>\n      <td>2019-11-28</td>\n      <td>2.30</td>\n      <td>6.67</td>\n      <td>0.40</td>\n      <td>0.79</td>\n      <td>5.15</td>\n      <td>10.00</td>\n      <td>False</td>\n      <td>False</td>\n      <td>False</td>\n      <td>...</td>\n      <td>False</td>\n      <td>False</td>\n      <td>False</td>\n      <td>False</td>\n      <td>False</td>\n      <td>False</td>\n      <td>False</td>\n      <td>False</td>\n      <td>True</td>\n      <td>False</td>\n    </tr>\n    <tr>\n      <th>1793</th>\n      <td>2019-11-29</td>\n      <td>1.08</td>\n      <td>6.14</td>\n      <td>0.18</td>\n      <td>0.76</td>\n      <td>4.85</td>\n      <td>9.11</td>\n      <td>False</td>\n      <td>False</td>\n      <td>False</td>\n      <td>...</td>\n      <td>False</td>\n      <td>False</td>\n      <td>False</td>\n      <td>False</td>\n      <td>False</td>\n      <td>True</td>\n      <td>False</td>\n      <td>False</td>\n      <td>False</td>\n      <td>False</td>\n    </tr>\n    <tr>\n      <th>1794</th>\n      <td>2019-11-30</td>\n      <td>0.42</td>\n      <td>5.69</td>\n      <td>0.55</td>\n      <td>0.72</td>\n      <td>4.79</td>\n      <td>10.00</td>\n      <td>False</td>\n      <td>False</td>\n      <td>False</td>\n      <td>...</td>\n      <td>False</td>\n      <td>False</td>\n      <td>False</td>\n      <td>False</td>\n      <td>False</td>\n      <td>False</td>\n      <td>False</td>\n      <td>False</td>\n      <td>True</td>\n      <td>False</td>\n    </tr>\n  </tbody>\n</table>\n<p>1795 rows × 99 columns</p>\n</div>"
     },
     "execution_count": 35,
     "metadata": {},
     "output_type": "execute_result"
    }
   ],
   "source": [
    "clean_weather_data_onehot"
   ],
   "metadata": {
    "collapsed": false,
    "ExecuteTime": {
     "end_time": "2024-08-13T22:23:17.343851Z",
     "start_time": "2024-08-13T22:23:17.328326Z"
    }
   },
   "id": "952542ac2e7ecfb1",
   "execution_count": 35
  },
  {
   "cell_type": "markdown",
   "source": [
    "# 数据整合 Data Integration "
   ],
   "metadata": {
    "collapsed": false
   },
   "id": "3be7ba49d965ceb"
  },
  {
   "cell_type": "code",
   "outputs": [],
   "source": [
    "# 展开为一维向量\n",
    "BH_tif_flat = BH_tif.data.flatten()  # 建筑物高度\n",
    "CHM_tif_flat = CHM_tif.data.flatten()  # 树冠高度\n",
    "LAI_tif_flat = LAI_tif.data.flatten()  # 叶面积指数\n",
    "DSM_tif_flat = DSM_tif.data.flatten()  # 地形数据\n",
    "\n",
    "# 将所有空间特征组合在一起，形成一个二维数组 (640000, 4)\n",
    "spatial_features = np.column_stack((BH_tif_flat, CHM_tif_flat, LAI_tif_flat, DSM_tif_flat))\n"
   ],
   "metadata": {
    "collapsed": false,
    "ExecuteTime": {
     "end_time": "2024-08-13T22:23:17.349030Z",
     "start_time": "2024-08-13T22:23:17.345053Z"
    }
   },
   "id": "ac30f5dc1322c80a",
   "execution_count": 36
  },
  {
   "cell_type": "code",
   "outputs": [
    {
     "data": {
      "text/plain": "array([[1.81000000e+02, 2.88827362e+01, 1.17030945e+01, 5.52400017e+01],\n       [6.55350000e+04, 2.84086761e+01, 1.15134706e+01, 5.47369995e+01],\n       [6.55350000e+04, 2.78414173e+01, 1.12865667e+01, 5.41160011e+01],\n       ...,\n       [6.55350000e+04, 8.35458040e-02, 1.83418334e-01, 1.90300000e+00],\n       [6.55350000e+04, 1.34665489e-01, 2.03866199e-01, 1.94400001e+00],\n       [6.55350000e+04, 1.29756327e+01, 5.34025335e+00, 1.47709999e+01]],\n      dtype=float32)"
     },
     "execution_count": 37,
     "metadata": {},
     "output_type": "execute_result"
    }
   ],
   "source": [
    "spatial_features"
   ],
   "metadata": {
    "collapsed": false,
    "ExecuteTime": {
     "end_time": "2024-08-13T22:23:17.430138Z",
     "start_time": "2024-08-13T22:23:17.426090Z"
    }
   },
   "id": "959b4b266f1a7660",
   "execution_count": 37
  },
  {
   "cell_type": "code",
   "outputs": [
    {
     "data": {
      "text/plain": "(1795, 99)"
     },
     "execution_count": 38,
     "metadata": {},
     "output_type": "execute_result"
    }
   ],
   "source": [
    "clean_weather_data_onehot.shape"
   ],
   "metadata": {
    "collapsed": false,
    "ExecuteTime": {
     "end_time": "2024-08-13T22:23:17.559684Z",
     "start_time": "2024-08-13T22:23:17.555783Z"
    }
   },
   "id": "9fdec49a22d661d5",
   "execution_count": 38
  },
  {
   "cell_type": "code",
   "outputs": [
    {
     "data": {
      "text/plain": "day                        object\ntempMin                   float64\ntempMax                   float64\ncloudCover                float64\nhumidity                  float64\n                           ...   \ndesc_clear-day               bool\ndesc_cloudy                  bool\ndesc_fog                     bool\ndesc_partly-cloudy-day       bool\ndesc_rain                    bool\nLength: 99, dtype: object"
     },
     "execution_count": 39,
     "metadata": {},
     "output_type": "execute_result"
    }
   ],
   "source": [
    "clean_weather_data_onehot.dtypes"
   ],
   "metadata": {
    "collapsed": false,
    "ExecuteTime": {
     "end_time": "2024-08-13T22:23:17.682869Z",
     "start_time": "2024-08-13T22:23:17.677864Z"
    }
   },
   "id": "412026bbc21f5497",
   "execution_count": 39
  },
  {
   "cell_type": "code",
   "outputs": [],
   "source": [
    "# 1. 将 'day' 列转换为 datetime 类型\n",
    "clean_weather_data_onehot['day'] = pd.to_datetime(clean_weather_data_onehot['day'])\n",
    "\n",
    "# 储存一个没有循环这一特征的表\n",
    "clean_weather_data_onehot_without_cycle = copy.deepcopy(clean_weather_data_onehot)\n",
    "clean_weather_data_onehot_without_cycle.drop(columns=['day'], inplace=True)\n",
    "\n",
    "# 2. 提取年、月、日、星期、一年中的第几天，并添加为新的列\n",
    "# 按顺序将列插入到最前面\n",
    "clean_weather_data_onehot.insert(0, 'year', clean_weather_data_onehot['day'].dt.year)\n",
    "clean_weather_data_onehot.insert(1, 'month', clean_weather_data_onehot['day'].dt.month)\n",
    "clean_weather_data_onehot.insert(2, 'day_of_month', clean_weather_data_onehot['day'].dt.day)\n",
    "clean_weather_data_onehot.insert(3, 'day_of_week', clean_weather_data_onehot['day'].dt.weekday)\n",
    "clean_weather_data_onehot.insert(4, 'day_of_year', clean_weather_data_onehot['day'].dt.dayofyear)\n",
    "\n",
    "# 3. 删除原始的 'day' 列（如果不需要）\n",
    "clean_weather_data_onehot.drop(columns=['day'], inplace=True)\n",
    "\n",
    "# 4. 将 bool 类型数据转换为 0 和 1\n",
    "bool_columns = clean_weather_data_onehot.select_dtypes(include=['bool']).columns\n",
    "clean_weather_data_onehot[bool_columns] = clean_weather_data_onehot[bool_columns].astype(int)"
   ],
   "metadata": {
    "collapsed": false,
    "ExecuteTime": {
     "end_time": "2024-08-13T22:23:17.827961Z",
     "start_time": "2024-08-13T22:23:17.811519Z"
    }
   },
   "id": "895430e3f3812959",
   "execution_count": 40
  },
  {
   "cell_type": "code",
   "outputs": [
    {
     "data": {
      "text/plain": "      year  month  day_of_month  day_of_week  day_of_year  tempMin  tempMax  \\\n0     2015      1             1            3            1     7.53    12.23   \n1     2015      1             2            4            2     3.58     7.15   \n2     2015      1             3            5            3    -0.61     6.54   \n3     2015      1             4            6            4    -0.63     7.59   \n4     2015      1             5            0            5     6.51    10.43   \n...    ...    ...           ...          ...          ...      ...      ...   \n1790  2019     11            26            1          330     8.55    10.57   \n1791  2019     11            27            2          331     5.79     9.40   \n1792  2019     11            28            3          332     2.30     6.67   \n1793  2019     11            29            4          333     1.08     6.14   \n1794  2019     11            30            5          334     0.42     5.69   \n\n      cloudCover  humidity  windSpeed  ...  summary_Windy in the evening.  \\\n0           0.80      0.89      14.69  ...                              0   \n1           0.62      0.79      15.04  ...                              0   \n2           0.31      0.84       4.48  ...                              0   \n3           0.78      0.85       4.35  ...                              0   \n4           0.85      0.91       6.20  ...                              0   \n...          ...       ...        ...  ...                            ...   \n1790        0.96      0.85       6.80  ...                              0   \n1791        0.87      0.85       6.82  ...                              0   \n1792        0.40      0.79       5.15  ...                              0   \n1793        0.18      0.76       4.85  ...                              0   \n1794        0.55      0.72       4.79  ...                              0   \n\n      summary_Windy in the morning and afternoon.  \\\n0                                               0   \n1                                               0   \n2                                               0   \n3                                               0   \n4                                               0   \n...                                           ...   \n1790                                            0   \n1791                                            0   \n1792                                            0   \n1793                                            0   \n1794                                            0   \n\n      summary_Windy in the morning.  summary_Windy overnight.  \\\n0                                 0                         0   \n1                                 0                         0   \n2                                 0                         0   \n3                                 0                         0   \n4                                 0                         0   \n...                             ...                       ...   \n1790                              0                         0   \n1791                              0                         0   \n1792                              0                         0   \n1793                              0                         0   \n1794                              0                         0   \n\n      summary_Windy starting in the afternoon.  desc_clear-day  desc_cloudy  \\\n0                                            0               0            0   \n1                                            0               0            0   \n2                                            0               0            0   \n3                                            0               0            0   \n4                                            0               0            0   \n...                                        ...             ...          ...   \n1790                                         0               0            0   \n1791                                         0               0            0   \n1792                                         0               0            0   \n1793                                         0               1            0   \n1794                                         0               0            0   \n\n      desc_fog  desc_partly-cloudy-day  desc_rain  \n0            0                       0          1  \n1            0                       0          1  \n2            0                       0          1  \n3            0                       1          0  \n4            0                       1          0  \n...        ...                     ...        ...  \n1790         0                       0          1  \n1791         0                       0          1  \n1792         0                       1          0  \n1793         0                       0          0  \n1794         0                       1          0  \n\n[1795 rows x 103 columns]",
      "text/html": "<div>\n<style scoped>\n    .dataframe tbody tr th:only-of-type {\n        vertical-align: middle;\n    }\n\n    .dataframe tbody tr th {\n        vertical-align: top;\n    }\n\n    .dataframe thead th {\n        text-align: right;\n    }\n</style>\n<table border=\"1\" class=\"dataframe\">\n  <thead>\n    <tr style=\"text-align: right;\">\n      <th></th>\n      <th>year</th>\n      <th>month</th>\n      <th>day_of_month</th>\n      <th>day_of_week</th>\n      <th>day_of_year</th>\n      <th>tempMin</th>\n      <th>tempMax</th>\n      <th>cloudCover</th>\n      <th>humidity</th>\n      <th>windSpeed</th>\n      <th>...</th>\n      <th>summary_Windy in the evening.</th>\n      <th>summary_Windy in the morning and afternoon.</th>\n      <th>summary_Windy in the morning.</th>\n      <th>summary_Windy overnight.</th>\n      <th>summary_Windy starting in the afternoon.</th>\n      <th>desc_clear-day</th>\n      <th>desc_cloudy</th>\n      <th>desc_fog</th>\n      <th>desc_partly-cloudy-day</th>\n      <th>desc_rain</th>\n    </tr>\n  </thead>\n  <tbody>\n    <tr>\n      <th>0</th>\n      <td>2015</td>\n      <td>1</td>\n      <td>1</td>\n      <td>3</td>\n      <td>1</td>\n      <td>7.53</td>\n      <td>12.23</td>\n      <td>0.80</td>\n      <td>0.89</td>\n      <td>14.69</td>\n      <td>...</td>\n      <td>0</td>\n      <td>0</td>\n      <td>0</td>\n      <td>0</td>\n      <td>0</td>\n      <td>0</td>\n      <td>0</td>\n      <td>0</td>\n      <td>0</td>\n      <td>1</td>\n    </tr>\n    <tr>\n      <th>1</th>\n      <td>2015</td>\n      <td>1</td>\n      <td>2</td>\n      <td>4</td>\n      <td>2</td>\n      <td>3.58</td>\n      <td>7.15</td>\n      <td>0.62</td>\n      <td>0.79</td>\n      <td>15.04</td>\n      <td>...</td>\n      <td>0</td>\n      <td>0</td>\n      <td>0</td>\n      <td>0</td>\n      <td>0</td>\n      <td>0</td>\n      <td>0</td>\n      <td>0</td>\n      <td>0</td>\n      <td>1</td>\n    </tr>\n    <tr>\n      <th>2</th>\n      <td>2015</td>\n      <td>1</td>\n      <td>3</td>\n      <td>5</td>\n      <td>3</td>\n      <td>-0.61</td>\n      <td>6.54</td>\n      <td>0.31</td>\n      <td>0.84</td>\n      <td>4.48</td>\n      <td>...</td>\n      <td>0</td>\n      <td>0</td>\n      <td>0</td>\n      <td>0</td>\n      <td>0</td>\n      <td>0</td>\n      <td>0</td>\n      <td>0</td>\n      <td>0</td>\n      <td>1</td>\n    </tr>\n    <tr>\n      <th>3</th>\n      <td>2015</td>\n      <td>1</td>\n      <td>4</td>\n      <td>6</td>\n      <td>4</td>\n      <td>-0.63</td>\n      <td>7.59</td>\n      <td>0.78</td>\n      <td>0.85</td>\n      <td>4.35</td>\n      <td>...</td>\n      <td>0</td>\n      <td>0</td>\n      <td>0</td>\n      <td>0</td>\n      <td>0</td>\n      <td>0</td>\n      <td>0</td>\n      <td>0</td>\n      <td>1</td>\n      <td>0</td>\n    </tr>\n    <tr>\n      <th>4</th>\n      <td>2015</td>\n      <td>1</td>\n      <td>5</td>\n      <td>0</td>\n      <td>5</td>\n      <td>6.51</td>\n      <td>10.43</td>\n      <td>0.85</td>\n      <td>0.91</td>\n      <td>6.20</td>\n      <td>...</td>\n      <td>0</td>\n      <td>0</td>\n      <td>0</td>\n      <td>0</td>\n      <td>0</td>\n      <td>0</td>\n      <td>0</td>\n      <td>0</td>\n      <td>1</td>\n      <td>0</td>\n    </tr>\n    <tr>\n      <th>...</th>\n      <td>...</td>\n      <td>...</td>\n      <td>...</td>\n      <td>...</td>\n      <td>...</td>\n      <td>...</td>\n      <td>...</td>\n      <td>...</td>\n      <td>...</td>\n      <td>...</td>\n      <td>...</td>\n      <td>...</td>\n      <td>...</td>\n      <td>...</td>\n      <td>...</td>\n      <td>...</td>\n      <td>...</td>\n      <td>...</td>\n      <td>...</td>\n      <td>...</td>\n      <td>...</td>\n    </tr>\n    <tr>\n      <th>1790</th>\n      <td>2019</td>\n      <td>11</td>\n      <td>26</td>\n      <td>1</td>\n      <td>330</td>\n      <td>8.55</td>\n      <td>10.57</td>\n      <td>0.96</td>\n      <td>0.85</td>\n      <td>6.80</td>\n      <td>...</td>\n      <td>0</td>\n      <td>0</td>\n      <td>0</td>\n      <td>0</td>\n      <td>0</td>\n      <td>0</td>\n      <td>0</td>\n      <td>0</td>\n      <td>0</td>\n      <td>1</td>\n    </tr>\n    <tr>\n      <th>1791</th>\n      <td>2019</td>\n      <td>11</td>\n      <td>27</td>\n      <td>2</td>\n      <td>331</td>\n      <td>5.79</td>\n      <td>9.40</td>\n      <td>0.87</td>\n      <td>0.85</td>\n      <td>6.82</td>\n      <td>...</td>\n      <td>0</td>\n      <td>0</td>\n      <td>0</td>\n      <td>0</td>\n      <td>0</td>\n      <td>0</td>\n      <td>0</td>\n      <td>0</td>\n      <td>0</td>\n      <td>1</td>\n    </tr>\n    <tr>\n      <th>1792</th>\n      <td>2019</td>\n      <td>11</td>\n      <td>28</td>\n      <td>3</td>\n      <td>332</td>\n      <td>2.30</td>\n      <td>6.67</td>\n      <td>0.40</td>\n      <td>0.79</td>\n      <td>5.15</td>\n      <td>...</td>\n      <td>0</td>\n      <td>0</td>\n      <td>0</td>\n      <td>0</td>\n      <td>0</td>\n      <td>0</td>\n      <td>0</td>\n      <td>0</td>\n      <td>1</td>\n      <td>0</td>\n    </tr>\n    <tr>\n      <th>1793</th>\n      <td>2019</td>\n      <td>11</td>\n      <td>29</td>\n      <td>4</td>\n      <td>333</td>\n      <td>1.08</td>\n      <td>6.14</td>\n      <td>0.18</td>\n      <td>0.76</td>\n      <td>4.85</td>\n      <td>...</td>\n      <td>0</td>\n      <td>0</td>\n      <td>0</td>\n      <td>0</td>\n      <td>0</td>\n      <td>1</td>\n      <td>0</td>\n      <td>0</td>\n      <td>0</td>\n      <td>0</td>\n    </tr>\n    <tr>\n      <th>1794</th>\n      <td>2019</td>\n      <td>11</td>\n      <td>30</td>\n      <td>5</td>\n      <td>334</td>\n      <td>0.42</td>\n      <td>5.69</td>\n      <td>0.55</td>\n      <td>0.72</td>\n      <td>4.79</td>\n      <td>...</td>\n      <td>0</td>\n      <td>0</td>\n      <td>0</td>\n      <td>0</td>\n      <td>0</td>\n      <td>0</td>\n      <td>0</td>\n      <td>0</td>\n      <td>1</td>\n      <td>0</td>\n    </tr>\n  </tbody>\n</table>\n<p>1795 rows × 103 columns</p>\n</div>"
     },
     "execution_count": 41,
     "metadata": {},
     "output_type": "execute_result"
    }
   ],
   "source": [
    "# 结果检查\n",
    "clean_weather_data_onehot"
   ],
   "metadata": {
    "collapsed": false,
    "ExecuteTime": {
     "end_time": "2024-08-13T22:23:17.880901Z",
     "start_time": "2024-08-13T22:23:17.869580Z"
    }
   },
   "id": "42f0e29dabb7e0c9",
   "execution_count": 41
  },
  {
   "cell_type": "code",
   "outputs": [],
   "source": [
    "bool_columns_without_cycle = clean_weather_data_onehot_without_cycle.select_dtypes(include=['bool']).columns\n",
    "clean_weather_data_onehot_without_cycle[bool_columns_without_cycle] = clean_weather_data_onehot_without_cycle[\n",
    "    bool_columns].astype(int)"
   ],
   "metadata": {
    "collapsed": false,
    "ExecuteTime": {
     "end_time": "2024-08-13T22:23:17.937140Z",
     "start_time": "2024-08-13T22:23:17.927382Z"
    }
   },
   "id": "856e37050b00a103",
   "execution_count": 42
  },
  {
   "cell_type": "code",
   "outputs": [
    {
     "data": {
      "text/plain": "      tempMin  tempMax  cloudCover  humidity  windSpeed  visibility  \\\n0        7.53    12.23        0.80      0.89      14.69        4.43   \n1        3.58     7.15        0.62      0.79      15.04        5.64   \n2       -0.61     6.54        0.31      0.84       4.48        6.20   \n3       -0.63     7.59        0.78      0.85       4.35        6.22   \n4        6.51    10.43        0.85      0.91       6.20        5.91   \n...       ...      ...         ...       ...        ...         ...   \n1790     8.55    10.57        0.96      0.85       6.80       10.00   \n1791     5.79     9.40        0.87      0.85       6.82        9.03   \n1792     2.30     6.67        0.40      0.79       5.15       10.00   \n1793     1.08     6.14        0.18      0.76       4.85        9.11   \n1794     0.42     5.69        0.55      0.72       4.79       10.00   \n\n      summary_Clear throughout the day.  \\\n0                                     0   \n1                                     0   \n2                                     1   \n3                                     0   \n4                                     0   \n...                                 ...   \n1790                                  0   \n1791                                  0   \n1792                                  0   \n1793                                  0   \n1794                                  0   \n\n      summary_Dangerously windy in the morning and afternoon.  \\\n0                                                     0         \n1                                                     0         \n2                                                     0         \n3                                                     0         \n4                                                     0         \n...                                                 ...         \n1790                                                  0         \n1791                                                  0         \n1792                                                  0         \n1793                                                  0         \n1794                                                  0         \n\n      summary_Dangerously windy in the morning.  \\\n0                                             0   \n1                                             0   \n2                                             0   \n3                                             0   \n4                                             0   \n...                                         ...   \n1790                                          0   \n1791                                          0   \n1792                                          0   \n1793                                          0   \n1794                                          0   \n\n      summary_Dangerously windy starting in the afternoon.  ...  \\\n0                                                     0     ...   \n1                                                     0     ...   \n2                                                     0     ...   \n3                                                     0     ...   \n4                                                     0     ...   \n...                                                 ...     ...   \n1790                                                  0     ...   \n1791                                                  0     ...   \n1792                                                  0     ...   \n1793                                                  0     ...   \n1794                                                  0     ...   \n\n      summary_Windy in the evening.  \\\n0                                 0   \n1                                 0   \n2                                 0   \n3                                 0   \n4                                 0   \n...                             ...   \n1790                              0   \n1791                              0   \n1792                              0   \n1793                              0   \n1794                              0   \n\n      summary_Windy in the morning and afternoon.  \\\n0                                               0   \n1                                               0   \n2                                               0   \n3                                               0   \n4                                               0   \n...                                           ...   \n1790                                            0   \n1791                                            0   \n1792                                            0   \n1793                                            0   \n1794                                            0   \n\n      summary_Windy in the morning.  summary_Windy overnight.  \\\n0                                 0                         0   \n1                                 0                         0   \n2                                 0                         0   \n3                                 0                         0   \n4                                 0                         0   \n...                             ...                       ...   \n1790                              0                         0   \n1791                              0                         0   \n1792                              0                         0   \n1793                              0                         0   \n1794                              0                         0   \n\n      summary_Windy starting in the afternoon.  desc_clear-day  desc_cloudy  \\\n0                                            0               0            0   \n1                                            0               0            0   \n2                                            0               0            0   \n3                                            0               0            0   \n4                                            0               0            0   \n...                                        ...             ...          ...   \n1790                                         0               0            0   \n1791                                         0               0            0   \n1792                                         0               0            0   \n1793                                         0               1            0   \n1794                                         0               0            0   \n\n      desc_fog  desc_partly-cloudy-day  desc_rain  \n0            0                       0          1  \n1            0                       0          1  \n2            0                       0          1  \n3            0                       1          0  \n4            0                       1          0  \n...        ...                     ...        ...  \n1790         0                       0          1  \n1791         0                       0          1  \n1792         0                       1          0  \n1793         0                       0          0  \n1794         0                       1          0  \n\n[1795 rows x 98 columns]",
      "text/html": "<div>\n<style scoped>\n    .dataframe tbody tr th:only-of-type {\n        vertical-align: middle;\n    }\n\n    .dataframe tbody tr th {\n        vertical-align: top;\n    }\n\n    .dataframe thead th {\n        text-align: right;\n    }\n</style>\n<table border=\"1\" class=\"dataframe\">\n  <thead>\n    <tr style=\"text-align: right;\">\n      <th></th>\n      <th>tempMin</th>\n      <th>tempMax</th>\n      <th>cloudCover</th>\n      <th>humidity</th>\n      <th>windSpeed</th>\n      <th>visibility</th>\n      <th>summary_Clear throughout the day.</th>\n      <th>summary_Dangerously windy in the morning and afternoon.</th>\n      <th>summary_Dangerously windy in the morning.</th>\n      <th>summary_Dangerously windy starting in the afternoon.</th>\n      <th>...</th>\n      <th>summary_Windy in the evening.</th>\n      <th>summary_Windy in the morning and afternoon.</th>\n      <th>summary_Windy in the morning.</th>\n      <th>summary_Windy overnight.</th>\n      <th>summary_Windy starting in the afternoon.</th>\n      <th>desc_clear-day</th>\n      <th>desc_cloudy</th>\n      <th>desc_fog</th>\n      <th>desc_partly-cloudy-day</th>\n      <th>desc_rain</th>\n    </tr>\n  </thead>\n  <tbody>\n    <tr>\n      <th>0</th>\n      <td>7.53</td>\n      <td>12.23</td>\n      <td>0.80</td>\n      <td>0.89</td>\n      <td>14.69</td>\n      <td>4.43</td>\n      <td>0</td>\n      <td>0</td>\n      <td>0</td>\n      <td>0</td>\n      <td>...</td>\n      <td>0</td>\n      <td>0</td>\n      <td>0</td>\n      <td>0</td>\n      <td>0</td>\n      <td>0</td>\n      <td>0</td>\n      <td>0</td>\n      <td>0</td>\n      <td>1</td>\n    </tr>\n    <tr>\n      <th>1</th>\n      <td>3.58</td>\n      <td>7.15</td>\n      <td>0.62</td>\n      <td>0.79</td>\n      <td>15.04</td>\n      <td>5.64</td>\n      <td>0</td>\n      <td>0</td>\n      <td>0</td>\n      <td>0</td>\n      <td>...</td>\n      <td>0</td>\n      <td>0</td>\n      <td>0</td>\n      <td>0</td>\n      <td>0</td>\n      <td>0</td>\n      <td>0</td>\n      <td>0</td>\n      <td>0</td>\n      <td>1</td>\n    </tr>\n    <tr>\n      <th>2</th>\n      <td>-0.61</td>\n      <td>6.54</td>\n      <td>0.31</td>\n      <td>0.84</td>\n      <td>4.48</td>\n      <td>6.20</td>\n      <td>1</td>\n      <td>0</td>\n      <td>0</td>\n      <td>0</td>\n      <td>...</td>\n      <td>0</td>\n      <td>0</td>\n      <td>0</td>\n      <td>0</td>\n      <td>0</td>\n      <td>0</td>\n      <td>0</td>\n      <td>0</td>\n      <td>0</td>\n      <td>1</td>\n    </tr>\n    <tr>\n      <th>3</th>\n      <td>-0.63</td>\n      <td>7.59</td>\n      <td>0.78</td>\n      <td>0.85</td>\n      <td>4.35</td>\n      <td>6.22</td>\n      <td>0</td>\n      <td>0</td>\n      <td>0</td>\n      <td>0</td>\n      <td>...</td>\n      <td>0</td>\n      <td>0</td>\n      <td>0</td>\n      <td>0</td>\n      <td>0</td>\n      <td>0</td>\n      <td>0</td>\n      <td>0</td>\n      <td>1</td>\n      <td>0</td>\n    </tr>\n    <tr>\n      <th>4</th>\n      <td>6.51</td>\n      <td>10.43</td>\n      <td>0.85</td>\n      <td>0.91</td>\n      <td>6.20</td>\n      <td>5.91</td>\n      <td>0</td>\n      <td>0</td>\n      <td>0</td>\n      <td>0</td>\n      <td>...</td>\n      <td>0</td>\n      <td>0</td>\n      <td>0</td>\n      <td>0</td>\n      <td>0</td>\n      <td>0</td>\n      <td>0</td>\n      <td>0</td>\n      <td>1</td>\n      <td>0</td>\n    </tr>\n    <tr>\n      <th>...</th>\n      <td>...</td>\n      <td>...</td>\n      <td>...</td>\n      <td>...</td>\n      <td>...</td>\n      <td>...</td>\n      <td>...</td>\n      <td>...</td>\n      <td>...</td>\n      <td>...</td>\n      <td>...</td>\n      <td>...</td>\n      <td>...</td>\n      <td>...</td>\n      <td>...</td>\n      <td>...</td>\n      <td>...</td>\n      <td>...</td>\n      <td>...</td>\n      <td>...</td>\n      <td>...</td>\n    </tr>\n    <tr>\n      <th>1790</th>\n      <td>8.55</td>\n      <td>10.57</td>\n      <td>0.96</td>\n      <td>0.85</td>\n      <td>6.80</td>\n      <td>10.00</td>\n      <td>0</td>\n      <td>0</td>\n      <td>0</td>\n      <td>0</td>\n      <td>...</td>\n      <td>0</td>\n      <td>0</td>\n      <td>0</td>\n      <td>0</td>\n      <td>0</td>\n      <td>0</td>\n      <td>0</td>\n      <td>0</td>\n      <td>0</td>\n      <td>1</td>\n    </tr>\n    <tr>\n      <th>1791</th>\n      <td>5.79</td>\n      <td>9.40</td>\n      <td>0.87</td>\n      <td>0.85</td>\n      <td>6.82</td>\n      <td>9.03</td>\n      <td>0</td>\n      <td>0</td>\n      <td>0</td>\n      <td>0</td>\n      <td>...</td>\n      <td>0</td>\n      <td>0</td>\n      <td>0</td>\n      <td>0</td>\n      <td>0</td>\n      <td>0</td>\n      <td>0</td>\n      <td>0</td>\n      <td>0</td>\n      <td>1</td>\n    </tr>\n    <tr>\n      <th>1792</th>\n      <td>2.30</td>\n      <td>6.67</td>\n      <td>0.40</td>\n      <td>0.79</td>\n      <td>5.15</td>\n      <td>10.00</td>\n      <td>0</td>\n      <td>0</td>\n      <td>0</td>\n      <td>0</td>\n      <td>...</td>\n      <td>0</td>\n      <td>0</td>\n      <td>0</td>\n      <td>0</td>\n      <td>0</td>\n      <td>0</td>\n      <td>0</td>\n      <td>0</td>\n      <td>1</td>\n      <td>0</td>\n    </tr>\n    <tr>\n      <th>1793</th>\n      <td>1.08</td>\n      <td>6.14</td>\n      <td>0.18</td>\n      <td>0.76</td>\n      <td>4.85</td>\n      <td>9.11</td>\n      <td>0</td>\n      <td>0</td>\n      <td>0</td>\n      <td>0</td>\n      <td>...</td>\n      <td>0</td>\n      <td>0</td>\n      <td>0</td>\n      <td>0</td>\n      <td>0</td>\n      <td>1</td>\n      <td>0</td>\n      <td>0</td>\n      <td>0</td>\n      <td>0</td>\n    </tr>\n    <tr>\n      <th>1794</th>\n      <td>0.42</td>\n      <td>5.69</td>\n      <td>0.55</td>\n      <td>0.72</td>\n      <td>4.79</td>\n      <td>10.00</td>\n      <td>0</td>\n      <td>0</td>\n      <td>0</td>\n      <td>0</td>\n      <td>...</td>\n      <td>0</td>\n      <td>0</td>\n      <td>0</td>\n      <td>0</td>\n      <td>0</td>\n      <td>0</td>\n      <td>0</td>\n      <td>0</td>\n      <td>1</td>\n      <td>0</td>\n    </tr>\n  </tbody>\n</table>\n<p>1795 rows × 98 columns</p>\n</div>"
     },
     "execution_count": 43,
     "metadata": {},
     "output_type": "execute_result"
    }
   ],
   "source": [
    "clean_weather_data_onehot_without_cycle"
   ],
   "metadata": {
    "collapsed": false,
    "ExecuteTime": {
     "end_time": "2024-08-13T22:23:17.971728Z",
     "start_time": "2024-08-13T22:23:17.960407Z"
    }
   },
   "id": "f6f1f4ec5a6162ae",
   "execution_count": 43
  },
  {
   "cell_type": "code",
   "outputs": [
    {
     "data": {
      "text/plain": "tempMin                   float64\ntempMax                   float64\ncloudCover                float64\nhumidity                  float64\nwindSpeed                 float64\n                           ...   \ndesc_clear-day              int32\ndesc_cloudy                 int32\ndesc_fog                    int32\ndesc_partly-cloudy-day      int32\ndesc_rain                   int32\nLength: 98, dtype: object"
     },
     "execution_count": 44,
     "metadata": {},
     "output_type": "execute_result"
    }
   ],
   "source": [
    "clean_weather_data_onehot_without_cycle.dtypes"
   ],
   "metadata": {
    "collapsed": false,
    "ExecuteTime": {
     "end_time": "2024-08-13T22:23:17.998014Z",
     "start_time": "2024-08-13T22:23:17.992519Z"
    }
   },
   "id": "fd9345f8b45771ab",
   "execution_count": 44
  },
  {
   "cell_type": "code",
   "outputs": [],
   "source": [
    "# # 将其转换为稀疏矩阵\n",
    "# clean_weather_data_onehot_sparse = csr_matrix(clean_weather_data_onehot)"
   ],
   "metadata": {
    "collapsed": false,
    "ExecuteTime": {
     "end_time": "2024-08-13T22:23:18.056439Z",
     "start_time": "2024-08-13T22:23:18.050954Z"
    }
   },
   "id": "e74b18bbda4d38ae",
   "execution_count": 45
  },
  {
   "cell_type": "code",
   "outputs": [
    {
     "data": {
      "text/plain": "<1795x103 sparse matrix of type '<class 'numpy.float64'>'\n\twith 22886 stored elements in Compressed Sparse Row format>"
     },
     "execution_count": 46,
     "metadata": {},
     "output_type": "execute_result"
    }
   ],
   "source": [
    "# clean_weather_data_onehot_sparse"
   ],
   "metadata": {
    "collapsed": false,
    "ExecuteTime": {
     "end_time": "2024-08-13T22:23:18.139864Z",
     "start_time": "2024-08-13T22:23:18.135928Z"
    }
   },
   "id": "10b5d637bb5b28d5",
   "execution_count": 46
  },
  {
   "cell_type": "code",
   "outputs": [],
   "source": [
    "# # 假设时间序列数据有1796个时间点\n",
    "# n_time_points = clean_weather_data_onehot.shape[0]"
   ],
   "metadata": {
    "collapsed": false,
    "ExecuteTime": {
     "end_time": "2024-08-13T22:23:18.181741Z",
     "start_time": "2024-08-13T22:23:18.178992Z"
    }
   },
   "id": "f056df02360e7b6f",
   "execution_count": 47
  },
  {
   "cell_type": "code",
   "outputs": [],
   "source": [
    "# # 复制空间特征（每个时间点都对应相同的空间特征）\n",
    "# spatial_features_repeated = np.tile(spatial_features, (n_time_points, 1))  # 维度变为 (1796, 640000*4)"
   ],
   "metadata": {
    "collapsed": false,
    "ExecuteTime": {
     "end_time": "2024-08-13T22:23:18.945294Z",
     "start_time": "2024-08-13T22:23:18.261921Z"
    }
   },
   "id": "b8b25d602297b790",
   "execution_count": 48
  },
  {
   "cell_type": "code",
   "outputs": [],
   "source": [
    "# # 加载时间序列数据\n",
    "# time_series_data = clean_weather_data_onehot_sparse"
   ],
   "metadata": {
    "collapsed": false,
    "ExecuteTime": {
     "end_time": "2024-08-13T22:23:18.952445Z",
     "start_time": "2024-08-13T22:23:18.946298Z"
    }
   },
   "id": "8d9a820bcde2a6ca",
   "execution_count": 49
  },
  {
   "cell_type": "code",
   "outputs": [],
   "source": [
    "# # 通过np.hstack将时间序列特征和展开的空间特征结合在一起\n",
    "# combined_data = np.hstack((spatial_features_repeated, np.repeat(time_series_data, 400*400, axis=0)))"
   ],
   "metadata": {
    "collapsed": false,
    "ExecuteTime": {
     "end_time": "2024-08-13T22:23:18.959816Z",
     "start_time": "2024-08-13T22:23:18.954013Z"
    }
   },
   "id": "e30aded272a2bd95",
   "execution_count": 50
  },
  {
   "cell_type": "code",
   "outputs": [],
   "source": [
    "windSpeed = clean_weather_data_onehot['windSpeed']"
   ],
   "metadata": {
    "collapsed": false,
    "ExecuteTime": {
     "end_time": "2024-08-13T22:23:18.967795Z",
     "start_time": "2024-08-13T22:23:18.960819Z"
    }
   },
   "id": "b53afc060581fdc7",
   "execution_count": 51
  },
  {
   "cell_type": "code",
   "outputs": [],
   "source": [
    "# import pandas as pd\n"
   ],
   "metadata": {
    "collapsed": false,
    "ExecuteTime": {
     "end_time": "2024-08-13T22:23:18.975060Z",
     "start_time": "2024-08-13T22:23:18.968799Z"
    }
   },
   "id": "ef9d1bb571f203a8",
   "execution_count": 52
  },
  {
   "cell_type": "code",
   "outputs": [],
   "source": [
    "# X = pd.DataFrame({\n",
    "#     'BH_tif_flat': BH_tif_flat,\n",
    "#     'CHM_tif_flat': CHM_tif_flat,\n",
    "#     'LAI_tif_flat': LAI_tif_flat,\n",
    "#     'DSM_tif_flat': DSM_tif_flat\n",
    "# })"
   ],
   "metadata": {
    "collapsed": false,
    "ExecuteTime": {
     "end_time": "2024-08-13T22:23:18.983566Z",
     "start_time": "2024-08-13T22:23:18.976063Z"
    }
   },
   "id": "98b4149b3355d1a6",
   "execution_count": 53
  },
  {
   "cell_type": "code",
   "outputs": [],
   "source": [
    "# Y = windSpeed"
   ],
   "metadata": {
    "collapsed": false,
    "ExecuteTime": {
     "end_time": "2024-08-13T22:23:18.989435Z",
     "start_time": "2024-08-13T22:23:18.984079Z"
    }
   },
   "id": "e77e49a5e0c43139",
   "execution_count": 54
  },
  {
   "cell_type": "code",
   "outputs": [],
   "source": [
    "# X_train, X_test, y_train, y_test = train_test_split(X, Y, test_size=0.2, random_state=42)"
   ],
   "metadata": {
    "collapsed": false,
    "ExecuteTime": {
     "end_time": "2024-08-13T22:23:18.996916Z",
     "start_time": "2024-08-13T22:23:18.990446Z"
    }
   },
   "id": "66300f72b5b777d2",
   "execution_count": 55
  },
  {
   "cell_type": "code",
   "outputs": [],
   "source": [
    "# x1 = BH_tif.data\n",
    "# x2 = CHM_tif.data\n",
    "# x3 = LAI_tif.data\n",
    "# x4 = DSM_tif.data\n",
    "# \n",
    "# y = windSpeed"
   ],
   "metadata": {
    "collapsed": false,
    "ExecuteTime": {
     "end_time": "2024-08-13T22:23:19.004424Z",
     "start_time": "2024-08-13T22:23:18.997920Z"
    }
   },
   "id": "a12b37496f151276",
   "execution_count": 56
  },
  {
   "cell_type": "code",
   "outputs": [],
   "source": [
    "# # 将列表转换为 numpy 数组\n",
    "# y = np.array(y)\n",
    "# \n",
    "# # 通过 np.repeat 和 np.reshape 扩展为 [1795, 400, 400]\n",
    "# y_expanded = np.repeat(y, 400*400).reshape(1795, 400, 400)"
   ],
   "metadata": {
    "collapsed": false,
    "ExecuteTime": {
     "end_time": "2024-08-13T22:23:19.617343Z",
     "start_time": "2024-08-13T22:23:19.005427Z"
    }
   },
   "id": "2157bc662e9399d8",
   "execution_count": 57
  },
  {
   "cell_type": "code",
   "outputs": [
    {
     "name": "stdout",
     "output_type": "stream",
     "text": [
      "(1795, 400, 400)\n"
     ]
    }
   ],
   "source": [
    "# print(y_expanded.shape) # 应输出 (1795, 400, 400)"
   ],
   "metadata": {
    "collapsed": false,
    "ExecuteTime": {
     "end_time": "2024-08-13T22:23:19.623086Z",
     "start_time": "2024-08-13T22:23:19.618349Z"
    }
   },
   "id": "38fecce369c086a5",
   "execution_count": 58
  },
  {
   "cell_type": "code",
   "outputs": [
    {
     "data": {
      "text/plain": "(1795, 400, 400)"
     },
     "execution_count": 59,
     "metadata": {},
     "output_type": "execute_result"
    }
   ],
   "source": [
    "# x1_expanded = np.repeat(x1[np.newaxis, :, :], 1795, axis=0)\n",
    "# x2_expanded = np.repeat(x2[np.newaxis, :, :], 1795, axis=0)\n",
    "# x3_expanded = np.repeat(x3[np.newaxis, :, :], 1795, axis=0)\n",
    "# x4_expanded = np.repeat(x4[np.newaxis, :, :], 1795, axis=0)\n",
    "# x1_expanded.shape"
   ],
   "metadata": {
    "collapsed": false,
    "ExecuteTime": {
     "end_time": "2024-08-13T22:23:21.513410Z",
     "start_time": "2024-08-13T22:23:19.624092Z"
    }
   },
   "id": "21e3759167b0223e",
   "execution_count": 59
  },
  {
   "cell_type": "code",
   "outputs": [
    {
     "data": {
      "text/plain": "array([[[  181, 65535, 65535, ..., 65535, 65535, 65535],\n        [  181,   181,   181, ..., 65535, 65535, 65535],\n        [  181,   181,   181, ..., 65535, 65535, 65535],\n        ...,\n        [65535, 65535, 65535, ..., 65535, 65535, 65535],\n        [65535, 65535, 65535, ..., 65535, 65535, 65535],\n        [65535, 65535, 65535, ..., 65535, 65535, 65535]],\n\n       [[  181, 65535, 65535, ..., 65535, 65535, 65535],\n        [  181,   181,   181, ..., 65535, 65535, 65535],\n        [  181,   181,   181, ..., 65535, 65535, 65535],\n        ...,\n        [65535, 65535, 65535, ..., 65535, 65535, 65535],\n        [65535, 65535, 65535, ..., 65535, 65535, 65535],\n        [65535, 65535, 65535, ..., 65535, 65535, 65535]],\n\n       [[  181, 65535, 65535, ..., 65535, 65535, 65535],\n        [  181,   181,   181, ..., 65535, 65535, 65535],\n        [  181,   181,   181, ..., 65535, 65535, 65535],\n        ...,\n        [65535, 65535, 65535, ..., 65535, 65535, 65535],\n        [65535, 65535, 65535, ..., 65535, 65535, 65535],\n        [65535, 65535, 65535, ..., 65535, 65535, 65535]],\n\n       ...,\n\n       [[  181, 65535, 65535, ..., 65535, 65535, 65535],\n        [  181,   181,   181, ..., 65535, 65535, 65535],\n        [  181,   181,   181, ..., 65535, 65535, 65535],\n        ...,\n        [65535, 65535, 65535, ..., 65535, 65535, 65535],\n        [65535, 65535, 65535, ..., 65535, 65535, 65535],\n        [65535, 65535, 65535, ..., 65535, 65535, 65535]],\n\n       [[  181, 65535, 65535, ..., 65535, 65535, 65535],\n        [  181,   181,   181, ..., 65535, 65535, 65535],\n        [  181,   181,   181, ..., 65535, 65535, 65535],\n        ...,\n        [65535, 65535, 65535, ..., 65535, 65535, 65535],\n        [65535, 65535, 65535, ..., 65535, 65535, 65535],\n        [65535, 65535, 65535, ..., 65535, 65535, 65535]],\n\n       [[  181, 65535, 65535, ..., 65535, 65535, 65535],\n        [  181,   181,   181, ..., 65535, 65535, 65535],\n        [  181,   181,   181, ..., 65535, 65535, 65535],\n        ...,\n        [65535, 65535, 65535, ..., 65535, 65535, 65535],\n        [65535, 65535, 65535, ..., 65535, 65535, 65535],\n        [65535, 65535, 65535, ..., 65535, 65535, 65535]]], dtype=uint16)"
     },
     "execution_count": 60,
     "metadata": {},
     "output_type": "execute_result"
    }
   ],
   "source": [
    "# x1_expanded"
   ],
   "metadata": {
    "collapsed": false,
    "ExecuteTime": {
     "end_time": "2024-08-13T22:23:21.530690Z",
     "start_time": "2024-08-13T22:23:21.513912Z"
    }
   },
   "id": "e3f029118bd5e1a4",
   "execution_count": 60
  },
  {
   "cell_type": "code",
   "outputs": [],
   "source": [
    "# # 构建滞后项 y_(t-1)\n",
    "# y_lagged = np.roll(y_expanded, shift=1, axis=0)\n",
    "# y_lagged[0, :, :] = 0 "
   ],
   "metadata": {
    "collapsed": false,
    "ExecuteTime": {
     "end_time": "2024-08-13T22:23:21.900888Z",
     "start_time": "2024-08-13T22:23:21.532503Z"
    }
   },
   "id": "3211c2aac060cb5a",
   "execution_count": 61
  },
  {
   "cell_type": "code",
   "outputs": [],
   "source": [
    "# # 构建设计矩阵 X 和响应变量 Y\n",
    "# X = np.stack([y_lagged, x1_expanded, x2_expanded, x3_expanded, x4_expanded], axis=-1)\n",
    "# Y = y_expanded"
   ],
   "metadata": {
    "collapsed": false,
    "ExecuteTime": {
     "end_time": "2024-08-13T22:23:26.698632Z",
     "start_time": "2024-08-13T22:23:21.901890Z"
    }
   },
   "id": "49f2e3a695553911",
   "execution_count": 62
  },
  {
   "cell_type": "code",
   "outputs": [],
   "source": [
    "# # 将数据重塑为 2D 以适应 statsmodels 的 OLS\n",
    "# X_reshaped = X.reshape(-1, 5)\n",
    "# Y_reshaped = Y.reshape(-1)"
   ],
   "metadata": {
    "collapsed": false,
    "ExecuteTime": {
     "end_time": "2024-08-13T22:23:26.704156Z",
     "start_time": "2024-08-13T22:23:26.699636Z"
    }
   },
   "id": "3a5df6919f871be2",
   "execution_count": 63
  },
  {
   "cell_type": "code",
   "outputs": [],
   "source": [
    "# import statsmodels.api as sm"
   ],
   "metadata": {
    "collapsed": false,
    "ExecuteTime": {
     "end_time": "2024-08-13T22:23:27.496512Z",
     "start_time": "2024-08-13T22:23:26.705166Z"
    }
   },
   "id": "7e211c66eb9486a7",
   "execution_count": 64
  },
  {
   "cell_type": "code",
   "outputs": [
    {
     "ename": "KeyboardInterrupt",
     "evalue": "",
     "output_type": "error",
     "traceback": [
      "\u001B[1;31m---------------------------------------------------------------------------\u001B[0m",
      "\u001B[1;31mKeyboardInterrupt\u001B[0m                         Traceback (most recent call last)",
      "Cell \u001B[1;32mIn[65], line 3\u001B[0m\n\u001B[0;32m      1\u001B[0m \u001B[38;5;66;03m# 拟合模型\u001B[39;00m\n\u001B[0;32m      2\u001B[0m X_reshaped \u001B[38;5;241m=\u001B[39m sm\u001B[38;5;241m.\u001B[39madd_constant(X_reshaped)  \u001B[38;5;66;03m# 加入截距项\u001B[39;00m\n\u001B[1;32m----> 3\u001B[0m model \u001B[38;5;241m=\u001B[39m sm\u001B[38;5;241m.\u001B[39mOLS(Y_reshaped, X_reshaped)\n\u001B[0;32m      4\u001B[0m results \u001B[38;5;241m=\u001B[39m model\u001B[38;5;241m.\u001B[39mfit()\n",
      "File \u001B[1;32mD:\\Program\\Anaconda3\\envs\\WWJProject\\Lib\\site-packages\\statsmodels\\regression\\linear_model.py:924\u001B[0m, in \u001B[0;36mOLS.__init__\u001B[1;34m(self, endog, exog, missing, hasconst, **kwargs)\u001B[0m\n\u001B[0;32m    921\u001B[0m     msg \u001B[38;5;241m=\u001B[39m (\u001B[38;5;124m\"\u001B[39m\u001B[38;5;124mWeights are not supported in OLS and will be ignored\u001B[39m\u001B[38;5;124m\"\u001B[39m\n\u001B[0;32m    922\u001B[0m            \u001B[38;5;124m\"\u001B[39m\u001B[38;5;124mAn exception will be raised in the next version.\u001B[39m\u001B[38;5;124m\"\u001B[39m)\n\u001B[0;32m    923\u001B[0m     warnings\u001B[38;5;241m.\u001B[39mwarn(msg, ValueWarning)\n\u001B[1;32m--> 924\u001B[0m \u001B[38;5;28msuper\u001B[39m()\u001B[38;5;241m.\u001B[39m\u001B[38;5;21m__init__\u001B[39m(endog, exog, missing\u001B[38;5;241m=\u001B[39mmissing,\n\u001B[0;32m    925\u001B[0m                           hasconst\u001B[38;5;241m=\u001B[39mhasconst, \u001B[38;5;241m*\u001B[39m\u001B[38;5;241m*\u001B[39mkwargs)\n\u001B[0;32m    926\u001B[0m \u001B[38;5;28;01mif\u001B[39;00m \u001B[38;5;124m\"\u001B[39m\u001B[38;5;124mweights\u001B[39m\u001B[38;5;124m\"\u001B[39m \u001B[38;5;129;01min\u001B[39;00m \u001B[38;5;28mself\u001B[39m\u001B[38;5;241m.\u001B[39m_init_keys:\n\u001B[0;32m    927\u001B[0m     \u001B[38;5;28mself\u001B[39m\u001B[38;5;241m.\u001B[39m_init_keys\u001B[38;5;241m.\u001B[39mremove(\u001B[38;5;124m\"\u001B[39m\u001B[38;5;124mweights\u001B[39m\u001B[38;5;124m\"\u001B[39m)\n",
      "File \u001B[1;32mD:\\Program\\Anaconda3\\envs\\WWJProject\\Lib\\site-packages\\statsmodels\\regression\\linear_model.py:743\u001B[0m, in \u001B[0;36mWLS.__init__\u001B[1;34m(self, endog, exog, weights, missing, hasconst, **kwargs)\u001B[0m\n\u001B[0;32m    741\u001B[0m         weights \u001B[38;5;241m=\u001B[39m np\u001B[38;5;241m.\u001B[39mrepeat(weights, \u001B[38;5;28mlen\u001B[39m(kwargs[\u001B[38;5;124m'\u001B[39m\u001B[38;5;124mmissing_idx\u001B[39m\u001B[38;5;124m'\u001B[39m]))\n\u001B[0;32m    742\u001B[0m     \u001B[38;5;28;01melse\u001B[39;00m:\n\u001B[1;32m--> 743\u001B[0m         weights \u001B[38;5;241m=\u001B[39m np\u001B[38;5;241m.\u001B[39mrepeat(weights, \u001B[38;5;28mlen\u001B[39m(endog))\n\u001B[0;32m    744\u001B[0m \u001B[38;5;66;03m# handle case that endog might be of len == 1\u001B[39;00m\n\u001B[0;32m    745\u001B[0m \u001B[38;5;28;01mif\u001B[39;00m \u001B[38;5;28mlen\u001B[39m(weights) \u001B[38;5;241m==\u001B[39m \u001B[38;5;241m1\u001B[39m:\n",
      "\u001B[1;31mKeyboardInterrupt\u001B[0m: "
     ]
    }
   ],
   "source": [
    "# # 拟合模型\n",
    "# X_reshaped = sm.add_constant(X_reshaped)  # 加入截距项\n",
    "# model = sm.OLS(Y_reshaped, X_reshaped)\n",
    "# results = model.fit()"
   ],
   "metadata": {
    "collapsed": false,
    "ExecuteTime": {
     "end_time": "2024-08-13T22:23:46.973826Z",
     "start_time": "2024-08-13T22:23:27.497516Z"
    }
   },
   "id": "6fd24ccec635091d",
   "execution_count": 65
  },
  {
   "cell_type": "code",
   "outputs": [],
   "source": [
    "# # 输出模型结果\n",
    "# print(results.summary())"
   ],
   "metadata": {
    "collapsed": false,
    "ExecuteTime": {
     "start_time": "2024-08-13T22:23:46.974915Z"
    }
   },
   "id": "8bf107df88a89d74",
   "execution_count": null
  },
  {
   "cell_type": "code",
   "outputs": [],
   "source": [
    "from sklearn.ensemble import RandomForestRegressor\n",
    "from sklearn.model_selection import train_test_split\n",
    "from sklearn.metrics import mean_squared_error"
   ],
   "metadata": {
    "collapsed": false,
    "ExecuteTime": {
     "start_time": "2024-08-13T22:23:46.975847Z"
    }
   },
   "id": "586adb476fefcffa",
   "execution_count": null
  },
  {
   "cell_type": "code",
   "outputs": [],
   "source": [
    "# # 划分训练集和测试集\n",
    "# X_train, X_test, Y_train, Y_test = train_test_split(X_reshaped, Y_reshaped, test_size=0.2, random_state=42)"
   ],
   "metadata": {
    "collapsed": false,
    "ExecuteTime": {
     "start_time": "2024-08-13T22:23:46.975847Z"
    }
   },
   "id": "d34a87d9441220ef",
   "execution_count": null
  },
  {
   "cell_type": "code",
   "outputs": [],
   "source": [
    "# # 构建随机森林模型\n",
    "# rf_model = RandomForestRegressor(n_estimators=100, random_state=42)\n",
    "# rf_model.fit(X_train, Y_train)"
   ],
   "metadata": {
    "collapsed": false,
    "ExecuteTime": {
     "start_time": "2024-08-13T22:23:46.976846Z"
    }
   },
   "id": "fd6489dd9811d284",
   "execution_count": null
  },
  {
   "cell_type": "code",
   "outputs": [],
   "source": [
    "# # 预测并评估模型\n",
    "# Y_pred = rf_model.predict(X_test)\n",
    "# mse = mean_squared_error(Y_test, Y_pred)\n",
    "# print(f\"Mean Squared Error: {mse}\")"
   ],
   "metadata": {
    "collapsed": false,
    "ExecuteTime": {
     "start_time": "2024-08-13T22:23:46.977847Z"
    }
   },
   "id": "de6dc38afda30e8f",
   "execution_count": null
  },
  {
   "cell_type": "code",
   "outputs": [],
   "source": [
    "# import matplotlib.pyplot as plt\n",
    "# \n",
    "# # 提取特征重要性\n",
    "# feature_importances = rf_model.feature_importances_\n",
    "# features = ['y_lagged', 'x1', 'x2', 'x3', 'x4']\n",
    "# \n",
    "# # 可视化特征重要性\n",
    "# plt.barh(features, feature_importances)\n",
    "# plt.xlabel(\"Feature Importance\")\n",
    "# plt.ylabel(\"Features\")\n",
    "# plt.title(\"Feature Importance in Random Forest Model\")\n",
    "# plt.show()"
   ],
   "metadata": {
    "collapsed": false
   },
   "id": "f6577a194648fab"
  },
  {
   "cell_type": "markdown",
   "source": [
    "# 网格数据差值"
   ],
   "metadata": {
    "collapsed": false
   },
   "id": "fcb7fa5b4cf37580"
  },
  {
   "cell_type": "code",
   "outputs": [],
   "source": [
    "import numpy as np\n",
    "\n",
    "# 已知点的坐标和温度值\n",
    "points = np.array([\n",
    "    [0, 0],  # 点 A\n",
    "    [1, 0],  # 点 B\n",
    "    [0, 1]   # 点 C\n",
    "])\n",
    "\n",
    "temperatures = np.array([5, 6, 7])  # 点 A, B, C 的温度值\n",
    "\n",
    "# 半变异矩阵\n",
    "Gamma = np.array([\n",
    "    [0, 1, 1, 1],          # 点 A 到 A, B, C 和约束条件\n",
    "    [1, 0, np.sqrt(2), 1], # 点 B 到 A, B, C 和约束条件\n",
    "    [1, np.sqrt(2), 0, 1], # 点 C 到 A, B, C 和约束条件\n",
    "    [1, 1, 1, 0]           # 约束条件\n",
    "])\n",
    "\n",
    "# 目标点 P 的坐标\n",
    "P = np.array([0.5, 0.5])\n",
    "\n",
    "# 计算 P 到 A, B, C 的半变异函数值\n",
    "gamma = np.array([\n",
    "    np.sqrt(np.sum((P - points[0])**2)),  # 到 A 的距离\n",
    "    np.sqrt(np.sum((P - points[1])**2)),  # 到 B 的距离\n",
    "    np.sqrt(np.sum((P - points[2])**2)),  # 到 C 的距离\n",
    "    1  # 约束条件\n",
    "])\n",
    "\n",
    "# 解克里金系统\n",
    "lambdas = np.linalg.solve(Gamma, gamma)\n",
    "\n",
    "# 提取权重\n",
    "lambda_A, lambda_B, lambda_C, mu = lambdas\n",
    "\n",
    "# 使用权重计算插值点 P 的温度值\n",
    "Z_P = lambda_A * temperatures[0] + lambda_B * temperatures[1] + lambda_C * temperatures[2]\n",
    "\n",
    "print(f\"点 P (0.5, 0.5) 的估计温度值为: {Z_P:.2f}\")\n"
   ],
   "metadata": {
    "collapsed": false,
    "ExecuteTime": {
     "start_time": "2024-08-13T22:23:46.978847Z"
    }
   },
   "id": "c9c41fcb038b83d",
   "execution_count": null
  },
  {
   "cell_type": "code",
   "outputs": [],
   "source": [
    "import pandas as pd"
   ],
   "metadata": {
    "collapsed": false,
    "ExecuteTime": {
     "start_time": "2024-08-13T22:23:46.979847Z"
    }
   },
   "id": "293e2ecd85566841",
   "execution_count": null
  },
  {
   "cell_type": "code",
   "outputs": [],
   "source": [
    "# 输入6个点的坐标和天气数据值\n",
    "\n",
    "# 提取的数据如下：\n",
    "data_5_extra_points = [\n",
    "    ['Renfrew Weather', (55.8739065, -4.3887910), (250756.73, 666880.47), '31/07/2024 09:30:00', 8.4, 17, 57, 0.4],\n",
    "    ['Ralston Weather Station', (55.8466298, -4.3708027), (251848.22, 663740.00), '31/07/2024 09:30:00', 8.1, 11.8, 78.2, 0.9],\n",
    "    ['Cathcart', (55.8114036, -4.2603826), (258548.22, 659684.28), '31/07/2024 09:28:07', 10, 15.9, 68, 0],\n",
    "    ['Clincarthill', (55.8253972, -4.2119939), (261484.32, 661295.42), '31/07/2024 09:29:36', 9.3, 15.1, 68, 0.8],\n",
    "    ['Cambuslang Scotland', (55.8253972, -4.2119939), (261484.32, 661295.42), '31/07/2024 09:31:36', 8.9, 13.4, 74, 0]\n",
    "]\n",
    "\n",
    "# 直接将数据列表转换为 Pandas DataFrame\n",
    "columns = ['Location', 'A Coordinates (Lat, Lon)', 'B Coordinates (X_B, Y_B)', 'Report Date / Time', 'Dew Point (°C)', 'Air Temperature (°C)', 'Relative Humidity (%)', 'Wind Speed (kn)']\n",
    "df_5_extra_points = pd.DataFrame(data, columns=columns)\n",
    "\n",
    "# 显示 DataFrame\n",
    "df_5_extra_points\n"
   ],
   "metadata": {
    "collapsed": false,
    "ExecuteTime": {
     "start_time": "2024-08-13T22:23:46.980848Z"
    }
   },
   "id": "9be495e4e878543b",
   "execution_count": null
  },
  {
   "cell_type": "code",
   "outputs": [],
   "source": [
    "# 从DataFrame中提取B坐标系的点和相关数据\n",
    "B_points = np.array([item[2] for item in data_5_extra_points])\n",
    "dew_points = np.array(df_5_extra_points['Dew Point (°C)'])\n",
    "air_temps = np.array(df_5_extra_points['Air Temperature (°C)'])\n",
    "humidity = np.array(df_5_extra_points['Relative Humidity (%)'])\n",
    "wind_speeds = np.array(df_5_extra_points['Wind Speed (kn)'])\n"
   ],
   "metadata": {
    "collapsed": false,
    "ExecuteTime": {
     "start_time": "2024-08-13T22:23:46.980848Z"
    }
   },
   "id": "46415a367cef5e2e",
   "execution_count": null
  },
  {
   "cell_type": "code",
   "outputs": [],
   "source": [
    "B_points"
   ],
   "metadata": {
    "collapsed": false,
    "ExecuteTime": {
     "start_time": "2024-08-13T22:23:46.981847Z"
    }
   },
   "id": "3cc864dc5df49680",
   "execution_count": null
  },
  {
   "cell_type": "code",
   "outputs": [],
   "source": [
    "dew_points"
   ],
   "metadata": {
    "collapsed": false,
    "ExecuteTime": {
     "start_time": "2024-08-13T22:23:46.982847Z"
    }
   },
   "id": "18f55c5ea2b5003a",
   "execution_count": null
  },
  {
   "cell_type": "code",
   "outputs": [],
   "source": [
    "air_temps"
   ],
   "metadata": {
    "collapsed": false
   },
   "id": "322468730c8dc65c",
   "execution_count": null
  },
  {
   "cell_type": "code",
   "outputs": [],
   "source": [
    "humidity"
   ],
   "metadata": {
    "collapsed": false,
    "ExecuteTime": {
     "start_time": "2024-08-13T22:23:46.984943Z"
    }
   },
   "id": "bdab44cb17a6d7e7",
   "execution_count": null
  },
  {
   "cell_type": "code",
   "outputs": [],
   "source": [
    "wind_speeds"
   ],
   "metadata": {
    "collapsed": false,
    "ExecuteTime": {
     "start_time": "2024-08-13T22:23:46.985943Z"
    }
   },
   "id": "ac93a612ac44302d",
   "execution_count": null
  },
  {
   "cell_type": "code",
   "outputs": [],
   "source": [
    "# 定义网格\n",
    "x_min, x_max = 258000, 260000\n",
    "y_min, y_max = 664000, 666000\n",
    "grid_x, grid_y = np.mgrid[x_min:x_max:400j, y_min:y_max:400j]\n",
    "grid_points = np.vstack([grid_x.ravel(), grid_y.ravel()]).T  # 是一个 (160000, 2) 的数组，保存了所有网格点的 (x, y) 坐标"
   ],
   "metadata": {
    "collapsed": false,
    "ExecuteTime": {
     "start_time": "2024-08-13T22:23:46.985943Z"
    }
   },
   "id": "846bf7eeb9633cf7",
   "execution_count": null
  },
  {
   "cell_type": "code",
   "outputs": [],
   "source": [
    "grid_points"
   ],
   "metadata": {
    "collapsed": false,
    "ExecuteTime": {
     "start_time": "2024-08-13T22:23:46.986943Z"
    }
   },
   "id": "a85025b62868060",
   "execution_count": null
  },
  {
   "cell_type": "code",
   "outputs": [],
   "source": [
    "# 定义半变异矩阵Gamma，简化处理为欧式距离\n",
    "def compute_gamma(points, P):\n",
    "    dist = np.sqrt(np.sum((points - P)**2, axis=1))\n",
    "    return np.hstack([dist, 1])\n"
   ],
   "metadata": {
    "collapsed": false
   },
   "id": "a919fea165bc7cd",
   "execution_count": null
  },
  {
   "cell_type": "code",
   "outputs": [],
   "source": [
    "# 函数：计算克里金插值\n",
    "def kriging_interpolation(B_points, values, grid_points):\n",
    "    # 构造Gamma矩阵\n",
    "    n_points = len(B_points)\n",
    "    Gamma = np.ones((n_points + 1, n_points + 1))\n",
    "    for i in range(n_points):\n",
    "        for j in range(n_points):\n",
    "            Gamma[i, j] = np.sqrt(np.sum((B_points[i] - B_points[j])**2))\n",
    "\n",
    "    # 添加一个小的正数扰动到对角线以避免奇异矩阵\n",
    "    Gamma[np.diag_indices_from(Gamma)] += 1e-10\n",
    "\n",
    "    Gamma[-1, -1] = 0\n",
    "\n",
    "    # 插值结果存储\n",
    "    interpolated_values = []\n",
    "\n",
    "    for P in grid_points:\n",
    "        gamma = compute_gamma(B_points, P)\n",
    "        lambdas = np.linalg.solve(Gamma, gamma)\n",
    "        interpolated_value = np.sum(lambdas[:-1] * values)\n",
    "        interpolated_values.append(interpolated_value)\n",
    "\n",
    "    return np.array(interpolated_values)\n"
   ],
   "metadata": {
    "collapsed": false,
    "ExecuteTime": {
     "start_time": "2024-08-13T22:23:46.987943Z"
    }
   },
   "id": "a403a68a4425e3df",
   "execution_count": null
  },
  {
   "cell_type": "code",
   "outputs": [],
   "source": [
    "# 对每个变量进行插值\n",
    "dew_point_grid = kriging_interpolation(B_points, dew_points, grid_points)\n",
    "air_temp_grid = kriging_interpolation(B_points, air_temps, grid_points)\n",
    "humidity_grid = kriging_interpolation(B_points, humidity, grid_points)\n",
    "wind_speed_grid = kriging_interpolation(B_points, wind_speeds, grid_points)\n"
   ],
   "metadata": {
    "collapsed": false,
    "ExecuteTime": {
     "start_time": "2024-08-13T22:23:46.988944Z"
    }
   },
   "id": "a57a63abaa4343a8",
   "execution_count": null
  },
  {
   "cell_type": "code",
   "outputs": [],
   "source": [
    "# 将结果存储为DataFrame\n",
    "grid_df = pd.DataFrame({\n",
    "    'X': grid_points[:, 0],\n",
    "    'Y': grid_points[:, 1],\n",
    "    'Dew Point (°C)': dew_point_grid,\n",
    "    'Air Temperature (°C)': air_temp_grid,\n",
    "    'Relative Humidity (%)': humidity_grid,\n",
    "    'Wind Speed (kn)': wind_speed_grid\n",
    "})"
   ],
   "metadata": {
    "collapsed": false
   },
   "id": "125688bb7860632d",
   "execution_count": null
  },
  {
   "cell_type": "code",
   "outputs": [],
   "source": [
    "grid_df"
   ],
   "metadata": {
    "collapsed": false
   },
   "id": "b821b2c4b932fe0",
   "execution_count": null
  },
  {
   "cell_type": "code",
   "outputs": [],
   "source": [
    "# 匹配地形数据与天气数据的形状\n",
    "\n",
    "# 展平地形数据\n",
    "X = np.array([tif.ravel() for tif in list_tifs]).T # (160000, 4)"
   ],
   "metadata": {
    "collapsed": false,
    "ExecuteTime": {
     "start_time": "2024-08-13T22:23:46.990946Z"
    }
   },
   "id": "63a09c9419201413",
   "execution_count": null
  },
  {
   "cell_type": "code",
   "outputs": [],
   "source": [
    "X"
   ],
   "metadata": {
    "collapsed": false,
    "ExecuteTime": {
     "start_time": "2024-08-13T22:23:46.991944Z"
    }
   },
   "id": "75e0f9af84fbb06d",
   "execution_count": null
  },
  {
   "cell_type": "code",
   "outputs": [],
   "source": [
    "# 提取天气数据\n",
    "Y = grid_df[['Dew Point (°C)', 'Air Temperature (°C)', 'Relative Humidity (%)', 'Wind Speed (kn)']].values # (160000, 4)"
   ],
   "metadata": {
    "collapsed": false,
    "ExecuteTime": {
     "start_time": "2024-08-13T22:23:46.992944Z"
    }
   },
   "id": "7a8d3063b20ec2bf",
   "execution_count": null
  },
  {
   "cell_type": "code",
   "outputs": [
    {
     "data": {
      "text/plain": "array([[ 8.99990701, 14.6003705 , 69.43959655,  0.40486841],\n       [ 8.99925483, 14.600463  , 69.43653002,  0.40505876],\n       [ 8.99860355, 14.60055833, 69.43345515,  0.40524862],\n       ...,\n       [ 8.86748666, 14.82650657, 67.81233419,  0.42656228],\n       [ 8.86716808, 14.82715992, 67.80830767,  0.42660798],\n       [ 8.86684982, 14.82781394, 67.80427948,  0.42665352]])"
     },
     "execution_count": 61,
     "metadata": {},
     "output_type": "execute_result"
    }
   ],
   "source": [
    "Y"
   ],
   "metadata": {
    "collapsed": false,
    "ExecuteTime": {
     "end_time": "2024-08-13T20:43:58.486036Z",
     "start_time": "2024-08-13T20:43:58.481639Z"
    }
   },
   "id": "a3450537b385efe1",
   "execution_count": 61
  },
  {
   "cell_type": "code",
   "outputs": [],
   "source": [
    "# # 构建存储结果的表格\n",
    "# importance_matrix = np.zeros((4, 4))"
   ],
   "metadata": {
    "collapsed": false,
    "ExecuteTime": {
     "end_time": "2024-08-13T20:44:00.831787Z",
     "start_time": "2024-08-13T20:44:00.828235Z"
    }
   },
   "id": "a6ba96236180aad5",
   "execution_count": 62
  },
  {
   "cell_type": "code",
   "outputs": [],
   "source": [
    "# from sklearn.ensemble import RandomForestRegressor"
   ],
   "metadata": {
    "collapsed": false,
    "ExecuteTime": {
     "end_time": "2024-08-13T20:45:23.062866Z",
     "start_time": "2024-08-13T20:45:23.060058Z"
    }
   },
   "id": "7b07b9f92519a965",
   "execution_count": 66
  },
  {
   "cell_type": "code",
   "outputs": [],
   "source": [
    "# # 对每一个Y参数构建随机森林模型并计算重要性\n",
    "# for i in range(4):\n",
    "#     y = Y[:, i]  # 第 i 个 Y 参数\n",
    "#     model = RandomForestRegressor(n_estimators=100, random_state=42)\n",
    "#     model.fit(X, y)\n",
    "#     importance_matrix[:, i] = model.feature_importances_"
   ],
   "metadata": {
    "collapsed": false,
    "ExecuteTime": {
     "end_time": "2024-08-13T20:51:10.796966Z",
     "start_time": "2024-08-13T20:45:23.802446Z"
    }
   },
   "id": "b51c495b5f18c28d",
   "execution_count": 67
  },
  {
   "cell_type": "code",
   "outputs": [],
   "source": [
    "# # 将结果转化为DataFrame以便显示\n",
    "# importance_df = pd.DataFrame(importance_matrix,\n",
    "#                              columns=['Dew Point (°C)', 'Air Temperature (°C)', 'Relative Humidity (%)', 'Wind Speed (kn)'],\n",
    "#                              index=['建筑物高度', '树冠高度', '叶面积指数', '地形数据'])\n"
   ],
   "metadata": {
    "collapsed": false,
    "ExecuteTime": {
     "end_time": "2024-08-13T20:51:10.801516Z",
     "start_time": "2024-08-13T20:51:10.797989Z"
    }
   },
   "id": "526a63af133af6d5",
   "execution_count": 68
  },
  {
   "cell_type": "code",
   "outputs": [
    {
     "data": {
      "text/plain": "       Dew Point (°C)  Air Temperature (°C)  Relative Humidity (%)  \\\n建筑物高度        0.123744              0.140821               0.136987   \n树冠高度         0.207721              0.210720               0.208571   \n叶面积指数        0.207112              0.210738               0.209923   \n地形数据         0.461423              0.437720               0.444520   \n\n       Wind Speed (kn)  \n建筑物高度         0.112652  \n树冠高度          0.190514  \n叶面积指数         0.201741  \n地形数据          0.495094  ",
      "text/html": "<div>\n<style scoped>\n    .dataframe tbody tr th:only-of-type {\n        vertical-align: middle;\n    }\n\n    .dataframe tbody tr th {\n        vertical-align: top;\n    }\n\n    .dataframe thead th {\n        text-align: right;\n    }\n</style>\n<table border=\"1\" class=\"dataframe\">\n  <thead>\n    <tr style=\"text-align: right;\">\n      <th></th>\n      <th>Dew Point (°C)</th>\n      <th>Air Temperature (°C)</th>\n      <th>Relative Humidity (%)</th>\n      <th>Wind Speed (kn)</th>\n    </tr>\n  </thead>\n  <tbody>\n    <tr>\n      <th>建筑物高度</th>\n      <td>0.123744</td>\n      <td>0.140821</td>\n      <td>0.136987</td>\n      <td>0.112652</td>\n    </tr>\n    <tr>\n      <th>树冠高度</th>\n      <td>0.207721</td>\n      <td>0.210720</td>\n      <td>0.208571</td>\n      <td>0.190514</td>\n    </tr>\n    <tr>\n      <th>叶面积指数</th>\n      <td>0.207112</td>\n      <td>0.210738</td>\n      <td>0.209923</td>\n      <td>0.201741</td>\n    </tr>\n    <tr>\n      <th>地形数据</th>\n      <td>0.461423</td>\n      <td>0.437720</td>\n      <td>0.444520</td>\n      <td>0.495094</td>\n    </tr>\n  </tbody>\n</table>\n</div>"
     },
     "execution_count": 69,
     "metadata": {},
     "output_type": "execute_result"
    }
   ],
   "source": [
    "# # 显示结果\n",
    "# importance_df"
   ],
   "metadata": {
    "collapsed": false,
    "ExecuteTime": {
     "end_time": "2024-08-13T20:51:10.821828Z",
     "start_time": "2024-08-13T20:51:10.802522Z"
    }
   },
   "id": "c800b035b7bce9d5",
   "execution_count": 69
  },
  {
   "cell_type": "code",
   "outputs": [],
   "source": [
    "import numpy as np\n",
    "import pandas as pd\n",
    "from sklearn.model_selection import train_test_split\n",
    "from sklearn.model_selection import cross_val_score\n",
    "from skopt import BayesSearchCV\n",
    "from skopt.space import Real, Categorical, Integer\n",
    "from sklearn.ensemble import RandomForestRegressor\n",
    "from sklearn.metrics import mean_squared_error, r2_score, mean_absolute_error, mean_absolute_percentage_error\n",
    "\n",
    "from tqdm import tqdm"
   ],
   "metadata": {
    "collapsed": false,
    "ExecuteTime": {
     "end_time": "2024-08-13T21:40:46.031583Z",
     "start_time": "2024-08-13T21:40:46.027889Z"
    }
   },
   "id": "8a9a6d4127de1561",
   "execution_count": 76
  },
  {
   "cell_type": "code",
   "outputs": [],
   "source": [
    "# 读取数据\n",
    "X "
   ],
   "metadata": {
    "collapsed": false
   },
   "id": "2e5452259f844adf"
  },
  {
   "cell_type": "code",
   "outputs": [],
   "source": [
    "# 回调函数类，用于存储每次迭代的参数和评估指标，并更新tqdm进度条\n",
    "class StoreResultsCallback:\n",
    "    def __init__(self, total_iterations, X, Y, model_idx):\n",
    "        self.parameters = []\n",
    "        self.mse_scores = []\n",
    "        self.r2_scores = []\n",
    "        self.mae_scores = []\n",
    "        self.rmse_scores = []\n",
    "        self.mape_scores = []\n",
    "        self.X = X\n",
    "        self.Y = Y\n",
    "        self.model_idx = model_idx\n",
    "        self.pbar = tqdm(total=total_iterations, desc=f\"BayesSearchCV Iterations for Model {model_idx+1}\")\n",
    "\n",
    "    def __call__(self, result):\n",
    "        self.parameters.append(result.x)  # 储存当前参数\n",
    "        y_pred = bayes_search.best_estimator_.predict(self.X)\n",
    "        mse = mean_squared_error(self.Y[:, self.model_idx], y_pred)\n",
    "        r2 = r2_score(self.Y[:, self.model_idx], y_pred)\n",
    "        mae = mean_absolute_error(self.Y[:, self.model_idx], y_pred)\n",
    "        rmse = np.sqrt(mse)\n",
    "        mape = mean_absolute_percentage_error(self.Y[:, self.model_idx], y_pred)\n",
    "\n",
    "        # 储存每次迭代的评估指标\n",
    "        self.mse_scores.append(mse)\n",
    "        self.r2_scores.append(r2)\n",
    "        self.mae_scores.append(mae)\n",
    "        self.rmse_scores.append(rmse)\n",
    "        self.mape_scores.append(mape)\n",
    "\n",
    "        # 更新进度条\n",
    "        self.pbar.update(1)\n",
    "\n",
    "    def __del__(self):\n",
    "        # 在进度条完成后关闭它\n",
    "        self.pbar.close()"
   ],
   "metadata": {
    "collapsed": false
   },
   "id": "3655c6baf40d02dc"
  },
  {
   "cell_type": "code",
   "outputs": [],
   "source": [
    "# 定义随机森林的超参数搜索空间\n",
    "search_space = {\n",
    "    'n_estimators': Integer(100, 300),  # 决策树数量\n",
    "    'max_depth': Integer(10, 30),  # 最大深度\n",
    "    'max_features': Categorical(['auto', 'sqrt', 'log2']),  # 最大特征数\n",
    "    'min_samples_split': Integer(2, 10),  # 最小分裂样本数\n",
    "    'min_samples_leaf': Integer(1, 4),  # 最小叶子节点样本数\n",
    "    'bootstrap': Categorical([True, False])  # 是否使用自助法\n",
    "}"
   ],
   "metadata": {
    "collapsed": false,
    "ExecuteTime": {
     "end_time": "2024-08-13T21:32:09.125713Z",
     "start_time": "2024-08-13T21:32:09.119712Z"
    }
   },
   "id": "993671e0838e227f",
   "execution_count": 72
  },
  {
   "cell_type": "code",
   "outputs": [],
   "source": [
    "# 初始化随机森林模型\n",
    "model = RandomForestRegressor(random_state=42, oob_score=True)"
   ],
   "metadata": {
    "collapsed": false,
    "ExecuteTime": {
     "end_time": "2024-08-13T21:33:33.066754Z",
     "start_time": "2024-08-13T21:33:33.031121Z"
    }
   },
   "id": "471778b4808e09ac",
   "execution_count": 73
  },
  {
   "cell_type": "code",
   "outputs": [],
   "source": [
    "# 用于存储每个模型的结果\n",
    "all_results = []"
   ],
   "metadata": {
    "collapsed": false
   },
   "id": "731bd9e7fe2be39c"
  },
  {
   "cell_type": "code",
   "outputs": [],
   "source": [
    "# 用于储存模型的特征重要性\n",
    "importance_matrix = np.zeros((4, len(search_space)))"
   ],
   "metadata": {
    "collapsed": false
   },
   "id": "def9a820fcc1673d"
  },
  {
   "cell_type": "code",
   "outputs": [],
   "source": [
    "n_iter = 10  # 迭代次数"
   ],
   "metadata": {
    "collapsed": false
   },
   "id": "1d198d8bfb8f1cba"
  },
  {
   "cell_type": "code",
   "outputs": [],
   "source": [
    "# 使用贝叶斯优化进行超参数搜索\n",
    "bayes_search = BayesSearchCV(\n",
    "    estimator=model,\n",
    "    search_spaces=search_space,\n",
    "    n_iter=n_iter,  # 迭代次数，可以调整  表示贝叶斯优化将会搜索 n_iter 组不同的超参数组合。每一组超参数组合将会被评估一次。\n",
    "    cv=5,  # 5 折交叉验证  对于每一个超参数组合，数据将会被分成 5 份，每次选择其中 4 份作为训练集，剩下的 1 份作为验证集，共进行 5 次训练和验证，最终得到该超参数组合的平均验证得分。\n",
    "    \n",
    "    # 结合n_iter和cv参数，BayesSearchCV将会在总共 10(n_iter) * 5 = 50 次训练和验证之后，返回最佳的超参数组合。\n",
    "    # 每组超参数组合只会被评估一次，但在这一次评估中，它会经过 5 折交叉验证得到性能评分。\n",
    "    # n_iter 次迭代对应于搜索和评估 n_iter 组不同的超参数组合，而不是每个超参数组合迭代 n_iter 次。\n",
    "    # 即，10(n_iter)种不同的超参数组合，每种组合都会进行5折交叉验证，最终得到最佳的超参数组合。\n",
    "    \n",
    "    n_jobs=-1,  # 使用所有可用的核\n",
    "    verbose=2,  # 显示详细信息\n",
    "    scoring='neg_mean_squared_error'  # 使用负均方误差作为评分\n",
    ")"
   ],
   "metadata": {
    "collapsed": false,
    "ExecuteTime": {
     "end_time": "2024-08-13T21:33:40.417607Z",
     "start_time": "2024-08-13T21:33:40.412778Z"
    }
   },
   "id": "c429d9cc0570b24a",
   "execution_count": 74
  },
  {
   "cell_type": "code",
   "outputs": [],
   "source": [
    "for i in range(4):  # 针对每个Y参数执行BayesSearchCV\n",
    "    print(f\"Optimizing model {i+1}/4\")\n",
    "    \n",
    "    # 实例化回调函数，包含tqdm进度条\n",
    "    store_results_callback = StoreResultsCallback(total_iterations=n_iter)\n",
    "\n",
    "    # 开始贝叶斯优化，并传入回调函数\n",
    "    bayes_search.fit(X, Y[:, i], callback=[store_results_callback])\n",
    "\n",
    "    # 将结果存储\n",
    "    all_results.append((store_results_callback, bayes_search.best_params_))\n",
    "    \n",
    "    # 获取特征重要性\n",
    "    importance_matrix[:, i] = bayes_search.best_estimator_.feature_importances_\n"
   ],
   "metadata": {
    "collapsed": false
   },
   "id": "96d34eeb7b5da1a3"
  },
  {
   "cell_type": "code",
   "outputs": [],
   "source": [
    "# 打印最终的超参数优化和评估指标的具体值\n",
    "for i, (result, best_params) in enumerate(all_results):\n",
    "    print(f\"\\nModel {i+1}: Best Parameters: {best_params}\")\n",
    "    print(f\"Final Evaluation Metrics for Model {i+1}:\")\n",
    "    print(f\"  MSE: {result.mse_scores[-1]:.4f}\")\n",
    "    print(f\"  R²: {result.r2_scores[-1]:.4f}\")\n",
    "    print(f\"  MAE: {result.mae_scores[-1]:.4f}\")\n",
    "    print(f\"  RMSE: {result.rmse_scores[-1]:.4f}\")\n",
    "    print(f\"  MAPE: {result.mape_scores[-1]:.4f}\")"
   ],
   "metadata": {
    "collapsed": false
   },
   "id": "d65b2de0c6dfda57"
  },
  {
   "cell_type": "code",
   "outputs": [],
   "source": [
    "# 绘制每个参数在优化过程中的变化\n",
    "def plot_param_evolution(all_results, param_name, param_index):\n",
    "    plt.figure(figsize=(14, 8))\n",
    "    for i, result in enumerate(all_results):\n",
    "        param_values = [p[param_index] for p in result.parameters]\n",
    "        plt.plot(range(len(param_values)), param_values, label=f'Model {i+1}')\n",
    "    plt.title(f'{param_name} evolution during Bayes Optimization')\n",
    "    plt.xlabel('Iteration')\n",
    "    plt.ylabel(param_name)\n",
    "    plt.legend()\n",
    "    plt.grid(True)\n",
    "    plt.show()"
   ],
   "metadata": {
    "collapsed": false
   },
   "id": "fa1d98946a2a1aee"
  },
  {
   "cell_type": "code",
   "outputs": [],
   "source": [
    "# 绘制评估指标在优化过程中的变化\n",
    "def plot_metric_evolution(all_results, metric_name, metric_values):\n",
    "    plt.figure(figsize=(14, 8))\n",
    "    for i, result in enumerate(all_results):\n",
    "        plt.plot(range(len(metric_values[i])), metric_values[i], label=f'Model {i+1}')\n",
    "    plt.title(f'{metric_name} evolution during Bayes Optimization')\n",
    "    plt.xlabel('Iteration')\n",
    "    plt.ylabel(metric_name)\n",
    "    plt.legend()\n",
    "    plt.grid(True)\n",
    "    plt.show()"
   ],
   "metadata": {
    "collapsed": false
   },
   "id": "47f031c8ea64cf74"
  },
  {
   "cell_type": "code",
   "outputs": [],
   "source": [
    "# 参数索引对应到参数名称\n",
    "param_names = ['n_estimators', 'max_depth', 'max_features', 'min_samples_split', 'min_samples_leaf', 'bootstrap']\n",
    "param_indices = [0, 1, 2, 3, 4, 5]\n",
    "\n",
    "# 绘制所有参数的变化\n",
    "for param_name, param_index in zip(param_names, param_indices):\n",
    "    plot_param_evolution(all_results, param_name, param_index)"
   ],
   "metadata": {
    "collapsed": false
   },
   "id": "8ba485b5d58e5fdc"
  },
  {
   "cell_type": "code",
   "outputs": [],
   "source": [
    "# 绘制评估指标的变化\n",
    "metrics = ['MSE', 'R²', 'MAE', 'RMSE', 'MAPE']\n",
    "metric_values = [\n",
    "    [result.mse_scores for result in all_results],\n",
    "    [result.r2_scores for result in all_results],\n",
    "    [result.mae_scores for result in all_results],\n",
    "    [result.rmse_scores for result in all_results],\n",
    "    [result.mape_scores for result in all_results],\n",
    "]\n",
    "\n",
    "for metric_name, metric_value in zip(metrics, metric_values):\n",
    "    plot_metric_evolution(all_results, metric_name, metric_value)"
   ],
   "metadata": {
    "collapsed": false
   },
   "id": "acb118a9eab3908d"
  },
  {
   "cell_type": "code",
   "outputs": [],
   "source": [
    "# 将特征重要性结果转化为DataFrame\n",
    "importance_df = pd.DataFrame(importance_matrix,\n",
    "                             columns=['Dew Point (°C)', 'Air Temperature (°C)', 'Relative Humidity (%)', 'Wind Speed (kn)'],\n",
    "                             index=['建筑物高度', '树冠高度', '叶面积指数', '地形数据'])\n",
    "\n",
    "print(\"Feature Importances:\")\n",
    "print(importance_df)"
   ],
   "metadata": {
    "collapsed": false
   },
   "id": "f8de20075392c264"
  },
  {
   "cell_type": "code",
   "outputs": [],
   "source": [],
   "metadata": {
    "collapsed": false
   },
   "id": "bf8159d12545335e"
  },
  {
   "cell_type": "code",
   "outputs": [
    {
     "data": {
      "text/plain": "             day  tempMin  tempMax                                  summary  \\\n0     2015-01-01     7.53    12.23       Possible light rain until evening.   \n1     2015-01-02     3.58     7.15  Possible light rain throughout the day.   \n2     2015-01-03    -0.61     6.54                Clear throughout the day.   \n3     2015-01-04    -0.63     7.59        Mostly cloudy throughout the day.   \n4     2015-01-05     6.51    10.43             Overcast throughout the day.   \n...          ...      ...      ...                                      ...   \n1790  2019-11-26     8.55    10.57        Mostly cloudy throughout the day.   \n1791  2019-11-27     5.79     9.40        Mostly cloudy throughout the day.   \n1792  2019-11-28     2.30     6.67        Mostly cloudy throughout the day.   \n1793  2019-11-29     1.08     6.14        Mostly cloudy throughout the day.   \n1794  2019-11-30     0.42     5.69        Mostly cloudy throughout the day.   \n\n                   desc  cloudCover  humidity  windSpeed  visibility  \n0                  rain        0.80      0.89      14.69        4.43  \n1                  rain        0.62      0.79      15.04        5.64  \n2                  rain        0.31      0.84       4.48        6.20  \n3     partly-cloudy-day        0.78      0.85       4.35        6.22  \n4     partly-cloudy-day        0.85      0.91       6.20        5.91  \n...                 ...         ...       ...        ...         ...  \n1790               rain        0.96      0.85       6.80       10.00  \n1791               rain        0.87      0.85       6.82        9.03  \n1792  partly-cloudy-day        0.40      0.79       5.15       10.00  \n1793          clear-day        0.18      0.76       4.85        9.11  \n1794  partly-cloudy-day        0.55      0.72       4.79       10.00  \n\n[1795 rows x 9 columns]",
      "text/html": "<div>\n<style scoped>\n    .dataframe tbody tr th:only-of-type {\n        vertical-align: middle;\n    }\n\n    .dataframe tbody tr th {\n        vertical-align: top;\n    }\n\n    .dataframe thead th {\n        text-align: right;\n    }\n</style>\n<table border=\"1\" class=\"dataframe\">\n  <thead>\n    <tr style=\"text-align: right;\">\n      <th></th>\n      <th>day</th>\n      <th>tempMin</th>\n      <th>tempMax</th>\n      <th>summary</th>\n      <th>desc</th>\n      <th>cloudCover</th>\n      <th>humidity</th>\n      <th>windSpeed</th>\n      <th>visibility</th>\n    </tr>\n  </thead>\n  <tbody>\n    <tr>\n      <th>0</th>\n      <td>2015-01-01</td>\n      <td>7.53</td>\n      <td>12.23</td>\n      <td>Possible light rain until evening.</td>\n      <td>rain</td>\n      <td>0.80</td>\n      <td>0.89</td>\n      <td>14.69</td>\n      <td>4.43</td>\n    </tr>\n    <tr>\n      <th>1</th>\n      <td>2015-01-02</td>\n      <td>3.58</td>\n      <td>7.15</td>\n      <td>Possible light rain throughout the day.</td>\n      <td>rain</td>\n      <td>0.62</td>\n      <td>0.79</td>\n      <td>15.04</td>\n      <td>5.64</td>\n    </tr>\n    <tr>\n      <th>2</th>\n      <td>2015-01-03</td>\n      <td>-0.61</td>\n      <td>6.54</td>\n      <td>Clear throughout the day.</td>\n      <td>rain</td>\n      <td>0.31</td>\n      <td>0.84</td>\n      <td>4.48</td>\n      <td>6.20</td>\n    </tr>\n    <tr>\n      <th>3</th>\n      <td>2015-01-04</td>\n      <td>-0.63</td>\n      <td>7.59</td>\n      <td>Mostly cloudy throughout the day.</td>\n      <td>partly-cloudy-day</td>\n      <td>0.78</td>\n      <td>0.85</td>\n      <td>4.35</td>\n      <td>6.22</td>\n    </tr>\n    <tr>\n      <th>4</th>\n      <td>2015-01-05</td>\n      <td>6.51</td>\n      <td>10.43</td>\n      <td>Overcast throughout the day.</td>\n      <td>partly-cloudy-day</td>\n      <td>0.85</td>\n      <td>0.91</td>\n      <td>6.20</td>\n      <td>5.91</td>\n    </tr>\n    <tr>\n      <th>...</th>\n      <td>...</td>\n      <td>...</td>\n      <td>...</td>\n      <td>...</td>\n      <td>...</td>\n      <td>...</td>\n      <td>...</td>\n      <td>...</td>\n      <td>...</td>\n    </tr>\n    <tr>\n      <th>1790</th>\n      <td>2019-11-26</td>\n      <td>8.55</td>\n      <td>10.57</td>\n      <td>Mostly cloudy throughout the day.</td>\n      <td>rain</td>\n      <td>0.96</td>\n      <td>0.85</td>\n      <td>6.80</td>\n      <td>10.00</td>\n    </tr>\n    <tr>\n      <th>1791</th>\n      <td>2019-11-27</td>\n      <td>5.79</td>\n      <td>9.40</td>\n      <td>Mostly cloudy throughout the day.</td>\n      <td>rain</td>\n      <td>0.87</td>\n      <td>0.85</td>\n      <td>6.82</td>\n      <td>9.03</td>\n    </tr>\n    <tr>\n      <th>1792</th>\n      <td>2019-11-28</td>\n      <td>2.30</td>\n      <td>6.67</td>\n      <td>Mostly cloudy throughout the day.</td>\n      <td>partly-cloudy-day</td>\n      <td>0.40</td>\n      <td>0.79</td>\n      <td>5.15</td>\n      <td>10.00</td>\n    </tr>\n    <tr>\n      <th>1793</th>\n      <td>2019-11-29</td>\n      <td>1.08</td>\n      <td>6.14</td>\n      <td>Mostly cloudy throughout the day.</td>\n      <td>clear-day</td>\n      <td>0.18</td>\n      <td>0.76</td>\n      <td>4.85</td>\n      <td>9.11</td>\n    </tr>\n    <tr>\n      <th>1794</th>\n      <td>2019-11-30</td>\n      <td>0.42</td>\n      <td>5.69</td>\n      <td>Mostly cloudy throughout the day.</td>\n      <td>partly-cloudy-day</td>\n      <td>0.55</td>\n      <td>0.72</td>\n      <td>4.79</td>\n      <td>10.00</td>\n    </tr>\n  </tbody>\n</table>\n<p>1795 rows × 9 columns</p>\n</div>"
     },
     "execution_count": 1,
     "metadata": {},
     "output_type": "execute_result"
    }
   ],
   "source": [
    "import pandas as pd\n",
    "        \n",
    "clean_weather_data = pd.read_csv('datasets/clean_weather_data.csv')\n",
    "clean_weather_data"
   ],
   "metadata": {
    "collapsed": false,
    "ExecuteTime": {
     "end_time": "2024-08-14T20:58:11.416471Z",
     "start_time": "2024-08-14T20:58:10.925403Z"
    }
   },
   "id": "930b09cb9a93fa3a",
   "execution_count": 1
  },
  {
   "cell_type": "code",
   "outputs": [],
   "source": [
    "# 选择指定的列\n",
    "df_selected = clean_weather_data[['tempMin', 'tempMax', 'cloudCover', 'humidity', 'windSpeed', 'visibility']]\n"
   ],
   "metadata": {
    "collapsed": false,
    "ExecuteTime": {
     "end_time": "2024-08-14T20:58:32.543284Z",
     "start_time": "2024-08-14T20:58:32.539273Z"
    }
   },
   "id": "74746c1724f142cd",
   "execution_count": 2
  },
  {
   "cell_type": "code",
   "outputs": [
    {
     "data": {
      "text/plain": "      tempMin  tempMax  cloudCover  humidity  windSpeed  visibility\n0        7.53    12.23        0.80      0.89      14.69        4.43\n1        3.58     7.15        0.62      0.79      15.04        5.64\n2       -0.61     6.54        0.31      0.84       4.48        6.20\n3       -0.63     7.59        0.78      0.85       4.35        6.22\n4        6.51    10.43        0.85      0.91       6.20        5.91\n...       ...      ...         ...       ...        ...         ...\n1790     8.55    10.57        0.96      0.85       6.80       10.00\n1791     5.79     9.40        0.87      0.85       6.82        9.03\n1792     2.30     6.67        0.40      0.79       5.15       10.00\n1793     1.08     6.14        0.18      0.76       4.85        9.11\n1794     0.42     5.69        0.55      0.72       4.79       10.00\n\n[1795 rows x 6 columns]",
      "text/html": "<div>\n<style scoped>\n    .dataframe tbody tr th:only-of-type {\n        vertical-align: middle;\n    }\n\n    .dataframe tbody tr th {\n        vertical-align: top;\n    }\n\n    .dataframe thead th {\n        text-align: right;\n    }\n</style>\n<table border=\"1\" class=\"dataframe\">\n  <thead>\n    <tr style=\"text-align: right;\">\n      <th></th>\n      <th>tempMin</th>\n      <th>tempMax</th>\n      <th>cloudCover</th>\n      <th>humidity</th>\n      <th>windSpeed</th>\n      <th>visibility</th>\n    </tr>\n  </thead>\n  <tbody>\n    <tr>\n      <th>0</th>\n      <td>7.53</td>\n      <td>12.23</td>\n      <td>0.80</td>\n      <td>0.89</td>\n      <td>14.69</td>\n      <td>4.43</td>\n    </tr>\n    <tr>\n      <th>1</th>\n      <td>3.58</td>\n      <td>7.15</td>\n      <td>0.62</td>\n      <td>0.79</td>\n      <td>15.04</td>\n      <td>5.64</td>\n    </tr>\n    <tr>\n      <th>2</th>\n      <td>-0.61</td>\n      <td>6.54</td>\n      <td>0.31</td>\n      <td>0.84</td>\n      <td>4.48</td>\n      <td>6.20</td>\n    </tr>\n    <tr>\n      <th>3</th>\n      <td>-0.63</td>\n      <td>7.59</td>\n      <td>0.78</td>\n      <td>0.85</td>\n      <td>4.35</td>\n      <td>6.22</td>\n    </tr>\n    <tr>\n      <th>4</th>\n      <td>6.51</td>\n      <td>10.43</td>\n      <td>0.85</td>\n      <td>0.91</td>\n      <td>6.20</td>\n      <td>5.91</td>\n    </tr>\n    <tr>\n      <th>...</th>\n      <td>...</td>\n      <td>...</td>\n      <td>...</td>\n      <td>...</td>\n      <td>...</td>\n      <td>...</td>\n    </tr>\n    <tr>\n      <th>1790</th>\n      <td>8.55</td>\n      <td>10.57</td>\n      <td>0.96</td>\n      <td>0.85</td>\n      <td>6.80</td>\n      <td>10.00</td>\n    </tr>\n    <tr>\n      <th>1791</th>\n      <td>5.79</td>\n      <td>9.40</td>\n      <td>0.87</td>\n      <td>0.85</td>\n      <td>6.82</td>\n      <td>9.03</td>\n    </tr>\n    <tr>\n      <th>1792</th>\n      <td>2.30</td>\n      <td>6.67</td>\n      <td>0.40</td>\n      <td>0.79</td>\n      <td>5.15</td>\n      <td>10.00</td>\n    </tr>\n    <tr>\n      <th>1793</th>\n      <td>1.08</td>\n      <td>6.14</td>\n      <td>0.18</td>\n      <td>0.76</td>\n      <td>4.85</td>\n      <td>9.11</td>\n    </tr>\n    <tr>\n      <th>1794</th>\n      <td>0.42</td>\n      <td>5.69</td>\n      <td>0.55</td>\n      <td>0.72</td>\n      <td>4.79</td>\n      <td>10.00</td>\n    </tr>\n  </tbody>\n</table>\n<p>1795 rows × 6 columns</p>\n</div>"
     },
     "execution_count": 3,
     "metadata": {},
     "output_type": "execute_result"
    }
   ],
   "source": [
    "df_selected"
   ],
   "metadata": {
    "collapsed": false,
    "ExecuteTime": {
     "end_time": "2024-08-14T20:58:35.056664Z",
     "start_time": "2024-08-14T20:58:35.049240Z"
    }
   },
   "id": "1e7e469e163a616a",
   "execution_count": 3
  },
  {
   "cell_type": "code",
   "outputs": [],
   "source": [
    "# 导出为新的 CSV 文件\n",
    "df_selected.to_csv('useful_data/weather_1795_6.csv', index=False)\n"
   ],
   "metadata": {
    "collapsed": false,
    "ExecuteTime": {
     "end_time": "2024-08-14T21:02:15.676952Z",
     "start_time": "2024-08-14T21:02:15.670063Z"
    }
   },
   "id": "58391095b854bece",
   "execution_count": 6
  },
  {
   "cell_type": "code",
   "outputs": [],
   "source": [],
   "metadata": {
    "collapsed": false
   },
   "id": "afea66879ce4900a"
  },
  {
   "cell_type": "markdown",
   "source": [],
   "metadata": {
    "collapsed": false
   },
   "id": "7e62524211a47394"
  },
  {
   "cell_type": "code",
   "outputs": [],
   "source": [],
   "metadata": {
    "collapsed": false
   },
   "id": "7c45ba199d5d7654"
  },
  {
   "cell_type": "code",
   "outputs": [
    {
     "data": {
      "text/plain": "     14.600370500524871  14.600462999819063  14.600558329824013  \\\n0             14.600907           14.600999           14.601094   \n1             14.601441           14.601532           14.601626   \n2             14.601973           14.602063           14.602157   \n3             14.602502           14.602592           14.602684   \n4             14.603028           14.603117           14.603210   \n..                  ...                 ...                 ...   \n394           14.641298           14.641528           14.641759   \n395           14.641077           14.641307           14.641539   \n396           14.640854           14.641086           14.641319   \n397           14.640631           14.640863           14.641098   \n398           14.640406           14.640640           14.640876   \n\n     14.600656486613742  14.60075746625782  14.60086126482139  \\\n0             14.601191          14.601292          14.601395   \n1             14.601723          14.601823          14.601926   \n2             14.602253          14.602352          14.602454   \n3             14.602780          14.602879          14.602980   \n4             14.603305          14.603403          14.603503   \n..                  ...                ...                ...   \n394           14.641991          14.642225          14.642461   \n395           14.641773          14.642008          14.642245   \n396           14.641554          14.641790          14.642028   \n397           14.641334          14.641571          14.641810   \n398           14.641113          14.641351          14.641591   \n\n     14.600967878365193  14.601077302945582  14.60118953461453  \\\n0             14.601501           14.601609          14.601721   \n1             14.602031           14.602139          14.602250   \n2             14.602559           14.602666          14.602777   \n3             14.603084           14.603191          14.603301   \n4             14.603607           14.603713          14.603822   \n..                  ...                 ...                ...   \n394           14.642698           14.642936          14.643176   \n395           14.642483           14.642722          14.642963   \n396           14.642267           14.642507          14.642749   \n397           14.642050           14.642291          14.642535   \n398           14.641832           14.642075          14.642319   \n\n     14.601304569419673  ...  14.809819321596047  14.810692351602892  \\\n0             14.601835  ...           14.809988           14.810860   \n1             14.602364  ...           14.810156           14.811027   \n2             14.602890  ...           14.810324           14.811193   \n3             14.603413  ...           14.810490           14.811359   \n4             14.603934  ...           14.810656           14.811523   \n..                  ...  ...                 ...                 ...   \n394           14.643418  ...           14.822261           14.822910   \n395           14.643206  ...           14.822184           14.822833   \n396           14.642993  ...           14.822107           14.822756   \n397           14.642779  ...           14.822030           14.822679   \n398           14.642564  ...           14.821952           14.822601   \n\n     14.811566530151993  14.812441853028433  14.813318316020347  \\\n0             14.811733           14.812607           14.813483   \n1             14.811899           14.812772           14.813646   \n2             14.812064           14.812936           14.813809   \n3             14.812228           14.813099           14.813971   \n4             14.812392           14.813261           14.814132   \n..                  ...                 ...                 ...   \n394           14.823560           14.824210           14.824862   \n395           14.823483           14.824133           14.824784   \n396           14.823406           14.824056           14.824707   \n397           14.823328           14.823978           14.824629   \n398           14.823250           14.823900           14.824551   \n\n     14.814195914918757  14.815074645517784  14.815954503614522  \\\n0             14.814359           14.815237           14.816115   \n1             14.814521           14.815398           14.816275   \n2             14.814683           14.815558           14.816435   \n3             14.814844           14.815718           14.816593   \n4             14.815004           14.815877           14.816751   \n..                  ...                 ...                 ...   \n394           14.825513           14.826166           14.826819   \n395           14.825436           14.826088           14.826742   \n396           14.825358           14.826011           14.826664   \n397           14.825280           14.825932           14.826585   \n398           14.825202           14.825854           14.826507   \n\n     14.816835485009099  14.817717585504766  \n0             14.816995           14.817876  \n1             14.817154           14.818034  \n2             14.817312           14.818191  \n3             14.817470           14.818347  \n4             14.817626           14.818503  \n..                  ...                 ...  \n394           14.827473           14.828128  \n395           14.827395           14.828050  \n396           14.827317           14.827971  \n397           14.827239           14.827893  \n398           14.827160           14.827814  \n\n[399 rows x 400 columns]",
      "text/html": "<div>\n<style scoped>\n    .dataframe tbody tr th:only-of-type {\n        vertical-align: middle;\n    }\n\n    .dataframe tbody tr th {\n        vertical-align: top;\n    }\n\n    .dataframe thead th {\n        text-align: right;\n    }\n</style>\n<table border=\"1\" class=\"dataframe\">\n  <thead>\n    <tr style=\"text-align: right;\">\n      <th></th>\n      <th>14.600370500524871</th>\n      <th>14.600462999819063</th>\n      <th>14.600558329824013</th>\n      <th>14.600656486613742</th>\n      <th>14.60075746625782</th>\n      <th>14.60086126482139</th>\n      <th>14.600967878365193</th>\n      <th>14.601077302945582</th>\n      <th>14.60118953461453</th>\n      <th>14.601304569419673</th>\n      <th>...</th>\n      <th>14.809819321596047</th>\n      <th>14.810692351602892</th>\n      <th>14.811566530151993</th>\n      <th>14.812441853028433</th>\n      <th>14.813318316020347</th>\n      <th>14.814195914918757</th>\n      <th>14.815074645517784</th>\n      <th>14.815954503614522</th>\n      <th>14.816835485009099</th>\n      <th>14.817717585504766</th>\n    </tr>\n  </thead>\n  <tbody>\n    <tr>\n      <th>0</th>\n      <td>14.600907</td>\n      <td>14.600999</td>\n      <td>14.601094</td>\n      <td>14.601191</td>\n      <td>14.601292</td>\n      <td>14.601395</td>\n      <td>14.601501</td>\n      <td>14.601609</td>\n      <td>14.601721</td>\n      <td>14.601835</td>\n      <td>...</td>\n      <td>14.809988</td>\n      <td>14.810860</td>\n      <td>14.811733</td>\n      <td>14.812607</td>\n      <td>14.813483</td>\n      <td>14.814359</td>\n      <td>14.815237</td>\n      <td>14.816115</td>\n      <td>14.816995</td>\n      <td>14.817876</td>\n    </tr>\n    <tr>\n      <th>1</th>\n      <td>14.601441</td>\n      <td>14.601532</td>\n      <td>14.601626</td>\n      <td>14.601723</td>\n      <td>14.601823</td>\n      <td>14.601926</td>\n      <td>14.602031</td>\n      <td>14.602139</td>\n      <td>14.602250</td>\n      <td>14.602364</td>\n      <td>...</td>\n      <td>14.810156</td>\n      <td>14.811027</td>\n      <td>14.811899</td>\n      <td>14.812772</td>\n      <td>14.813646</td>\n      <td>14.814521</td>\n      <td>14.815398</td>\n      <td>14.816275</td>\n      <td>14.817154</td>\n      <td>14.818034</td>\n    </tr>\n    <tr>\n      <th>2</th>\n      <td>14.601973</td>\n      <td>14.602063</td>\n      <td>14.602157</td>\n      <td>14.602253</td>\n      <td>14.602352</td>\n      <td>14.602454</td>\n      <td>14.602559</td>\n      <td>14.602666</td>\n      <td>14.602777</td>\n      <td>14.602890</td>\n      <td>...</td>\n      <td>14.810324</td>\n      <td>14.811193</td>\n      <td>14.812064</td>\n      <td>14.812936</td>\n      <td>14.813809</td>\n      <td>14.814683</td>\n      <td>14.815558</td>\n      <td>14.816435</td>\n      <td>14.817312</td>\n      <td>14.818191</td>\n    </tr>\n    <tr>\n      <th>3</th>\n      <td>14.602502</td>\n      <td>14.602592</td>\n      <td>14.602684</td>\n      <td>14.602780</td>\n      <td>14.602879</td>\n      <td>14.602980</td>\n      <td>14.603084</td>\n      <td>14.603191</td>\n      <td>14.603301</td>\n      <td>14.603413</td>\n      <td>...</td>\n      <td>14.810490</td>\n      <td>14.811359</td>\n      <td>14.812228</td>\n      <td>14.813099</td>\n      <td>14.813971</td>\n      <td>14.814844</td>\n      <td>14.815718</td>\n      <td>14.816593</td>\n      <td>14.817470</td>\n      <td>14.818347</td>\n    </tr>\n    <tr>\n      <th>4</th>\n      <td>14.603028</td>\n      <td>14.603117</td>\n      <td>14.603210</td>\n      <td>14.603305</td>\n      <td>14.603403</td>\n      <td>14.603503</td>\n      <td>14.603607</td>\n      <td>14.603713</td>\n      <td>14.603822</td>\n      <td>14.603934</td>\n      <td>...</td>\n      <td>14.810656</td>\n      <td>14.811523</td>\n      <td>14.812392</td>\n      <td>14.813261</td>\n      <td>14.814132</td>\n      <td>14.815004</td>\n      <td>14.815877</td>\n      <td>14.816751</td>\n      <td>14.817626</td>\n      <td>14.818503</td>\n    </tr>\n    <tr>\n      <th>...</th>\n      <td>...</td>\n      <td>...</td>\n      <td>...</td>\n      <td>...</td>\n      <td>...</td>\n      <td>...</td>\n      <td>...</td>\n      <td>...</td>\n      <td>...</td>\n      <td>...</td>\n      <td>...</td>\n      <td>...</td>\n      <td>...</td>\n      <td>...</td>\n      <td>...</td>\n      <td>...</td>\n      <td>...</td>\n      <td>...</td>\n      <td>...</td>\n      <td>...</td>\n      <td>...</td>\n    </tr>\n    <tr>\n      <th>394</th>\n      <td>14.641298</td>\n      <td>14.641528</td>\n      <td>14.641759</td>\n      <td>14.641991</td>\n      <td>14.642225</td>\n      <td>14.642461</td>\n      <td>14.642698</td>\n      <td>14.642936</td>\n      <td>14.643176</td>\n      <td>14.643418</td>\n      <td>...</td>\n      <td>14.822261</td>\n      <td>14.822910</td>\n      <td>14.823560</td>\n      <td>14.824210</td>\n      <td>14.824862</td>\n      <td>14.825513</td>\n      <td>14.826166</td>\n      <td>14.826819</td>\n      <td>14.827473</td>\n      <td>14.828128</td>\n    </tr>\n    <tr>\n      <th>395</th>\n      <td>14.641077</td>\n      <td>14.641307</td>\n      <td>14.641539</td>\n      <td>14.641773</td>\n      <td>14.642008</td>\n      <td>14.642245</td>\n      <td>14.642483</td>\n      <td>14.642722</td>\n      <td>14.642963</td>\n      <td>14.643206</td>\n      <td>...</td>\n      <td>14.822184</td>\n      <td>14.822833</td>\n      <td>14.823483</td>\n      <td>14.824133</td>\n      <td>14.824784</td>\n      <td>14.825436</td>\n      <td>14.826088</td>\n      <td>14.826742</td>\n      <td>14.827395</td>\n      <td>14.828050</td>\n    </tr>\n    <tr>\n      <th>396</th>\n      <td>14.640854</td>\n      <td>14.641086</td>\n      <td>14.641319</td>\n      <td>14.641554</td>\n      <td>14.641790</td>\n      <td>14.642028</td>\n      <td>14.642267</td>\n      <td>14.642507</td>\n      <td>14.642749</td>\n      <td>14.642993</td>\n      <td>...</td>\n      <td>14.822107</td>\n      <td>14.822756</td>\n      <td>14.823406</td>\n      <td>14.824056</td>\n      <td>14.824707</td>\n      <td>14.825358</td>\n      <td>14.826011</td>\n      <td>14.826664</td>\n      <td>14.827317</td>\n      <td>14.827971</td>\n    </tr>\n    <tr>\n      <th>397</th>\n      <td>14.640631</td>\n      <td>14.640863</td>\n      <td>14.641098</td>\n      <td>14.641334</td>\n      <td>14.641571</td>\n      <td>14.641810</td>\n      <td>14.642050</td>\n      <td>14.642291</td>\n      <td>14.642535</td>\n      <td>14.642779</td>\n      <td>...</td>\n      <td>14.822030</td>\n      <td>14.822679</td>\n      <td>14.823328</td>\n      <td>14.823978</td>\n      <td>14.824629</td>\n      <td>14.825280</td>\n      <td>14.825932</td>\n      <td>14.826585</td>\n      <td>14.827239</td>\n      <td>14.827893</td>\n    </tr>\n    <tr>\n      <th>398</th>\n      <td>14.640406</td>\n      <td>14.640640</td>\n      <td>14.640876</td>\n      <td>14.641113</td>\n      <td>14.641351</td>\n      <td>14.641591</td>\n      <td>14.641832</td>\n      <td>14.642075</td>\n      <td>14.642319</td>\n      <td>14.642564</td>\n      <td>...</td>\n      <td>14.821952</td>\n      <td>14.822601</td>\n      <td>14.823250</td>\n      <td>14.823900</td>\n      <td>14.824551</td>\n      <td>14.825202</td>\n      <td>14.825854</td>\n      <td>14.826507</td>\n      <td>14.827160</td>\n      <td>14.827814</td>\n    </tr>\n  </tbody>\n</table>\n<p>399 rows × 400 columns</p>\n</div>"
     },
     "execution_count": 7,
     "metadata": {},
     "output_type": "execute_result"
    }
   ],
   "source": [
    "import pandas as pd\n",
    "        \n",
    "Air_Temperature_C_400_400 = pd.read_csv('useful_data/Air_Temperature_C_400_400.csv')\n",
    "Air_Temperature_C_400_400"
   ],
   "metadata": {
    "collapsed": false,
    "ExecuteTime": {
     "end_time": "2024-08-14T23:15:15.113536Z",
     "start_time": "2024-08-14T23:15:15.075004Z"
    }
   },
   "id": "41eb5ec1ae449852",
   "execution_count": 7
  },
  {
   "cell_type": "code",
   "outputs": [
    {
     "data": {
      "text/plain": "     8.999907010559944  8.999254827855932  8.99860355370626  \\\n0             9.000151           8.999499          8.998848   \n1             9.000394           8.999742          8.999091   \n2             9.000636           8.999984          8.999333   \n3             9.000877           9.000225          8.999574   \n4             9.001117           9.000465          8.999814   \n..                 ...                ...               ...   \n394           9.022687           9.022213          9.021740   \n395           9.022600           9.022128          9.021655   \n396           9.022514           9.022042          9.021570   \n397           9.022427           9.021955          9.021485   \n398           9.022339           9.021869          9.021399   \n\n     8.997953187144024  8.997303727202258  8.99665517291392  \\\n0             8.998198           8.997548          8.996900   \n1             8.998441           8.997792          8.997143   \n2             8.998683           8.998034          8.997386   \n3             8.998924           8.998275          8.997627   \n4             8.999165           8.998516          8.997867   \n..                 ...                ...               ...   \n394           9.021267           9.020795          9.020324   \n395           9.021183           9.020712          9.020241   \n396           9.021099           9.020628          9.020158   \n397           9.021014           9.020544          9.020075   \n398           9.020929           9.020460          9.019991   \n\n     8.996007523311826  8.995360777428779  8.994714934297443  \\\n0             8.996252           8.995606           8.994960   \n1             8.996496           8.995849           8.995203   \n2             8.996738           8.996092           8.995446   \n3             8.996980           8.996333           8.995688   \n4             8.997220           8.996574           8.995928   \n..                 ...                ...                ...   \n394           9.019852           9.019382           9.018911   \n395           9.019771           9.019301           9.018831   \n396           9.019688           9.019219           9.018750   \n397           9.019606           9.019137           9.018669   \n398           9.019523           9.019055           9.018587   \n\n     8.994069992950458  ...  8.805135493317024  8.804766249352053  \\\n0             8.994315  ...           8.805388           8.805019   \n1             8.994559  ...           8.805640           8.805271   \n2             8.994802  ...           8.805891           8.805522   \n3             8.995043  ...           8.806142           8.805773   \n4             8.995284  ...           8.806393           8.806023   \n..                 ...  ...                ...                ...   \n394           9.018442  ...           8.869372           8.869050   \n395           9.018362  ...           8.869461           8.869139   \n396           9.018282  ...           8.869549           8.869228   \n397           9.018201  ...           8.869638           8.869317   \n398           9.018121  ...           8.869726           8.869405   \n\n     8.804397556815385  8.804029414886653  8.803661822746108  \\\n0             8.804650           8.804282           8.803914   \n1             8.804902           8.804534           8.804166   \n2             8.805153           8.804785           8.804417   \n3             8.805404           8.805036           8.804668   \n4             8.805654           8.805286           8.804918   \n..                 ...                ...                ...   \n394           8.868729           8.868408           8.868087   \n395           8.868818           8.868497           8.868177   \n396           8.868907           8.868586           8.868266   \n397           8.868996           8.868675           8.868355   \n398           8.869084           8.868764           8.868444   \n\n     8.803294779574696  8.802928284553985  8.802562336866233  \\\n0             8.803547           8.803180           8.802814   \n1             8.803799           8.803432           8.803066   \n2             8.804050           8.803683           8.803317   \n3             8.804301           8.803934           8.803568   \n4             8.804551           8.804184           8.803818   \n..                 ...                ...                ...   \n394           8.867766           8.867446           8.867126   \n395           8.867856           8.867536           8.867217   \n396           8.867946           8.867626           8.867307   \n397           8.868036           8.867716           8.867397   \n398           8.868125           8.867806           8.867487   \n\n     8.802196935694345  8.801832080221878  \n0             8.802449           8.802084  \n1             8.802701           8.802336  \n2             8.802952           8.802587  \n3             8.803202           8.802837  \n4             8.803452           8.803087  \n..                 ...                ...  \n394           8.866807           8.866488  \n395           8.866897           8.866579  \n396           8.866988           8.866669  \n397           8.867078           8.866760  \n398           8.867168           8.866850  \n\n[399 rows x 400 columns]",
      "text/html": "<div>\n<style scoped>\n    .dataframe tbody tr th:only-of-type {\n        vertical-align: middle;\n    }\n\n    .dataframe tbody tr th {\n        vertical-align: top;\n    }\n\n    .dataframe thead th {\n        text-align: right;\n    }\n</style>\n<table border=\"1\" class=\"dataframe\">\n  <thead>\n    <tr style=\"text-align: right;\">\n      <th></th>\n      <th>8.999907010559944</th>\n      <th>8.999254827855932</th>\n      <th>8.99860355370626</th>\n      <th>8.997953187144024</th>\n      <th>8.997303727202258</th>\n      <th>8.99665517291392</th>\n      <th>8.996007523311826</th>\n      <th>8.995360777428779</th>\n      <th>8.994714934297443</th>\n      <th>8.994069992950458</th>\n      <th>...</th>\n      <th>8.805135493317024</th>\n      <th>8.804766249352053</th>\n      <th>8.804397556815385</th>\n      <th>8.804029414886653</th>\n      <th>8.803661822746108</th>\n      <th>8.803294779574696</th>\n      <th>8.802928284553985</th>\n      <th>8.802562336866233</th>\n      <th>8.802196935694345</th>\n      <th>8.801832080221878</th>\n    </tr>\n  </thead>\n  <tbody>\n    <tr>\n      <th>0</th>\n      <td>9.000151</td>\n      <td>8.999499</td>\n      <td>8.998848</td>\n      <td>8.998198</td>\n      <td>8.997548</td>\n      <td>8.996900</td>\n      <td>8.996252</td>\n      <td>8.995606</td>\n      <td>8.994960</td>\n      <td>8.994315</td>\n      <td>...</td>\n      <td>8.805388</td>\n      <td>8.805019</td>\n      <td>8.804650</td>\n      <td>8.804282</td>\n      <td>8.803914</td>\n      <td>8.803547</td>\n      <td>8.803180</td>\n      <td>8.802814</td>\n      <td>8.802449</td>\n      <td>8.802084</td>\n    </tr>\n    <tr>\n      <th>1</th>\n      <td>9.000394</td>\n      <td>8.999742</td>\n      <td>8.999091</td>\n      <td>8.998441</td>\n      <td>8.997792</td>\n      <td>8.997143</td>\n      <td>8.996496</td>\n      <td>8.995849</td>\n      <td>8.995203</td>\n      <td>8.994559</td>\n      <td>...</td>\n      <td>8.805640</td>\n      <td>8.805271</td>\n      <td>8.804902</td>\n      <td>8.804534</td>\n      <td>8.804166</td>\n      <td>8.803799</td>\n      <td>8.803432</td>\n      <td>8.803066</td>\n      <td>8.802701</td>\n      <td>8.802336</td>\n    </tr>\n    <tr>\n      <th>2</th>\n      <td>9.000636</td>\n      <td>8.999984</td>\n      <td>8.999333</td>\n      <td>8.998683</td>\n      <td>8.998034</td>\n      <td>8.997386</td>\n      <td>8.996738</td>\n      <td>8.996092</td>\n      <td>8.995446</td>\n      <td>8.994802</td>\n      <td>...</td>\n      <td>8.805891</td>\n      <td>8.805522</td>\n      <td>8.805153</td>\n      <td>8.804785</td>\n      <td>8.804417</td>\n      <td>8.804050</td>\n      <td>8.803683</td>\n      <td>8.803317</td>\n      <td>8.802952</td>\n      <td>8.802587</td>\n    </tr>\n    <tr>\n      <th>3</th>\n      <td>9.000877</td>\n      <td>9.000225</td>\n      <td>8.999574</td>\n      <td>8.998924</td>\n      <td>8.998275</td>\n      <td>8.997627</td>\n      <td>8.996980</td>\n      <td>8.996333</td>\n      <td>8.995688</td>\n      <td>8.995043</td>\n      <td>...</td>\n      <td>8.806142</td>\n      <td>8.805773</td>\n      <td>8.805404</td>\n      <td>8.805036</td>\n      <td>8.804668</td>\n      <td>8.804301</td>\n      <td>8.803934</td>\n      <td>8.803568</td>\n      <td>8.803202</td>\n      <td>8.802837</td>\n    </tr>\n    <tr>\n      <th>4</th>\n      <td>9.001117</td>\n      <td>9.000465</td>\n      <td>8.999814</td>\n      <td>8.999165</td>\n      <td>8.998516</td>\n      <td>8.997867</td>\n      <td>8.997220</td>\n      <td>8.996574</td>\n      <td>8.995928</td>\n      <td>8.995284</td>\n      <td>...</td>\n      <td>8.806393</td>\n      <td>8.806023</td>\n      <td>8.805654</td>\n      <td>8.805286</td>\n      <td>8.804918</td>\n      <td>8.804551</td>\n      <td>8.804184</td>\n      <td>8.803818</td>\n      <td>8.803452</td>\n      <td>8.803087</td>\n    </tr>\n    <tr>\n      <th>...</th>\n      <td>...</td>\n      <td>...</td>\n      <td>...</td>\n      <td>...</td>\n      <td>...</td>\n      <td>...</td>\n      <td>...</td>\n      <td>...</td>\n      <td>...</td>\n      <td>...</td>\n      <td>...</td>\n      <td>...</td>\n      <td>...</td>\n      <td>...</td>\n      <td>...</td>\n      <td>...</td>\n      <td>...</td>\n      <td>...</td>\n      <td>...</td>\n      <td>...</td>\n      <td>...</td>\n    </tr>\n    <tr>\n      <th>394</th>\n      <td>9.022687</td>\n      <td>9.022213</td>\n      <td>9.021740</td>\n      <td>9.021267</td>\n      <td>9.020795</td>\n      <td>9.020324</td>\n      <td>9.019852</td>\n      <td>9.019382</td>\n      <td>9.018911</td>\n      <td>9.018442</td>\n      <td>...</td>\n      <td>8.869372</td>\n      <td>8.869050</td>\n      <td>8.868729</td>\n      <td>8.868408</td>\n      <td>8.868087</td>\n      <td>8.867766</td>\n      <td>8.867446</td>\n      <td>8.867126</td>\n      <td>8.866807</td>\n      <td>8.866488</td>\n    </tr>\n    <tr>\n      <th>395</th>\n      <td>9.022600</td>\n      <td>9.022128</td>\n      <td>9.021655</td>\n      <td>9.021183</td>\n      <td>9.020712</td>\n      <td>9.020241</td>\n      <td>9.019771</td>\n      <td>9.019301</td>\n      <td>9.018831</td>\n      <td>9.018362</td>\n      <td>...</td>\n      <td>8.869461</td>\n      <td>8.869139</td>\n      <td>8.868818</td>\n      <td>8.868497</td>\n      <td>8.868177</td>\n      <td>8.867856</td>\n      <td>8.867536</td>\n      <td>8.867217</td>\n      <td>8.866897</td>\n      <td>8.866579</td>\n    </tr>\n    <tr>\n      <th>396</th>\n      <td>9.022514</td>\n      <td>9.022042</td>\n      <td>9.021570</td>\n      <td>9.021099</td>\n      <td>9.020628</td>\n      <td>9.020158</td>\n      <td>9.019688</td>\n      <td>9.019219</td>\n      <td>9.018750</td>\n      <td>9.018282</td>\n      <td>...</td>\n      <td>8.869549</td>\n      <td>8.869228</td>\n      <td>8.868907</td>\n      <td>8.868586</td>\n      <td>8.868266</td>\n      <td>8.867946</td>\n      <td>8.867626</td>\n      <td>8.867307</td>\n      <td>8.866988</td>\n      <td>8.866669</td>\n    </tr>\n    <tr>\n      <th>397</th>\n      <td>9.022427</td>\n      <td>9.021955</td>\n      <td>9.021485</td>\n      <td>9.021014</td>\n      <td>9.020544</td>\n      <td>9.020075</td>\n      <td>9.019606</td>\n      <td>9.019137</td>\n      <td>9.018669</td>\n      <td>9.018201</td>\n      <td>...</td>\n      <td>8.869638</td>\n      <td>8.869317</td>\n      <td>8.868996</td>\n      <td>8.868675</td>\n      <td>8.868355</td>\n      <td>8.868036</td>\n      <td>8.867716</td>\n      <td>8.867397</td>\n      <td>8.867078</td>\n      <td>8.866760</td>\n    </tr>\n    <tr>\n      <th>398</th>\n      <td>9.022339</td>\n      <td>9.021869</td>\n      <td>9.021399</td>\n      <td>9.020929</td>\n      <td>9.020460</td>\n      <td>9.019991</td>\n      <td>9.019523</td>\n      <td>9.019055</td>\n      <td>9.018587</td>\n      <td>9.018121</td>\n      <td>...</td>\n      <td>8.869726</td>\n      <td>8.869405</td>\n      <td>8.869084</td>\n      <td>8.868764</td>\n      <td>8.868444</td>\n      <td>8.868125</td>\n      <td>8.867806</td>\n      <td>8.867487</td>\n      <td>8.867168</td>\n      <td>8.866850</td>\n    </tr>\n  </tbody>\n</table>\n<p>399 rows × 400 columns</p>\n</div>"
     },
     "execution_count": 8,
     "metadata": {},
     "output_type": "execute_result"
    }
   ],
   "source": [
    "import pandas as pd\n",
    "        \n",
    "Dew_Point_C_400_400 = pd.read_csv('useful_data/Dew_Point_C_400_400.csv')\n",
    "Dew_Point_C_400_400"
   ],
   "metadata": {
    "collapsed": false,
    "ExecuteTime": {
     "end_time": "2024-08-14T23:15:20.223817Z",
     "start_time": "2024-08-14T23:15:20.193192Z"
    }
   },
   "id": "f85166ed874c07b1",
   "execution_count": 8
  },
  {
   "cell_type": "code",
   "outputs": [
    {
     "data": {
      "text/plain": "     69.43959655478638  69.43653002195505  69.43345515386157  \\\n0            69.437913          69.434850          69.431778   \n1            69.436236          69.433176          69.430108   \n2            69.434566          69.431509          69.428444   \n3            69.432902          69.429848          69.426786   \n4            69.431244          69.428194          69.425135   \n..                 ...                ...                ...   \n394          69.207684          69.204856          69.202024   \n395          69.207924          69.205095          69.202262   \n396          69.208167          69.205336          69.202501   \n397          69.208412          69.205580          69.202743   \n398          69.208659          69.205825          69.202988   \n\n     69.43037196296686  69.42728046175176  69.42418066271676  \\\n0            69.428698          69.425610          69.422513   \n1            69.427031          69.423946          69.420852   \n2            69.425370          69.422288          69.419198   \n3            69.423715          69.420637          69.417550   \n4            69.422067          69.418992          69.415908   \n..                 ...                ...                ...   \n394          69.199188          69.196347          69.193501   \n395          69.199424          69.196581          69.193735   \n396          69.199662          69.196818          69.193970   \n397          69.199903          69.197058          69.194208   \n398          69.200146          69.197299          69.194448   \n\n     69.42107257838177  69.41795622128642  69.41483160398958  \\\n0            69.419408          69.416295          69.413174   \n1            69.417751          69.414641          69.411523   \n2            69.416099          69.412993          69.409878   \n3            69.414455          69.411351          69.408239   \n4            69.412816          69.409716          69.406607   \n..                 ...                ...                ...   \n394          69.190652          69.187798          69.184939   \n395          69.190884          69.188028          69.185168   \n396          69.191118          69.188261          69.185400   \n397          69.191354          69.188496          69.185634   \n398          69.191593          69.188734          69.185870   \n\n     69.41169873906975  ...  67.74734725547071  67.7421029288356  \\\n0            69.410044  ...          67.747344         67.742104   \n1            69.408396  ...          67.747342         67.742107   \n2            69.406755  ...          67.747341         67.742111   \n3            69.405119  ...          67.747341         67.742116   \n4            69.403490  ...          67.747343         67.742123   \n..                 ...  ...                ...               ...   \n394          69.182076  ...          67.838805         67.834784   \n395          69.182304  ...          67.839221         67.835201   \n396          69.182534  ...          67.839638         67.835620   \n397          69.182767  ...          67.840055         67.836039   \n398          69.183002  ...          67.840472         67.836458   \n\n     67.73685592887216  67.73160627021636  67.72635396749445  \\\n0            67.736862          67.731618          67.726370   \n1            67.736870          67.731630          67.726388   \n2            67.736879          67.731644          67.726407   \n3            67.736889          67.731659          67.726427   \n4            67.736900          67.731675          67.726448   \n..                 ...                ...                ...   \n394          67.830761          67.826736          67.822709   \n395          67.831180          67.827157          67.823132   \n396          67.831600          67.827579          67.823555   \n397          67.832020          67.828001          67.823979   \n398          67.832441          67.828423          67.824404   \n\n     67.7210990353233  67.71584148830986  67.7105813410515  67.70531860813584  \\\n0           67.721120          67.715868         67.710613          67.705355   \n1           67.721143          67.715895         67.710645          67.705392   \n2           67.721166          67.715924         67.710678          67.705430   \n3           67.721191          67.715954         67.710713          67.705470   \n4           67.721217          67.715985         67.710749          67.705511   \n..                ...                ...               ...                ...   \n394         67.818681          67.814651         67.810619          67.806586   \n395         67.819105          67.815077         67.811047          67.807015   \n396         67.819531          67.815504         67.811476          67.807446   \n397         67.819956          67.815931         67.811905          67.807876   \n398         67.820382          67.816359         67.812334          67.808308   \n\n     67.70005330414023  \n0            67.700094  \n1            67.700137  \n2            67.700180  \n3            67.700225  \n4            67.700270  \n..                 ...  \n394          67.802551  \n395          67.802982  \n396          67.803414  \n397          67.803847  \n398          67.804279  \n\n[399 rows x 400 columns]",
      "text/html": "<div>\n<style scoped>\n    .dataframe tbody tr th:only-of-type {\n        vertical-align: middle;\n    }\n\n    .dataframe tbody tr th {\n        vertical-align: top;\n    }\n\n    .dataframe thead th {\n        text-align: right;\n    }\n</style>\n<table border=\"1\" class=\"dataframe\">\n  <thead>\n    <tr style=\"text-align: right;\">\n      <th></th>\n      <th>69.43959655478638</th>\n      <th>69.43653002195505</th>\n      <th>69.43345515386157</th>\n      <th>69.43037196296686</th>\n      <th>69.42728046175176</th>\n      <th>69.42418066271676</th>\n      <th>69.42107257838177</th>\n      <th>69.41795622128642</th>\n      <th>69.41483160398958</th>\n      <th>69.41169873906975</th>\n      <th>...</th>\n      <th>67.74734725547071</th>\n      <th>67.7421029288356</th>\n      <th>67.73685592887216</th>\n      <th>67.73160627021636</th>\n      <th>67.72635396749445</th>\n      <th>67.7210990353233</th>\n      <th>67.71584148830986</th>\n      <th>67.7105813410515</th>\n      <th>67.70531860813584</th>\n      <th>67.70005330414023</th>\n    </tr>\n  </thead>\n  <tbody>\n    <tr>\n      <th>0</th>\n      <td>69.437913</td>\n      <td>69.434850</td>\n      <td>69.431778</td>\n      <td>69.428698</td>\n      <td>69.425610</td>\n      <td>69.422513</td>\n      <td>69.419408</td>\n      <td>69.416295</td>\n      <td>69.413174</td>\n      <td>69.410044</td>\n      <td>...</td>\n      <td>67.747344</td>\n      <td>67.742104</td>\n      <td>67.736862</td>\n      <td>67.731618</td>\n      <td>67.726370</td>\n      <td>67.721120</td>\n      <td>67.715868</td>\n      <td>67.710613</td>\n      <td>67.705355</td>\n      <td>67.700094</td>\n    </tr>\n    <tr>\n      <th>1</th>\n      <td>69.436236</td>\n      <td>69.433176</td>\n      <td>69.430108</td>\n      <td>69.427031</td>\n      <td>69.423946</td>\n      <td>69.420852</td>\n      <td>69.417751</td>\n      <td>69.414641</td>\n      <td>69.411523</td>\n      <td>69.408396</td>\n      <td>...</td>\n      <td>67.747342</td>\n      <td>67.742107</td>\n      <td>67.736870</td>\n      <td>67.731630</td>\n      <td>67.726388</td>\n      <td>67.721143</td>\n      <td>67.715895</td>\n      <td>67.710645</td>\n      <td>67.705392</td>\n      <td>67.700137</td>\n    </tr>\n    <tr>\n      <th>2</th>\n      <td>69.434566</td>\n      <td>69.431509</td>\n      <td>69.428444</td>\n      <td>69.425370</td>\n      <td>69.422288</td>\n      <td>69.419198</td>\n      <td>69.416099</td>\n      <td>69.412993</td>\n      <td>69.409878</td>\n      <td>69.406755</td>\n      <td>...</td>\n      <td>67.747341</td>\n      <td>67.742111</td>\n      <td>67.736879</td>\n      <td>67.731644</td>\n      <td>67.726407</td>\n      <td>67.721166</td>\n      <td>67.715924</td>\n      <td>67.710678</td>\n      <td>67.705430</td>\n      <td>67.700180</td>\n    </tr>\n    <tr>\n      <th>3</th>\n      <td>69.432902</td>\n      <td>69.429848</td>\n      <td>69.426786</td>\n      <td>69.423715</td>\n      <td>69.420637</td>\n      <td>69.417550</td>\n      <td>69.414455</td>\n      <td>69.411351</td>\n      <td>69.408239</td>\n      <td>69.405119</td>\n      <td>...</td>\n      <td>67.747341</td>\n      <td>67.742116</td>\n      <td>67.736889</td>\n      <td>67.731659</td>\n      <td>67.726427</td>\n      <td>67.721191</td>\n      <td>67.715954</td>\n      <td>67.710713</td>\n      <td>67.705470</td>\n      <td>67.700225</td>\n    </tr>\n    <tr>\n      <th>4</th>\n      <td>69.431244</td>\n      <td>69.428194</td>\n      <td>69.425135</td>\n      <td>69.422067</td>\n      <td>69.418992</td>\n      <td>69.415908</td>\n      <td>69.412816</td>\n      <td>69.409716</td>\n      <td>69.406607</td>\n      <td>69.403490</td>\n      <td>...</td>\n      <td>67.747343</td>\n      <td>67.742123</td>\n      <td>67.736900</td>\n      <td>67.731675</td>\n      <td>67.726448</td>\n      <td>67.721217</td>\n      <td>67.715985</td>\n      <td>67.710749</td>\n      <td>67.705511</td>\n      <td>67.700270</td>\n    </tr>\n    <tr>\n      <th>...</th>\n      <td>...</td>\n      <td>...</td>\n      <td>...</td>\n      <td>...</td>\n      <td>...</td>\n      <td>...</td>\n      <td>...</td>\n      <td>...</td>\n      <td>...</td>\n      <td>...</td>\n      <td>...</td>\n      <td>...</td>\n      <td>...</td>\n      <td>...</td>\n      <td>...</td>\n      <td>...</td>\n      <td>...</td>\n      <td>...</td>\n      <td>...</td>\n      <td>...</td>\n      <td>...</td>\n    </tr>\n    <tr>\n      <th>394</th>\n      <td>69.207684</td>\n      <td>69.204856</td>\n      <td>69.202024</td>\n      <td>69.199188</td>\n      <td>69.196347</td>\n      <td>69.193501</td>\n      <td>69.190652</td>\n      <td>69.187798</td>\n      <td>69.184939</td>\n      <td>69.182076</td>\n      <td>...</td>\n      <td>67.838805</td>\n      <td>67.834784</td>\n      <td>67.830761</td>\n      <td>67.826736</td>\n      <td>67.822709</td>\n      <td>67.818681</td>\n      <td>67.814651</td>\n      <td>67.810619</td>\n      <td>67.806586</td>\n      <td>67.802551</td>\n    </tr>\n    <tr>\n      <th>395</th>\n      <td>69.207924</td>\n      <td>69.205095</td>\n      <td>69.202262</td>\n      <td>69.199424</td>\n      <td>69.196581</td>\n      <td>69.193735</td>\n      <td>69.190884</td>\n      <td>69.188028</td>\n      <td>69.185168</td>\n      <td>69.182304</td>\n      <td>...</td>\n      <td>67.839221</td>\n      <td>67.835201</td>\n      <td>67.831180</td>\n      <td>67.827157</td>\n      <td>67.823132</td>\n      <td>67.819105</td>\n      <td>67.815077</td>\n      <td>67.811047</td>\n      <td>67.807015</td>\n      <td>67.802982</td>\n    </tr>\n    <tr>\n      <th>396</th>\n      <td>69.208167</td>\n      <td>69.205336</td>\n      <td>69.202501</td>\n      <td>69.199662</td>\n      <td>69.196818</td>\n      <td>69.193970</td>\n      <td>69.191118</td>\n      <td>69.188261</td>\n      <td>69.185400</td>\n      <td>69.182534</td>\n      <td>...</td>\n      <td>67.839638</td>\n      <td>67.835620</td>\n      <td>67.831600</td>\n      <td>67.827579</td>\n      <td>67.823555</td>\n      <td>67.819531</td>\n      <td>67.815504</td>\n      <td>67.811476</td>\n      <td>67.807446</td>\n      <td>67.803414</td>\n    </tr>\n    <tr>\n      <th>397</th>\n      <td>69.208412</td>\n      <td>69.205580</td>\n      <td>69.202743</td>\n      <td>69.199903</td>\n      <td>69.197058</td>\n      <td>69.194208</td>\n      <td>69.191354</td>\n      <td>69.188496</td>\n      <td>69.185634</td>\n      <td>69.182767</td>\n      <td>...</td>\n      <td>67.840055</td>\n      <td>67.836039</td>\n      <td>67.832020</td>\n      <td>67.828001</td>\n      <td>67.823979</td>\n      <td>67.819956</td>\n      <td>67.815931</td>\n      <td>67.811905</td>\n      <td>67.807876</td>\n      <td>67.803847</td>\n    </tr>\n    <tr>\n      <th>398</th>\n      <td>69.208659</td>\n      <td>69.205825</td>\n      <td>69.202988</td>\n      <td>69.200146</td>\n      <td>69.197299</td>\n      <td>69.194448</td>\n      <td>69.191593</td>\n      <td>69.188734</td>\n      <td>69.185870</td>\n      <td>69.183002</td>\n      <td>...</td>\n      <td>67.840472</td>\n      <td>67.836458</td>\n      <td>67.832441</td>\n      <td>67.828423</td>\n      <td>67.824404</td>\n      <td>67.820382</td>\n      <td>67.816359</td>\n      <td>67.812334</td>\n      <td>67.808308</td>\n      <td>67.804279</td>\n    </tr>\n  </tbody>\n</table>\n<p>399 rows × 400 columns</p>\n</div>"
     },
     "execution_count": 9,
     "metadata": {},
     "output_type": "execute_result"
    }
   ],
   "source": [
    "import pandas as pd\n",
    "        \n",
    "Relative_Humidity_400_400 = pd.read_csv('useful_data/Relative_Humidity_400_400.csv')\n",
    "Relative_Humidity_400_400"
   ],
   "metadata": {
    "collapsed": false,
    "ExecuteTime": {
     "end_time": "2024-08-14T23:15:24.033629Z",
     "start_time": "2024-08-14T23:15:23.960626Z"
    }
   },
   "id": "b894d5faf069be7",
   "execution_count": 9
  },
  {
   "cell_type": "code",
   "outputs": [
    {
     "data": {
      "text/plain": "     0.4048684077226471  0.40505876431682497  0.40524862380931903  \\\n0              0.404750             0.404940             0.405130   \n1              0.404632             0.404823             0.405013   \n2              0.404515             0.404705             0.404895   \n3              0.404398             0.404589             0.404779   \n4              0.404282             0.404472             0.404662   \n..                  ...                  ...                  ...   \n394            0.393879             0.394005             0.394131   \n395            0.393920             0.394046             0.394171   \n396            0.393962             0.394087             0.394212   \n397            0.394004             0.394129             0.394254   \n398            0.394046             0.394171             0.394295   \n\n     0.4054379867989836  0.4056268538850435  0.4058152256671045  \\\n0              0.405320            0.405509            0.405697   \n1              0.405202            0.405391            0.405579   \n2              0.405085            0.405274            0.405462   \n3              0.404968            0.405157            0.405345   \n4              0.404852            0.405041            0.405229   \n..                  ...                 ...                 ...   \n394            0.394256            0.394381            0.394506   \n395            0.394297            0.394422            0.394546   \n396            0.394337            0.394462            0.394586   \n397            0.394378            0.394503            0.394627   \n398            0.394419            0.394543            0.394667   \n\n     0.40600310274516427  0.4061904857195765  0.40637737519108574  \\\n0               0.405885            0.406072             0.406259   \n1               0.405767            0.405955             0.406142   \n2               0.405650            0.405838             0.406025   \n3               0.405533            0.405721             0.405908   \n4               0.405417            0.405605             0.405792   \n..                   ...                 ...                  ...   \n394             0.394631            0.394756             0.394880   \n395             0.394671            0.394795             0.394919   \n396             0.394711            0.394834             0.394958   \n397             0.394751            0.394874             0.394997   \n398             0.394791            0.394914             0.395037   \n\n     0.40656377176079206  ...  0.44745844985394034  0.4475018435350596  \\\n0               0.406446  ...             0.447367            0.447410   \n1               0.406328  ...             0.447276            0.447319   \n2               0.406211  ...             0.447184            0.447228   \n3               0.406094  ...             0.447093            0.447137   \n4               0.405978  ...             0.447003            0.447047   \n..                   ...  ...                  ...                 ...   \n394             0.395004  ...             0.426328            0.426375   \n395             0.395042  ...             0.426305            0.426352   \n396             0.395081  ...             0.426283            0.426330   \n397             0.395120  ...             0.426260            0.426307   \n398             0.395160  ...             0.426238            0.426285   \n\n     0.4475449799018033  0.44758785953327357  0.4476304830081483  \\\n0              0.447454             0.447497            0.447539   \n1              0.447362             0.447406            0.447448   \n2              0.447272             0.447315            0.447358   \n3              0.447181             0.447224            0.447267   \n4              0.447090             0.447134            0.447177   \n..                  ...                  ...                 ...   \n394            0.426421             0.426468            0.426515   \n395            0.426399             0.426445            0.426492   \n396            0.426376             0.426423            0.426469   \n397            0.426354             0.426400            0.426447   \n398            0.426332             0.426378            0.426424   \n\n     0.44767285090466863  0.44771496380064946  0.4477568222734668  \\\n0               0.447582             0.447624            0.447666   \n1               0.447491             0.447533            0.447575   \n2               0.447400             0.447443            0.447485   \n3               0.447310             0.447352            0.447395   \n4               0.447220             0.447262            0.447305   \n..                   ...                  ...                 ...   \n394             0.426561             0.426607            0.426653   \n395             0.426538             0.426584            0.426630   \n396             0.426516             0.426562            0.426608   \n397             0.426493             0.426539            0.426585   \n398             0.426470             0.426516            0.426562   \n\n     0.447798426900062  0.44783977825694066  \n0             0.447708             0.447749  \n1             0.447617             0.447659  \n2             0.447527             0.447569  \n3             0.447437             0.447479  \n4             0.447347             0.447389  \n..                 ...                  ...  \n394           0.426699             0.426745  \n395           0.426676             0.426722  \n396           0.426653             0.426699  \n397           0.426631             0.426676  \n398           0.426608             0.426654  \n\n[399 rows x 400 columns]",
      "text/html": "<div>\n<style scoped>\n    .dataframe tbody tr th:only-of-type {\n        vertical-align: middle;\n    }\n\n    .dataframe tbody tr th {\n        vertical-align: top;\n    }\n\n    .dataframe thead th {\n        text-align: right;\n    }\n</style>\n<table border=\"1\" class=\"dataframe\">\n  <thead>\n    <tr style=\"text-align: right;\">\n      <th></th>\n      <th>0.4048684077226471</th>\n      <th>0.40505876431682497</th>\n      <th>0.40524862380931903</th>\n      <th>0.4054379867989836</th>\n      <th>0.4056268538850435</th>\n      <th>0.4058152256671045</th>\n      <th>0.40600310274516427</th>\n      <th>0.4061904857195765</th>\n      <th>0.40637737519108574</th>\n      <th>0.40656377176079206</th>\n      <th>...</th>\n      <th>0.44745844985394034</th>\n      <th>0.4475018435350596</th>\n      <th>0.4475449799018033</th>\n      <th>0.44758785953327357</th>\n      <th>0.4476304830081483</th>\n      <th>0.44767285090466863</th>\n      <th>0.44771496380064946</th>\n      <th>0.4477568222734668</th>\n      <th>0.447798426900062</th>\n      <th>0.44783977825694066</th>\n    </tr>\n  </thead>\n  <tbody>\n    <tr>\n      <th>0</th>\n      <td>0.404750</td>\n      <td>0.404940</td>\n      <td>0.405130</td>\n      <td>0.405320</td>\n      <td>0.405509</td>\n      <td>0.405697</td>\n      <td>0.405885</td>\n      <td>0.406072</td>\n      <td>0.406259</td>\n      <td>0.406446</td>\n      <td>...</td>\n      <td>0.447367</td>\n      <td>0.447410</td>\n      <td>0.447454</td>\n      <td>0.447497</td>\n      <td>0.447539</td>\n      <td>0.447582</td>\n      <td>0.447624</td>\n      <td>0.447666</td>\n      <td>0.447708</td>\n      <td>0.447749</td>\n    </tr>\n    <tr>\n      <th>1</th>\n      <td>0.404632</td>\n      <td>0.404823</td>\n      <td>0.405013</td>\n      <td>0.405202</td>\n      <td>0.405391</td>\n      <td>0.405579</td>\n      <td>0.405767</td>\n      <td>0.405955</td>\n      <td>0.406142</td>\n      <td>0.406328</td>\n      <td>...</td>\n      <td>0.447276</td>\n      <td>0.447319</td>\n      <td>0.447362</td>\n      <td>0.447406</td>\n      <td>0.447448</td>\n      <td>0.447491</td>\n      <td>0.447533</td>\n      <td>0.447575</td>\n      <td>0.447617</td>\n      <td>0.447659</td>\n    </tr>\n    <tr>\n      <th>2</th>\n      <td>0.404515</td>\n      <td>0.404705</td>\n      <td>0.404895</td>\n      <td>0.405085</td>\n      <td>0.405274</td>\n      <td>0.405462</td>\n      <td>0.405650</td>\n      <td>0.405838</td>\n      <td>0.406025</td>\n      <td>0.406211</td>\n      <td>...</td>\n      <td>0.447184</td>\n      <td>0.447228</td>\n      <td>0.447272</td>\n      <td>0.447315</td>\n      <td>0.447358</td>\n      <td>0.447400</td>\n      <td>0.447443</td>\n      <td>0.447485</td>\n      <td>0.447527</td>\n      <td>0.447569</td>\n    </tr>\n    <tr>\n      <th>3</th>\n      <td>0.404398</td>\n      <td>0.404589</td>\n      <td>0.404779</td>\n      <td>0.404968</td>\n      <td>0.405157</td>\n      <td>0.405345</td>\n      <td>0.405533</td>\n      <td>0.405721</td>\n      <td>0.405908</td>\n      <td>0.406094</td>\n      <td>...</td>\n      <td>0.447093</td>\n      <td>0.447137</td>\n      <td>0.447181</td>\n      <td>0.447224</td>\n      <td>0.447267</td>\n      <td>0.447310</td>\n      <td>0.447352</td>\n      <td>0.447395</td>\n      <td>0.447437</td>\n      <td>0.447479</td>\n    </tr>\n    <tr>\n      <th>4</th>\n      <td>0.404282</td>\n      <td>0.404472</td>\n      <td>0.404662</td>\n      <td>0.404852</td>\n      <td>0.405041</td>\n      <td>0.405229</td>\n      <td>0.405417</td>\n      <td>0.405605</td>\n      <td>0.405792</td>\n      <td>0.405978</td>\n      <td>...</td>\n      <td>0.447003</td>\n      <td>0.447047</td>\n      <td>0.447090</td>\n      <td>0.447134</td>\n      <td>0.447177</td>\n      <td>0.447220</td>\n      <td>0.447262</td>\n      <td>0.447305</td>\n      <td>0.447347</td>\n      <td>0.447389</td>\n    </tr>\n    <tr>\n      <th>...</th>\n      <td>...</td>\n      <td>...</td>\n      <td>...</td>\n      <td>...</td>\n      <td>...</td>\n      <td>...</td>\n      <td>...</td>\n      <td>...</td>\n      <td>...</td>\n      <td>...</td>\n      <td>...</td>\n      <td>...</td>\n      <td>...</td>\n      <td>...</td>\n      <td>...</td>\n      <td>...</td>\n      <td>...</td>\n      <td>...</td>\n      <td>...</td>\n      <td>...</td>\n      <td>...</td>\n    </tr>\n    <tr>\n      <th>394</th>\n      <td>0.393879</td>\n      <td>0.394005</td>\n      <td>0.394131</td>\n      <td>0.394256</td>\n      <td>0.394381</td>\n      <td>0.394506</td>\n      <td>0.394631</td>\n      <td>0.394756</td>\n      <td>0.394880</td>\n      <td>0.395004</td>\n      <td>...</td>\n      <td>0.426328</td>\n      <td>0.426375</td>\n      <td>0.426421</td>\n      <td>0.426468</td>\n      <td>0.426515</td>\n      <td>0.426561</td>\n      <td>0.426607</td>\n      <td>0.426653</td>\n      <td>0.426699</td>\n      <td>0.426745</td>\n    </tr>\n    <tr>\n      <th>395</th>\n      <td>0.393920</td>\n      <td>0.394046</td>\n      <td>0.394171</td>\n      <td>0.394297</td>\n      <td>0.394422</td>\n      <td>0.394546</td>\n      <td>0.394671</td>\n      <td>0.394795</td>\n      <td>0.394919</td>\n      <td>0.395042</td>\n      <td>...</td>\n      <td>0.426305</td>\n      <td>0.426352</td>\n      <td>0.426399</td>\n      <td>0.426445</td>\n      <td>0.426492</td>\n      <td>0.426538</td>\n      <td>0.426584</td>\n      <td>0.426630</td>\n      <td>0.426676</td>\n      <td>0.426722</td>\n    </tr>\n    <tr>\n      <th>396</th>\n      <td>0.393962</td>\n      <td>0.394087</td>\n      <td>0.394212</td>\n      <td>0.394337</td>\n      <td>0.394462</td>\n      <td>0.394586</td>\n      <td>0.394711</td>\n      <td>0.394834</td>\n      <td>0.394958</td>\n      <td>0.395081</td>\n      <td>...</td>\n      <td>0.426283</td>\n      <td>0.426330</td>\n      <td>0.426376</td>\n      <td>0.426423</td>\n      <td>0.426469</td>\n      <td>0.426516</td>\n      <td>0.426562</td>\n      <td>0.426608</td>\n      <td>0.426653</td>\n      <td>0.426699</td>\n    </tr>\n    <tr>\n      <th>397</th>\n      <td>0.394004</td>\n      <td>0.394129</td>\n      <td>0.394254</td>\n      <td>0.394378</td>\n      <td>0.394503</td>\n      <td>0.394627</td>\n      <td>0.394751</td>\n      <td>0.394874</td>\n      <td>0.394997</td>\n      <td>0.395120</td>\n      <td>...</td>\n      <td>0.426260</td>\n      <td>0.426307</td>\n      <td>0.426354</td>\n      <td>0.426400</td>\n      <td>0.426447</td>\n      <td>0.426493</td>\n      <td>0.426539</td>\n      <td>0.426585</td>\n      <td>0.426631</td>\n      <td>0.426676</td>\n    </tr>\n    <tr>\n      <th>398</th>\n      <td>0.394046</td>\n      <td>0.394171</td>\n      <td>0.394295</td>\n      <td>0.394419</td>\n      <td>0.394543</td>\n      <td>0.394667</td>\n      <td>0.394791</td>\n      <td>0.394914</td>\n      <td>0.395037</td>\n      <td>0.395160</td>\n      <td>...</td>\n      <td>0.426238</td>\n      <td>0.426285</td>\n      <td>0.426332</td>\n      <td>0.426378</td>\n      <td>0.426424</td>\n      <td>0.426470</td>\n      <td>0.426516</td>\n      <td>0.426562</td>\n      <td>0.426608</td>\n      <td>0.426654</td>\n    </tr>\n  </tbody>\n</table>\n<p>399 rows × 400 columns</p>\n</div>"
     },
     "execution_count": 10,
     "metadata": {},
     "output_type": "execute_result"
    }
   ],
   "source": [
    "import pandas as pd\n",
    "        \n",
    "Wind_Speed_kn_400_400 = pd.read_csv('useful_data/Wind_Speed_kn_400_400.csv')\n",
    "Wind_Speed_kn_400_400"
   ],
   "metadata": {
    "collapsed": false,
    "ExecuteTime": {
     "end_time": "2024-08-14T23:15:32.570617Z",
     "start_time": "2024-08-14T23:15:32.490562Z"
    }
   },
   "id": "3911a6a0421a8811",
   "execution_count": 10
  },
  {
   "cell_type": "code",
   "outputs": [],
   "source": [
    "Air_Temperature_C_400_400"
   ],
   "metadata": {
    "collapsed": false
   },
   "id": "280288049e69d862"
  },
  {
   "cell_type": "code",
   "outputs": [],
   "source": [
    "import rasterio\n",
    "from rasterio.transform import from_origin\n",
    "import numpy as np"
   ],
   "metadata": {
    "collapsed": false,
    "ExecuteTime": {
     "end_time": "2024-08-14T23:16:52.477787Z",
     "start_time": "2024-08-14T23:16:52.292327Z"
    }
   },
   "id": "e7d483d5639aef8c",
   "execution_count": 11
  },
  {
   "cell_type": "code",
   "outputs": [],
   "source": [
    "# 定义地理空间范围和分辨率（根据需要修改）\n",
    "transform = from_origin(258000, 666000, 5, 5)  # 左上角坐标(0, 0)，分辨率为1x1\n"
   ],
   "metadata": {
    "collapsed": false,
    "ExecuteTime": {
     "end_time": "2024-08-14T23:16:55.924275Z",
     "start_time": "2024-08-14T23:16:55.919722Z"
    }
   },
   "id": "95aad7831ffb32e7",
   "execution_count": 12
  },
  {
   "cell_type": "code",
   "outputs": [],
   "source": [
    "Air_Temperature_C_400_400_np = Air_Temperature_C_400_400.to_numpy()"
   ],
   "metadata": {
    "collapsed": false,
    "ExecuteTime": {
     "end_time": "2024-08-14T23:18:09.754940Z",
     "start_time": "2024-08-14T23:18:09.751254Z"
    }
   },
   "id": "32115ebc762571ae",
   "execution_count": 14
  },
  {
   "cell_type": "code",
   "outputs": [
    {
     "name": "stdout",
     "output_type": "stream",
     "text": [
      "TIFF 文件已成功导出为 output.tif\n"
     ]
    }
   ],
   "source": [
    "# 将数据导出为 TIFF 文件\n",
    "with rasterio.open(\n",
    "        'Air.tif',\n",
    "        'w',\n",
    "        driver='GTiff',\n",
    "        height=Air_Temperature_C_400_400_np.shape[0],\n",
    "        width=Air_Temperature_C_400_400_np.shape[1],\n",
    "        count=1,\n",
    "        dtype=Air_Temperature_C_400_400_np.dtype,\n",
    "        crs='+proj=latlong',\n",
    "        transform=transform,\n",
    ") as dst:\n",
    "    dst.write(Air_Temperature_C_400_400_np, 1)\n",
    "\n",
    "print(\"TIFF 文件已成功导出为 output.tif\")"
   ],
   "metadata": {
    "collapsed": false,
    "ExecuteTime": {
     "end_time": "2024-08-14T23:18:10.738015Z",
     "start_time": "2024-08-14T23:18:10.721927Z"
    }
   },
   "id": "c861269152059edb",
   "execution_count": 15
  },
  {
   "cell_type": "code",
   "outputs": [
    {
     "data": {
      "text/plain": "array([[[1.79e+308, 1.79e+308, 1.79e+308, ..., 1.79e+308, 1.79e+308,\n         1.79e+308],\n        [1.79e+308, 1.79e+308, 1.79e+308, ..., 1.79e+308, 1.79e+308,\n         1.79e+308],\n        [1.79e+308, 1.79e+308, 1.79e+308, ..., 1.79e+308, 1.79e+308,\n         1.79e+308],\n        ...,\n        [1.79e+308, 1.79e+308, 1.79e+308, ..., 1.79e+308, 1.79e+308,\n         1.79e+308],\n        [1.79e+308, 1.79e+308, 1.79e+308, ..., 1.79e+308, 1.79e+308,\n         1.79e+308],\n        [1.79e+308, 1.79e+308, 1.79e+308, ..., 1.79e+308, 1.79e+308,\n         1.79e+308]]])"
     },
     "execution_count": 34,
     "metadata": {},
     "output_type": "execute_result"
    }
   ],
   "source": [
    "C_overlap_data"
   ],
   "metadata": {
    "collapsed": false,
    "ExecuteTime": {
     "end_time": "2024-08-16T02:01:12.082041Z",
     "start_time": "2024-08-16T02:01:12.078041Z"
    }
   },
   "id": "5346ecbb02109517",
   "execution_count": 34
  },
  {
   "cell_type": "code",
   "outputs": [],
   "source": [
    "BV_tif = C_overlap_data[0, :, :]"
   ],
   "metadata": {
    "collapsed": false,
    "ExecuteTime": {
     "end_time": "2024-08-16T02:01:30.574913Z",
     "start_time": "2024-08-16T02:01:30.571903Z"
    }
   },
   "id": "da764daf06ddbfde",
   "execution_count": 35
  },
  {
   "cell_type": "code",
   "outputs": [
    {
     "data": {
      "text/plain": "array([[1.79e+308, 1.79e+308, 1.79e+308, ..., 1.79e+308, 1.79e+308,\n        1.79e+308],\n       [1.79e+308, 1.79e+308, 1.79e+308, ..., 1.79e+308, 1.79e+308,\n        1.79e+308],\n       [1.79e+308, 1.79e+308, 1.79e+308, ..., 1.79e+308, 1.79e+308,\n        1.79e+308],\n       ...,\n       [1.79e+308, 1.79e+308, 1.79e+308, ..., 1.79e+308, 1.79e+308,\n        1.79e+308],\n       [1.79e+308, 1.79e+308, 1.79e+308, ..., 1.79e+308, 1.79e+308,\n        1.79e+308],\n       [1.79e+308, 1.79e+308, 1.79e+308, ..., 1.79e+308, 1.79e+308,\n        1.79e+308]])"
     },
     "execution_count": 36,
     "metadata": {},
     "output_type": "execute_result"
    }
   ],
   "source": [
    "BV_tif"
   ],
   "metadata": {
    "collapsed": false,
    "ExecuteTime": {
     "end_time": "2024-08-16T02:01:32.898595Z",
     "start_time": "2024-08-16T02:01:32.893470Z"
    }
   },
   "id": "8f5eabbc16ad43b7",
   "execution_count": 36
  },
  {
   "cell_type": "code",
   "outputs": [],
   "source": [
    "np.savetxt('useful_data/BV_tif_400_400.csv', BV_tif, delimiter=',')"
   ],
   "metadata": {
    "collapsed": false,
    "ExecuteTime": {
     "end_time": "2024-08-16T02:02:56.113942Z",
     "start_time": "2024-08-16T02:02:55.948667Z"
    }
   },
   "id": "5d4ff8443f0dbfc9",
   "execution_count": 39
  },
  {
   "cell_type": "code",
   "outputs": [],
   "source": [],
   "metadata": {
    "collapsed": false
   },
   "id": "2ef6230da663153c"
  }
 ],
 "metadata": {
  "kernelspec": {
   "display_name": "Python 3",
   "language": "python",
   "name": "python3"
  },
  "language_info": {
   "codemirror_mode": {
    "name": "ipython",
    "version": 2
   },
   "file_extension": ".py",
   "mimetype": "text/x-python",
   "name": "python",
   "nbconvert_exporter": "python",
   "pygments_lexer": "ipython2",
   "version": "2.7.6"
  }
 },
 "nbformat": 4,
 "nbformat_minor": 5
}
